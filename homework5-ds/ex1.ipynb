{
 "cells": [
  {
   "cell_type": "markdown",
   "metadata": {},
   "source": [
    "Create a model for predicting the burned area of for a forest fire using primarily meteorological data. \n",
    "\n",
    "### Notes\n",
    "\n",
    "* This is a regresion task. \n",
    "* Data link: http://archive.ics.uci.edu/ml/datasets/Forest+Fires \n",
    "* Papers using this data: http://www.dsi.uminho.pt/~pcortez/fires.pdf \n",
    "* Steps: \n",
    "    1. Download the data \n",
    "    2. Visualise the data \n",
    "    3. (If needed) clean, normalise, transform and visualise the data to get a feeling about potential relationships between the variables\n",
    "    4. Try to find the most relevant features (feature selection)\n",
    "    5. Try to create new features, i.e. transform variables, for example you could transform the area using ln(x + 1)\n",
    "    6. Agree on a metric (i.e. RMSE)\n",
    "    6. Develop a regression model (start with simple models and then grow in complexity)\n",
    "    7. Analyse the results for train + test data and compare different models"
   ]
  },
  {
   "cell_type": "code",
   "execution_count": 2,
   "metadata": {},
   "outputs": [
    {
     "data": {
      "text/html": [
       "<div>\n",
       "<style scoped>\n",
       "    .dataframe tbody tr th:only-of-type {\n",
       "        vertical-align: middle;\n",
       "    }\n",
       "\n",
       "    .dataframe tbody tr th {\n",
       "        vertical-align: top;\n",
       "    }\n",
       "\n",
       "    .dataframe thead th {\n",
       "        text-align: right;\n",
       "    }\n",
       "</style>\n",
       "<table border=\"1\" class=\"dataframe\">\n",
       "  <thead>\n",
       "    <tr style=\"text-align: right;\">\n",
       "      <th></th>\n",
       "      <th>X</th>\n",
       "      <th>Y</th>\n",
       "      <th>month</th>\n",
       "      <th>day</th>\n",
       "      <th>FFMC</th>\n",
       "      <th>DMC</th>\n",
       "      <th>DC</th>\n",
       "      <th>ISI</th>\n",
       "      <th>temp</th>\n",
       "      <th>RH</th>\n",
       "      <th>wind</th>\n",
       "      <th>rain</th>\n",
       "      <th>area</th>\n",
       "    </tr>\n",
       "  </thead>\n",
       "  <tbody>\n",
       "    <tr>\n",
       "      <th>0</th>\n",
       "      <td>7</td>\n",
       "      <td>5</td>\n",
       "      <td>mar</td>\n",
       "      <td>fri</td>\n",
       "      <td>86.2</td>\n",
       "      <td>26.2</td>\n",
       "      <td>94.3</td>\n",
       "      <td>5.1</td>\n",
       "      <td>8.2</td>\n",
       "      <td>51</td>\n",
       "      <td>6.7</td>\n",
       "      <td>0.0</td>\n",
       "      <td>0.0</td>\n",
       "    </tr>\n",
       "    <tr>\n",
       "      <th>1</th>\n",
       "      <td>7</td>\n",
       "      <td>4</td>\n",
       "      <td>oct</td>\n",
       "      <td>tue</td>\n",
       "      <td>90.6</td>\n",
       "      <td>35.4</td>\n",
       "      <td>669.1</td>\n",
       "      <td>6.7</td>\n",
       "      <td>18.0</td>\n",
       "      <td>33</td>\n",
       "      <td>0.9</td>\n",
       "      <td>0.0</td>\n",
       "      <td>0.0</td>\n",
       "    </tr>\n",
       "    <tr>\n",
       "      <th>2</th>\n",
       "      <td>7</td>\n",
       "      <td>4</td>\n",
       "      <td>oct</td>\n",
       "      <td>sat</td>\n",
       "      <td>90.6</td>\n",
       "      <td>43.7</td>\n",
       "      <td>686.9</td>\n",
       "      <td>6.7</td>\n",
       "      <td>14.6</td>\n",
       "      <td>33</td>\n",
       "      <td>1.3</td>\n",
       "      <td>0.0</td>\n",
       "      <td>0.0</td>\n",
       "    </tr>\n",
       "    <tr>\n",
       "      <th>3</th>\n",
       "      <td>8</td>\n",
       "      <td>6</td>\n",
       "      <td>mar</td>\n",
       "      <td>fri</td>\n",
       "      <td>91.7</td>\n",
       "      <td>33.3</td>\n",
       "      <td>77.5</td>\n",
       "      <td>9.0</td>\n",
       "      <td>8.3</td>\n",
       "      <td>97</td>\n",
       "      <td>4.0</td>\n",
       "      <td>0.2</td>\n",
       "      <td>0.0</td>\n",
       "    </tr>\n",
       "    <tr>\n",
       "      <th>4</th>\n",
       "      <td>8</td>\n",
       "      <td>6</td>\n",
       "      <td>mar</td>\n",
       "      <td>sun</td>\n",
       "      <td>89.3</td>\n",
       "      <td>51.3</td>\n",
       "      <td>102.2</td>\n",
       "      <td>9.6</td>\n",
       "      <td>11.4</td>\n",
       "      <td>99</td>\n",
       "      <td>1.8</td>\n",
       "      <td>0.0</td>\n",
       "      <td>0.0</td>\n",
       "    </tr>\n",
       "  </tbody>\n",
       "</table>\n",
       "</div>"
      ],
      "text/plain": [
       "   X  Y month  day  FFMC   DMC     DC  ISI  temp  RH  wind  rain  area\n",
       "0  7  5   mar  fri  86.2  26.2   94.3  5.1   8.2  51   6.7   0.0   0.0\n",
       "1  7  4   oct  tue  90.6  35.4  669.1  6.7  18.0  33   0.9   0.0   0.0\n",
       "2  7  4   oct  sat  90.6  43.7  686.9  6.7  14.6  33   1.3   0.0   0.0\n",
       "3  8  6   mar  fri  91.7  33.3   77.5  9.0   8.3  97   4.0   0.2   0.0\n",
       "4  8  6   mar  sun  89.3  51.3  102.2  9.6  11.4  99   1.8   0.0   0.0"
      ]
     },
     "execution_count": 2,
     "metadata": {},
     "output_type": "execute_result"
    }
   ],
   "source": [
    "import pandas as pd\n",
    "\n",
    "data = pd.read_csv('forestfires.csv', sep = ';')\n",
    "\n",
    "data.head()"
   ]
  },
  {
   "cell_type": "code",
   "execution_count": 3,
   "metadata": {},
   "outputs": [
    {
     "name": "stdout",
     "output_type": "stream",
     "text": [
      "<class 'pandas.core.frame.DataFrame'>\n",
      "RangeIndex: 517 entries, 0 to 516\n",
      "Data columns (total 13 columns):\n",
      " #   Column  Non-Null Count  Dtype  \n",
      "---  ------  --------------  -----  \n",
      " 0   X       517 non-null    int64  \n",
      " 1   Y       517 non-null    int64  \n",
      " 2   month   517 non-null    object \n",
      " 3   day     517 non-null    object \n",
      " 4   FFMC    517 non-null    float64\n",
      " 5   DMC     517 non-null    float64\n",
      " 6   DC      517 non-null    float64\n",
      " 7   ISI     517 non-null    float64\n",
      " 8   temp    517 non-null    float64\n",
      " 9   RH      517 non-null    int64  \n",
      " 10  wind    517 non-null    float64\n",
      " 11  rain    517 non-null    float64\n",
      " 12  area    517 non-null    float64\n",
      "dtypes: float64(8), int64(3), object(2)\n",
      "memory usage: 52.6+ KB\n"
     ]
    }
   ],
   "source": [
    "data.info()"
   ]
  },
  {
   "cell_type": "code",
   "execution_count": 4,
   "metadata": {},
   "outputs": [
    {
     "data": {
      "text/plain": [
       "(517, 13)"
      ]
     },
     "execution_count": 4,
     "metadata": {},
     "output_type": "execute_result"
    }
   ],
   "source": [
    "data.shape"
   ]
  },
  {
   "cell_type": "code",
   "execution_count": 5,
   "metadata": {},
   "outputs": [
    {
     "data": {
      "text/plain": [
       "array([[<AxesSubplot:title={'center':'X'}>,\n",
       "        <AxesSubplot:title={'center':'Y'}>,\n",
       "        <AxesSubplot:title={'center':'FFMC'}>],\n",
       "       [<AxesSubplot:title={'center':'DMC'}>,\n",
       "        <AxesSubplot:title={'center':'DC'}>,\n",
       "        <AxesSubplot:title={'center':'ISI'}>],\n",
       "       [<AxesSubplot:title={'center':'temp'}>,\n",
       "        <AxesSubplot:title={'center':'RH'}>,\n",
       "        <AxesSubplot:title={'center':'wind'}>],\n",
       "       [<AxesSubplot:title={'center':'rain'}>,\n",
       "        <AxesSubplot:title={'center':'area'}>, <AxesSubplot:>]],\n",
       "      dtype=object)"
      ]
     },
     "execution_count": 5,
     "metadata": {},
     "output_type": "execute_result"
    },
    {
     "data": {
      "image/png": "[encoded data removed]",
      "text/plain": [
       "<Figure size 432x288 with 12 Axes>"
      ]
     },
     "metadata": {
      "needs_background": "light"
     },
     "output_type": "display_data"
    }
   ],
   "source": [
    "data.hist()"
   ]
  },
  {
   "cell_type": "code",
   "execution_count": 6,
   "metadata": {},
   "outputs": [
    {
     "data": {
      "text/plain": [
       "<bound method NDFrame.describe of      X  Y month  day  FFMC    DMC     DC   ISI  temp  RH  wind  rain   area\n",
       "0    7  5   mar  fri  86.2   26.2   94.3   5.1   8.2  51   6.7   0.0   0.00\n",
       "1    7  4   oct  tue  90.6   35.4  669.1   6.7  18.0  33   0.9   0.0   0.00\n",
       "2    7  4   oct  sat  90.6   43.7  686.9   6.7  14.6  33   1.3   0.0   0.00\n",
       "3    8  6   mar  fri  91.7   33.3   77.5   9.0   8.3  97   4.0   0.2   0.00\n",
       "4    8  6   mar  sun  89.3   51.3  102.2   9.6  11.4  99   1.8   0.0   0.00\n",
       "..  .. ..   ...  ...   ...    ...    ...   ...   ...  ..   ...   ...    ...\n",
       "512  4  3   aug  sun  81.6   56.7  665.6   1.9  27.8  32   2.7   0.0   6.44\n",
       "513  2  4   aug  sun  81.6   56.7  665.6   1.9  21.9  71   5.8   0.0  54.29\n",
       "514  7  4   aug  sun  81.6   56.7  665.6   1.9  21.2  70   6.7   0.0  11.16\n",
       "515  1  4   aug  sat  94.4  146.0  614.7  11.3  25.6  42   4.0   0.0   0.00\n",
       "516  6  3   nov  tue  79.5    3.0  106.7   1.1  11.8  31   4.5   0.0   0.00\n",
       "\n",
       "[517 rows x 13 columns]>"
      ]
     },
     "execution_count": 6,
     "metadata": {},
     "output_type": "execute_result"
    }
   ],
   "source": [
    "data.describe"
   ]
  },
  {
   "cell_type": "code",
   "execution_count": 7,
   "metadata": {},
   "outputs": [
    {
     "data": {
      "text/plain": [
       "array(['mar', 'oct', 'aug', 'sep', 'apr', 'jun', 'jul', 'feb', 'jan',\n",
       "       'dec', 'may', 'nov'], dtype=object)"
      ]
     },
     "execution_count": 7,
     "metadata": {},
     "output_type": "execute_result"
    }
   ],
   "source": [
    "data.month.unique()"
   ]
  },
  {
   "cell_type": "code",
   "execution_count": 8,
   "metadata": {},
   "outputs": [
    {
     "data": {
      "text/html": [
       "<div>\n",
       "<style scoped>\n",
       "    .dataframe tbody tr th:only-of-type {\n",
       "        vertical-align: middle;\n",
       "    }\n",
       "\n",
       "    .dataframe tbody tr th {\n",
       "        vertical-align: top;\n",
       "    }\n",
       "\n",
       "    .dataframe thead th {\n",
       "        text-align: right;\n",
       "    }\n",
       "</style>\n",
       "<table border=\"1\" class=\"dataframe\">\n",
       "  <thead>\n",
       "    <tr style=\"text-align: right;\">\n",
       "      <th></th>\n",
       "      <th>X</th>\n",
       "      <th>Y</th>\n",
       "      <th>month</th>\n",
       "      <th>day</th>\n",
       "      <th>FFMC</th>\n",
       "      <th>DMC</th>\n",
       "      <th>DC</th>\n",
       "      <th>ISI</th>\n",
       "      <th>temp</th>\n",
       "      <th>RH</th>\n",
       "      <th>wind</th>\n",
       "      <th>rain</th>\n",
       "      <th>area</th>\n",
       "    </tr>\n",
       "  </thead>\n",
       "  <tbody>\n",
       "    <tr>\n",
       "      <th>0</th>\n",
       "      <td>7</td>\n",
       "      <td>5</td>\n",
       "      <td>7</td>\n",
       "      <td>0</td>\n",
       "      <td>86.2</td>\n",
       "      <td>26.2</td>\n",
       "      <td>94.3</td>\n",
       "      <td>5.1</td>\n",
       "      <td>8.2</td>\n",
       "      <td>51</td>\n",
       "      <td>6.7</td>\n",
       "      <td>0.0</td>\n",
       "      <td>0.00</td>\n",
       "    </tr>\n",
       "    <tr>\n",
       "      <th>1</th>\n",
       "      <td>7</td>\n",
       "      <td>4</td>\n",
       "      <td>10</td>\n",
       "      <td>5</td>\n",
       "      <td>90.6</td>\n",
       "      <td>35.4</td>\n",
       "      <td>669.1</td>\n",
       "      <td>6.7</td>\n",
       "      <td>18.0</td>\n",
       "      <td>33</td>\n",
       "      <td>0.9</td>\n",
       "      <td>0.0</td>\n",
       "      <td>0.00</td>\n",
       "    </tr>\n",
       "    <tr>\n",
       "      <th>2</th>\n",
       "      <td>7</td>\n",
       "      <td>4</td>\n",
       "      <td>10</td>\n",
       "      <td>2</td>\n",
       "      <td>90.6</td>\n",
       "      <td>43.7</td>\n",
       "      <td>686.9</td>\n",
       "      <td>6.7</td>\n",
       "      <td>14.6</td>\n",
       "      <td>33</td>\n",
       "      <td>1.3</td>\n",
       "      <td>0.0</td>\n",
       "      <td>0.00</td>\n",
       "    </tr>\n",
       "    <tr>\n",
       "      <th>3</th>\n",
       "      <td>8</td>\n",
       "      <td>6</td>\n",
       "      <td>7</td>\n",
       "      <td>0</td>\n",
       "      <td>91.7</td>\n",
       "      <td>33.3</td>\n",
       "      <td>77.5</td>\n",
       "      <td>9.0</td>\n",
       "      <td>8.3</td>\n",
       "      <td>97</td>\n",
       "      <td>4.0</td>\n",
       "      <td>0.2</td>\n",
       "      <td>0.00</td>\n",
       "    </tr>\n",
       "    <tr>\n",
       "      <th>4</th>\n",
       "      <td>8</td>\n",
       "      <td>6</td>\n",
       "      <td>7</td>\n",
       "      <td>3</td>\n",
       "      <td>89.3</td>\n",
       "      <td>51.3</td>\n",
       "      <td>102.2</td>\n",
       "      <td>9.6</td>\n",
       "      <td>11.4</td>\n",
       "      <td>99</td>\n",
       "      <td>1.8</td>\n",
       "      <td>0.0</td>\n",
       "      <td>0.00</td>\n",
       "    </tr>\n",
       "    <tr>\n",
       "      <th>...</th>\n",
       "      <td>...</td>\n",
       "      <td>...</td>\n",
       "      <td>...</td>\n",
       "      <td>...</td>\n",
       "      <td>...</td>\n",
       "      <td>...</td>\n",
       "      <td>...</td>\n",
       "      <td>...</td>\n",
       "      <td>...</td>\n",
       "      <td>...</td>\n",
       "      <td>...</td>\n",
       "      <td>...</td>\n",
       "      <td>...</td>\n",
       "    </tr>\n",
       "    <tr>\n",
       "      <th>512</th>\n",
       "      <td>4</td>\n",
       "      <td>3</td>\n",
       "      <td>1</td>\n",
       "      <td>3</td>\n",
       "      <td>81.6</td>\n",
       "      <td>56.7</td>\n",
       "      <td>665.6</td>\n",
       "      <td>1.9</td>\n",
       "      <td>27.8</td>\n",
       "      <td>32</td>\n",
       "      <td>2.7</td>\n",
       "      <td>0.0</td>\n",
       "      <td>6.44</td>\n",
       "    </tr>\n",
       "    <tr>\n",
       "      <th>513</th>\n",
       "      <td>2</td>\n",
       "      <td>4</td>\n",
       "      <td>1</td>\n",
       "      <td>3</td>\n",
       "      <td>81.6</td>\n",
       "      <td>56.7</td>\n",
       "      <td>665.6</td>\n",
       "      <td>1.9</td>\n",
       "      <td>21.9</td>\n",
       "      <td>71</td>\n",
       "      <td>5.8</td>\n",
       "      <td>0.0</td>\n",
       "      <td>54.29</td>\n",
       "    </tr>\n",
       "    <tr>\n",
       "      <th>514</th>\n",
       "      <td>7</td>\n",
       "      <td>4</td>\n",
       "      <td>1</td>\n",
       "      <td>3</td>\n",
       "      <td>81.6</td>\n",
       "      <td>56.7</td>\n",
       "      <td>665.6</td>\n",
       "      <td>1.9</td>\n",
       "      <td>21.2</td>\n",
       "      <td>70</td>\n",
       "      <td>6.7</td>\n",
       "      <td>0.0</td>\n",
       "      <td>11.16</td>\n",
       "    </tr>\n",
       "    <tr>\n",
       "      <th>515</th>\n",
       "      <td>1</td>\n",
       "      <td>4</td>\n",
       "      <td>1</td>\n",
       "      <td>2</td>\n",
       "      <td>94.4</td>\n",
       "      <td>146.0</td>\n",
       "      <td>614.7</td>\n",
       "      <td>11.3</td>\n",
       "      <td>25.6</td>\n",
       "      <td>42</td>\n",
       "      <td>4.0</td>\n",
       "      <td>0.0</td>\n",
       "      <td>0.00</td>\n",
       "    </tr>\n",
       "    <tr>\n",
       "      <th>516</th>\n",
       "      <td>6</td>\n",
       "      <td>3</td>\n",
       "      <td>9</td>\n",
       "      <td>5</td>\n",
       "      <td>79.5</td>\n",
       "      <td>3.0</td>\n",
       "      <td>106.7</td>\n",
       "      <td>1.1</td>\n",
       "      <td>11.8</td>\n",
       "      <td>31</td>\n",
       "      <td>4.5</td>\n",
       "      <td>0.0</td>\n",
       "      <td>0.00</td>\n",
       "    </tr>\n",
       "  </tbody>\n",
       "</table>\n",
       "<p>517 rows × 13 columns</p>\n",
       "</div>"
      ],
      "text/plain": [
       "     X  Y  month  day  FFMC    DMC     DC   ISI  temp  RH  wind  rain   area\n",
       "0    7  5      7    0  86.2   26.2   94.3   5.1   8.2  51   6.7   0.0   0.00\n",
       "1    7  4     10    5  90.6   35.4  669.1   6.7  18.0  33   0.9   0.0   0.00\n",
       "2    7  4     10    2  90.6   43.7  686.9   6.7  14.6  33   1.3   0.0   0.00\n",
       "3    8  6      7    0  91.7   33.3   77.5   9.0   8.3  97   4.0   0.2   0.00\n",
       "4    8  6      7    3  89.3   51.3  102.2   9.6  11.4  99   1.8   0.0   0.00\n",
       "..  .. ..    ...  ...   ...    ...    ...   ...   ...  ..   ...   ...    ...\n",
       "512  4  3      1    3  81.6   56.7  665.6   1.9  27.8  32   2.7   0.0   6.44\n",
       "513  2  4      1    3  81.6   56.7  665.6   1.9  21.9  71   5.8   0.0  54.29\n",
       "514  7  4      1    3  81.6   56.7  665.6   1.9  21.2  70   6.7   0.0  11.16\n",
       "515  1  4      1    2  94.4  146.0  614.7  11.3  25.6  42   4.0   0.0   0.00\n",
       "516  6  3      9    5  79.5    3.0  106.7   1.1  11.8  31   4.5   0.0   0.00\n",
       "\n",
       "[517 rows x 13 columns]"
      ]
     },
     "execution_count": 8,
     "metadata": {},
     "output_type": "execute_result"
    }
   ],
   "source": [
    "from sklearn.preprocessing import LabelEncoder\n",
    "import numpy as np\n",
    "import matplotlib.pyplot as plt\n",
    "import os\n",
    "import scipy as sp\n",
    "\n",
    "list_1 = list(data.columns)\n",
    "categ_list = []\n",
    "for i in list_1:\n",
    "    if data[i].dtype == 'object':\n",
    "        categ_list.append(i)\n",
    "\n",
    "le = LabelEncoder()\n",
    "for i in categ_list:\n",
    "    data[i] = le.fit_transform(data[i])\n",
    "\n",
    "data"
   ]
  },
  {
   "cell_type": "code",
   "execution_count": 9,
   "metadata": {},
   "outputs": [
    {
     "data": {
      "text/plain": [
       "Index(['X', 'Y', 'month', 'day', 'FFMC', 'DMC', 'DC', 'ISI', 'temp', 'RH',\n",
       "       'wind', 'rain', 'area'],\n",
       "      dtype='object')"
      ]
     },
     "execution_count": 9,
     "metadata": {},
     "output_type": "execute_result"
    }
   ],
   "source": [
    "data.head()\n",
    "data.columns\n",
    "\n"
   ]
  },
  {
   "cell_type": "code",
   "execution_count": 10,
   "metadata": {},
   "outputs": [
    {
     "data": {
      "text/html": [
       "<div>\n",
       "<style scoped>\n",
       "    .dataframe tbody tr th:only-of-type {\n",
       "        vertical-align: middle;\n",
       "    }\n",
       "\n",
       "    .dataframe tbody tr th {\n",
       "        vertical-align: top;\n",
       "    }\n",
       "\n",
       "    .dataframe thead th {\n",
       "        text-align: right;\n",
       "    }\n",
       "</style>\n",
       "<table border=\"1\" class=\"dataframe\">\n",
       "  <thead>\n",
       "    <tr style=\"text-align: right;\">\n",
       "      <th></th>\n",
       "      <th>X</th>\n",
       "      <th>Y</th>\n",
       "      <th>month</th>\n",
       "      <th>day</th>\n",
       "      <th>FFMC</th>\n",
       "      <th>DMC</th>\n",
       "      <th>DC</th>\n",
       "      <th>ISI</th>\n",
       "      <th>temp</th>\n",
       "      <th>RH</th>\n",
       "      <th>wind</th>\n",
       "      <th>rain</th>\n",
       "      <th>area</th>\n",
       "      <th>u_area</th>\n",
       "    </tr>\n",
       "  </thead>\n",
       "  <tbody>\n",
       "    <tr>\n",
       "      <th>0</th>\n",
       "      <td>7</td>\n",
       "      <td>5</td>\n",
       "      <td>7</td>\n",
       "      <td>0</td>\n",
       "      <td>86.2</td>\n",
       "      <td>26.2</td>\n",
       "      <td>94.3</td>\n",
       "      <td>5.1</td>\n",
       "      <td>8.2</td>\n",
       "      <td>51</td>\n",
       "      <td>6.7</td>\n",
       "      <td>0.0</td>\n",
       "      <td>0.00</td>\n",
       "      <td>0.000000</td>\n",
       "    </tr>\n",
       "    <tr>\n",
       "      <th>1</th>\n",
       "      <td>7</td>\n",
       "      <td>4</td>\n",
       "      <td>10</td>\n",
       "      <td>5</td>\n",
       "      <td>90.6</td>\n",
       "      <td>35.4</td>\n",
       "      <td>669.1</td>\n",
       "      <td>6.7</td>\n",
       "      <td>18.0</td>\n",
       "      <td>33</td>\n",
       "      <td>0.9</td>\n",
       "      <td>0.0</td>\n",
       "      <td>0.00</td>\n",
       "      <td>0.000000</td>\n",
       "    </tr>\n",
       "    <tr>\n",
       "      <th>2</th>\n",
       "      <td>7</td>\n",
       "      <td>4</td>\n",
       "      <td>10</td>\n",
       "      <td>2</td>\n",
       "      <td>90.6</td>\n",
       "      <td>43.7</td>\n",
       "      <td>686.9</td>\n",
       "      <td>6.7</td>\n",
       "      <td>14.6</td>\n",
       "      <td>33</td>\n",
       "      <td>1.3</td>\n",
       "      <td>0.0</td>\n",
       "      <td>0.00</td>\n",
       "      <td>0.000000</td>\n",
       "    </tr>\n",
       "    <tr>\n",
       "      <th>3</th>\n",
       "      <td>8</td>\n",
       "      <td>6</td>\n",
       "      <td>7</td>\n",
       "      <td>0</td>\n",
       "      <td>91.7</td>\n",
       "      <td>33.3</td>\n",
       "      <td>77.5</td>\n",
       "      <td>9.0</td>\n",
       "      <td>8.3</td>\n",
       "      <td>97</td>\n",
       "      <td>4.0</td>\n",
       "      <td>0.2</td>\n",
       "      <td>0.00</td>\n",
       "      <td>0.000000</td>\n",
       "    </tr>\n",
       "    <tr>\n",
       "      <th>4</th>\n",
       "      <td>8</td>\n",
       "      <td>6</td>\n",
       "      <td>7</td>\n",
       "      <td>3</td>\n",
       "      <td>89.3</td>\n",
       "      <td>51.3</td>\n",
       "      <td>102.2</td>\n",
       "      <td>9.6</td>\n",
       "      <td>11.4</td>\n",
       "      <td>99</td>\n",
       "      <td>1.8</td>\n",
       "      <td>0.0</td>\n",
       "      <td>0.00</td>\n",
       "      <td>0.000000</td>\n",
       "    </tr>\n",
       "    <tr>\n",
       "      <th>...</th>\n",
       "      <td>...</td>\n",
       "      <td>...</td>\n",
       "      <td>...</td>\n",
       "      <td>...</td>\n",
       "      <td>...</td>\n",
       "      <td>...</td>\n",
       "      <td>...</td>\n",
       "      <td>...</td>\n",
       "      <td>...</td>\n",
       "      <td>...</td>\n",
       "      <td>...</td>\n",
       "      <td>...</td>\n",
       "      <td>...</td>\n",
       "      <td>...</td>\n",
       "    </tr>\n",
       "    <tr>\n",
       "      <th>512</th>\n",
       "      <td>4</td>\n",
       "      <td>3</td>\n",
       "      <td>1</td>\n",
       "      <td>3</td>\n",
       "      <td>81.6</td>\n",
       "      <td>56.7</td>\n",
       "      <td>665.6</td>\n",
       "      <td>1.9</td>\n",
       "      <td>27.8</td>\n",
       "      <td>32</td>\n",
       "      <td>2.7</td>\n",
       "      <td>0.0</td>\n",
       "      <td>6.44</td>\n",
       "      <td>2.006871</td>\n",
       "    </tr>\n",
       "    <tr>\n",
       "      <th>513</th>\n",
       "      <td>2</td>\n",
       "      <td>4</td>\n",
       "      <td>1</td>\n",
       "      <td>3</td>\n",
       "      <td>81.6</td>\n",
       "      <td>56.7</td>\n",
       "      <td>665.6</td>\n",
       "      <td>1.9</td>\n",
       "      <td>21.9</td>\n",
       "      <td>71</td>\n",
       "      <td>5.8</td>\n",
       "      <td>0.0</td>\n",
       "      <td>54.29</td>\n",
       "      <td>4.012592</td>\n",
       "    </tr>\n",
       "    <tr>\n",
       "      <th>514</th>\n",
       "      <td>7</td>\n",
       "      <td>4</td>\n",
       "      <td>1</td>\n",
       "      <td>3</td>\n",
       "      <td>81.6</td>\n",
       "      <td>56.7</td>\n",
       "      <td>665.6</td>\n",
       "      <td>1.9</td>\n",
       "      <td>21.2</td>\n",
       "      <td>70</td>\n",
       "      <td>6.7</td>\n",
       "      <td>0.0</td>\n",
       "      <td>11.16</td>\n",
       "      <td>2.498152</td>\n",
       "    </tr>\n",
       "    <tr>\n",
       "      <th>515</th>\n",
       "      <td>1</td>\n",
       "      <td>4</td>\n",
       "      <td>1</td>\n",
       "      <td>2</td>\n",
       "      <td>94.4</td>\n",
       "      <td>146.0</td>\n",
       "      <td>614.7</td>\n",
       "      <td>11.3</td>\n",
       "      <td>25.6</td>\n",
       "      <td>42</td>\n",
       "      <td>4.0</td>\n",
       "      <td>0.0</td>\n",
       "      <td>0.00</td>\n",
       "      <td>0.000000</td>\n",
       "    </tr>\n",
       "    <tr>\n",
       "      <th>516</th>\n",
       "      <td>6</td>\n",
       "      <td>3</td>\n",
       "      <td>9</td>\n",
       "      <td>5</td>\n",
       "      <td>79.5</td>\n",
       "      <td>3.0</td>\n",
       "      <td>106.7</td>\n",
       "      <td>1.1</td>\n",
       "      <td>11.8</td>\n",
       "      <td>31</td>\n",
       "      <td>4.5</td>\n",
       "      <td>0.0</td>\n",
       "      <td>0.00</td>\n",
       "      <td>0.000000</td>\n",
       "    </tr>\n",
       "  </tbody>\n",
       "</table>\n",
       "<p>517 rows × 14 columns</p>\n",
       "</div>"
      ],
      "text/plain": [
       "     X  Y  month  day  FFMC    DMC     DC   ISI  temp  RH  wind  rain   area  \\\n",
       "0    7  5      7    0  86.2   26.2   94.3   5.1   8.2  51   6.7   0.0   0.00   \n",
       "1    7  4     10    5  90.6   35.4  669.1   6.7  18.0  33   0.9   0.0   0.00   \n",
       "2    7  4     10    2  90.6   43.7  686.9   6.7  14.6  33   1.3   0.0   0.00   \n",
       "3    8  6      7    0  91.7   33.3   77.5   9.0   8.3  97   4.0   0.2   0.00   \n",
       "4    8  6      7    3  89.3   51.3  102.2   9.6  11.4  99   1.8   0.0   0.00   \n",
       "..  .. ..    ...  ...   ...    ...    ...   ...   ...  ..   ...   ...    ...   \n",
       "512  4  3      1    3  81.6   56.7  665.6   1.9  27.8  32   2.7   0.0   6.44   \n",
       "513  2  4      1    3  81.6   56.7  665.6   1.9  21.9  71   5.8   0.0  54.29   \n",
       "514  7  4      1    3  81.6   56.7  665.6   1.9  21.2  70   6.7   0.0  11.16   \n",
       "515  1  4      1    2  94.4  146.0  614.7  11.3  25.6  42   4.0   0.0   0.00   \n",
       "516  6  3      9    5  79.5    3.0  106.7   1.1  11.8  31   4.5   0.0   0.00   \n",
       "\n",
       "       u_area  \n",
       "0    0.000000  \n",
       "1    0.000000  \n",
       "2    0.000000  \n",
       "3    0.000000  \n",
       "4    0.000000  \n",
       "..        ...  \n",
       "512  2.006871  \n",
       "513  4.012592  \n",
       "514  2.498152  \n",
       "515  0.000000  \n",
       "516  0.000000  \n",
       "\n",
       "[517 rows x 14 columns]"
      ]
     },
     "execution_count": 10,
     "metadata": {},
     "output_type": "execute_result"
    }
   ],
   "source": [
    "import numpy as np\n",
    "\n",
    "# u_area = np.log(data['area'] + 1)\n",
    "data['u_area'] = np.log(data['area'] + 1)\n",
    "# data['area'] = np.log(data['area'] + 1)\n",
    "\n",
    "\n",
    "data"
   ]
  },
  {
   "cell_type": "code",
   "execution_count": 11,
   "metadata": {},
   "outputs": [
    {
     "name": "stderr",
     "output_type": "stream",
     "text": [
      "/Users/crisd/opt/anaconda3/envs/mlp/lib/python3.8/site-packages/seaborn/distributions.py:2619: FutureWarning: `distplot` is a deprecated function and will be removed in a future version. Please adapt your code to use either `displot` (a figure-level function with similar flexibility) or `histplot` (an axes-level function for histograms).\n",
      "  warnings.warn(msg, FutureWarning)\n",
      "/Users/crisd/opt/anaconda3/envs/mlp/lib/python3.8/site-packages/seaborn/distributions.py:2619: FutureWarning: `distplot` is a deprecated function and will be removed in a future version. Please adapt your code to use either `displot` (a figure-level function with similar flexibility) or `histplot` (an axes-level function for histograms).\n",
      "  warnings.warn(msg, FutureWarning)\n"
     ]
    },
    {
     "data": {
      "text/plain": [
       "[Text(0.5, 1.0, 'Reduced Skewness of Area Distribution'),\n",
       " Text(0.5, 0, 'U_Area'),\n",
       " Text(0, 0.5, 'Density')]"
      ]
     },
     "execution_count": 11,
     "metadata": {},
     "output_type": "execute_result"
    },
    {
     "data": {
      "image/png": "[encoded data removed]",
      "text/plain": [
       "<Figure size 1440x720 with 2 Axes>"
      ]
     },
     "metadata": {},
     "output_type": "display_data"
    }
   ],
   "source": [
    "import seaborn as sns\n",
    "plt.rcParams['figure.figsize'] = [20, 10]\n",
    "sns.set(style = 'white', font_scale = 1.3)\n",
    "fig, ax = plt.subplots(1,2)\n",
    "\n",
    "# Distribution Plots\n",
    "area_dist = sns.distplot(data['area'], ax = ax[0]);\n",
    "area_dist_2 = sns.distplot(data['u_area'], ax = ax[1]);\n",
    "area_dist.set(title = \"Skewed Area Distribution\", xlabel = \"Area\", ylabel = \"Density\")\n",
    "area_dist_2.set(title = \"Reduced Skewness of Area Distribution\", xlabel = \"U_Area\", ylabel = \"Density\")"
   ]
  },
  {
   "cell_type": "code",
   "execution_count": 14,
   "metadata": {},
   "outputs": [
    {
     "data": {
      "text/html": [
       "<div>\n",
       "<style scoped>\n",
       "    .dataframe tbody tr th:only-of-type {\n",
       "        vertical-align: middle;\n",
       "    }\n",
       "\n",
       "    .dataframe tbody tr th {\n",
       "        vertical-align: top;\n",
       "    }\n",
       "\n",
       "    .dataframe thead th {\n",
       "        text-align: right;\n",
       "    }\n",
       "</style>\n",
       "<table border=\"1\" class=\"dataframe\">\n",
       "  <thead>\n",
       "    <tr style=\"text-align: right;\">\n",
       "      <th></th>\n",
       "      <th>X</th>\n",
       "      <th>Y</th>\n",
       "      <th>month</th>\n",
       "      <th>day</th>\n",
       "      <th>FFMC</th>\n",
       "      <th>DMC</th>\n",
       "      <th>DC</th>\n",
       "      <th>ISI</th>\n",
       "      <th>temp</th>\n",
       "      <th>RH</th>\n",
       "      <th>wind</th>\n",
       "      <th>rain</th>\n",
       "    </tr>\n",
       "  </thead>\n",
       "  <tbody>\n",
       "    <tr>\n",
       "      <th>0</th>\n",
       "      <td>1.008313</td>\n",
       "      <td>0.569860</td>\n",
       "      <td>0.284222</td>\n",
       "      <td>-1.423121</td>\n",
       "      <td>-0.805959</td>\n",
       "      <td>-1.323326</td>\n",
       "      <td>-1.830477</td>\n",
       "      <td>-0.860946</td>\n",
       "      <td>-1.842640</td>\n",
       "      <td>0.411724</td>\n",
       "      <td>1.498614</td>\n",
       "      <td>-0.073268</td>\n",
       "    </tr>\n",
       "    <tr>\n",
       "      <th>1</th>\n",
       "      <td>1.008313</td>\n",
       "      <td>-0.244001</td>\n",
       "      <td>0.970871</td>\n",
       "      <td>1.176715</td>\n",
       "      <td>-0.008102</td>\n",
       "      <td>-1.179541</td>\n",
       "      <td>0.488891</td>\n",
       "      <td>-0.509688</td>\n",
       "      <td>-0.153278</td>\n",
       "      <td>-0.692456</td>\n",
       "      <td>-1.741756</td>\n",
       "      <td>-0.073268</td>\n",
       "    </tr>\n",
       "    <tr>\n",
       "      <th>2</th>\n",
       "      <td>1.008313</td>\n",
       "      <td>-0.244001</td>\n",
       "      <td>0.970871</td>\n",
       "      <td>-0.383187</td>\n",
       "      <td>-0.008102</td>\n",
       "      <td>-1.049822</td>\n",
       "      <td>0.560715</td>\n",
       "      <td>-0.509688</td>\n",
       "      <td>-0.739383</td>\n",
       "      <td>-0.692456</td>\n",
       "      <td>-1.518282</td>\n",
       "      <td>-0.073268</td>\n",
       "    </tr>\n",
       "    <tr>\n",
       "      <th>3</th>\n",
       "      <td>1.440925</td>\n",
       "      <td>1.383722</td>\n",
       "      <td>0.284222</td>\n",
       "      <td>-1.423121</td>\n",
       "      <td>0.191362</td>\n",
       "      <td>-1.212361</td>\n",
       "      <td>-1.898266</td>\n",
       "      <td>-0.004756</td>\n",
       "      <td>-1.825402</td>\n",
       "      <td>3.233519</td>\n",
       "      <td>-0.009834</td>\n",
       "      <td>0.603155</td>\n",
       "    </tr>\n",
       "    <tr>\n",
       "      <th>4</th>\n",
       "      <td>1.440925</td>\n",
       "      <td>1.383722</td>\n",
       "      <td>0.284222</td>\n",
       "      <td>0.136781</td>\n",
       "      <td>-0.243833</td>\n",
       "      <td>-0.931043</td>\n",
       "      <td>-1.798600</td>\n",
       "      <td>0.126966</td>\n",
       "      <td>-1.291012</td>\n",
       "      <td>3.356206</td>\n",
       "      <td>-1.238940</td>\n",
       "      <td>-0.073268</td>\n",
       "    </tr>\n",
       "  </tbody>\n",
       "</table>\n",
       "</div>"
      ],
      "text/plain": [
       "          X         Y     month       day      FFMC       DMC        DC  \\\n",
       "0  1.008313  0.569860  0.284222 -1.423121 -0.805959 -1.323326 -1.830477   \n",
       "1  1.008313 -0.244001  0.970871  1.176715 -0.008102 -1.179541  0.488891   \n",
       "2  1.008313 -0.244001  0.970871 -0.383187 -0.008102 -1.049822  0.560715   \n",
       "3  1.440925  1.383722  0.284222 -1.423121  0.191362 -1.212361 -1.898266   \n",
       "4  1.440925  1.383722  0.284222  0.136781 -0.243833 -0.931043 -1.798600   \n",
       "\n",
       "        ISI      temp        RH      wind      rain  \n",
       "0 -0.860946 -1.842640  0.411724  1.498614 -0.073268  \n",
       "1 -0.509688 -0.153278 -0.692456 -1.741756 -0.073268  \n",
       "2 -0.509688 -0.739383 -0.692456 -1.518282 -0.073268  \n",
       "3 -0.004756 -1.825402  3.233519 -0.009834  0.603155  \n",
       "4  0.126966 -1.291012  3.356206 -1.238940 -0.073268  "
      ]
     },
     "execution_count": 14,
     "metadata": {},
     "output_type": "execute_result"
    }
   ],
   "source": [
    "from sklearn.preprocessing import StandardScaler, PolynomialFeatures\n",
    "\n",
    "x = data.values\n",
    "data.columns = ['X', 'Y', 'month', 'day', 'FFMC', 'DMC', 'DC', 'ISI', 'temp', 'RH',\n",
    "       'wind', 'rain', 'Area', 'U_area']\n",
    "scaler = StandardScaler()\n",
    "x_scaled = scaler.fit_transform(x)\n",
    "\n",
    "df = pd.DataFrame(x_scaled, columns = data.columns)\n",
    "df.drop(columns = 'U_area', inplace = True)\n",
    "df.drop(columns = 'Area', inplace = True)\n",
    "\n",
    "df.head()\n"
   ]
  },
  {
   "cell_type": "code",
   "execution_count": 15,
   "metadata": {},
   "outputs": [
    {
     "data": {
      "text/html": [
       "<div>\n",
       "<style scoped>\n",
       "    .dataframe tbody tr th:only-of-type {\n",
       "        vertical-align: middle;\n",
       "    }\n",
       "\n",
       "    .dataframe tbody tr th {\n",
       "        vertical-align: top;\n",
       "    }\n",
       "\n",
       "    .dataframe thead th {\n",
       "        text-align: right;\n",
       "    }\n",
       "</style>\n",
       "<table border=\"1\" class=\"dataframe\">\n",
       "  <thead>\n",
       "    <tr style=\"text-align: right;\">\n",
       "      <th></th>\n",
       "      <th>X</th>\n",
       "      <th>Y</th>\n",
       "      <th>month</th>\n",
       "      <th>day</th>\n",
       "      <th>FFMC</th>\n",
       "      <th>DMC</th>\n",
       "      <th>DC</th>\n",
       "      <th>ISI</th>\n",
       "      <th>temp</th>\n",
       "      <th>RH</th>\n",
       "      <th>wind</th>\n",
       "      <th>rain</th>\n",
       "    </tr>\n",
       "  </thead>\n",
       "  <tbody>\n",
       "    <tr>\n",
       "      <th>count</th>\n",
       "      <td>5.170000e+02</td>\n",
       "      <td>5.170000e+02</td>\n",
       "      <td>5.170000e+02</td>\n",
       "      <td>5.170000e+02</td>\n",
       "      <td>5.170000e+02</td>\n",
       "      <td>5.170000e+02</td>\n",
       "      <td>5.170000e+02</td>\n",
       "      <td>5.170000e+02</td>\n",
       "      <td>5.170000e+02</td>\n",
       "      <td>5.170000e+02</td>\n",
       "      <td>5.170000e+02</td>\n",
       "      <td>5.170000e+02</td>\n",
       "    </tr>\n",
       "    <tr>\n",
       "      <th>mean</th>\n",
       "      <td>2.233331e-16</td>\n",
       "      <td>2.491023e-16</td>\n",
       "      <td>-4.874674e-17</td>\n",
       "      <td>5.110891e-17</td>\n",
       "      <td>-1.754024e-15</td>\n",
       "      <td>3.070830e-16</td>\n",
       "      <td>7.387171e-17</td>\n",
       "      <td>-3.865380e-17</td>\n",
       "      <td>2.005703e-16</td>\n",
       "      <td>3.362881e-16</td>\n",
       "      <td>-2.676776e-16</td>\n",
       "      <td>-2.841054e-16</td>\n",
       "    </tr>\n",
       "    <tr>\n",
       "      <th>std</th>\n",
       "      <td>1.000969e+00</td>\n",
       "      <td>1.000969e+00</td>\n",
       "      <td>1.000969e+00</td>\n",
       "      <td>1.000969e+00</td>\n",
       "      <td>1.000969e+00</td>\n",
       "      <td>1.000969e+00</td>\n",
       "      <td>1.000969e+00</td>\n",
       "      <td>1.000969e+00</td>\n",
       "      <td>1.000969e+00</td>\n",
       "      <td>1.000969e+00</td>\n",
       "      <td>1.000969e+00</td>\n",
       "      <td>1.000969e+00</td>\n",
       "    </tr>\n",
       "    <tr>\n",
       "      <th>min</th>\n",
       "      <td>-1.587360e+00</td>\n",
       "      <td>-1.871724e+00</td>\n",
       "      <td>-1.317959e+00</td>\n",
       "      <td>-1.423121e+00</td>\n",
       "      <td>-1.304582e+01</td>\n",
       "      <td>-1.715608e+00</td>\n",
       "      <td>-2.179108e+00</td>\n",
       "      <td>-1.980578e+00</td>\n",
       "      <td>-2.876943e+00</td>\n",
       "      <td>-1.796637e+00</td>\n",
       "      <td>-2.021098e+00</td>\n",
       "      <td>-7.326831e-02</td>\n",
       "    </tr>\n",
       "    <tr>\n",
       "      <th>25%</th>\n",
       "      <td>-7.221360e-01</td>\n",
       "      <td>-2.440010e-01</td>\n",
       "      <td>-1.089076e+00</td>\n",
       "      <td>-9.031536e-01</td>\n",
       "      <td>-8.063453e-02</td>\n",
       "      <td>-6.606652e-01</td>\n",
       "      <td>-4.448281e-01</td>\n",
       "      <td>-5.535954e-01</td>\n",
       "      <td>-5.842379e-01</td>\n",
       "      <td>-6.924563e-01</td>\n",
       "      <td>-7.361236e-01</td>\n",
       "      <td>-7.326831e-02</td>\n",
       "    </tr>\n",
       "    <tr>\n",
       "      <th>50%</th>\n",
       "      <td>-2.895238e-01</td>\n",
       "      <td>-2.440010e-01</td>\n",
       "      <td>5.533922e-02</td>\n",
       "      <td>1.367805e-01</td>\n",
       "      <td>1.732292e-01</td>\n",
       "      <td>-4.020255e-02</td>\n",
       "      <td>4.691190e-01</td>\n",
       "      <td>-1.364774e-01</td>\n",
       "      <td>7.082076e-02</td>\n",
       "      <td>-1.403660e-01</td>\n",
       "      <td>-9.833712e-03</td>\n",
       "      <td>-7.326831e-02</td>\n",
       "    </tr>\n",
       "    <tr>\n",
       "      <th>75%</th>\n",
       "      <td>1.008313e+00</td>\n",
       "      <td>5.698604e-01</td>\n",
       "      <td>1.199754e+00</td>\n",
       "      <td>6.567476e-01</td>\n",
       "      <td>4.089598e-01</td>\n",
       "      <td>4.927389e-01</td>\n",
       "      <td>6.696628e-01</td>\n",
       "      <td>3.904086e-01</td>\n",
       "      <td>6.741643e-01</td>\n",
       "      <td>5.344111e-01</td>\n",
       "      <td>4.929823e-01</td>\n",
       "      <td>-7.326831e-02</td>\n",
       "    </tr>\n",
       "    <tr>\n",
       "      <th>max</th>\n",
       "      <td>1.873537e+00</td>\n",
       "      <td>3.825306e+00</td>\n",
       "      <td>1.199754e+00</td>\n",
       "      <td>1.696682e+00</td>\n",
       "      <td>1.007353e+00</td>\n",
       "      <td>2.819865e+00</td>\n",
       "      <td>1.261610e+00</td>\n",
       "      <td>1.033538e+01</td>\n",
       "      <td>2.484195e+00</td>\n",
       "      <td>3.417549e+00</td>\n",
       "      <td>3.007063e+00</td>\n",
       "      <td>2.157228e+01</td>\n",
       "    </tr>\n",
       "  </tbody>\n",
       "</table>\n",
       "</div>"
      ],
      "text/plain": [
       "                  X             Y         month           day          FFMC  \\\n",
       "count  5.170000e+02  5.170000e+02  5.170000e+02  5.170000e+02  5.170000e+02   \n",
       "mean   2.233331e-16  2.491023e-16 -4.874674e-17  5.110891e-17 -1.754024e-15   \n",
       "std    1.000969e+00  1.000969e+00  1.000969e+00  1.000969e+00  1.000969e+00   \n",
       "min   -1.587360e+00 -1.871724e+00 -1.317959e+00 -1.423121e+00 -1.304582e+01   \n",
       "25%   -7.221360e-01 -2.440010e-01 -1.089076e+00 -9.031536e-01 -8.063453e-02   \n",
       "50%   -2.895238e-01 -2.440010e-01  5.533922e-02  1.367805e-01  1.732292e-01   \n",
       "75%    1.008313e+00  5.698604e-01  1.199754e+00  6.567476e-01  4.089598e-01   \n",
       "max    1.873537e+00  3.825306e+00  1.199754e+00  1.696682e+00  1.007353e+00   \n",
       "\n",
       "                DMC            DC           ISI          temp            RH  \\\n",
       "count  5.170000e+02  5.170000e+02  5.170000e+02  5.170000e+02  5.170000e+02   \n",
       "mean   3.070830e-16  7.387171e-17 -3.865380e-17  2.005703e-16  3.362881e-16   \n",
       "std    1.000969e+00  1.000969e+00  1.000969e+00  1.000969e+00  1.000969e+00   \n",
       "min   -1.715608e+00 -2.179108e+00 -1.980578e+00 -2.876943e+00 -1.796637e+00   \n",
       "25%   -6.606652e-01 -4.448281e-01 -5.535954e-01 -5.842379e-01 -6.924563e-01   \n",
       "50%   -4.020255e-02  4.691190e-01 -1.364774e-01  7.082076e-02 -1.403660e-01   \n",
       "75%    4.927389e-01  6.696628e-01  3.904086e-01  6.741643e-01  5.344111e-01   \n",
       "max    2.819865e+00  1.261610e+00  1.033538e+01  2.484195e+00  3.417549e+00   \n",
       "\n",
       "               wind          rain  \n",
       "count  5.170000e+02  5.170000e+02  \n",
       "mean  -2.676776e-16 -2.841054e-16  \n",
       "std    1.000969e+00  1.000969e+00  \n",
       "min   -2.021098e+00 -7.326831e-02  \n",
       "25%   -7.361236e-01 -7.326831e-02  \n",
       "50%   -9.833712e-03 -7.326831e-02  \n",
       "75%    4.929823e-01 -7.326831e-02  \n",
       "max    3.007063e+00  2.157228e+01  "
      ]
     },
     "execution_count": 15,
     "metadata": {},
     "output_type": "execute_result"
    }
   ],
   "source": [
    "df.describe()"
   ]
  },
  {
   "cell_type": "code",
   "execution_count": 16,
   "metadata": {},
   "outputs": [
    {
     "data": {
      "application/vnd.plotly.v1+json": {
       "config": {
        "plotlyServerURL": "https://plot.ly"
       },
       "data": [
        {
         "alignmentgroup": "True",
         "hovertemplate": "X=%{y}<extra></extra>",
         "legendgroup": "",
         "marker": {
          "color": "#636efa"
         },
         "name": "",
         "notched": false,
         "offsetgroup": "",
         "orientation": "v",
         "showlegend": false,
         "type": "box",
         "x0": " ",
         "xaxis": "x",
         "y": [
          1.0083127743720461,
          1.0083127743720461,
          1.0083127743720461,
          1.4409249771524177,
          1.4409249771524177,
          1.4409249771524177,
          1.4409249771524177,
          1.4409249771524177,
          1.4409249771524177,
          1.0083127743720461,
          1.0083127743720461,
          1.0083127743720461,
          0.5757005715916745,
          0.5757005715916745,
          0.5757005715916745,
          0.5757005715916745,
          0.14308836881130294,
          1.4409249771524177,
          0.5757005715916745,
          0.5757005715916745,
          0.5757005715916745,
          0.14308836881130294,
          1.0083127743720461,
          1.0083127743720461,
          1.0083127743720461,
          1.0083127743720461,
          1.0083127743720461,
          1.0083127743720461,
          0.5757005715916745,
          0.5757005715916745,
          0.5757005715916745,
          0.5757005715916745,
          0.5757005715916745,
          0.5757005715916745,
          0.5757005715916745,
          0.5757005715916745,
          0.5757005715916745,
          1.0083127743720461,
          1.0083127743720461,
          -0.2895238339690686,
          -0.2895238339690686,
          -0.2895238339690686,
          -0.2895238339690686,
          -0.2895238339690686,
          -0.2895238339690686,
          0.14308836881130294,
          0.14308836881130294,
          0.5757005715916745,
          -0.2895238339690686,
          -0.2895238339690686,
          -0.2895238339690686,
          -0.2895238339690686,
          -0.2895238339690686,
          -0.2895238339690686,
          -0.2895238339690686,
          -0.2895238339690686,
          -0.2895238339690686,
          -0.2895238339690686,
          -1.1547482395298116,
          -1.1547482395298116,
          -1.1547482395298116,
          -1.1547482395298116,
          -1.1547482395298116,
          -1.1547482395298116,
          -1.1547482395298116,
          -1.1547482395298116,
          -1.1547482395298116,
          -1.1547482395298116,
          -1.1547482395298116,
          -0.2895238339690686,
          -0.2895238339690686,
          -0.2895238339690686,
          0.14308836881130294,
          0.14308836881130294,
          0.14308836881130294,
          1.8735371799327891,
          1.8735371799327891,
          -1.5873604423101833,
          -1.5873604423101833,
          -1.5873604423101833,
          -1.5873604423101833,
          -1.5873604423101833,
          -1.5873604423101833,
          -1.5873604423101833,
          -1.5873604423101833,
          -1.5873604423101833,
          -1.5873604423101833,
          -1.5873604423101833,
          -1.5873604423101833,
          0.5757005715916745,
          0.5757005715916745,
          1.4409249771524177,
          1.4409249771524177,
          1.4409249771524177,
          1.4409249771524177,
          -0.2895238339690686,
          -0.7221360367494402,
          -0.7221360367494402,
          -0.7221360367494402,
          -0.7221360367494402,
          -0.7221360367494402,
          -0.7221360367494402,
          -1.1547482395298116,
          -1.1547482395298116,
          -1.1547482395298116,
          -0.2895238339690686,
          -0.2895238339690686,
          -0.2895238339690686,
          -0.2895238339690686,
          -0.2895238339690686,
          -0.2895238339690686,
          -0.7221360367494402,
          -0.7221360367494402,
          -0.7221360367494402,
          -0.7221360367494402,
          -0.7221360367494402,
          -0.7221360367494402,
          -0.7221360367494402,
          -0.7221360367494402,
          -0.7221360367494402,
          -0.7221360367494402,
          -0.7221360367494402,
          -0.7221360367494402,
          -0.7221360367494402,
          -0.7221360367494402,
          -0.7221360367494402,
          -0.7221360367494402,
          -0.7221360367494402,
          -0.7221360367494402,
          -1.1547482395298116,
          -0.2895238339690686,
          -0.2895238339690686,
          -0.2895238339690686,
          -0.2895238339690686,
          -0.7221360367494402,
          -0.7221360367494402,
          -0.7221360367494402,
          -0.7221360367494402,
          1.8735371799327891,
          -1.5873604423101833,
          -1.1547482395298116,
          -1.5873604423101833,
          1.4409249771524177,
          -1.5873604423101833,
          -1.1547482395298116,
          0.5757005715916745,
          0.14308836881130294,
          1.4409249771524177,
          -1.1547482395298116,
          1.4409249771524177,
          0.5757005715916745,
          1.8735371799327891,
          -0.7221360367494402,
          0.14308836881130294,
          -1.5873604423101833,
          1.0083127743720461,
          -1.1547482395298116,
          -1.1547482395298116,
          -1.1547482395298116,
          1.0083127743720461,
          1.0083127743720461,
          0.5757005715916745,
          0.5757005715916745,
          1.4409249771524177,
          1.4409249771524177,
          0.5757005715916745,
          0.5757005715916745,
          0.5757005715916745,
          0.5757005715916745,
          1.4409249771524177,
          0.14308836881130294,
          1.4409249771524177,
          1.0083127743720461,
          -0.2895238339690686,
          -1.5873604423101833,
          -1.5873604423101833,
          0.5757005715916745,
          -1.1547482395298116,
          -1.1547482395298116,
          1.4409249771524177,
          -1.5873604423101833,
          1.4409249771524177,
          0.14308836881130294,
          1.0083127743720461,
          1.4409249771524177,
          -1.1547482395298116,
          1.4409249771524177,
          -1.5873604423101833,
          0.5757005715916745,
          1.0083127743720461,
          0.5757005715916745,
          -1.1547482395298116,
          -1.1547482395298116,
          -0.2895238339690686,
          -1.1547482395298116,
          -1.1547482395298116,
          0.5757005715916745,
          -0.2895238339690686,
          -0.7221360367494402,
          -1.1547482395298116,
          -1.5873604423101833,
          0.5757005715916745,
          1.0083127743720461,
          1.4409249771524177,
          0.14308836881130294,
          -0.2895238339690686,
          -1.1547482395298116,
          1.0083127743720461,
          0.5757005715916745,
          1.4409249771524177,
          -0.2895238339690686,
          1.0083127743720461,
          1.0083127743720461,
          1.0083127743720461,
          -0.2895238339690686,
          -0.2895238339690686,
          -0.2895238339690686,
          -1.5873604423101833,
          -0.2895238339690686,
          0.5757005715916745,
          1.4409249771524177,
          -0.7221360367494402,
          -0.2895238339690686,
          -1.1547482395298116,
          1.0083127743720461,
          -0.2895238339690686,
          1.0083127743720461,
          1.4409249771524177,
          -0.2895238339690686,
          1.4409249771524177,
          -0.2895238339690686,
          -1.5873604423101833,
          0.5757005715916745,
          1.8735371799327891,
          -0.2895238339690686,
          1.4409249771524177,
          -1.1547482395298116,
          -1.5873604423101833,
          0.5757005715916745,
          1.0083127743720461,
          0.5757005715916745,
          -0.2895238339690686,
          -1.1547482395298116,
          1.0083127743720461,
          -1.1547482395298116,
          -0.7221360367494402,
          0.14308836881130294,
          -1.1547482395298116,
          1.4409249771524177,
          -0.7221360367494402,
          1.4409249771524177,
          1.4409249771524177,
          0.5757005715916745,
          1.0083127743720461,
          0.5757005715916745,
          -1.1547482395298116,
          1.4409249771524177,
          -0.2895238339690686,
          -0.7221360367494402,
          1.0083127743720461,
          -1.1547482395298116,
          -0.7221360367494402,
          -1.1547482395298116,
          0.5757005715916745,
          -0.2895238339690686,
          -0.2895238339690686,
          0.5757005715916745,
          -1.1547482395298116,
          -0.7221360367494402,
          -0.2895238339690686,
          -1.1547482395298116,
          1.4409249771524177,
          -1.1547482395298116,
          -0.2895238339690686,
          1.4409249771524177,
          -0.2895238339690686,
          -0.2895238339690686,
          -0.7221360367494402,
          -0.2895238339690686,
          -0.2895238339690686,
          -0.2895238339690686,
          0.5757005715916745,
          0.5757005715916745,
          -0.7221360367494402,
          0.14308836881130294,
          -1.1547482395298116,
          1.0083127743720461,
          1.0083127743720461,
          1.0083127743720461,
          1.0083127743720461,
          -1.1547482395298116,
          1.8735371799327891,
          -0.2895238339690686,
          1.0083127743720461,
          1.4409249771524177,
          1.0083127743720461,
          0.5757005715916745,
          1.4409249771524177,
          1.4409249771524177,
          0.5757005715916745,
          0.5757005715916745,
          0.5757005715916745,
          -0.7221360367494402,
          -0.7221360367494402,
          0.5757005715916745,
          -1.5873604423101833,
          1.0083127743720461,
          -0.7221360367494402,
          -1.1547482395298116,
          -1.1547482395298116,
          1.0083127743720461,
          0.5757005715916745,
          -1.1547482395298116,
          0.5757005715916745,
          -0.2895238339690686,
          -0.7221360367494402,
          -0.2895238339690686,
          -0.2895238339690686,
          0.5757005715916745,
          0.14308836881130294,
          0.5757005715916745,
          -1.5873604423101833,
          0.5757005715916745,
          -0.7221360367494402,
          0.5757005715916745,
          -1.5873604423101833,
          0.14308836881130294,
          0.5757005715916745,
          0.5757005715916745,
          -0.2895238339690686,
          -0.7221360367494402,
          1.0083127743720461,
          -0.2895238339690686,
          -1.5873604423101833,
          -1.1547482395298116,
          -0.2895238339690686,
          1.0083127743720461,
          0.5757005715916745,
          1.4409249771524177,
          -1.1547482395298116,
          -1.1547482395298116,
          1.4409249771524177,
          0.5757005715916745,
          1.4409249771524177,
          0.5757005715916745,
          -1.1547482395298116,
          -1.5873604423101833,
          0.14308836881130294,
          -0.7221360367494402,
          0.14308836881130294,
          0.14308836881130294,
          -0.2895238339690686,
          1.0083127743720461,
          1.0083127743720461,
          1.0083127743720461,
          -0.2895238339690686,
          -0.2895238339690686,
          0.5757005715916745,
          0.5757005715916745,
          -1.5873604423101833,
          0.5757005715916745,
          -0.2895238339690686,
          1.0083127743720461,
          -0.2895238339690686,
          0.5757005715916745,
          0.5757005715916745,
          -0.2895238339690686,
          -0.2895238339690686,
          0.5757005715916745,
          -0.2895238339690686,
          1.0083127743720461,
          -0.7221360367494402,
          -0.2895238339690686,
          0.14308836881130294,
          0.5757005715916745,
          0.5757005715916745,
          1.4409249771524177,
          -1.1547482395298116,
          0.5757005715916745,
          -0.2895238339690686,
          0.14308836881130294,
          1.4409249771524177,
          1.4409249771524177,
          1.8735371799327891,
          1.4409249771524177,
          -1.1547482395298116,
          -0.7221360367494402,
          0.14308836881130294,
          0.5757005715916745,
          1.0083127743720461,
          1.0083127743720461,
          1.4409249771524177,
          -1.5873604423101833,
          -1.1547482395298116,
          0.5757005715916745,
          -0.2895238339690686,
          -0.2895238339690686,
          0.14308836881130294,
          -1.5873604423101833,
          1.8735371799327891,
          1.8735371799327891,
          -0.7221360367494402,
          1.8735371799327891,
          1.4409249771524177,
          -1.1547482395298116,
          -1.1547482395298116,
          0.5757005715916745,
          -0.2895238339690686,
          -0.2895238339690686,
          -1.5873604423101833,
          0.5757005715916745,
          1.0083127743720461,
          1.8735371799327891,
          1.0083127743720461,
          0.14308836881130294,
          1.4409249771524177,
          0.5757005715916745,
          0.5757005715916745,
          -1.1547482395298116,
          -1.1547482395298116,
          1.4409249771524177,
          -1.1547482395298116,
          1.4409249771524177,
          -1.5873604423101833,
          1.4409249771524177,
          -1.1547482395298116,
          1.4409249771524177,
          -1.1547482395298116,
          -1.5873604423101833,
          -0.7221360367494402,
          1.0083127743720461,
          -1.5873604423101833,
          1.4409249771524177,
          -1.1547482395298116,
          -1.5873604423101833,
          -1.1547482395298116,
          1.4409249771524177,
          1.4409249771524177,
          -1.1547482395298116,
          -1.5873604423101833,
          0.14308836881130294,
          1.4409249771524177,
          0.5757005715916745,
          -1.5873604423101833,
          -1.1547482395298116,
          0.14308836881130294,
          0.5757005715916745,
          -0.7221360367494402,
          1.0083127743720461,
          1.0083127743720461,
          -0.2895238339690686,
          -1.5873604423101833,
          1.0083127743720461,
          -0.2895238339690686,
          -0.7221360367494402,
          -0.7221360367494402,
          -1.1547482395298116,
          -1.5873604423101833,
          1.4409249771524177,
          1.0083127743720461,
          -1.1547482395298116,
          1.4409249771524177,
          -1.5873604423101833,
          0.5757005715916745,
          0.5757005715916745,
          -1.1547482395298116,
          0.5757005715916745,
          -0.7221360367494402,
          0.5757005715916745,
          0.5757005715916745,
          0.14308836881130294,
          -0.2895238339690686,
          1.4409249771524177,
          1.8735371799327891,
          -0.2895238339690686,
          -1.1547482395298116,
          -0.2895238339690686,
          -0.2895238339690686,
          1.0083127743720461,
          1.0083127743720461,
          1.8735371799327891,
          -0.2895238339690686,
          -0.7221360367494402,
          1.4409249771524177,
          -1.1547482395298116,
          -1.1547482395298116,
          0.14308836881130294,
          0.14308836881130294,
          -0.2895238339690686,
          -0.2895238339690686,
          -0.2895238339690686,
          -0.2895238339690686,
          -1.5873604423101833,
          -1.5873604423101833,
          0.5757005715916745,
          0.5757005715916745,
          -0.2895238339690686,
          -0.7221360367494402,
          0.5757005715916745,
          1.0083127743720461,
          1.4409249771524177,
          1.0083127743720461,
          -0.2895238339690686,
          -1.1547482395298116,
          -0.2895238339690686,
          -1.5873604423101833,
          -1.5873604423101833,
          -1.1547482395298116,
          -1.5873604423101833,
          0.14308836881130294,
          0.5757005715916745,
          1.4409249771524177,
          -0.2895238339690686,
          -1.1547482395298116,
          1.0083127743720461,
          -1.5873604423101833,
          0.5757005715916745
         ],
         "y0": " ",
         "yaxis": "y"
        }
       ],
       "layout": {
        "boxmode": "group",
        "legend": {
         "tracegroupgap": 0
        },
        "margin": {
         "t": 60
        },
        "template": {
         "data": {
          "bar": [
           {
            "error_x": {
             "color": "#2a3f5f"
            },
            "error_y": {
             "color": "#2a3f5f"
            },
            "marker": {
             "line": {
              "color": "#E5ECF6",
              "width": 0.5
             },
             "pattern": {
              "fillmode": "overlay",
              "size": 10,
              "solidity": 0.2
             }
            },
            "type": "bar"
           }
          ],
          "barpolar": [
           {
            "marker": {
             "line": {
              "color": "#E5ECF6",
              "width": 0.5
             },
             "pattern": {
              "fillmode": "overlay",
              "size": 10,
              "solidity": 0.2
             }
            },
            "type": "barpolar"
           }
          ],
          "carpet": [
           {
            "aaxis": {
             "endlinecolor": "#2a3f5f",
             "gridcolor": "white",
             "linecolor": "white",
             "minorgridcolor": "white",
             "startlinecolor": "#2a3f5f"
            },
            "baxis": {
             "endlinecolor": "#2a3f5f",
             "gridcolor": "white",
             "linecolor": "white",
             "minorgridcolor": "white",
             "startlinecolor": "#2a3f5f"
            },
            "type": "carpet"
           }
          ],
          "choropleth": [
           {
            "colorbar": {
             "outlinewidth": 0,
             "ticks": ""
            },
            "type": "choropleth"
           }
          ],
          "contour": [
           {
            "colorbar": {
             "outlinewidth": 0,
             "ticks": ""
            },
            "colorscale": [
             [
              0,
              "#0d0887"
             ],
             [
              0.1111111111111111,
              "#46039f"
             ],
             [
              0.2222222222222222,
              "#7201a8"
             ],
             [
              0.3333333333333333,
              "#9c179e"
             ],
             [
              0.4444444444444444,
              "#bd3786"
             ],
             [
              0.5555555555555556,
              "#d8576b"
             ],
             [
              0.6666666666666666,
              "#ed7953"
             ],
             [
              0.7777777777777778,
              "#fb9f3a"
             ],
             [
              0.8888888888888888,
              "#fdca26"
             ],
             [
              1,
              "#f0f921"
             ]
            ],
            "type": "contour"
           }
          ],
          "contourcarpet": [
           {
            "colorbar": {
             "outlinewidth": 0,
             "ticks": ""
            },
            "type": "contourcarpet"
           }
          ],
          "heatmap": [
           {
            "colorbar": {
             "outlinewidth": 0,
             "ticks": ""
            },
            "colorscale": [
             [
              0,
              "#0d0887"
             ],
             [
              0.1111111111111111,
              "#46039f"
             ],
             [
              0.2222222222222222,
              "#7201a8"
             ],
             [
              0.3333333333333333,
              "#9c179e"
             ],
             [
              0.4444444444444444,
              "#bd3786"
             ],
             [
              0.5555555555555556,
              "#d8576b"
             ],
             [
              0.6666666666666666,
              "#ed7953"
             ],
             [
              0.7777777777777778,
              "#fb9f3a"
             ],
             [
              0.8888888888888888,
              "#fdca26"
             ],
             [
              1,
              "#f0f921"
             ]
            ],
            "type": "heatmap"
           }
          ],
          "heatmapgl": [
           {
            "colorbar": {
             "outlinewidth": 0,
             "ticks": ""
            },
            "colorscale": [
             [
              0,
              "#0d0887"
             ],
             [
              0.1111111111111111,
              "#46039f"
             ],
             [
              0.2222222222222222,
              "#7201a8"
             ],
             [
              0.3333333333333333,
              "#9c179e"
             ],
             [
              0.4444444444444444,
              "#bd3786"
             ],
             [
              0.5555555555555556,
              "#d8576b"
             ],
             [
              0.6666666666666666,
              "#ed7953"
             ],
             [
              0.7777777777777778,
              "#fb9f3a"
             ],
             [
              0.8888888888888888,
              "#fdca26"
             ],
             [
              1,
              "#f0f921"
             ]
            ],
            "type": "heatmapgl"
           }
          ],
          "histogram": [
           {
            "marker": {
             "pattern": {
              "fillmode": "overlay",
              "size": 10,
              "solidity": 0.2
             }
            },
            "type": "histogram"
           }
          ],
          "histogram2d": [
           {
            "colorbar": {
             "outlinewidth": 0,
             "ticks": ""
            },
            "colorscale": [
             [
              0,
              "#0d0887"
             ],
             [
              0.1111111111111111,
              "#46039f"
             ],
             [
              0.2222222222222222,
              "#7201a8"
             ],
             [
              0.3333333333333333,
              "#9c179e"
             ],
             [
              0.4444444444444444,
              "#bd3786"
             ],
             [
              0.5555555555555556,
              "#d8576b"
             ],
             [
              0.6666666666666666,
              "#ed7953"
             ],
             [
              0.7777777777777778,
              "#fb9f3a"
             ],
             [
              0.8888888888888888,
              "#fdca26"
             ],
             [
              1,
              "#f0f921"
             ]
            ],
            "type": "histogram2d"
           }
          ],
          "histogram2dcontour": [
           {
            "colorbar": {
             "outlinewidth": 0,
             "ticks": ""
            },
            "colorscale": [
             [
              0,
              "#0d0887"
             ],
             [
              0.1111111111111111,
              "#46039f"
             ],
             [
              0.2222222222222222,
              "#7201a8"
             ],
             [
              0.3333333333333333,
              "#9c179e"
             ],
             [
              0.4444444444444444,
              "#bd3786"
             ],
             [
              0.5555555555555556,
              "#d8576b"
             ],
             [
              0.6666666666666666,
              "#ed7953"
             ],
             [
              0.7777777777777778,
              "#fb9f3a"
             ],
             [
              0.8888888888888888,
              "#fdca26"
             ],
             [
              1,
              "#f0f921"
             ]
            ],
            "type": "histogram2dcontour"
           }
          ],
          "mesh3d": [
           {
            "colorbar": {
             "outlinewidth": 0,
             "ticks": ""
            },
            "type": "mesh3d"
           }
          ],
          "parcoords": [
           {
            "line": {
             "colorbar": {
              "outlinewidth": 0,
              "ticks": ""
             }
            },
            "type": "parcoords"
           }
          ],
          "pie": [
           {
            "automargin": true,
            "type": "pie"
           }
          ],
          "scatter": [
           {
            "marker": {
             "colorbar": {
              "outlinewidth": 0,
              "ticks": ""
             }
            },
            "type": "scatter"
           }
          ],
          "scatter3d": [
           {
            "line": {
             "colorbar": {
              "outlinewidth": 0,
              "ticks": ""
             }
            },
            "marker": {
             "colorbar": {
              "outlinewidth": 0,
              "ticks": ""
             }
            },
            "type": "scatter3d"
           }
          ],
          "scattercarpet": [
           {
            "marker": {
             "colorbar": {
              "outlinewidth": 0,
              "ticks": ""
             }
            },
            "type": "scattercarpet"
           }
          ],
          "scattergeo": [
           {
            "marker": {
             "colorbar": {
              "outlinewidth": 0,
              "ticks": ""
             }
            },
            "type": "scattergeo"
           }
          ],
          "scattergl": [
           {
            "marker": {
             "colorbar": {
              "outlinewidth": 0,
              "ticks": ""
             }
            },
            "type": "scattergl"
           }
          ],
          "scattermapbox": [
           {
            "marker": {
             "colorbar": {
              "outlinewidth": 0,
              "ticks": ""
             }
            },
            "type": "scattermapbox"
           }
          ],
          "scatterpolar": [
           {
            "marker": {
             "colorbar": {
              "outlinewidth": 0,
              "ticks": ""
             }
            },
            "type": "scatterpolar"
           }
          ],
          "scatterpolargl": [
           {
            "marker": {
             "colorbar": {
              "outlinewidth": 0,
              "ticks": ""
             }
            },
            "type": "scatterpolargl"
           }
          ],
          "scatterternary": [
           {
            "marker": {
             "colorbar": {
              "outlinewidth": 0,
              "ticks": ""
             }
            },
            "type": "scatterternary"
           }
          ],
          "surface": [
           {
            "colorbar": {
             "outlinewidth": 0,
             "ticks": ""
            },
            "colorscale": [
             [
              0,
              "#0d0887"
             ],
             [
              0.1111111111111111,
              "#46039f"
             ],
             [
              0.2222222222222222,
              "#7201a8"
             ],
             [
              0.3333333333333333,
              "#9c179e"
             ],
             [
              0.4444444444444444,
              "#bd3786"
             ],
             [
              0.5555555555555556,
              "#d8576b"
             ],
             [
              0.6666666666666666,
              "#ed7953"
             ],
             [
              0.7777777777777778,
              "#fb9f3a"
             ],
             [
              0.8888888888888888,
              "#fdca26"
             ],
             [
              1,
              "#f0f921"
             ]
            ],
            "type": "surface"
           }
          ],
          "table": [
           {
            "cells": {
             "fill": {
              "color": "#EBF0F8"
             },
             "line": {
              "color": "white"
             }
            },
            "header": {
             "fill": {
              "color": "#C8D4E3"
             },
             "line": {
              "color": "white"
             }
            },
            "type": "table"
           }
          ]
         },
         "layout": {
          "annotationdefaults": {
           "arrowcolor": "#2a3f5f",
           "arrowhead": 0,
           "arrowwidth": 1
          },
          "autotypenumbers": "strict",
          "coloraxis": {
           "colorbar": {
            "outlinewidth": 0,
            "ticks": ""
           }
          },
          "colorscale": {
           "diverging": [
            [
             0,
             "#8e0152"
            ],
            [
             0.1,
             "#c51b7d"
            ],
            [
             0.2,
             "#de77ae"
            ],
            [
             0.3,
             "#f1b6da"
            ],
            [
             0.4,
             "#fde0ef"
            ],
            [
             0.5,
             "#f7f7f7"
            ],
            [
             0.6,
             "#e6f5d0"
            ],
            [
             0.7,
             "#b8e186"
            ],
            [
             0.8,
             "#7fbc41"
            ],
            [
             0.9,
             "#4d9221"
            ],
            [
             1,
             "#276419"
            ]
           ],
           "sequential": [
            [
             0,
             "#0d0887"
            ],
            [
             0.1111111111111111,
             "#46039f"
            ],
            [
             0.2222222222222222,
             "#7201a8"
            ],
            [
             0.3333333333333333,
             "#9c179e"
            ],
            [
             0.4444444444444444,
             "#bd3786"
            ],
            [
             0.5555555555555556,
             "#d8576b"
            ],
            [
             0.6666666666666666,
             "#ed7953"
            ],
            [
             0.7777777777777778,
             "#fb9f3a"
            ],
            [
             0.8888888888888888,
             "#fdca26"
            ],
            [
             1,
             "#f0f921"
            ]
           ],
           "sequentialminus": [
            [
             0,
             "#0d0887"
            ],
            [
             0.1111111111111111,
             "#46039f"
            ],
            [
             0.2222222222222222,
             "#7201a8"
            ],
            [
             0.3333333333333333,
             "#9c179e"
            ],
            [
             0.4444444444444444,
             "#bd3786"
            ],
            [
             0.5555555555555556,
             "#d8576b"
            ],
            [
             0.6666666666666666,
             "#ed7953"
            ],
            [
             0.7777777777777778,
             "#fb9f3a"
            ],
            [
             0.8888888888888888,
             "#fdca26"
            ],
            [
             1,
             "#f0f921"
            ]
           ]
          },
          "colorway": [
           "#636efa",
           "#EF553B",
           "#00cc96",
           "#ab63fa",
           "#FFA15A",
           "#19d3f3",
           "#FF6692",
           "#B6E880",
           "#FF97FF",
           "#FECB52"
          ],
          "font": {
           "color": "#2a3f5f"
          },
          "geo": {
           "bgcolor": "white",
           "lakecolor": "white",
           "landcolor": "#E5ECF6",
           "showlakes": true,
           "showland": true,
           "subunitcolor": "white"
          },
          "hoverlabel": {
           "align": "left"
          },
          "hovermode": "closest",
          "mapbox": {
           "style": "light"
          },
          "paper_bgcolor": "white",
          "plot_bgcolor": "#E5ECF6",
          "polar": {
           "angularaxis": {
            "gridcolor": "white",
            "linecolor": "white",
            "ticks": ""
           },
           "bgcolor": "#E5ECF6",
           "radialaxis": {
            "gridcolor": "white",
            "linecolor": "white",
            "ticks": ""
           }
          },
          "scene": {
           "xaxis": {
            "backgroundcolor": "#E5ECF6",
            "gridcolor": "white",
            "gridwidth": 2,
            "linecolor": "white",
            "showbackground": true,
            "ticks": "",
            "zerolinecolor": "white"
           },
           "yaxis": {
            "backgroundcolor": "#E5ECF6",
            "gridcolor": "white",
            "gridwidth": 2,
            "linecolor": "white",
            "showbackground": true,
            "ticks": "",
            "zerolinecolor": "white"
           },
           "zaxis": {
            "backgroundcolor": "#E5ECF6",
            "gridcolor": "white",
            "gridwidth": 2,
            "linecolor": "white",
            "showbackground": true,
            "ticks": "",
            "zerolinecolor": "white"
           }
          },
          "shapedefaults": {
           "line": {
            "color": "#2a3f5f"
           }
          },
          "ternary": {
           "aaxis": {
            "gridcolor": "white",
            "linecolor": "white",
            "ticks": ""
           },
           "baxis": {
            "gridcolor": "white",
            "linecolor": "white",
            "ticks": ""
           },
           "bgcolor": "#E5ECF6",
           "caxis": {
            "gridcolor": "white",
            "linecolor": "white",
            "ticks": ""
           }
          },
          "title": {
           "x": 0.05
          },
          "xaxis": {
           "automargin": true,
           "gridcolor": "white",
           "linecolor": "white",
           "ticks": "",
           "title": {
            "standoff": 15
           },
           "zerolinecolor": "white",
           "zerolinewidth": 2
          },
          "yaxis": {
           "automargin": true,
           "gridcolor": "white",
           "linecolor": "white",
           "ticks": "",
           "title": {
            "standoff": 15
           },
           "zerolinecolor": "white",
           "zerolinewidth": 2
          }
         }
        },
        "xaxis": {
         "anchor": "y",
         "domain": [
          0,
          1
         ]
        },
        "yaxis": {
         "anchor": "x",
         "domain": [
          0,
          1
         ],
         "title": {
          "text": "X"
         }
        }
       }
      }
     },
     "metadata": {},
     "output_type": "display_data"
    },
    {
     "data": {
      "application/vnd.plotly.v1+json": {
       "config": {
        "plotlyServerURL": "https://plot.ly"
       },
       "data": [
        {
         "alignmentgroup": "True",
         "hovertemplate": "Y=%{y}<extra></extra>",
         "legendgroup": "",
         "marker": {
          "color": "#636efa"
         },
         "name": "",
         "notched": false,
         "offsetgroup": "",
         "orientation": "v",
         "showlegend": false,
         "type": "box",
         "x0": " ",
         "xaxis": "x",
         "y": [
          0.5698604338121686,
          -0.24400101447758565,
          -0.24400101447758565,
          1.3837218821019228,
          1.3837218821019228,
          1.3837218821019228,
          1.3837218821019228,
          1.3837218821019228,
          1.3837218821019228,
          0.5698604338121686,
          0.5698604338121686,
          0.5698604338121686,
          0.5698604338121686,
          0.5698604338121686,
          0.5698604338121686,
          0.5698604338121686,
          0.5698604338121686,
          0.5698604338121686,
          -0.24400101447758565,
          -0.24400101447758565,
          -0.24400101447758565,
          -0.24400101447758565,
          -0.24400101447758565,
          -0.24400101447758565,
          -0.24400101447758565,
          -0.24400101447758565,
          -0.24400101447758565,
          -0.24400101447758565,
          -1.0578624627673399,
          -1.0578624627673399,
          -1.0578624627673399,
          -1.0578624627673399,
          -1.0578624627673399,
          -1.0578624627673399,
          -1.0578624627673399,
          -1.0578624627673399,
          -1.0578624627673399,
          -0.24400101447758565,
          -1.0578624627673399,
          -0.24400101447758565,
          -0.24400101447758565,
          -0.24400101447758565,
          -0.24400101447758565,
          -0.24400101447758565,
          -0.24400101447758565,
          1.3837218821019228,
          1.3837218821019228,
          1.3837218821019228,
          -0.24400101447758565,
          -0.24400101447758565,
          -0.24400101447758565,
          -1.0578624627673399,
          -1.0578624627673399,
          -1.0578624627673399,
          -1.0578624627673399,
          -1.0578624627673399,
          -1.0578624627673399,
          -1.0578624627673399,
          -1.871723911057094,
          -1.871723911057094,
          -1.871723911057094,
          -1.871723911057094,
          -1.871723911057094,
          -1.871723911057094,
          -1.871723911057094,
          -1.871723911057094,
          -1.871723911057094,
          -1.871723911057094,
          -1.871723911057094,
          0.5698604338121686,
          0.5698604338121686,
          0.5698604338121686,
          -0.24400101447758565,
          -0.24400101447758565,
          -0.24400101447758565,
          3.8253062269711857,
          3.8253062269711857,
          -1.0578624627673399,
          -1.871723911057094,
          -1.871723911057094,
          -1.871723911057094,
          -1.871723911057094,
          -1.871723911057094,
          -1.871723911057094,
          -1.871723911057094,
          -1.871723911057094,
          -1.871723911057094,
          -1.871723911057094,
          -1.871723911057094,
          0.5698604338121686,
          0.5698604338121686,
          1.3837218821019228,
          1.3837218821019228,
          1.3837218821019228,
          1.3837218821019228,
          -0.24400101447758565,
          -0.24400101447758565,
          -0.24400101447758565,
          -0.24400101447758565,
          -0.24400101447758565,
          -0.24400101447758565,
          -0.24400101447758565,
          -0.24400101447758565,
          -0.24400101447758565,
          -0.24400101447758565,
          0.5698604338121686,
          0.5698604338121686,
          0.5698604338121686,
          0.5698604338121686,
          0.5698604338121686,
          -0.24400101447758565,
          -0.24400101447758565,
          -0.24400101447758565,
          -0.24400101447758565,
          -0.24400101447758565,
          0.5698604338121686,
          -0.24400101447758565,
          -0.24400101447758565,
          -0.24400101447758565,
          -0.24400101447758565,
          -0.24400101447758565,
          -0.24400101447758565,
          -0.24400101447758565,
          -0.24400101447758565,
          -0.24400101447758565,
          -0.24400101447758565,
          0.5698604338121686,
          0.5698604338121686,
          0.5698604338121686,
          0.5698604338121686,
          1.3837218821019228,
          1.3837218821019228,
          1.3837218821019228,
          1.3837218821019228,
          0.5698604338121686,
          0.5698604338121686,
          1.3837218821019228,
          1.3837218821019228,
          3.8253062269711857,
          -0.24400101447758565,
          0.5698604338121686,
          -1.871723911057094,
          1.3837218821019228,
          -1.871723911057094,
          0.5698604338121686,
          0.5698604338121686,
          -0.24400101447758565,
          -1.0578624627673399,
          -1.871723911057094,
          1.3837218821019228,
          0.5698604338121686,
          3.8253062269711857,
          -0.24400101447758565,
          -0.24400101447758565,
          0.5698604338121686,
          -0.24400101447758565,
          -0.24400101447758565,
          -1.871723911057094,
          -0.24400101447758565,
          -0.24400101447758565,
          -0.24400101447758565,
          -0.24400101447758565,
          -1.0578624627673399,
          1.3837218821019228,
          0.5698604338121686,
          0.5698604338121686,
          0.5698604338121686,
          0.5698604338121686,
          0.5698604338121686,
          1.3837218821019228,
          -0.24400101447758565,
          1.3837218821019228,
          -0.24400101447758565,
          -0.24400101447758565,
          -0.24400101447758565,
          -0.24400101447758565,
          0.5698604338121686,
          0.5698604338121686,
          0.5698604338121686,
          1.3837218821019228,
          -1.0578624627673399,
          1.3837218821019228,
          -0.24400101447758565,
          -0.24400101447758565,
          1.3837218821019228,
          0.5698604338121686,
          1.3837218821019228,
          0.5698604338121686,
          -0.24400101447758565,
          -0.24400101447758565,
          0.5698604338121686,
          0.5698604338121686,
          -1.871723911057094,
          0.5698604338121686,
          -1.871723911057094,
          0.5698604338121686,
          0.5698604338121686,
          0.5698604338121686,
          -0.24400101447758565,
          -0.24400101447758565,
          0.5698604338121686,
          0.5698604338121686,
          -0.24400101447758565,
          1.3837218821019228,
          1.3837218821019228,
          0.5698604338121686,
          -1.871723911057094,
          0.5698604338121686,
          0.5698604338121686,
          -1.0578624627673399,
          -0.24400101447758565,
          -0.24400101447758565,
          -0.24400101447758565,
          -1.0578624627673399,
          -0.24400101447758565,
          -0.24400101447758565,
          -0.24400101447758565,
          -1.0578624627673399,
          0.5698604338121686,
          0.5698604338121686,
          1.3837218821019228,
          -0.24400101447758565,
          -1.0578624627673399,
          -1.871723911057094,
          -0.24400101447758565,
          -0.24400101447758565,
          0.5698604338121686,
          1.3837218821019228,
          1.3837218821019228,
          1.3837218821019228,
          -0.24400101447758565,
          0.5698604338121686,
          -0.24400101447758565,
          -0.24400101447758565,
          0.5698604338121686,
          1.3837218821019228,
          -1.871723911057094,
          -1.871723911057094,
          0.5698604338121686,
          0.5698604338121686,
          -1.0578624627673399,
          -0.24400101447758565,
          -0.24400101447758565,
          -0.24400101447758565,
          -0.24400101447758565,
          -0.24400101447758565,
          -0.24400101447758565,
          -0.24400101447758565,
          1.3837218821019228,
          -0.24400101447758565,
          0.5698604338121686,
          0.5698604338121686,
          0.5698604338121686,
          -0.24400101447758565,
          -1.0578624627673399,
          0.5698604338121686,
          1.3837218821019228,
          -1.0578624627673399,
          -0.24400101447758565,
          -0.24400101447758565,
          -0.24400101447758565,
          -0.24400101447758565,
          -0.24400101447758565,
          -1.0578624627673399,
          -0.24400101447758565,
          -0.24400101447758565,
          0.5698604338121686,
          -1.871723911057094,
          -0.24400101447758565,
          -0.24400101447758565,
          -1.871723911057094,
          1.3837218821019228,
          0.5698604338121686,
          1.3837218821019228,
          1.3837218821019228,
          1.3837218821019228,
          -0.24400101447758565,
          -0.24400101447758565,
          -0.24400101447758565,
          -0.24400101447758565,
          1.3837218821019228,
          0.5698604338121686,
          -1.0578624627673399,
          -0.24400101447758565,
          -0.24400101447758565,
          0.5698604338121686,
          1.3837218821019228,
          -0.24400101447758565,
          -0.24400101447758565,
          -0.24400101447758565,
          0.5698604338121686,
          -0.24400101447758565,
          0.5698604338121686,
          1.3837218821019228,
          1.3837218821019228,
          0.5698604338121686,
          -0.24400101447758565,
          1.3837218821019228,
          1.3837218821019228,
          0.5698604338121686,
          0.5698604338121686,
          0.5698604338121686,
          1.3837218821019228,
          1.3837218821019228,
          0.5698604338121686,
          -0.24400101447758565,
          -0.24400101447758565,
          -0.24400101447758565,
          -0.24400101447758565,
          -0.24400101447758565,
          -0.24400101447758565,
          -1.0578624627673399,
          -0.24400101447758565,
          0.5698604338121686,
          -0.24400101447758565,
          -0.24400101447758565,
          0.5698604338121686,
          -0.24400101447758565,
          0.5698604338121686,
          -0.24400101447758565,
          -1.0578624627673399,
          -0.24400101447758565,
          0.5698604338121686,
          0.5698604338121686,
          0.5698604338121686,
          -0.24400101447758565,
          -0.24400101447758565,
          0.5698604338121686,
          0.5698604338121686,
          -1.0578624627673399,
          -1.0578624627673399,
          -0.24400101447758565,
          -0.24400101447758565,
          -0.24400101447758565,
          -1.0578624627673399,
          -1.0578624627673399,
          -0.24400101447758565,
          -1.0578624627673399,
          1.3837218821019228,
          -0.24400101447758565,
          0.5698604338121686,
          1.3837218821019228,
          -1.0578624627673399,
          1.3837218821019228,
          -1.0578624627673399,
          -1.871723911057094,
          -0.24400101447758565,
          -0.24400101447758565,
          -0.24400101447758565,
          -0.24400101447758565,
          -0.24400101447758565,
          -0.24400101447758565,
          -0.24400101447758565,
          -0.24400101447758565,
          -0.24400101447758565,
          -0.24400101447758565,
          -0.24400101447758565,
          -1.0578624627673399,
          -1.0578624627673399,
          -0.24400101447758565,
          0.5698604338121686,
          -1.0578624627673399,
          -0.24400101447758565,
          -1.0578624627673399,
          0.5698604338121686,
          0.5698604338121686,
          0.5698604338121686,
          0.5698604338121686,
          0.5698604338121686,
          0.5698604338121686,
          -0.24400101447758565,
          -0.24400101447758565,
          0.5698604338121686,
          -0.24400101447758565,
          0.5698604338121686,
          0.5698604338121686,
          1.3837218821019228,
          -1.871723911057094,
          0.5698604338121686,
          0.5698604338121686,
          -0.24400101447758565,
          1.3837218821019228,
          1.3837218821019228,
          1.3837218821019228,
          -0.24400101447758565,
          -0.24400101447758565,
          -0.24400101447758565,
          0.5698604338121686,
          -0.24400101447758565,
          -0.24400101447758565,
          -0.24400101447758565,
          1.3837218821019228,
          -1.0578624627673399,
          -0.24400101447758565,
          0.5698604338121686,
          0.5698604338121686,
          -1.0578624627673399,
          1.3837218821019228,
          -1.871723911057094,
          0.5698604338121686,
          0.5698604338121686,
          -0.24400101447758565,
          3.8253062269711857,
          1.3837218821019228,
          -0.24400101447758565,
          -1.871723911057094,
          0.5698604338121686,
          0.5698604338121686,
          -1.0578624627673399,
          -0.24400101447758565,
          -1.0578624627673399,
          -0.24400101447758565,
          -0.24400101447758565,
          0.5698604338121686,
          -0.24400101447758565,
          1.3837218821019228,
          -1.0578624627673399,
          0.5698604338121686,
          -0.24400101447758565,
          0.5698604338121686,
          3.0114447786814313,
          -0.24400101447758565,
          1.3837218821019228,
          -1.0578624627673399,
          1.3837218821019228,
          -1.871723911057094,
          1.3837218821019228,
          -0.24400101447758565,
          -1.0578624627673399,
          -0.24400101447758565,
          -0.24400101447758565,
          -1.0578624627673399,
          1.3837218821019228,
          -0.24400101447758565,
          -0.24400101447758565,
          0.5698604338121686,
          1.3837218821019228,
          1.3837218821019228,
          0.5698604338121686,
          -1.0578624627673399,
          -0.24400101447758565,
          1.3837218821019228,
          0.5698604338121686,
          -1.871723911057094,
          0.5698604338121686,
          0.5698604338121686,
          0.5698604338121686,
          -0.24400101447758565,
          -0.24400101447758565,
          -0.24400101447758565,
          0.5698604338121686,
          -0.24400101447758565,
          -0.24400101447758565,
          0.5698604338121686,
          -0.24400101447758565,
          -0.24400101447758565,
          -0.24400101447758565,
          -0.24400101447758565,
          1.3837218821019228,
          -0.24400101447758565,
          0.5698604338121686,
          1.3837218821019228,
          -0.24400101447758565,
          0.5698604338121686,
          -0.24400101447758565,
          -1.871723911057094,
          0.5698604338121686,
          -0.24400101447758565,
          0.5698604338121686,
          -1.0578624627673399,
          -0.24400101447758565,
          -1.0578624627673399,
          -1.0578624627673399,
          -0.24400101447758565,
          -1.0578624627673399,
          0.5698604338121686,
          -1.0578624627673399,
          -1.0578624627673399,
          -0.24400101447758565,
          -0.24400101447758565,
          3.8253062269711857,
          -1.0578624627673399,
          -0.24400101447758565,
          1.3837218821019228,
          0.5698604338121686,
          -0.24400101447758565,
          -0.24400101447758565,
          -0.24400101447758565,
          -0.24400101447758565,
          -0.24400101447758565,
          -0.24400101447758565,
          -0.24400101447758565,
          -1.0578624627673399,
          -1.0578624627673399,
          1.3837218821019228,
          1.3837218821019228,
          0.5698604338121686,
          -0.24400101447758565,
          0.5698604338121686,
          0.5698604338121686,
          1.3837218821019228,
          0.5698604338121686,
          -0.24400101447758565,
          -0.24400101447758565,
          -1.0578624627673399,
          -1.871723911057094,
          -1.871723911057094,
          -0.24400101447758565,
          -1.871723911057094,
          -0.24400101447758565,
          0.5698604338121686,
          1.3837218821019228,
          -1.0578624627673399,
          -0.24400101447758565,
          -0.24400101447758565,
          -0.24400101447758565,
          -1.0578624627673399
         ],
         "y0": " ",
         "yaxis": "y"
        }
       ],
       "layout": {
        "boxmode": "group",
        "legend": {
         "tracegroupgap": 0
        },
        "margin": {
         "t": 60
        },
        "template": {
         "data": {
          "bar": [
           {
            "error_x": {
             "color": "#2a3f5f"
            },
            "error_y": {
             "color": "#2a3f5f"
            },
            "marker": {
             "line": {
              "color": "#E5ECF6",
              "width": 0.5
             },
             "pattern": {
              "fillmode": "overlay",
              "size": 10,
              "solidity": 0.2
             }
            },
            "type": "bar"
           }
          ],
          "barpolar": [
           {
            "marker": {
             "line": {
              "color": "#E5ECF6",
              "width": 0.5
             },
             "pattern": {
              "fillmode": "overlay",
              "size": 10,
              "solidity": 0.2
             }
            },
            "type": "barpolar"
           }
          ],
          "carpet": [
           {
            "aaxis": {
             "endlinecolor": "#2a3f5f",
             "gridcolor": "white",
             "linecolor": "white",
             "minorgridcolor": "white",
             "startlinecolor": "#2a3f5f"
            },
            "baxis": {
             "endlinecolor": "#2a3f5f",
             "gridcolor": "white",
             "linecolor": "white",
             "minorgridcolor": "white",
             "startlinecolor": "#2a3f5f"
            },
            "type": "carpet"
           }
          ],
          "choropleth": [
           {
            "colorbar": {
             "outlinewidth": 0,
             "ticks": ""
            },
            "type": "choropleth"
           }
          ],
          "contour": [
           {
            "colorbar": {
             "outlinewidth": 0,
             "ticks": ""
            },
            "colorscale": [
             [
              0,
              "#0d0887"
             ],
             [
              0.1111111111111111,
              "#46039f"
             ],
             [
              0.2222222222222222,
              "#7201a8"
             ],
             [
              0.3333333333333333,
              "#9c179e"
             ],
             [
              0.4444444444444444,
              "#bd3786"
             ],
             [
              0.5555555555555556,
              "#d8576b"
             ],
             [
              0.6666666666666666,
              "#ed7953"
             ],
             [
              0.7777777777777778,
              "#fb9f3a"
             ],
             [
              0.8888888888888888,
              "#fdca26"
             ],
             [
              1,
              "#f0f921"
             ]
            ],
            "type": "contour"
           }
          ],
          "contourcarpet": [
           {
            "colorbar": {
             "outlinewidth": 0,
             "ticks": ""
            },
            "type": "contourcarpet"
           }
          ],
          "heatmap": [
           {
            "colorbar": {
             "outlinewidth": 0,
             "ticks": ""
            },
            "colorscale": [
             [
              0,
              "#0d0887"
             ],
             [
              0.1111111111111111,
              "#46039f"
             ],
             [
              0.2222222222222222,
              "#7201a8"
             ],
             [
              0.3333333333333333,
              "#9c179e"
             ],
             [
              0.4444444444444444,
              "#bd3786"
             ],
             [
              0.5555555555555556,
              "#d8576b"
             ],
             [
              0.6666666666666666,
              "#ed7953"
             ],
             [
              0.7777777777777778,
              "#fb9f3a"
             ],
             [
              0.8888888888888888,
              "#fdca26"
             ],
             [
              1,
              "#f0f921"
             ]
            ],
            "type": "heatmap"
           }
          ],
          "heatmapgl": [
           {
            "colorbar": {
             "outlinewidth": 0,
             "ticks": ""
            },
            "colorscale": [
             [
              0,
              "#0d0887"
             ],
             [
              0.1111111111111111,
              "#46039f"
             ],
             [
              0.2222222222222222,
              "#7201a8"
             ],
             [
              0.3333333333333333,
              "#9c179e"
             ],
             [
              0.4444444444444444,
              "#bd3786"
             ],
             [
              0.5555555555555556,
              "#d8576b"
             ],
             [
              0.6666666666666666,
              "#ed7953"
             ],
             [
              0.7777777777777778,
              "#fb9f3a"
             ],
             [
              0.8888888888888888,
              "#fdca26"
             ],
             [
              1,
              "#f0f921"
             ]
            ],
            "type": "heatmapgl"
           }
          ],
          "histogram": [
           {
            "marker": {
             "pattern": {
              "fillmode": "overlay",
              "size": 10,
              "solidity": 0.2
             }
            },
            "type": "histogram"
           }
          ],
          "histogram2d": [
           {
            "colorbar": {
             "outlinewidth": 0,
             "ticks": ""
            },
            "colorscale": [
             [
              0,
              "#0d0887"
             ],
             [
              0.1111111111111111,
              "#46039f"
             ],
             [
              0.2222222222222222,
              "#7201a8"
             ],
             [
              0.3333333333333333,
              "#9c179e"
             ],
             [
              0.4444444444444444,
              "#bd3786"
             ],
             [
              0.5555555555555556,
              "#d8576b"
             ],
             [
              0.6666666666666666,
              "#ed7953"
             ],
             [
              0.7777777777777778,
              "#fb9f3a"
             ],
             [
              0.8888888888888888,
              "#fdca26"
             ],
             [
              1,
              "#f0f921"
             ]
            ],
            "type": "histogram2d"
           }
          ],
          "histogram2dcontour": [
           {
            "colorbar": {
             "outlinewidth": 0,
             "ticks": ""
            },
            "colorscale": [
             [
              0,
              "#0d0887"
             ],
             [
              0.1111111111111111,
              "#46039f"
             ],
             [
              0.2222222222222222,
              "#7201a8"
             ],
             [
              0.3333333333333333,
              "#9c179e"
             ],
             [
              0.4444444444444444,
              "#bd3786"
             ],
             [
              0.5555555555555556,
              "#d8576b"
             ],
             [
              0.6666666666666666,
              "#ed7953"
             ],
             [
              0.7777777777777778,
              "#fb9f3a"
             ],
             [
              0.8888888888888888,
              "#fdca26"
             ],
             [
              1,
              "#f0f921"
             ]
            ],
            "type": "histogram2dcontour"
           }
          ],
          "mesh3d": [
           {
            "colorbar": {
             "outlinewidth": 0,
             "ticks": ""
            },
            "type": "mesh3d"
           }
          ],
          "parcoords": [
           {
            "line": {
             "colorbar": {
              "outlinewidth": 0,
              "ticks": ""
             }
            },
            "type": "parcoords"
           }
          ],
          "pie": [
           {
            "automargin": true,
            "type": "pie"
           }
          ],
          "scatter": [
           {
            "marker": {
             "colorbar": {
              "outlinewidth": 0,
              "ticks": ""
             }
            },
            "type": "scatter"
           }
          ],
          "scatter3d": [
           {
            "line": {
             "colorbar": {
              "outlinewidth": 0,
              "ticks": ""
             }
            },
            "marker": {
             "colorbar": {
              "outlinewidth": 0,
              "ticks": ""
             }
            },
            "type": "scatter3d"
           }
          ],
          "scattercarpet": [
           {
            "marker": {
             "colorbar": {
              "outlinewidth": 0,
              "ticks": ""
             }
            },
            "type": "scattercarpet"
           }
          ],
          "scattergeo": [
           {
            "marker": {
             "colorbar": {
              "outlinewidth": 0,
              "ticks": ""
             }
            },
            "type": "scattergeo"
           }
          ],
          "scattergl": [
           {
            "marker": {
             "colorbar": {
              "outlinewidth": 0,
              "ticks": ""
             }
            },
            "type": "scattergl"
           }
          ],
          "scattermapbox": [
           {
            "marker": {
             "colorbar": {
              "outlinewidth": 0,
              "ticks": ""
             }
            },
            "type": "scattermapbox"
           }
          ],
          "scatterpolar": [
           {
            "marker": {
             "colorbar": {
              "outlinewidth": 0,
              "ticks": ""
             }
            },
            "type": "scatterpolar"
           }
          ],
          "scatterpolargl": [
           {
            "marker": {
             "colorbar": {
              "outlinewidth": 0,
              "ticks": ""
             }
            },
            "type": "scatterpolargl"
           }
          ],
          "scatterternary": [
           {
            "marker": {
             "colorbar": {
              "outlinewidth": 0,
              "ticks": ""
             }
            },
            "type": "scatterternary"
           }
          ],
          "surface": [
           {
            "colorbar": {
             "outlinewidth": 0,
             "ticks": ""
            },
            "colorscale": [
             [
              0,
              "#0d0887"
             ],
             [
              0.1111111111111111,
              "#46039f"
             ],
             [
              0.2222222222222222,
              "#7201a8"
             ],
             [
              0.3333333333333333,
              "#9c179e"
             ],
             [
              0.4444444444444444,
              "#bd3786"
             ],
             [
              0.5555555555555556,
              "#d8576b"
             ],
             [
              0.6666666666666666,
              "#ed7953"
             ],
             [
              0.7777777777777778,
              "#fb9f3a"
             ],
             [
              0.8888888888888888,
              "#fdca26"
             ],
             [
              1,
              "#f0f921"
             ]
            ],
            "type": "surface"
           }
          ],
          "table": [
           {
            "cells": {
             "fill": {
              "color": "#EBF0F8"
             },
             "line": {
              "color": "white"
             }
            },
            "header": {
             "fill": {
              "color": "#C8D4E3"
             },
             "line": {
              "color": "white"
             }
            },
            "type": "table"
           }
          ]
         },
         "layout": {
          "annotationdefaults": {
           "arrowcolor": "#2a3f5f",
           "arrowhead": 0,
           "arrowwidth": 1
          },
          "autotypenumbers": "strict",
          "coloraxis": {
           "colorbar": {
            "outlinewidth": 0,
            "ticks": ""
           }
          },
          "colorscale": {
           "diverging": [
            [
             0,
             "#8e0152"
            ],
            [
             0.1,
             "#c51b7d"
            ],
            [
             0.2,
             "#de77ae"
            ],
            [
             0.3,
             "#f1b6da"
            ],
            [
             0.4,
             "#fde0ef"
            ],
            [
             0.5,
             "#f7f7f7"
            ],
            [
             0.6,
             "#e6f5d0"
            ],
            [
             0.7,
             "#b8e186"
            ],
            [
             0.8,
             "#7fbc41"
            ],
            [
             0.9,
             "#4d9221"
            ],
            [
             1,
             "#276419"
            ]
           ],
           "sequential": [
            [
             0,
             "#0d0887"
            ],
            [
             0.1111111111111111,
             "#46039f"
            ],
            [
             0.2222222222222222,
             "#7201a8"
            ],
            [
             0.3333333333333333,
             "#9c179e"
            ],
            [
             0.4444444444444444,
             "#bd3786"
            ],
            [
             0.5555555555555556,
             "#d8576b"
            ],
            [
             0.6666666666666666,
             "#ed7953"
            ],
            [
             0.7777777777777778,
             "#fb9f3a"
            ],
            [
             0.8888888888888888,
             "#fdca26"
            ],
            [
             1,
             "#f0f921"
            ]
           ],
           "sequentialminus": [
            [
             0,
             "#0d0887"
            ],
            [
             0.1111111111111111,
             "#46039f"
            ],
            [
             0.2222222222222222,
             "#7201a8"
            ],
            [
             0.3333333333333333,
             "#9c179e"
            ],
            [
             0.4444444444444444,
             "#bd3786"
            ],
            [
             0.5555555555555556,
             "#d8576b"
            ],
            [
             0.6666666666666666,
             "#ed7953"
            ],
            [
             0.7777777777777778,
             "#fb9f3a"
            ],
            [
             0.8888888888888888,
             "#fdca26"
            ],
            [
             1,
             "#f0f921"
            ]
           ]
          },
          "colorway": [
           "#636efa",
           "#EF553B",
           "#00cc96",
           "#ab63fa",
           "#FFA15A",
           "#19d3f3",
           "#FF6692",
           "#B6E880",
           "#FF97FF",
           "#FECB52"
          ],
          "font": {
           "color": "#2a3f5f"
          },
          "geo": {
           "bgcolor": "white",
           "lakecolor": "white",
           "landcolor": "#E5ECF6",
           "showlakes": true,
           "showland": true,
           "subunitcolor": "white"
          },
          "hoverlabel": {
           "align": "left"
          },
          "hovermode": "closest",
          "mapbox": {
           "style": "light"
          },
          "paper_bgcolor": "white",
          "plot_bgcolor": "#E5ECF6",
          "polar": {
           "angularaxis": {
            "gridcolor": "white",
            "linecolor": "white",
            "ticks": ""
           },
           "bgcolor": "#E5ECF6",
           "radialaxis": {
            "gridcolor": "white",
            "linecolor": "white",
            "ticks": ""
           }
          },
          "scene": {
           "xaxis": {
            "backgroundcolor": "#E5ECF6",
            "gridcolor": "white",
            "gridwidth": 2,
            "linecolor": "white",
            "showbackground": true,
            "ticks": "",
            "zerolinecolor": "white"
           },
           "yaxis": {
            "backgroundcolor": "#E5ECF6",
            "gridcolor": "white",
            "gridwidth": 2,
            "linecolor": "white",
            "showbackground": true,
            "ticks": "",
            "zerolinecolor": "white"
           },
           "zaxis": {
            "backgroundcolor": "#E5ECF6",
            "gridcolor": "white",
            "gridwidth": 2,
            "linecolor": "white",
            "showbackground": true,
            "ticks": "",
            "zerolinecolor": "white"
           }
          },
          "shapedefaults": {
           "line": {
            "color": "#2a3f5f"
           }
          },
          "ternary": {
           "aaxis": {
            "gridcolor": "white",
            "linecolor": "white",
            "ticks": ""
           },
           "baxis": {
            "gridcolor": "white",
            "linecolor": "white",
            "ticks": ""
           },
           "bgcolor": "#E5ECF6",
           "caxis": {
            "gridcolor": "white",
            "linecolor": "white",
            "ticks": ""
           }
          },
          "title": {
           "x": 0.05
          },
          "xaxis": {
           "automargin": true,
           "gridcolor": "white",
           "linecolor": "white",
           "ticks": "",
           "title": {
            "standoff": 15
           },
           "zerolinecolor": "white",
           "zerolinewidth": 2
          },
          "yaxis": {
           "automargin": true,
           "gridcolor": "white",
           "linecolor": "white",
           "ticks": "",
           "title": {
            "standoff": 15
           },
           "zerolinecolor": "white",
           "zerolinewidth": 2
          }
         }
        },
        "xaxis": {
         "anchor": "y",
         "domain": [
          0,
          1
         ]
        },
        "yaxis": {
         "anchor": "x",
         "domain": [
          0,
          1
         ],
         "title": {
          "text": "Y"
         }
        }
       }
      }
     },
     "metadata": {},
     "output_type": "display_data"
    },
    {
     "data": {
      "application/vnd.plotly.v1+json": {
       "config": {
        "plotlyServerURL": "https://plot.ly"
       },
       "data": [
        {
         "alignmentgroup": "True",
         "hovertemplate": "month=%{y}<extra></extra>",
         "legendgroup": "",
         "marker": {
          "color": "#636efa"
         },
         "name": "",
         "notched": false,
         "offsetgroup": "",
         "orientation": "v",
         "showlegend": false,
         "type": "box",
         "x0": " ",
         "xaxis": "x",
         "y": [
          0.28422225210633245,
          0.970871337802472,
          0.970871337802472,
          0.28422225210633245,
          0.28422225210633245,
          -1.0890759192859467,
          -1.0890759192859467,
          -1.0890759192859467,
          1.1997543663678518,
          1.1997543663678518,
          1.1997543663678518,
          1.1997543663678518,
          -1.0890759192859467,
          1.1997543663678518,
          1.1997543663678518,
          1.1997543663678518,
          0.28422225210633245,
          0.970871337802472,
          0.28422225210633245,
          -1.3179589478513267,
          1.1997543663678518,
          1.1997543663678518,
          0.05533922354095257,
          -1.0890759192859467,
          -1.0890759192859467,
          -1.0890759192859467,
          1.1997543663678518,
          1.1997543663678518,
          1.1997543663678518,
          1.1997543663678518,
          1.1997543663678518,
          1.1997543663678518,
          1.1997543663678518,
          1.1997543663678518,
          1.1997543663678518,
          1.1997543663678518,
          0.970871337802472,
          0.970871337802472,
          0.970871337802472,
          0.28422225210633245,
          -0.1735438050244273,
          -1.0890759192859467,
          -1.0890759192859467,
          1.1997543663678518,
          1.1997543663678518,
          1.1997543663678518,
          1.1997543663678518,
          -0.1735438050244273,
          0.28422225210633245,
          0.28422225210633245,
          1.1997543663678518,
          -1.0890759192859467,
          -1.0890759192859467,
          -1.0890759192859467,
          -1.0890759192859467,
          1.1997543663678518,
          1.1997543663678518,
          0.970871337802472,
          -0.631309862155187,
          -0.631309862155187,
          0.28422225210633245,
          0.28422225210633245,
          -1.0890759192859467,
          -1.0890759192859467,
          -1.0890759192859467,
          -1.0890759192859467,
          1.1997543663678518,
          1.1997543663678518,
          1.1997543663678518,
          0.28422225210633245,
          0.28422225210633245,
          1.1997543663678518,
          0.28422225210633245,
          -1.0890759192859467,
          1.1997543663678518,
          -0.631309862155187,
          -0.631309862155187,
          0.28422225210633245,
          -1.0890759192859467,
          -1.0890759192859467,
          -1.0890759192859467,
          -1.0890759192859467,
          -1.0890759192859467,
          -1.0890759192859467,
          -1.0890759192859467,
          1.1997543663678518,
          1.1997543663678518,
          1.1997543663678518,
          1.1997543663678518,
          0.28422225210633245,
          -1.0890759192859467,
          0.28422225210633245,
          -1.0890759192859467,
          -1.0890759192859467,
          -1.0890759192859467,
          1.1997543663678518,
          -0.631309862155187,
          0.28422225210633245,
          -1.0890759192859467,
          -1.0890759192859467,
          -1.0890759192859467,
          -1.0890759192859467,
          -1.0890759192859467,
          1.1997543663678518,
          -0.4024268335898072,
          0.28422225210633245,
          0.28422225210633245,
          -1.0890759192859467,
          1.1997543663678518,
          1.1997543663678518,
          0.28422225210633245,
          0.28422225210633245,
          1.1997543663678518,
          1.1997543663678518,
          0.28422225210633245,
          0.28422225210633245,
          0.28422225210633245,
          0.28422225210633245,
          0.28422225210633245,
          -1.0890759192859467,
          -1.0890759192859467,
          -1.0890759192859467,
          1.1997543663678518,
          1.1997543663678518,
          1.1997543663678518,
          0.970871337802472,
          0.28422225210633245,
          1.1997543663678518,
          0.970871337802472,
          0.970871337802472,
          -0.631309862155187,
          0.28422225210633245,
          0.28422225210633245,
          1.1997543663678518,
          0.28422225210633245,
          -1.0890759192859467,
          1.1997543663678518,
          1.1997543663678518,
          -0.1735438050244273,
          1.1997543663678518,
          1.1997543663678518,
          -1.0890759192859467,
          -1.0890759192859467,
          -0.1735438050244273,
          -1.0890759192859467,
          -1.0890759192859467,
          0.28422225210633245,
          1.1997543663678518,
          -1.0890759192859467,
          1.1997543663678518,
          0.05533922354095257,
          -0.1735438050244273,
          -0.1735438050244273,
          1.1997543663678518,
          1.1997543663678518,
          -1.0890759192859467,
          1.1997543663678518,
          -1.0890759192859467,
          -1.0890759192859467,
          1.1997543663678518,
          0.28422225210633245,
          -1.0890759192859467,
          0.28422225210633245,
          1.1997543663678518,
          1.1997543663678518,
          0.28422225210633245,
          -1.0890759192859467,
          -1.0890759192859467,
          0.28422225210633245,
          -1.0890759192859467,
          1.1997543663678518,
          -1.0890759192859467,
          -1.0890759192859467,
          1.1997543663678518,
          -1.0890759192859467,
          -1.0890759192859467,
          -1.3179589478513267,
          -1.0890759192859467,
          1.1997543663678518,
          -1.0890759192859467,
          1.1997543663678518,
          0.970871337802472,
          -0.631309862155187,
          0.970871337802472,
          -1.0890759192859467,
          1.1997543663678518,
          0.28422225210633245,
          1.1997543663678518,
          0.28422225210633245,
          0.28422225210633245,
          0.28422225210633245,
          -1.0890759192859467,
          -1.0890759192859467,
          1.1997543663678518,
          -1.0890759192859467,
          -1.0890759192859467,
          -1.3179589478513267,
          1.1997543663678518,
          1.1997543663678518,
          1.1997543663678518,
          1.1997543663678518,
          0.28422225210633245,
          -0.631309862155187,
          0.970871337802472,
          0.28422225210633245,
          1.1997543663678518,
          -1.0890759192859467,
          1.1997543663678518,
          1.1997543663678518,
          1.1997543663678518,
          0.970871337802472,
          -1.0890759192859467,
          1.1997543663678518,
          0.28422225210633245,
          0.28422225210633245,
          0.28422225210633245,
          1.1997543663678518,
          1.1997543663678518,
          1.1997543663678518,
          0.28422225210633245,
          -1.0890759192859467,
          1.1997543663678518,
          0.28422225210633245,
          -0.1735438050244273,
          1.1997543663678518,
          1.1997543663678518,
          0.970871337802472,
          -1.0890759192859467,
          1.1997543663678518,
          -1.0890759192859467,
          1.1997543663678518,
          1.1997543663678518,
          1.1997543663678518,
          1.1997543663678518,
          1.1997543663678518,
          -1.0890759192859467,
          1.1997543663678518,
          1.1997543663678518,
          1.1997543663678518,
          -1.3179589478513267,
          -1.3179589478513267,
          -1.3179589478513267,
          -1.0890759192859467,
          -1.0890759192859467,
          -1.0890759192859467,
          -1.0890759192859467,
          -1.0890759192859467,
          -1.0890759192859467,
          -1.0890759192859467,
          -1.0890759192859467,
          -1.0890759192859467,
          -1.0890759192859467,
          -1.0890759192859467,
          -1.0890759192859467,
          -1.0890759192859467,
          -1.0890759192859467,
          -1.0890759192859467,
          -1.0890759192859467,
          -1.0890759192859467,
          -1.0890759192859467,
          -1.0890759192859467,
          -1.0890759192859467,
          -1.0890759192859467,
          -1.0890759192859467,
          -1.0890759192859467,
          -1.0890759192859467,
          -1.0890759192859467,
          -1.0890759192859467,
          -1.0890759192859467,
          -1.0890759192859467,
          -1.0890759192859467,
          -1.0890759192859467,
          -1.0890759192859467,
          -0.8601928907205669,
          -0.8601928907205669,
          -0.8601928907205669,
          -0.8601928907205669,
          -0.8601928907205669,
          -0.8601928907205669,
          -0.8601928907205669,
          -0.8601928907205669,
          -0.8601928907205669,
          -0.631309862155187,
          -0.631309862155187,
          -0.631309862155187,
          -0.1735438050244273,
          -0.1735438050244273,
          -0.1735438050244273,
          -0.1735438050244273,
          -0.1735438050244273,
          -0.1735438050244273,
          -0.1735438050244273,
          -0.1735438050244273,
          -0.1735438050244273,
          -0.1735438050244273,
          0.05533922354095257,
          0.05533922354095257,
          0.05533922354095257,
          0.05533922354095257,
          0.05533922354095257,
          0.05533922354095257,
          0.05533922354095257,
          0.05533922354095257,
          0.05533922354095257,
          0.5131052806717123,
          1.1997543663678518,
          1.1997543663678518,
          1.1997543663678518,
          1.1997543663678518,
          1.1997543663678518,
          1.1997543663678518,
          1.1997543663678518,
          1.1997543663678518,
          1.1997543663678518,
          1.1997543663678518,
          1.1997543663678518,
          1.1997543663678518,
          1.1997543663678518,
          1.1997543663678518,
          1.1997543663678518,
          1.1997543663678518,
          1.1997543663678518,
          1.1997543663678518,
          1.1997543663678518,
          1.1997543663678518,
          1.1997543663678518,
          1.1997543663678518,
          1.1997543663678518,
          1.1997543663678518,
          1.1997543663678518,
          1.1997543663678518,
          1.1997543663678518,
          1.1997543663678518,
          1.1997543663678518,
          1.1997543663678518,
          1.1997543663678518,
          1.1997543663678518,
          1.1997543663678518,
          1.1997543663678518,
          1.1997543663678518,
          1.1997543663678518,
          1.1997543663678518,
          1.1997543663678518,
          1.1997543663678518,
          1.1997543663678518,
          1.1997543663678518,
          1.1997543663678518,
          1.1997543663678518,
          1.1997543663678518,
          1.1997543663678518,
          1.1997543663678518,
          1.1997543663678518,
          1.1997543663678518,
          1.1997543663678518,
          1.1997543663678518,
          1.1997543663678518,
          1.1997543663678518,
          1.1997543663678518,
          1.1997543663678518,
          1.1997543663678518,
          1.1997543663678518,
          1.1997543663678518,
          1.1997543663678518,
          1.1997543663678518,
          1.1997543663678518,
          1.1997543663678518,
          1.1997543663678518,
          1.1997543663678518,
          1.1997543663678518,
          1.1997543663678518,
          1.1997543663678518,
          -0.1735438050244273,
          -1.0890759192859467,
          -1.0890759192859467,
          1.1997543663678518,
          1.1997543663678518,
          -1.0890759192859467,
          -1.0890759192859467,
          0.28422225210633245,
          -0.4024268335898072,
          -0.1735438050244273,
          -1.0890759192859467,
          -1.0890759192859467,
          -1.0890759192859467,
          -1.0890759192859467,
          -1.0890759192859467,
          1.1997543663678518,
          0.28422225210633245,
          -1.0890759192859467,
          -1.0890759192859467,
          -0.631309862155187,
          1.1997543663678518,
          1.1997543663678518,
          0.28422225210633245,
          -0.631309862155187,
          -0.631309862155187,
          1.1997543663678518,
          -1.0890759192859467,
          -1.0890759192859467,
          0.05533922354095257,
          0.05533922354095257,
          1.1997543663678518,
          -1.0890759192859467,
          -1.0890759192859467,
          1.1997543663678518,
          -1.0890759192859467,
          1.1997543663678518,
          -0.631309862155187,
          1.1997543663678518,
          -0.1735438050244273,
          -0.631309862155187,
          -0.631309862155187,
          -0.1735438050244273,
          -1.0890759192859467,
          -1.0890759192859467,
          -1.0890759192859467,
          -0.1735438050244273,
          0.28422225210633245,
          -1.0890759192859467,
          -1.0890759192859467,
          -1.0890759192859467,
          -1.0890759192859467,
          -0.1735438050244273,
          1.1997543663678518,
          -1.0890759192859467,
          -1.0890759192859467,
          -1.0890759192859467,
          -1.0890759192859467,
          -1.0890759192859467,
          -1.0890759192859467,
          1.1997543663678518,
          -1.0890759192859467,
          -1.0890759192859467,
          -1.0890759192859467,
          -1.0890759192859467,
          -0.1735438050244273,
          -1.0890759192859467,
          -1.0890759192859467,
          -1.0890759192859467,
          1.1997543663678518,
          1.1997543663678518,
          -1.0890759192859467,
          -1.3179589478513267,
          -0.1735438050244273,
          1.1997543663678518,
          -1.0890759192859467,
          -1.0890759192859467,
          0.28422225210633245,
          1.1997543663678518,
          -1.0890759192859467,
          -1.0890759192859467,
          -1.0890759192859467,
          -1.0890759192859467,
          -1.0890759192859467,
          -1.0890759192859467,
          -0.1735438050244273,
          -1.0890759192859467,
          -1.0890759192859467,
          -1.0890759192859467,
          -1.0890759192859467,
          -1.0890759192859467,
          -1.0890759192859467,
          1.1997543663678518,
          -0.631309862155187,
          -0.631309862155187,
          -0.631309862155187,
          0.28422225210633245,
          0.28422225210633245,
          0.28422225210633245,
          -1.3179589478513267,
          -1.3179589478513267,
          0.5131052806717123,
          0.05533922354095257,
          0.05533922354095257,
          0.05533922354095257,
          0.05533922354095257,
          -0.1735438050244273,
          -0.1735438050244273,
          -0.1735438050244273,
          -0.1735438050244273,
          -0.1735438050244273,
          -0.1735438050244273,
          -1.0890759192859467,
          -1.0890759192859467,
          -1.0890759192859467,
          -1.0890759192859467,
          -1.0890759192859467,
          -1.0890759192859467,
          -1.0890759192859467,
          -1.0890759192859467,
          -1.0890759192859467,
          -1.0890759192859467,
          -1.0890759192859467,
          -1.0890759192859467,
          -1.0890759192859467,
          -1.0890759192859467,
          -1.0890759192859467,
          -1.0890759192859467,
          -1.0890759192859467,
          -1.0890759192859467,
          -1.0890759192859467,
          -1.0890759192859467,
          -1.0890759192859467,
          -1.0890759192859467,
          -1.0890759192859467,
          -1.0890759192859467,
          -1.0890759192859467,
          -1.0890759192859467,
          -1.0890759192859467,
          -1.0890759192859467,
          -1.0890759192859467,
          -1.0890759192859467,
          -1.0890759192859467,
          -1.0890759192859467,
          -1.0890759192859467,
          -1.0890759192859467,
          0.7419883092370921
         ],
         "y0": " ",
         "yaxis": "y"
        }
       ],
       "layout": {
        "boxmode": "group",
        "legend": {
         "tracegroupgap": 0
        },
        "margin": {
         "t": 60
        },
        "template": {
         "data": {
          "bar": [
           {
            "error_x": {
             "color": "#2a3f5f"
            },
            "error_y": {
             "color": "#2a3f5f"
            },
            "marker": {
             "line": {
              "color": "#E5ECF6",
              "width": 0.5
             },
             "pattern": {
              "fillmode": "overlay",
              "size": 10,
              "solidity": 0.2
             }
            },
            "type": "bar"
           }
          ],
          "barpolar": [
           {
            "marker": {
             "line": {
              "color": "#E5ECF6",
              "width": 0.5
             },
             "pattern": {
              "fillmode": "overlay",
              "size": 10,
              "solidity": 0.2
             }
            },
            "type": "barpolar"
           }
          ],
          "carpet": [
           {
            "aaxis": {
             "endlinecolor": "#2a3f5f",
             "gridcolor": "white",
             "linecolor": "white",
             "minorgridcolor": "white",
             "startlinecolor": "#2a3f5f"
            },
            "baxis": {
             "endlinecolor": "#2a3f5f",
             "gridcolor": "white",
             "linecolor": "white",
             "minorgridcolor": "white",
             "startlinecolor": "#2a3f5f"
            },
            "type": "carpet"
           }
          ],
          "choropleth": [
           {
            "colorbar": {
             "outlinewidth": 0,
             "ticks": ""
            },
            "type": "choropleth"
           }
          ],
          "contour": [
           {
            "colorbar": {
             "outlinewidth": 0,
             "ticks": ""
            },
            "colorscale": [
             [
              0,
              "#0d0887"
             ],
             [
              0.1111111111111111,
              "#46039f"
             ],
             [
              0.2222222222222222,
              "#7201a8"
             ],
             [
              0.3333333333333333,
              "#9c179e"
             ],
             [
              0.4444444444444444,
              "#bd3786"
             ],
             [
              0.5555555555555556,
              "#d8576b"
             ],
             [
              0.6666666666666666,
              "#ed7953"
             ],
             [
              0.7777777777777778,
              "#fb9f3a"
             ],
             [
              0.8888888888888888,
              "#fdca26"
             ],
             [
              1,
              "#f0f921"
             ]
            ],
            "type": "contour"
           }
          ],
          "contourcarpet": [
           {
            "colorbar": {
             "outlinewidth": 0,
             "ticks": ""
            },
            "type": "contourcarpet"
           }
          ],
          "heatmap": [
           {
            "colorbar": {
             "outlinewidth": 0,
             "ticks": ""
            },
            "colorscale": [
             [
              0,
              "#0d0887"
             ],
             [
              0.1111111111111111,
              "#46039f"
             ],
             [
              0.2222222222222222,
              "#7201a8"
             ],
             [
              0.3333333333333333,
              "#9c179e"
             ],
             [
              0.4444444444444444,
              "#bd3786"
             ],
             [
              0.5555555555555556,
              "#d8576b"
             ],
             [
              0.6666666666666666,
              "#ed7953"
             ],
             [
              0.7777777777777778,
              "#fb9f3a"
             ],
             [
              0.8888888888888888,
              "#fdca26"
             ],
             [
              1,
              "#f0f921"
             ]
            ],
            "type": "heatmap"
           }
          ],
          "heatmapgl": [
           {
            "colorbar": {
             "outlinewidth": 0,
             "ticks": ""
            },
            "colorscale": [
             [
              0,
              "#0d0887"
             ],
             [
              0.1111111111111111,
              "#46039f"
             ],
             [
              0.2222222222222222,
              "#7201a8"
             ],
             [
              0.3333333333333333,
              "#9c179e"
             ],
             [
              0.4444444444444444,
              "#bd3786"
             ],
             [
              0.5555555555555556,
              "#d8576b"
             ],
             [
              0.6666666666666666,
              "#ed7953"
             ],
             [
              0.7777777777777778,
              "#fb9f3a"
             ],
             [
              0.8888888888888888,
              "#fdca26"
             ],
             [
              1,
              "#f0f921"
             ]
            ],
            "type": "heatmapgl"
           }
          ],
          "histogram": [
           {
            "marker": {
             "pattern": {
              "fillmode": "overlay",
              "size": 10,
              "solidity": 0.2
             }
            },
            "type": "histogram"
           }
          ],
          "histogram2d": [
           {
            "colorbar": {
             "outlinewidth": 0,
             "ticks": ""
            },
            "colorscale": [
             [
              0,
              "#0d0887"
             ],
             [
              0.1111111111111111,
              "#46039f"
             ],
             [
              0.2222222222222222,
              "#7201a8"
             ],
             [
              0.3333333333333333,
              "#9c179e"
             ],
             [
              0.4444444444444444,
              "#bd3786"
             ],
             [
              0.5555555555555556,
              "#d8576b"
             ],
             [
              0.6666666666666666,
              "#ed7953"
             ],
             [
              0.7777777777777778,
              "#fb9f3a"
             ],
             [
              0.8888888888888888,
              "#fdca26"
             ],
             [
              1,
              "#f0f921"
             ]
            ],
            "type": "histogram2d"
           }
          ],
          "histogram2dcontour": [
           {
            "colorbar": {
             "outlinewidth": 0,
             "ticks": ""
            },
            "colorscale": [
             [
              0,
              "#0d0887"
             ],
             [
              0.1111111111111111,
              "#46039f"
             ],
             [
              0.2222222222222222,
              "#7201a8"
             ],
             [
              0.3333333333333333,
              "#9c179e"
             ],
             [
              0.4444444444444444,
              "#bd3786"
             ],
             [
              0.5555555555555556,
              "#d8576b"
             ],
             [
              0.6666666666666666,
              "#ed7953"
             ],
             [
              0.7777777777777778,
              "#fb9f3a"
             ],
             [
              0.8888888888888888,
              "#fdca26"
             ],
             [
              1,
              "#f0f921"
             ]
            ],
            "type": "histogram2dcontour"
           }
          ],
          "mesh3d": [
           {
            "colorbar": {
             "outlinewidth": 0,
             "ticks": ""
            },
            "type": "mesh3d"
           }
          ],
          "parcoords": [
           {
            "line": {
             "colorbar": {
              "outlinewidth": 0,
              "ticks": ""
             }
            },
            "type": "parcoords"
           }
          ],
          "pie": [
           {
            "automargin": true,
            "type": "pie"
           }
          ],
          "scatter": [
           {
            "marker": {
             "colorbar": {
              "outlinewidth": 0,
              "ticks": ""
             }
            },
            "type": "scatter"
           }
          ],
          "scatter3d": [
           {
            "line": {
             "colorbar": {
              "outlinewidth": 0,
              "ticks": ""
             }
            },
            "marker": {
             "colorbar": {
              "outlinewidth": 0,
              "ticks": ""
             }
            },
            "type": "scatter3d"
           }
          ],
          "scattercarpet": [
           {
            "marker": {
             "colorbar": {
              "outlinewidth": 0,
              "ticks": ""
             }
            },
            "type": "scattercarpet"
           }
          ],
          "scattergeo": [
           {
            "marker": {
             "colorbar": {
              "outlinewidth": 0,
              "ticks": ""
             }
            },
            "type": "scattergeo"
           }
          ],
          "scattergl": [
           {
            "marker": {
             "colorbar": {
              "outlinewidth": 0,
              "ticks": ""
             }
            },
            "type": "scattergl"
           }
          ],
          "scattermapbox": [
           {
            "marker": {
             "colorbar": {
              "outlinewidth": 0,
              "ticks": ""
             }
            },
            "type": "scattermapbox"
           }
          ],
          "scatterpolar": [
           {
            "marker": {
             "colorbar": {
              "outlinewidth": 0,
              "ticks": ""
             }
            },
            "type": "scatterpolar"
           }
          ],
          "scatterpolargl": [
           {
            "marker": {
             "colorbar": {
              "outlinewidth": 0,
              "ticks": ""
             }
            },
            "type": "scatterpolargl"
           }
          ],
          "scatterternary": [
           {
            "marker": {
             "colorbar": {
              "outlinewidth": 0,
              "ticks": ""
             }
            },
            "type": "scatterternary"
           }
          ],
          "surface": [
           {
            "colorbar": {
             "outlinewidth": 0,
             "ticks": ""
            },
            "colorscale": [
             [
              0,
              "#0d0887"
             ],
             [
              0.1111111111111111,
              "#46039f"
             ],
             [
              0.2222222222222222,
              "#7201a8"
             ],
             [
              0.3333333333333333,
              "#9c179e"
             ],
             [
              0.4444444444444444,
              "#bd3786"
             ],
             [
              0.5555555555555556,
              "#d8576b"
             ],
             [
              0.6666666666666666,
              "#ed7953"
             ],
             [
              0.7777777777777778,
              "#fb9f3a"
             ],
             [
              0.8888888888888888,
              "#fdca26"
             ],
             [
              1,
              "#f0f921"
             ]
            ],
            "type": "surface"
           }
          ],
          "table": [
           {
            "cells": {
             "fill": {
              "color": "#EBF0F8"
             },
             "line": {
              "color": "white"
             }
            },
            "header": {
             "fill": {
              "color": "#C8D4E3"
             },
             "line": {
              "color": "white"
             }
            },
            "type": "table"
           }
          ]
         },
         "layout": {
          "annotationdefaults": {
           "arrowcolor": "#2a3f5f",
           "arrowhead": 0,
           "arrowwidth": 1
          },
          "autotypenumbers": "strict",
          "coloraxis": {
           "colorbar": {
            "outlinewidth": 0,
            "ticks": ""
           }
          },
          "colorscale": {
           "diverging": [
            [
             0,
             "#8e0152"
            ],
            [
             0.1,
             "#c51b7d"
            ],
            [
             0.2,
             "#de77ae"
            ],
            [
             0.3,
             "#f1b6da"
            ],
            [
             0.4,
             "#fde0ef"
            ],
            [
             0.5,
             "#f7f7f7"
            ],
            [
             0.6,
             "#e6f5d0"
            ],
            [
             0.7,
             "#b8e186"
            ],
            [
             0.8,
             "#7fbc41"
            ],
            [
             0.9,
             "#4d9221"
            ],
            [
             1,
             "#276419"
            ]
           ],
           "sequential": [
            [
             0,
             "#0d0887"
            ],
            [
             0.1111111111111111,
             "#46039f"
            ],
            [
             0.2222222222222222,
             "#7201a8"
            ],
            [
             0.3333333333333333,
             "#9c179e"
            ],
            [
             0.4444444444444444,
             "#bd3786"
            ],
            [
             0.5555555555555556,
             "#d8576b"
            ],
            [
             0.6666666666666666,
             "#ed7953"
            ],
            [
             0.7777777777777778,
             "#fb9f3a"
            ],
            [
             0.8888888888888888,
             "#fdca26"
            ],
            [
             1,
             "#f0f921"
            ]
           ],
           "sequentialminus": [
            [
             0,
             "#0d0887"
            ],
            [
             0.1111111111111111,
             "#46039f"
            ],
            [
             0.2222222222222222,
             "#7201a8"
            ],
            [
             0.3333333333333333,
             "#9c179e"
            ],
            [
             0.4444444444444444,
             "#bd3786"
            ],
            [
             0.5555555555555556,
             "#d8576b"
            ],
            [
             0.6666666666666666,
             "#ed7953"
            ],
            [
             0.7777777777777778,
             "#fb9f3a"
            ],
            [
             0.8888888888888888,
             "#fdca26"
            ],
            [
             1,
             "#f0f921"
            ]
           ]
          },
          "colorway": [
           "#636efa",
           "#EF553B",
           "#00cc96",
           "#ab63fa",
           "#FFA15A",
           "#19d3f3",
           "#FF6692",
           "#B6E880",
           "#FF97FF",
           "#FECB52"
          ],
          "font": {
           "color": "#2a3f5f"
          },
          "geo": {
           "bgcolor": "white",
           "lakecolor": "white",
           "landcolor": "#E5ECF6",
           "showlakes": true,
           "showland": true,
           "subunitcolor": "white"
          },
          "hoverlabel": {
           "align": "left"
          },
          "hovermode": "closest",
          "mapbox": {
           "style": "light"
          },
          "paper_bgcolor": "white",
          "plot_bgcolor": "#E5ECF6",
          "polar": {
           "angularaxis": {
            "gridcolor": "white",
            "linecolor": "white",
            "ticks": ""
           },
           "bgcolor": "#E5ECF6",
           "radialaxis": {
            "gridcolor": "white",
            "linecolor": "white",
            "ticks": ""
           }
          },
          "scene": {
           "xaxis": {
            "backgroundcolor": "#E5ECF6",
            "gridcolor": "white",
            "gridwidth": 2,
            "linecolor": "white",
            "showbackground": true,
            "ticks": "",
            "zerolinecolor": "white"
           },
           "yaxis": {
            "backgroundcolor": "#E5ECF6",
            "gridcolor": "white",
            "gridwidth": 2,
            "linecolor": "white",
            "showbackground": true,
            "ticks": "",
            "zerolinecolor": "white"
           },
           "zaxis": {
            "backgroundcolor": "#E5ECF6",
            "gridcolor": "white",
            "gridwidth": 2,
            "linecolor": "white",
            "showbackground": true,
            "ticks": "",
            "zerolinecolor": "white"
           }
          },
          "shapedefaults": {
           "line": {
            "color": "#2a3f5f"
           }
          },
          "ternary": {
           "aaxis": {
            "gridcolor": "white",
            "linecolor": "white",
            "ticks": ""
           },
           "baxis": {
            "gridcolor": "white",
            "linecolor": "white",
            "ticks": ""
           },
           "bgcolor": "#E5ECF6",
           "caxis": {
            "gridcolor": "white",
            "linecolor": "white",
            "ticks": ""
           }
          },
          "title": {
           "x": 0.05
          },
          "xaxis": {
           "automargin": true,
           "gridcolor": "white",
           "linecolor": "white",
           "ticks": "",
           "title": {
            "standoff": 15
           },
           "zerolinecolor": "white",
           "zerolinewidth": 2
          },
          "yaxis": {
           "automargin": true,
           "gridcolor": "white",
           "linecolor": "white",
           "ticks": "",
           "title": {
            "standoff": 15
           },
           "zerolinecolor": "white",
           "zerolinewidth": 2
          }
         }
        },
        "xaxis": {
         "anchor": "y",
         "domain": [
          0,
          1
         ]
        },
        "yaxis": {
         "anchor": "x",
         "domain": [
          0,
          1
         ],
         "title": {
          "text": "month"
         }
        }
       }
      }
     },
     "metadata": {},
     "output_type": "display_data"
    },
    {
     "data": {
      "application/vnd.plotly.v1+json": {
       "config": {
        "plotlyServerURL": "https://plot.ly"
       },
       "data": [
        {
         "alignmentgroup": "True",
         "hovertemplate": "day=%{y}<extra></extra>",
         "legendgroup": "",
         "marker": {
          "color": "#636efa"
         },
         "name": "",
         "notched": false,
         "offsetgroup": "",
         "orientation": "v",
         "showlegend": false,
         "type": "box",
         "x0": " ",
         "xaxis": "x",
         "y": [
          -1.42312072650678,
          1.1767146643200939,
          -0.3831865701760305,
          -1.42312072650678,
          0.1367805079893443,
          0.1367805079893443,
          -0.9031536483414053,
          -0.9031536483414053,
          1.1767146643200939,
          -0.3831865701760305,
          -0.3831865701760305,
          -0.3831865701760305,
          -1.42312072650678,
          -0.9031536483414053,
          1.6966817424854688,
          -1.42312072650678,
          -0.3831865701760305,
          -0.9031536483414053,
          1.6966817424854688,
          -0.3831865701760305,
          1.1767146643200939,
          -0.9031536483414053,
          0.1367805079893443,
          -0.3831865701760305,
          -0.3831865701760305,
          0.1367805079893443,
          -1.42312072650678,
          -0.9031536483414053,
          -0.3831865701760305,
          0.1367805079893443,
          -1.42312072650678,
          -0.9031536483414053,
          -1.42312072650678,
          0.1367805079893443,
          -0.9031536483414053,
          1.1767146643200939,
          1.1767146643200939,
          -1.42312072650678,
          -0.3831865701760305,
          1.1767146643200939,
          1.1767146643200939,
          -0.3831865701760305,
          1.1767146643200939,
          -0.3831865701760305,
          1.6966817424854688,
          1.6966817424854688,
          -0.9031536483414053,
          -0.9031536483414053,
          -0.9031536483414053,
          -0.9031536483414053,
          0.6567475861547191,
          0.1367805079893443,
          1.6966817424854688,
          1.6966817424854688,
          0.6567475861547191,
          0.6567475861547191,
          1.1767146643200939,
          0.1367805079893443,
          -0.9031536483414053,
          -1.42312072650678,
          0.1367805079893443,
          0.1367805079893443,
          0.6567475861547191,
          0.1367805079893443,
          -0.9031536483414053,
          0.6567475861547191,
          -1.42312072650678,
          -1.42312072650678,
          -1.42312072650678,
          -1.42312072650678,
          -1.42312072650678,
          -1.42312072650678,
          -1.42312072650678,
          1.1767146643200939,
          -1.42312072650678,
          0.6567475861547191,
          -1.42312072650678,
          -0.9031536483414053,
          -1.42312072650678,
          1.1767146643200939,
          0.1367805079893443,
          0.1367805079893443,
          1.1767146643200939,
          1.6966817424854688,
          0.6567475861547191,
          0.6567475861547191,
          0.6567475861547191,
          0.6567475861547191,
          0.1367805079893443,
          -0.3831865701760305,
          -0.3831865701760305,
          -1.42312072650678,
          0.1367805079893443,
          0.1367805079893443,
          -0.9031536483414053,
          0.1367805079893443,
          -0.3831865701760305,
          -0.3831865701760305,
          0.1367805079893443,
          0.1367805079893443,
          0.1367805079893443,
          1.1767146643200939,
          1.1767146643200939,
          -0.3831865701760305,
          -0.3831865701760305,
          -1.42312072650678,
          0.6567475861547191,
          0.1367805079893443,
          -0.3831865701760305,
          -0.9031536483414053,
          -1.42312072650678,
          -1.42312072650678,
          0.1367805079893443,
          -0.9031536483414053,
          1.1767146643200939,
          1.1767146643200939,
          -0.3831865701760305,
          -0.3831865701760305,
          -0.9031536483414053,
          0.6567475861547191,
          -0.9031536483414053,
          -0.9031536483414053,
          0.1367805079893443,
          1.1767146643200939,
          -1.42312072650678,
          0.1367805079893443,
          -0.9031536483414053,
          -1.42312072650678,
          1.6966817424854688,
          0.1367805079893443,
          -0.3831865701760305,
          -0.9031536483414053,
          0.1367805079893443,
          0.6567475861547191,
          1.1767146643200939,
          -0.3831865701760305,
          0.1367805079893443,
          -0.9031536483414053,
          1.1767146643200939,
          1.1767146643200939,
          -0.9031536483414053,
          1.6966817424854688,
          -1.42312072650678,
          -0.3831865701760305,
          1.6966817424854688,
          0.6567475861547191,
          -0.9031536483414053,
          1.1767146643200939,
          1.1767146643200939,
          0.6567475861547191,
          -1.42312072650678,
          0.1367805079893443,
          -0.3831865701760305,
          -1.42312072650678,
          -0.3831865701760305,
          0.1367805079893443,
          -0.3831865701760305,
          1.6966817424854688,
          1.6966817424854688,
          -1.42312072650678,
          -0.9031536483414053,
          0.6567475861547191,
          -0.3831865701760305,
          -0.3831865701760305,
          0.1367805079893443,
          0.6567475861547191,
          1.6966817424854688,
          1.6966817424854688,
          -1.42312072650678,
          0.6567475861547191,
          1.6966817424854688,
          1.6966817424854688,
          0.1367805079893443,
          -0.9031536483414053,
          -0.3831865701760305,
          -0.3831865701760305,
          0.6567475861547191,
          0.1367805079893443,
          1.6966817424854688,
          1.1767146643200939,
          0.1367805079893443,
          -0.9031536483414053,
          0.1367805079893443,
          -0.9031536483414053,
          -1.42312072650678,
          1.1767146643200939,
          0.1367805079893443,
          -0.9031536483414053,
          -0.3831865701760305,
          0.1367805079893443,
          -1.42312072650678,
          0.6567475861547191,
          1.1767146643200939,
          1.6966817424854688,
          1.1767146643200939,
          -1.42312072650678,
          0.6567475861547191,
          0.6567475861547191,
          1.1767146643200939,
          -0.9031536483414053,
          1.1767146643200939,
          0.1367805079893443,
          0.1367805079893443,
          1.6966817424854688,
          -0.3831865701760305,
          0.6567475861547191,
          -0.3831865701760305,
          1.1767146643200939,
          -1.42312072650678,
          0.6567475861547191,
          -0.3831865701760305,
          -0.3831865701760305,
          -1.42312072650678,
          -0.9031536483414053,
          -0.3831865701760305,
          -0.3831865701760305,
          0.1367805079893443,
          -0.9031536483414053,
          1.6966817424854688,
          -0.9031536483414053,
          0.1367805079893443,
          -1.42312072650678,
          -0.9031536483414053,
          -1.42312072650678,
          1.6966817424854688,
          0.1367805079893443,
          -0.9031536483414053,
          -0.3831865701760305,
          0.1367805079893443,
          -0.3831865701760305,
          1.6966817424854688,
          0.1367805079893443,
          1.1767146643200939,
          1.1767146643200939,
          -0.3831865701760305,
          0.1367805079893443,
          -0.3831865701760305,
          1.1767146643200939,
          -0.3831865701760305,
          0.1367805079893443,
          1.6966817424854688,
          -1.42312072650678,
          0.1367805079893443,
          0.1367805079893443,
          0.1367805079893443,
          0.1367805079893443,
          0.1367805079893443,
          1.6966817424854688,
          1.6966817424854688,
          1.6966817424854688,
          1.6966817424854688,
          1.6966817424854688,
          1.6966817424854688,
          0.6567475861547191,
          0.6567475861547191,
          0.6567475861547191,
          -0.3831865701760305,
          -0.3831865701760305,
          -0.3831865701760305,
          -0.3831865701760305,
          -0.9031536483414053,
          -1.42312072650678,
          -1.42312072650678,
          -1.42312072650678,
          -1.42312072650678,
          1.1767146643200939,
          1.1767146643200939,
          1.1767146643200939,
          1.1767146643200939,
          1.1767146643200939,
          1.1767146643200939,
          1.1767146643200939,
          1.1767146643200939,
          0.1367805079893443,
          1.6966817424854688,
          0.6567475861547191,
          -0.9031536483414053,
          -0.9031536483414053,
          -0.9031536483414053,
          -0.9031536483414053,
          -1.42312072650678,
          1.1767146643200939,
          0.1367805079893443,
          1.6966817424854688,
          -1.42312072650678,
          0.1367805079893443,
          1.6966817424854688,
          -0.3831865701760305,
          -0.3831865701760305,
          -0.3831865701760305,
          -0.3831865701760305,
          -0.3831865701760305,
          -1.42312072650678,
          1.1767146643200939,
          1.1767146643200939,
          0.1367805079893443,
          0.1367805079893443,
          0.1367805079893443,
          1.6966817424854688,
          -0.3831865701760305,
          -0.9031536483414053,
          -0.9031536483414053,
          -1.42312072650678,
          -1.42312072650678,
          -0.3831865701760305,
          0.1367805079893443,
          0.1367805079893443,
          0.1367805079893443,
          0.1367805079893443,
          0.1367805079893443,
          0.1367805079893443,
          0.1367805079893443,
          0.1367805079893443,
          1.6966817424854688,
          1.6966817424854688,
          1.6966817424854688,
          0.6567475861547191,
          0.6567475861547191,
          0.6567475861547191,
          0.6567475861547191,
          0.6567475861547191,
          0.6567475861547191,
          0.6567475861547191,
          0.6567475861547191,
          0.6567475861547191,
          -0.3831865701760305,
          -0.3831865701760305,
          -0.3831865701760305,
          -0.3831865701760305,
          -0.3831865701760305,
          -0.3831865701760305,
          -0.3831865701760305,
          -0.3831865701760305,
          -0.9031536483414053,
          -0.9031536483414053,
          -0.9031536483414053,
          -0.9031536483414053,
          -0.9031536483414053,
          -0.9031536483414053,
          -0.9031536483414053,
          -0.9031536483414053,
          -0.9031536483414053,
          -0.9031536483414053,
          -0.9031536483414053,
          -0.9031536483414053,
          -0.9031536483414053,
          -0.9031536483414053,
          -1.42312072650678,
          -1.42312072650678,
          -1.42312072650678,
          -1.42312072650678,
          -1.42312072650678,
          -1.42312072650678,
          -1.42312072650678,
          -1.42312072650678,
          -1.42312072650678,
          -1.42312072650678,
          -1.42312072650678,
          -1.42312072650678,
          -1.42312072650678,
          -1.42312072650678,
          -1.42312072650678,
          -1.42312072650678,
          1.1767146643200939,
          1.1767146643200939,
          1.1767146643200939,
          1.1767146643200939,
          1.1767146643200939,
          -0.3831865701760305,
          0.1367805079893443,
          0.1367805079893443,
          1.6966817424854688,
          0.1367805079893443,
          0.6567475861547191,
          -1.42312072650678,
          -0.3831865701760305,
          -0.9031536483414053,
          -0.3831865701760305,
          0.6567475861547191,
          0.1367805079893443,
          1.6966817424854688,
          0.6567475861547191,
          1.6966817424854688,
          0.6567475861547191,
          -0.3831865701760305,
          0.1367805079893443,
          0.1367805079893443,
          0.6567475861547191,
          -1.42312072650678,
          -1.42312072650678,
          -0.9031536483414053,
          -1.42312072650678,
          0.1367805079893443,
          1.1767146643200939,
          -0.9031536483414053,
          0.1367805079893443,
          0.1367805079893443,
          0.1367805079893443,
          -0.3831865701760305,
          1.6966817424854688,
          1.6966817424854688,
          0.6567475861547191,
          -1.42312072650678,
          0.6567475861547191,
          1.6966817424854688,
          1.1767146643200939,
          -0.3831865701760305,
          -0.3831865701760305,
          -1.42312072650678,
          1.1767146643200939,
          -1.42312072650678,
          -1.42312072650678,
          -0.9031536483414053,
          -0.3831865701760305,
          0.1367805079893443,
          0.6567475861547191,
          1.1767146643200939,
          1.6966817424854688,
          0.1367805079893443,
          0.1367805079893443,
          1.6966817424854688,
          1.6966817424854688,
          0.1367805079893443,
          -0.3831865701760305,
          -0.3831865701760305,
          0.6567475861547191,
          0.6567475861547191,
          -0.9031536483414053,
          0.6567475861547191,
          0.1367805079893443,
          0.6567475861547191,
          -0.3831865701760305,
          0.6567475861547191,
          0.1367805079893443,
          -1.42312072650678,
          -0.3831865701760305,
          -0.9031536483414053,
          -0.3831865701760305,
          -0.3831865701760305,
          -1.42312072650678,
          -1.42312072650678,
          -0.9031536483414053,
          -0.9031536483414053,
          -1.42312072650678,
          -1.42312072650678,
          0.1367805079893443,
          0.1367805079893443,
          1.6966817424854688,
          1.6966817424854688,
          0.1367805079893443,
          1.6966817424854688,
          -1.42312072650678,
          -0.9031536483414053,
          0.6567475861547191,
          0.6567475861547191,
          -0.9031536483414053,
          0.6567475861547191,
          1.6966817424854688,
          -0.3831865701760305,
          -0.3831865701760305,
          -0.3831865701760305,
          -0.3831865701760305,
          0.1367805079893443,
          1.1767146643200939,
          1.1767146643200939,
          -0.3831865701760305,
          -0.9031536483414053,
          1.6966817424854688,
          0.6567475861547191,
          0.1367805079893443,
          0.1367805079893443,
          -1.42312072650678,
          -0.9031536483414053,
          -0.3831865701760305,
          0.6567475861547191,
          0.6567475861547191,
          0.6567475861547191,
          0.1367805079893443,
          0.1367805079893443,
          -0.9031536483414053,
          0.6567475861547191,
          0.6567475861547191,
          0.1367805079893443,
          0.1367805079893443,
          0.1367805079893443,
          -0.9031536483414053,
          1.1767146643200939,
          1.1767146643200939,
          1.1767146643200939,
          1.6966817424854688,
          1.6966817424854688,
          0.6567475861547191,
          -1.42312072650678,
          -1.42312072650678,
          -0.3831865701760305,
          -0.9031536483414053,
          -0.9031536483414053,
          1.1767146643200939,
          1.1767146643200939,
          1.1767146643200939,
          1.1767146643200939,
          1.1767146643200939,
          1.1767146643200939,
          1.6966817424854688,
          1.6966817424854688,
          0.6567475861547191,
          -1.42312072650678,
          -1.42312072650678,
          -1.42312072650678,
          -1.42312072650678,
          -1.42312072650678,
          0.1367805079893443,
          0.1367805079893443,
          0.1367805079893443,
          0.1367805079893443,
          -0.3831865701760305,
          1.1767146643200939
         ],
         "y0": " ",
         "yaxis": "y"
        }
       ],
       "layout": {
        "boxmode": "group",
        "legend": {
         "tracegroupgap": 0
        },
        "margin": {
         "t": 60
        },
        "template": {
         "data": {
          "bar": [
           {
            "error_x": {
             "color": "#2a3f5f"
            },
            "error_y": {
             "color": "#2a3f5f"
            },
            "marker": {
             "line": {
              "color": "#E5ECF6",
              "width": 0.5
             },
             "pattern": {
              "fillmode": "overlay",
              "size": 10,
              "solidity": 0.2
             }
            },
            "type": "bar"
           }
          ],
          "barpolar": [
           {
            "marker": {
             "line": {
              "color": "#E5ECF6",
              "width": 0.5
             },
             "pattern": {
              "fillmode": "overlay",
              "size": 10,
              "solidity": 0.2
             }
            },
            "type": "barpolar"
           }
          ],
          "carpet": [
           {
            "aaxis": {
             "endlinecolor": "#2a3f5f",
             "gridcolor": "white",
             "linecolor": "white",
             "minorgridcolor": "white",
             "startlinecolor": "#2a3f5f"
            },
            "baxis": {
             "endlinecolor": "#2a3f5f",
             "gridcolor": "white",
             "linecolor": "white",
             "minorgridcolor": "white",
             "startlinecolor": "#2a3f5f"
            },
            "type": "carpet"
           }
          ],
          "choropleth": [
           {
            "colorbar": {
             "outlinewidth": 0,
             "ticks": ""
            },
            "type": "choropleth"
           }
          ],
          "contour": [
           {
            "colorbar": {
             "outlinewidth": 0,
             "ticks": ""
            },
            "colorscale": [
             [
              0,
              "#0d0887"
             ],
             [
              0.1111111111111111,
              "#46039f"
             ],
             [
              0.2222222222222222,
              "#7201a8"
             ],
             [
              0.3333333333333333,
              "#9c179e"
             ],
             [
              0.4444444444444444,
              "#bd3786"
             ],
             [
              0.5555555555555556,
              "#d8576b"
             ],
             [
              0.6666666666666666,
              "#ed7953"
             ],
             [
              0.7777777777777778,
              "#fb9f3a"
             ],
             [
              0.8888888888888888,
              "#fdca26"
             ],
             [
              1,
              "#f0f921"
             ]
            ],
            "type": "contour"
           }
          ],
          "contourcarpet": [
           {
            "colorbar": {
             "outlinewidth": 0,
             "ticks": ""
            },
            "type": "contourcarpet"
           }
          ],
          "heatmap": [
           {
            "colorbar": {
             "outlinewidth": 0,
             "ticks": ""
            },
            "colorscale": [
             [
              0,
              "#0d0887"
             ],
             [
              0.1111111111111111,
              "#46039f"
             ],
             [
              0.2222222222222222,
              "#7201a8"
             ],
             [
              0.3333333333333333,
              "#9c179e"
             ],
             [
              0.4444444444444444,
              "#bd3786"
             ],
             [
              0.5555555555555556,
              "#d8576b"
             ],
             [
              0.6666666666666666,
              "#ed7953"
             ],
             [
              0.7777777777777778,
              "#fb9f3a"
             ],
             [
              0.8888888888888888,
              "#fdca26"
             ],
             [
              1,
              "#f0f921"
             ]
            ],
            "type": "heatmap"
           }
          ],
          "heatmapgl": [
           {
            "colorbar": {
             "outlinewidth": 0,
             "ticks": ""
            },
            "colorscale": [
             [
              0,
              "#0d0887"
             ],
             [
              0.1111111111111111,
              "#46039f"
             ],
             [
              0.2222222222222222,
              "#7201a8"
             ],
             [
              0.3333333333333333,
              "#9c179e"
             ],
             [
              0.4444444444444444,
              "#bd3786"
             ],
             [
              0.5555555555555556,
              "#d8576b"
             ],
             [
              0.6666666666666666,
              "#ed7953"
             ],
             [
              0.7777777777777778,
              "#fb9f3a"
             ],
             [
              0.8888888888888888,
              "#fdca26"
             ],
             [
              1,
              "#f0f921"
             ]
            ],
            "type": "heatmapgl"
           }
          ],
          "histogram": [
           {
            "marker": {
             "pattern": {
              "fillmode": "overlay",
              "size": 10,
              "solidity": 0.2
             }
            },
            "type": "histogram"
           }
          ],
          "histogram2d": [
           {
            "colorbar": {
             "outlinewidth": 0,
             "ticks": ""
            },
            "colorscale": [
             [
              0,
              "#0d0887"
             ],
             [
              0.1111111111111111,
              "#46039f"
             ],
             [
              0.2222222222222222,
              "#7201a8"
             ],
             [
              0.3333333333333333,
              "#9c179e"
             ],
             [
              0.4444444444444444,
              "#bd3786"
             ],
             [
              0.5555555555555556,
              "#d8576b"
             ],
             [
              0.6666666666666666,
              "#ed7953"
             ],
             [
              0.7777777777777778,
              "#fb9f3a"
             ],
             [
              0.8888888888888888,
              "#fdca26"
             ],
             [
              1,
              "#f0f921"
             ]
            ],
            "type": "histogram2d"
           }
          ],
          "histogram2dcontour": [
           {
            "colorbar": {
             "outlinewidth": 0,
             "ticks": ""
            },
            "colorscale": [
             [
              0,
              "#0d0887"
             ],
             [
              0.1111111111111111,
              "#46039f"
             ],
             [
              0.2222222222222222,
              "#7201a8"
             ],
             [
              0.3333333333333333,
              "#9c179e"
             ],
             [
              0.4444444444444444,
              "#bd3786"
             ],
             [
              0.5555555555555556,
              "#d8576b"
             ],
             [
              0.6666666666666666,
              "#ed7953"
             ],
             [
              0.7777777777777778,
              "#fb9f3a"
             ],
             [
              0.8888888888888888,
              "#fdca26"
             ],
             [
              1,
              "#f0f921"
             ]
            ],
            "type": "histogram2dcontour"
           }
          ],
          "mesh3d": [
           {
            "colorbar": {
             "outlinewidth": 0,
             "ticks": ""
            },
            "type": "mesh3d"
           }
          ],
          "parcoords": [
           {
            "line": {
             "colorbar": {
              "outlinewidth": 0,
              "ticks": ""
             }
            },
            "type": "parcoords"
           }
          ],
          "pie": [
           {
            "automargin": true,
            "type": "pie"
           }
          ],
          "scatter": [
           {
            "marker": {
             "colorbar": {
              "outlinewidth": 0,
              "ticks": ""
             }
            },
            "type": "scatter"
           }
          ],
          "scatter3d": [
           {
            "line": {
             "colorbar": {
              "outlinewidth": 0,
              "ticks": ""
             }
            },
            "marker": {
             "colorbar": {
              "outlinewidth": 0,
              "ticks": ""
             }
            },
            "type": "scatter3d"
           }
          ],
          "scattercarpet": [
           {
            "marker": {
             "colorbar": {
              "outlinewidth": 0,
              "ticks": ""
             }
            },
            "type": "scattercarpet"
           }
          ],
          "scattergeo": [
           {
            "marker": {
             "colorbar": {
              "outlinewidth": 0,
              "ticks": ""
             }
            },
            "type": "scattergeo"
           }
          ],
          "scattergl": [
           {
            "marker": {
             "colorbar": {
              "outlinewidth": 0,
              "ticks": ""
             }
            },
            "type": "scattergl"
           }
          ],
          "scattermapbox": [
           {
            "marker": {
             "colorbar": {
              "outlinewidth": 0,
              "ticks": ""
             }
            },
            "type": "scattermapbox"
           }
          ],
          "scatterpolar": [
           {
            "marker": {
             "colorbar": {
              "outlinewidth": 0,
              "ticks": ""
             }
            },
            "type": "scatterpolar"
           }
          ],
          "scatterpolargl": [
           {
            "marker": {
             "colorbar": {
              "outlinewidth": 0,
              "ticks": ""
             }
            },
            "type": "scatterpolargl"
           }
          ],
          "scatterternary": [
           {
            "marker": {
             "colorbar": {
              "outlinewidth": 0,
              "ticks": ""
             }
            },
            "type": "scatterternary"
           }
          ],
          "surface": [
           {
            "colorbar": {
             "outlinewidth": 0,
             "ticks": ""
            },
            "colorscale": [
             [
              0,
              "#0d0887"
             ],
             [
              0.1111111111111111,
              "#46039f"
             ],
             [
              0.2222222222222222,
              "#7201a8"
             ],
             [
              0.3333333333333333,
              "#9c179e"
             ],
             [
              0.4444444444444444,
              "#bd3786"
             ],
             [
              0.5555555555555556,
              "#d8576b"
             ],
             [
              0.6666666666666666,
              "#ed7953"
             ],
             [
              0.7777777777777778,
              "#fb9f3a"
             ],
             [
              0.8888888888888888,
              "#fdca26"
             ],
             [
              1,
              "#f0f921"
             ]
            ],
            "type": "surface"
           }
          ],
          "table": [
           {
            "cells": {
             "fill": {
              "color": "#EBF0F8"
             },
             "line": {
              "color": "white"
             }
            },
            "header": {
             "fill": {
              "color": "#C8D4E3"
             },
             "line": {
              "color": "white"
             }
            },
            "type": "table"
           }
          ]
         },
         "layout": {
          "annotationdefaults": {
           "arrowcolor": "#2a3f5f",
           "arrowhead": 0,
           "arrowwidth": 1
          },
          "autotypenumbers": "strict",
          "coloraxis": {
           "colorbar": {
            "outlinewidth": 0,
            "ticks": ""
           }
          },
          "colorscale": {
           "diverging": [
            [
             0,
             "#8e0152"
            ],
            [
             0.1,
             "#c51b7d"
            ],
            [
             0.2,
             "#de77ae"
            ],
            [
             0.3,
             "#f1b6da"
            ],
            [
             0.4,
             "#fde0ef"
            ],
            [
             0.5,
             "#f7f7f7"
            ],
            [
             0.6,
             "#e6f5d0"
            ],
            [
             0.7,
             "#b8e186"
            ],
            [
             0.8,
             "#7fbc41"
            ],
            [
             0.9,
             "#4d9221"
            ],
            [
             1,
             "#276419"
            ]
           ],
           "sequential": [
            [
             0,
             "#0d0887"
            ],
            [
             0.1111111111111111,
             "#46039f"
            ],
            [
             0.2222222222222222,
             "#7201a8"
            ],
            [
             0.3333333333333333,
             "#9c179e"
            ],
            [
             0.4444444444444444,
             "#bd3786"
            ],
            [
             0.5555555555555556,
             "#d8576b"
            ],
            [
             0.6666666666666666,
             "#ed7953"
            ],
            [
             0.7777777777777778,
             "#fb9f3a"
            ],
            [
             0.8888888888888888,
             "#fdca26"
            ],
            [
             1,
             "#f0f921"
            ]
           ],
           "sequentialminus": [
            [
             0,
             "#0d0887"
            ],
            [
             0.1111111111111111,
             "#46039f"
            ],
            [
             0.2222222222222222,
             "#7201a8"
            ],
            [
             0.3333333333333333,
             "#9c179e"
            ],
            [
             0.4444444444444444,
             "#bd3786"
            ],
            [
             0.5555555555555556,
             "#d8576b"
            ],
            [
             0.6666666666666666,
             "#ed7953"
            ],
            [
             0.7777777777777778,
             "#fb9f3a"
            ],
            [
             0.8888888888888888,
             "#fdca26"
            ],
            [
             1,
             "#f0f921"
            ]
           ]
          },
          "colorway": [
           "#636efa",
           "#EF553B",
           "#00cc96",
           "#ab63fa",
           "#FFA15A",
           "#19d3f3",
           "#FF6692",
           "#B6E880",
           "#FF97FF",
           "#FECB52"
          ],
          "font": {
           "color": "#2a3f5f"
          },
          "geo": {
           "bgcolor": "white",
           "lakecolor": "white",
           "landcolor": "#E5ECF6",
           "showlakes": true,
           "showland": true,
           "subunitcolor": "white"
          },
          "hoverlabel": {
           "align": "left"
          },
          "hovermode": "closest",
          "mapbox": {
           "style": "light"
          },
          "paper_bgcolor": "white",
          "plot_bgcolor": "#E5ECF6",
          "polar": {
           "angularaxis": {
            "gridcolor": "white",
            "linecolor": "white",
            "ticks": ""
           },
           "bgcolor": "#E5ECF6",
           "radialaxis": {
            "gridcolor": "white",
            "linecolor": "white",
            "ticks": ""
           }
          },
          "scene": {
           "xaxis": {
            "backgroundcolor": "#E5ECF6",
            "gridcolor": "white",
            "gridwidth": 2,
            "linecolor": "white",
            "showbackground": true,
            "ticks": "",
            "zerolinecolor": "white"
           },
           "yaxis": {
            "backgroundcolor": "#E5ECF6",
            "gridcolor": "white",
            "gridwidth": 2,
            "linecolor": "white",
            "showbackground": true,
            "ticks": "",
            "zerolinecolor": "white"
           },
           "zaxis": {
            "backgroundcolor": "#E5ECF6",
            "gridcolor": "white",
            "gridwidth": 2,
            "linecolor": "white",
            "showbackground": true,
            "ticks": "",
            "zerolinecolor": "white"
           }
          },
          "shapedefaults": {
           "line": {
            "color": "#2a3f5f"
           }
          },
          "ternary": {
           "aaxis": {
            "gridcolor": "white",
            "linecolor": "white",
            "ticks": ""
           },
           "baxis": {
            "gridcolor": "white",
            "linecolor": "white",
            "ticks": ""
           },
           "bgcolor": "#E5ECF6",
           "caxis": {
            "gridcolor": "white",
            "linecolor": "white",
            "ticks": ""
           }
          },
          "title": {
           "x": 0.05
          },
          "xaxis": {
           "automargin": true,
           "gridcolor": "white",
           "linecolor": "white",
           "ticks": "",
           "title": {
            "standoff": 15
           },
           "zerolinecolor": "white",
           "zerolinewidth": 2
          },
          "yaxis": {
           "automargin": true,
           "gridcolor": "white",
           "linecolor": "white",
           "ticks": "",
           "title": {
            "standoff": 15
           },
           "zerolinecolor": "white",
           "zerolinewidth": 2
          }
         }
        },
        "xaxis": {
         "anchor": "y",
         "domain": [
          0,
          1
         ]
        },
        "yaxis": {
         "anchor": "x",
         "domain": [
          0,
          1
         ],
         "title": {
          "text": "day"
         }
        }
       }
      }
     },
     "metadata": {},
     "output_type": "display_data"
    },
    {
     "data": {
      "application/vnd.plotly.v1+json": {
       "config": {
        "plotlyServerURL": "https://plot.ly"
       },
       "data": [
        {
         "alignmentgroup": "True",
         "hovertemplate": "FFMC=%{y}<extra></extra>",
         "legendgroup": "",
         "marker": {
          "color": "#636efa"
         },
         "name": "",
         "notched": false,
         "offsetgroup": "",
         "orientation": "v",
         "showlegend": false,
         "type": "box",
         "x0": " ",
         "xaxis": "x",
         "y": [
          -0.8059594724698989,
          -0.008102033950154875,
          -0.008102033950154875,
          0.19136232567978306,
          -0.24383264078553374,
          0.300161067296111,
          0.300161067296111,
          0.15509607847433957,
          0.06443046046073211,
          0.33642731450155444,
          0.33642731450155444,
          0.3908266853097184,
          -4.9221785302876775,
          0.046297336858011656,
          0.40895980891244144,
          0.4814923033233259,
          0.19136232567978306,
          -1.0416900793052777,
          -0.2619657643882542,
          -0.7878263488671784,
          0.06443046046073211,
          0.20949544928250352,
          0.6628235393505407,
          -0.08063452836103929,
          0.5177585505287694,
          0.1369629548716191,
          0.318294190898834,
          0.046297336858011656,
          0.4996254269260489,
          0.5177585505287694,
          0.6628235393505407,
          -0.37076450600458466,
          -0.37076450600458466,
          0.19136232567978306,
          0.20949544928250352,
          -0.06250140475831883,
          -0.008102033950154875,
          -0.11690077556648279,
          -0.008102033950154875,
          -0.4614301240181921,
          -2.0208787538522395,
          -0.08063452836103929,
          0.7534891573641482,
          0.33642731450155444,
          -0.09876765196376233,
          0.6628235393505407,
          0.046297336858011656,
          0.6446904157478203,
          -0.624628236442684,
          -0.5520957420317996,
          0.40895980891244144,
          -0.08063452836103929,
          0.2638948200906675,
          0.2638948200906675,
          0.19136232567978306,
          0.40895980891244144,
          -0.06250140475831883,
          0.35456043810427496,
          -1.2048881917297722,
          -0.7334269780590145,
          -0.24383264078553374,
          -0.24383264078553374,
          0.4270929325151619,
          -0.08063452836103929,
          0.08256358406345257,
          0.19136232567978306,
          0.318294190898834,
          0.318294190898834,
          0.318294190898834,
          0.19136232567978306,
          0.10069670766617561,
          0.6628235393505407,
          0.19136232567978306,
          -0.3344982587991412,
          0.4814923033233259,
          -1.1686219445243287,
          -0.7334269780590145,
          -0.5520957420317996,
          -0.09876765196376233,
          0.06443046046073211,
          0.1369629548716191,
          -0.08063452836103929,
          0.7534891573641482,
          0.2638948200906675,
          0.19136232567978306,
          0.40895980891244144,
          0.40895980891244144,
          0.40895980891244144,
          0.5177585505287694,
          0.19136232567978306,
          -0.08063452836103929,
          0.19136232567978306,
          0.300161067296111,
          0.1369629548716191,
          0.08256358406345257,
          -0.17130014637464674,
          -1.2230213153324927,
          -3.9248567321379957,
          0.1369629548716191,
          0.1369629548716191,
          0.1369629548716191,
          -0.3344982587991412,
          0.7534891573641482,
          0.33642731450155444,
          -1.5494175401814816,
          -0.8603588432780629,
          0.1369629548716191,
          -0.08063452836103929,
          0.33642731450155444,
          -0.37076450600458466,
          -0.8603588432780629,
          0.19136232567978306,
          -0.17130014637464674,
          0.20949544928250352,
          -0.4614301240181921,
          -0.4614301240181921,
          0.19136232567978306,
          0.19136232567978306,
          -0.09876765196376233,
          0.4270929325151619,
          0.15509607847433957,
          0.15509607847433957,
          0.318294190898834,
          -1.1323556973188853,
          0.6628235393505407,
          0.35456043810427496,
          -0.5520957420317996,
          0.5177585505287694,
          0.1369629548716191,
          0.35456043810427496,
          -4.069921720959767,
          -0.624628236442684,
          -0.24383264078553374,
          0.5540247977342129,
          -0.4614301240181921,
          0.5177585505287694,
          0.318294190898834,
          0.046297336858011656,
          -0.8784919668807859,
          0.06443046046073211,
          0.046297336858011656,
          0.8804210225831992,
          -0.09876765196376233,
          -0.11690077556648279,
          0.8804210225831992,
          0.8260216517750352,
          -0.09876765196376233,
          -1.1323556973188853,
          0.7534891573641482,
          0.5540247977342129,
          0.33642731450155444,
          -0.09876765196376233,
          -0.09876765196376233,
          0.6628235393505407,
          0.4996254269260489,
          0.7534891573641482,
          0.4996254269260489,
          0.2638948200906675,
          0.2638948200906675,
          0.318294190898834,
          -0.09876765196376233,
          0.8260216517750352,
          -0.008102033950154875,
          0.33642731450155444,
          -0.17130014637464674,
          -1.0416900793052777,
          0.2638948200906675,
          0.9710866405968066,
          0.10069670766617561,
          0.8260216517750352,
          0.40895980891244144,
          -0.9147582140862294,
          0.1369629548716191,
          0.046297336858011656,
          -0.08063452836103929,
          -0.08063452836103929,
          -1.6582162817978094,
          -0.08063452836103929,
          -0.09876765196376233,
          -0.3344982587991412,
          0.318294190898834,
          -1.0416900793052777,
          -0.697160730853571,
          0.19136232567978306,
          0.5902910449396563,
          0.06443046046073211,
          -0.24383264078553374,
          0.046297336858011656,
          0.02816421325528862,
          0.010031089652568161,
          0.10069670766617561,
          0.8260216517750352,
          0.7534891573641482,
          0.40895980891244144,
          0.7534891573641482,
          0.5902910449396563,
          -1.6582162817978094,
          0.40895980891244144,
          0.06443046046073211,
          -4.9221785302876775,
          0.06443046046073211,
          -0.09876765196376233,
          -1.2230213153324927,
          0.1369629548716191,
          -0.008102033950154875,
          0.40895980891244144,
          0.5177585505287694,
          0.06443046046073211,
          0.318294190898834,
          0.5540247977342129,
          -0.008102033950154875,
          0.5177585505287694,
          0.6628235393505407,
          -0.5520957420317996,
          0.19136232567978306,
          0.19136232567978306,
          0.318294190898834,
          -0.37076450600458466,
          0.40895980891244144,
          -0.09876765196376233,
          -0.08063452836103929,
          0.4814923033233259,
          -0.5520957420317996,
          -0.42516387681274864,
          -0.09876765196376233,
          0.5177585505287694,
          0.19136232567978306,
          0.2820279436933905,
          0.5177585505287694,
          0.2820279436933905,
          0.40895980891244144,
          0.5177585505287694,
          0.06443046046073211,
          -1.1323556973188853,
          0.33642731450155444,
          0.1369629548716191,
          0.33642731450155444,
          0.06443046046073211,
          0.33642731450155444,
          -1.5856837873869225,
          -0.47956324762091257,
          -1.386219427756987,
          0.6446904157478203,
          0.20949544928250352,
          0.20949544928250352,
          0.20949544928250352,
          0.20949544928250352,
          0.2820279436933905,
          0.4452260561178824,
          0.4452260561178824,
          0.4452260561178824,
          0.4452260561178824,
          0.4452260561178824,
          0.22762857288522656,
          0.17322920207706002,
          -0.57022886563452,
          0.6446904157478203,
          0.6446904157478203,
          0.20949544928250352,
          0.20949544928250352,
          0.5358916741314899,
          0.17322920207706002,
          0.17322920207706002,
          0.08256358406345257,
          0.6628235393505407,
          0.5540247977342129,
          0.6628235393505407,
          0.2638948200906675,
          0.2638948200906675,
          0.2638948200906675,
          0.2638948200906675,
          0.2638948200906675,
          0.2638948200906675,
          -1.1323556973188853,
          -1.2048881917297722,
          -1.0960894501134444,
          -0.9510244612916703,
          -0.9510244612916703,
          -0.9510244612916703,
          -0.9510244612916703,
          -1.0779563265107213,
          -0.9510244612916703,
          -1.0416900793052777,
          -0.679027607250848,
          -0.9872907084971138,
          0.5902910449396563,
          0.10069670766617561,
          0.17322920207706002,
          0.17322920207706002,
          0.17322920207706002,
          0.17322920207706002,
          0.17322920207706002,
          0.17322920207706002,
          0.4452260561178824,
          0.300161067296111,
          0.4452260561178824,
          -0.044368281155595796,
          -0.044368281155595796,
          0.10069670766617561,
          -6.753624014162549,
          -0.044368281155595796,
          -0.044368281155595796,
          0.08256358406345257,
          0.08256358406345257,
          -1.0054238320998368,
          -0.18943326997736978,
          -0.18943326997736978,
          -0.18943326997736978,
          0.318294190898834,
          0.318294190898834,
          0.318294190898834,
          0.318294190898834,
          -7.297617722244193,
          0.35456043810427496,
          0.35456043810427496,
          0.10069670766617561,
          0.318294190898834,
          0.318294190898834,
          0.3908266853097184,
          0.3908266853097184,
          0.3908266853097184,
          0.3908266853097184,
          0.3908266853097184,
          0.010031089652568161,
          -0.4614301240181921,
          0.2820279436933905,
          0.2820279436933905,
          0.2820279436933905,
          0.2820279436933905,
          0.2820279436933905,
          0.2820279436933905,
          0.10069670766617561,
          0.10069670766617561,
          0.2638948200906675,
          0.17322920207706002,
          0.17322920207706002,
          0.17322920207706002,
          0.17322920207706002,
          0.17322920207706002,
          0.17322920207706002,
          0.17322920207706002,
          0.22762857288522656,
          0.15509607847433957,
          0.15509607847433957,
          0.15509607847433957,
          0.15509607847433957,
          0.15509607847433957,
          0.2638948200906675,
          0.2638948200906675,
          0.2638948200906675,
          0.2638948200906675,
          0.2638948200906675,
          0.2638948200906675,
          0.2638948200906675,
          0.2638948200906675,
          0.2638948200906675,
          0.2638948200906675,
          0.33642731450155444,
          0.33642731450155444,
          0.33642731450155444,
          0.33642731450155444,
          0.33642731450155444,
          -0.4432970004154691,
          0.22762857288522656,
          0.22762857288522656,
          0.22762857288522656,
          0.08256358406345257,
          0.08256358406345257,
          0.10069670766617561,
          0.06443046046073211,
          0.06443046046073211,
          0.22762857288522656,
          0.24576169648794702,
          0.7534891573641482,
          -0.06250140475831883,
          0.10069670766617561,
          0.2638948200906675,
          0.5540247977342129,
          0.046297336858011656,
          -13.045817904306904,
          0.5540247977342129,
          0.010031089652568161,
          0.8260216517750352,
          0.17322920207706002,
          0.17322920207706002,
          0.17322920207706002,
          -0.026235157552875334,
          0.046297336858011656,
          0.7534891573641482,
          0.7534891573641482,
          -1.0779563265107213,
          0.08256358406345257,
          0.06443046046073211,
          0.4996254269260489,
          -1.1867550681270518,
          -1.0235569557025572,
          -0.026235157552875334,
          0.17322920207706002,
          0.5540247977342129,
          0.4814923033233259,
          0.4814923033233259,
          0.08256358406345257,
          0.7534891573641482,
          0.010031089652568161,
          -0.497696371223633,
          0.7172229101587048,
          -0.6427613600454071,
          -1.0779563265107213,
          -0.06250140475831883,
          0.300161067296111,
          -1.1867550681270518,
          -1.0960894501134444,
          0.300161067296111,
          0.5540247977342129,
          0.5358916741314899,
          0.7534891573641482,
          0.37269356170699797,
          0.4996254269260489,
          0.24576169648794702,
          0.17322920207706002,
          0.19136232567978306,
          0.8260216517750352,
          -0.3163651351964181,
          0.10069670766617561,
          0.5540247977342129,
          0.17322920207706002,
          0.17322920207706002,
          0.2638948200906675,
          0.7534891573641482,
          0.17322920207706002,
          -0.17130014637464674,
          0.2638948200906675,
          0.7534891573641482,
          0.5358916741314899,
          -0.008102033950154875,
          0.02816421325528862,
          0.2638948200906675,
          -0.2256995171828107,
          0.5540247977342129,
          0.08256358406345257,
          -0.06250140475831883,
          0.2638948200906675,
          -0.497696371223633,
          0.010031089652568161,
          -0.06250140475831883,
          0.6084241685423768,
          0.24576169648794702,
          0.4996254269260489,
          -0.17130014637464674,
          0.17322920207706002,
          0.8260216517750352,
          -0.026235157552875334,
          0.15509607847433957,
          -0.2256995171828107,
          0.17322920207706002,
          0.7172229101587048,
          0.17322920207706002,
          0.19136232567978306,
          0.5540247977342129,
          0.17322920207706002,
          0.5540247977342129,
          0.5540247977342129,
          0.06443046046073211,
          -2.818736192371986,
          -2.818736192371986,
          -2.0208787538522395,
          -0.624628236442684,
          -0.08063452836103929,
          0.11882983126889607,
          0.06443046046073211,
          0.06443046046073211,
          -0.18943326997736978,
          -0.4432970004154691,
          -0.026235157552875334,
          0.4270929325151619,
          0.5540247977342129,
          0.5177585505287694,
          0.5540247977342129,
          0.5540247977342129,
          -0.2619657643882542,
          0.4633591797206054,
          0.4633591797206054,
          0.7716222809668712,
          0.7716222809668712,
          0.7716222809668712,
          0.7897554045695917,
          0.8078885281723122,
          0.8078885281723122,
          0.8078885281723122,
          0.8078885281723122,
          0.8078885281723122,
          0.9348203933913631,
          0.9529535169940861,
          0.9529535169940861,
          0.9710866405968066,
          1.0073528878022502,
          1.0073528878022502,
          0.9892197641995271,
          0.9892197641995271,
          0.9892197641995271,
          0.9892197641995271,
          0.9892197641995271,
          0.9892197641995271,
          0.6990897865559843,
          0.6990897865559843,
          0.06443046046073211,
          0.06443046046073211,
          0.06443046046073211,
          0.06443046046073211,
          0.06443046046073211,
          0.06443046046073211,
          -1.640083158195089,
          -1.640083158195089,
          -1.640083158195089,
          -1.640083158195089,
          0.6809566629532638,
          -2.0208787538522395
         ],
         "y0": " ",
         "yaxis": "y"
        }
       ],
       "layout": {
        "boxmode": "group",
        "legend": {
         "tracegroupgap": 0
        },
        "margin": {
         "t": 60
        },
        "template": {
         "data": {
          "bar": [
           {
            "error_x": {
             "color": "#2a3f5f"
            },
            "error_y": {
             "color": "#2a3f5f"
            },
            "marker": {
             "line": {
              "color": "#E5ECF6",
              "width": 0.5
             },
             "pattern": {
              "fillmode": "overlay",
              "size": 10,
              "solidity": 0.2
             }
            },
            "type": "bar"
           }
          ],
          "barpolar": [
           {
            "marker": {
             "line": {
              "color": "#E5ECF6",
              "width": 0.5
             },
             "pattern": {
              "fillmode": "overlay",
              "size": 10,
              "solidity": 0.2
             }
            },
            "type": "barpolar"
           }
          ],
          "carpet": [
           {
            "aaxis": {
             "endlinecolor": "#2a3f5f",
             "gridcolor": "white",
             "linecolor": "white",
             "minorgridcolor": "white",
             "startlinecolor": "#2a3f5f"
            },
            "baxis": {
             "endlinecolor": "#2a3f5f",
             "gridcolor": "white",
             "linecolor": "white",
             "minorgridcolor": "white",
             "startlinecolor": "#2a3f5f"
            },
            "type": "carpet"
           }
          ],
          "choropleth": [
           {
            "colorbar": {
             "outlinewidth": 0,
             "ticks": ""
            },
            "type": "choropleth"
           }
          ],
          "contour": [
           {
            "colorbar": {
             "outlinewidth": 0,
             "ticks": ""
            },
            "colorscale": [
             [
              0,
              "#0d0887"
             ],
             [
              0.1111111111111111,
              "#46039f"
             ],
             [
              0.2222222222222222,
              "#7201a8"
             ],
             [
              0.3333333333333333,
              "#9c179e"
             ],
             [
              0.4444444444444444,
              "#bd3786"
             ],
             [
              0.5555555555555556,
              "#d8576b"
             ],
             [
              0.6666666666666666,
              "#ed7953"
             ],
             [
              0.7777777777777778,
              "#fb9f3a"
             ],
             [
              0.8888888888888888,
              "#fdca26"
             ],
             [
              1,
              "#f0f921"
             ]
            ],
            "type": "contour"
           }
          ],
          "contourcarpet": [
           {
            "colorbar": {
             "outlinewidth": 0,
             "ticks": ""
            },
            "type": "contourcarpet"
           }
          ],
          "heatmap": [
           {
            "colorbar": {
             "outlinewidth": 0,
             "ticks": ""
            },
            "colorscale": [
             [
              0,
              "#0d0887"
             ],
             [
              0.1111111111111111,
              "#46039f"
             ],
             [
              0.2222222222222222,
              "#7201a8"
             ],
             [
              0.3333333333333333,
              "#9c179e"
             ],
             [
              0.4444444444444444,
              "#bd3786"
             ],
             [
              0.5555555555555556,
              "#d8576b"
             ],
             [
              0.6666666666666666,
              "#ed7953"
             ],
             [
              0.7777777777777778,
              "#fb9f3a"
             ],
             [
              0.8888888888888888,
              "#fdca26"
             ],
             [
              1,
              "#f0f921"
             ]
            ],
            "type": "heatmap"
           }
          ],
          "heatmapgl": [
           {
            "colorbar": {
             "outlinewidth": 0,
             "ticks": ""
            },
            "colorscale": [
             [
              0,
              "#0d0887"
             ],
             [
              0.1111111111111111,
              "#46039f"
             ],
             [
              0.2222222222222222,
              "#7201a8"
             ],
             [
              0.3333333333333333,
              "#9c179e"
             ],
             [
              0.4444444444444444,
              "#bd3786"
             ],
             [
              0.5555555555555556,
              "#d8576b"
             ],
             [
              0.6666666666666666,
              "#ed7953"
             ],
             [
              0.7777777777777778,
              "#fb9f3a"
             ],
             [
              0.8888888888888888,
              "#fdca26"
             ],
             [
              1,
              "#f0f921"
             ]
            ],
            "type": "heatmapgl"
           }
          ],
          "histogram": [
           {
            "marker": {
             "pattern": {
              "fillmode": "overlay",
              "size": 10,
              "solidity": 0.2
             }
            },
            "type": "histogram"
           }
          ],
          "histogram2d": [
           {
            "colorbar": {
             "outlinewidth": 0,
             "ticks": ""
            },
            "colorscale": [
             [
              0,
              "#0d0887"
             ],
             [
              0.1111111111111111,
              "#46039f"
             ],
             [
              0.2222222222222222,
              "#7201a8"
             ],
             [
              0.3333333333333333,
              "#9c179e"
             ],
             [
              0.4444444444444444,
              "#bd3786"
             ],
             [
              0.5555555555555556,
              "#d8576b"
             ],
             [
              0.6666666666666666,
              "#ed7953"
             ],
             [
              0.7777777777777778,
              "#fb9f3a"
             ],
             [
              0.8888888888888888,
              "#fdca26"
             ],
             [
              1,
              "#f0f921"
             ]
            ],
            "type": "histogram2d"
           }
          ],
          "histogram2dcontour": [
           {
            "colorbar": {
             "outlinewidth": 0,
             "ticks": ""
            },
            "colorscale": [
             [
              0,
              "#0d0887"
             ],
             [
              0.1111111111111111,
              "#46039f"
             ],
             [
              0.2222222222222222,
              "#7201a8"
             ],
             [
              0.3333333333333333,
              "#9c179e"
             ],
             [
              0.4444444444444444,
              "#bd3786"
             ],
             [
              0.5555555555555556,
              "#d8576b"
             ],
             [
              0.6666666666666666,
              "#ed7953"
             ],
             [
              0.7777777777777778,
              "#fb9f3a"
             ],
             [
              0.8888888888888888,
              "#fdca26"
             ],
             [
              1,
              "#f0f921"
             ]
            ],
            "type": "histogram2dcontour"
           }
          ],
          "mesh3d": [
           {
            "colorbar": {
             "outlinewidth": 0,
             "ticks": ""
            },
            "type": "mesh3d"
           }
          ],
          "parcoords": [
           {
            "line": {
             "colorbar": {
              "outlinewidth": 0,
              "ticks": ""
             }
            },
            "type": "parcoords"
           }
          ],
          "pie": [
           {
            "automargin": true,
            "type": "pie"
           }
          ],
          "scatter": [
           {
            "marker": {
             "colorbar": {
              "outlinewidth": 0,
              "ticks": ""
             }
            },
            "type": "scatter"
           }
          ],
          "scatter3d": [
           {
            "line": {
             "colorbar": {
              "outlinewidth": 0,
              "ticks": ""
             }
            },
            "marker": {
             "colorbar": {
              "outlinewidth": 0,
              "ticks": ""
             }
            },
            "type": "scatter3d"
           }
          ],
          "scattercarpet": [
           {
            "marker": {
             "colorbar": {
              "outlinewidth": 0,
              "ticks": ""
             }
            },
            "type": "scattercarpet"
           }
          ],
          "scattergeo": [
           {
            "marker": {
             "colorbar": {
              "outlinewidth": 0,
              "ticks": ""
             }
            },
            "type": "scattergeo"
           }
          ],
          "scattergl": [
           {
            "marker": {
             "colorbar": {
              "outlinewidth": 0,
              "ticks": ""
             }
            },
            "type": "scattergl"
           }
          ],
          "scattermapbox": [
           {
            "marker": {
             "colorbar": {
              "outlinewidth": 0,
              "ticks": ""
             }
            },
            "type": "scattermapbox"
           }
          ],
          "scatterpolar": [
           {
            "marker": {
             "colorbar": {
              "outlinewidth": 0,
              "ticks": ""
             }
            },
            "type": "scatterpolar"
           }
          ],
          "scatterpolargl": [
           {
            "marker": {
             "colorbar": {
              "outlinewidth": 0,
              "ticks": ""
             }
            },
            "type": "scatterpolargl"
           }
          ],
          "scatterternary": [
           {
            "marker": {
             "colorbar": {
              "outlinewidth": 0,
              "ticks": ""
             }
            },
            "type": "scatterternary"
           }
          ],
          "surface": [
           {
            "colorbar": {
             "outlinewidth": 0,
             "ticks": ""
            },
            "colorscale": [
             [
              0,
              "#0d0887"
             ],
             [
              0.1111111111111111,
              "#46039f"
             ],
             [
              0.2222222222222222,
              "#7201a8"
             ],
             [
              0.3333333333333333,
              "#9c179e"
             ],
             [
              0.4444444444444444,
              "#bd3786"
             ],
             [
              0.5555555555555556,
              "#d8576b"
             ],
             [
              0.6666666666666666,
              "#ed7953"
             ],
             [
              0.7777777777777778,
              "#fb9f3a"
             ],
             [
              0.8888888888888888,
              "#fdca26"
             ],
             [
              1,
              "#f0f921"
             ]
            ],
            "type": "surface"
           }
          ],
          "table": [
           {
            "cells": {
             "fill": {
              "color": "#EBF0F8"
             },
             "line": {
              "color": "white"
             }
            },
            "header": {
             "fill": {
              "color": "#C8D4E3"
             },
             "line": {
              "color": "white"
             }
            },
            "type": "table"
           }
          ]
         },
         "layout": {
          "annotationdefaults": {
           "arrowcolor": "#2a3f5f",
           "arrowhead": 0,
           "arrowwidth": 1
          },
          "autotypenumbers": "strict",
          "coloraxis": {
           "colorbar": {
            "outlinewidth": 0,
            "ticks": ""
           }
          },
          "colorscale": {
           "diverging": [
            [
             0,
             "#8e0152"
            ],
            [
             0.1,
             "#c51b7d"
            ],
            [
             0.2,
             "#de77ae"
            ],
            [
             0.3,
             "#f1b6da"
            ],
            [
             0.4,
             "#fde0ef"
            ],
            [
             0.5,
             "#f7f7f7"
            ],
            [
             0.6,
             "#e6f5d0"
            ],
            [
             0.7,
             "#b8e186"
            ],
            [
             0.8,
             "#7fbc41"
            ],
            [
             0.9,
             "#4d9221"
            ],
            [
             1,
             "#276419"
            ]
           ],
           "sequential": [
            [
             0,
             "#0d0887"
            ],
            [
             0.1111111111111111,
             "#46039f"
            ],
            [
             0.2222222222222222,
             "#7201a8"
            ],
            [
             0.3333333333333333,
             "#9c179e"
            ],
            [
             0.4444444444444444,
             "#bd3786"
            ],
            [
             0.5555555555555556,
             "#d8576b"
            ],
            [
             0.6666666666666666,
             "#ed7953"
            ],
            [
             0.7777777777777778,
             "#fb9f3a"
            ],
            [
             0.8888888888888888,
             "#fdca26"
            ],
            [
             1,
             "#f0f921"
            ]
           ],
           "sequentialminus": [
            [
             0,
             "#0d0887"
            ],
            [
             0.1111111111111111,
             "#46039f"
            ],
            [
             0.2222222222222222,
             "#7201a8"
            ],
            [
             0.3333333333333333,
             "#9c179e"
            ],
            [
             0.4444444444444444,
             "#bd3786"
            ],
            [
             0.5555555555555556,
             "#d8576b"
            ],
            [
             0.6666666666666666,
             "#ed7953"
            ],
            [
             0.7777777777777778,
             "#fb9f3a"
            ],
            [
             0.8888888888888888,
             "#fdca26"
            ],
            [
             1,
             "#f0f921"
            ]
           ]
          },
          "colorway": [
           "#636efa",
           "#EF553B",
           "#00cc96",
           "#ab63fa",
           "#FFA15A",
           "#19d3f3",
           "#FF6692",
           "#B6E880",
           "#FF97FF",
           "#FECB52"
          ],
          "font": {
           "color": "#2a3f5f"
          },
          "geo": {
           "bgcolor": "white",
           "lakecolor": "white",
           "landcolor": "#E5ECF6",
           "showlakes": true,
           "showland": true,
           "subunitcolor": "white"
          },
          "hoverlabel": {
           "align": "left"
          },
          "hovermode": "closest",
          "mapbox": {
           "style": "light"
          },
          "paper_bgcolor": "white",
          "plot_bgcolor": "#E5ECF6",
          "polar": {
           "angularaxis": {
            "gridcolor": "white",
            "linecolor": "white",
            "ticks": ""
           },
           "bgcolor": "#E5ECF6",
           "radialaxis": {
            "gridcolor": "white",
            "linecolor": "white",
            "ticks": ""
           }
          },
          "scene": {
           "xaxis": {
            "backgroundcolor": "#E5ECF6",
            "gridcolor": "white",
            "gridwidth": 2,
            "linecolor": "white",
            "showbackground": true,
            "ticks": "",
            "zerolinecolor": "white"
           },
           "yaxis": {
            "backgroundcolor": "#E5ECF6",
            "gridcolor": "white",
            "gridwidth": 2,
            "linecolor": "white",
            "showbackground": true,
            "ticks": "",
            "zerolinecolor": "white"
           },
           "zaxis": {
            "backgroundcolor": "#E5ECF6",
            "gridcolor": "white",
            "gridwidth": 2,
            "linecolor": "white",
            "showbackground": true,
            "ticks": "",
            "zerolinecolor": "white"
           }
          },
          "shapedefaults": {
           "line": {
            "color": "#2a3f5f"
           }
          },
          "ternary": {
           "aaxis": {
            "gridcolor": "white",
            "linecolor": "white",
            "ticks": ""
           },
           "baxis": {
            "gridcolor": "white",
            "linecolor": "white",
            "ticks": ""
           },
           "bgcolor": "#E5ECF6",
           "caxis": {
            "gridcolor": "white",
            "linecolor": "white",
            "ticks": ""
           }
          },
          "title": {
           "x": 0.05
          },
          "xaxis": {
           "automargin": true,
           "gridcolor": "white",
           "linecolor": "white",
           "ticks": "",
           "title": {
            "standoff": 15
           },
           "zerolinecolor": "white",
           "zerolinewidth": 2
          },
          "yaxis": {
           "automargin": true,
           "gridcolor": "white",
           "linecolor": "white",
           "ticks": "",
           "title": {
            "standoff": 15
           },
           "zerolinecolor": "white",
           "zerolinewidth": 2
          }
         }
        },
        "xaxis": {
         "anchor": "y",
         "domain": [
          0,
          1
         ]
        },
        "yaxis": {
         "anchor": "x",
         "domain": [
          0,
          1
         ],
         "title": {
          "text": "FFMC"
         }
        }
       }
      }
     },
     "metadata": {},
     "output_type": "display_data"
    },
    {
     "data": {
      "application/vnd.plotly.v1+json": {
       "config": {
        "plotlyServerURL": "https://plot.ly"
       },
       "data": [
        {
         "alignmentgroup": "True",
         "hovertemplate": "DMC=%{y}<extra></extra>",
         "legendgroup": "",
         "marker": {
          "color": "#636efa"
         },
         "name": "",
         "notched": false,
         "offsetgroup": "",
         "orientation": "v",
         "showlegend": false,
         "type": "box",
         "x0": " ",
         "xaxis": "x",
         "y": [
          -1.3233255688310948,
          -1.1795407723785454,
          -1.0498218799267889,
          -1.2123612150470622,
          -0.9310431350312048,
          -0.39966453944569635,
          -0.3434009234425247,
          0.5396252721628055,
          0.2911276348154647,
          -0.3574668274433177,
          -0.3574668274433177,
          -0.5887728043452448,
          -0.6262818816806927,
          0.24424128814615514,
          0.350517007263257,
          0.4739843868257719,
          -1.1732892594893043,
          -1.2201756061586138,
          -1.2967566390518193,
          -1.3045710301633708,
          0.2911276348154647,
          -0.505940258562798,
          -0.22774793499156123,
          0.0004322854657454679,
          0.4458525788241864,
          0.49273892549349596,
          0.10983376102746781,
          0.24424128814615514,
          0.5396252721628055,
          0.6005775228329081,
          -0.402790295890317,
          -0.2980774549955256,
          -0.6434735421261061,
          -0.5512637270097973,
          -0.505940258562798,
          -0.47155693767197093,
          -1.1795407723785454,
          -1.084205200817616,
          -1.0498218799267889,
          -1.3311399599426463,
          -0.7856954603563451,
          -0.2183706656576992,
          -0.04020254831432296,
          -0.3574668274433177,
          -0.43717361678114386,
          -0.402790295890317,
          0.24424128814615514,
          -0.7591265305770697,
          -1.359271767944232,
          -0.9169772310304118,
          0.40834350148873866,
          -0.17617295365532076,
          0.0051209201326763805,
          0.0051209201326763805,
          0.05357014502429618,
          0.40834350148873866,
          -0.47155693767197093,
          -1.0060612897021002,
          -1.5874519884015388,
          -1.5264997377314362,
          -0.9310431350312048,
          -0.9310431350312048,
          -0.5559523616767282,
          -0.17617295365532076,
          -0.11990933765214914,
          0.05357014502429618,
          0.10983376102746781,
          0.10983376102746781,
          0.10983376102746781,
          -1.2123612150470622,
          -0.9779294817005144,
          -0.402790295890317,
          -1.2123612150470622,
          0.5693199583867017,
          0.4739843868257719,
          -1.626523943959297,
          -1.5264997377314362,
          -0.9169772310304118,
          -0.04489118298125387,
          0.16140874236370828,
          0.49273892549349596,
          -0.17617295365532076,
          -0.04020254831432296,
          0.0051209201326763805,
          0.05357014502429618,
          0.40834350148873866,
          0.40834350148873866,
          0.40834350148873866,
          0.6005775228329081,
          -1.1732892594893043,
          -0.2183706656576992,
          -1.1732892594893043,
          -0.39966453944569635,
          0.49273892549349596,
          -0.11990933765214914,
          -0.3262092629971113,
          -1.607769405291573,
          -1.6952905857409506,
          0.49273892549349596,
          0.49273892549349596,
          0.49273892549349596,
          0.5693199583867017,
          -0.04020254831432296,
          0.15984586414139784,
          -1.6749731688509166,
          -1.4280384097258862,
          -1.2529960488271306,
          -0.17617295365532076,
          -0.3574668274433177,
          -0.2980774549955256,
          -1.4280384097258862,
          -1.2123612150470622,
          -0.3262092629971113,
          -0.505940258562798,
          -1.3311399599426463,
          -1.3311399599426463,
          -1.1732892594893043,
          -1.1732892594893043,
          -1.1123370088192017,
          -0.5559523616767282,
          0.5396252721628055,
          0.5396252721628055,
          0.20673221081070742,
          -0.5856470479006242,
          -0.402790295890317,
          -1.0060612897021002,
          -0.9169772310304118,
          0.6005775228329081,
          -1.1404688168207875,
          -1.0060612897021002,
          -1.39678084527968,
          -1.359271767944232,
          -0.9310431350312048,
          -0.4684311812273502,
          -1.3311399599426463,
          0.4458525788241864,
          0.20673221081070742,
          0.24424128814615514,
          -0.9779294817005144,
          0.2911276348154647,
          0.24424128814615514,
          -0.17148431898838962,
          -0.04489118298125387,
          -0.9310431350312048,
          -0.17148431898838962,
          0.32551095570629157,
          -1.1123370088192017,
          -0.5856470479006242,
          -0.04020254831432296,
          -0.4684311812273502,
          -0.8513363456933786,
          -0.6606652025715196,
          -0.932606013253515,
          -0.402790295890317,
          0.5396252721628055,
          -0.04020254831432296,
          0.5396252721628055,
          0.0051209201326763805,
          0.0051209201326763805,
          0.10983376102746781,
          -1.1123370088192017,
          0.32551095570629157,
          -0.9497976736989285,
          0.15984586414139784,
          -0.3262092629971113,
          -1.4483558266159204,
          0.0051209201326763805,
          0.253618557480017,
          -0.9779294817005144,
          0.32551095570629157,
          0.350517007263257,
          -0.3199577501078699,
          0.49273892549349596,
          0.24424128814615514,
          -0.2183706656576992,
          -0.2183706656576992,
          -1.5905777448461595,
          -0.17617295365532076,
          -0.43717361678114386,
          0.5693199583867017,
          0.20673221081070742,
          -1.2201756061586138,
          -1.4889906603959888,
          -0.9748037252558938,
          0.3880260845987043,
          0.2911276348154647,
          -0.9310431350312048,
          0.24424128814615514,
          -1.0779536879283746,
          -1.045133245259858,
          -0.9779294817005144,
          0.32551095570629157,
          -0.04020254831432296,
          0.350517007263257,
          -0.04020254831432296,
          0.3880260845987043,
          -1.5905777448461595,
          0.40834350148873866,
          0.2911276348154647,
          -0.6262818816806927,
          0.2911276348154647,
          -1.1451574514877185,
          -1.5968292577354006,
          -1.1404688168207875,
          -0.9497976736989285,
          0.40834350148873866,
          0.4458525788241864,
          0.2911276348154647,
          0.10983376102746781,
          -0.4684311812273502,
          -1.0498218799267889,
          0.4458525788241864,
          -0.402790295890317,
          -0.9169772310304118,
          -1.1732892594893043,
          -1.1732892594893043,
          0.20673221081070742,
          -0.2980774549955256,
          0.350517007263257,
          -1.1123370088192017,
          -0.17617295365532076,
          0.4739843868257719,
          -0.9169772310304118,
          0.6162063050560113,
          -0.43717361678114386,
          0.6005775228329081,
          -0.9748037252558938,
          -0.4543652772265575,
          0.6005775228329081,
          -0.4543652772265575,
          0.350517007263257,
          0.6005775228329081,
          0.2911276348154647,
          -0.5856470479006242,
          0.15984586414139784,
          0.49273892549349596,
          0.15984586414139784,
          0.2911276348154647,
          0.15984586414139784,
          -1.685913316407089,
          -1.4639846088390236,
          -1.3686490372780942,
          0.1786004028091217,
          1.0038001041889701,
          1.0038001041889701,
          1.0038001041889701,
          1.0038001041889701,
          -0.3012032114401463,
          0.7256077806177336,
          0.7256077806177336,
          0.7256077806177336,
          0.7256077806177336,
          0.7256077806177336,
          -0.02613664431353,
          0.4255351619341521,
          -0.5293834318974527,
          0.09889361347129552,
          0.09889361347129552,
          0.9381592188519369,
          0.9381592188519369,
          -0.202741883434596,
          0.023875458800400255,
          0.023875458800400255,
          0.47242150860346166,
          0.8865842375156961,
          -0.13553811987525233,
          0.32551095570629157,
          0.6521525041691484,
          0.6521525041691484,
          0.6521525041691484,
          0.6521525041691484,
          0.6521525041691484,
          0.6521525041691484,
          -1.3076967866079916,
          -1.2983195172741298,
          -1.3201998123864742,
          -1.3358285946095774,
          -1.3358285946095774,
          -1.3358285946095774,
          -1.3358285946095774,
          -1.3155111777195432,
          -1.3358285946095774,
          -1.3030081519410608,
          -1.6296497004039174,
          -1.6562186301831927,
          0.9194046801842128,
          1.1288303619737956,
          -0.10428055542904595,
          -0.10428055542904595,
          -0.10428055542904595,
          -0.10428055542904595,
          -0.10428055542904595,
          -0.16679568432145872,
          1.0866326499714172,
          -0.3449638016648352,
          1.0866326499714172,
          -0.3340236541086629,
          -0.3340236541086629,
          0.5771343494982533,
          -0.6231561252360719,
          -0.27463428166087084,
          -0.27463428166087084,
          -0.26213125588238834,
          -0.26213125588238834,
          -1.2951937608295092,
          -0.4184190781134202,
          -0.4184190781134202,
          -0.4184190781134202,
          -0.07927450387208093,
          -0.07927450387208093,
          -0.07927450387208093,
          -0.07927450387208093,
          -1.010749924369031,
          0.07076180546970982,
          0.07076180546970982,
          0.37239730237560115,
          -0.22931081321387148,
          -0.22931081321387148,
          0.12702542147288123,
          0.12702542147288123,
          0.12702542147288123,
          0.12702542147288123,
          0.12702542147288123,
          0.40678062326642844,
          -0.8997855705849984,
          -0.1339752416529421,
          -0.1339752416529421,
          -0.1339752416529421,
          -0.1339752416529421,
          -0.1339752416529421,
          -0.1339752416529421,
          0.21142084547763854,
          0.21142084547763854,
          -0.36215546211024857,
          -0.03863967009201251,
          -0.03863967009201251,
          -0.03863967009201251,
          -0.03863967009201251,
          -0.03863967009201251,
          -0.03863967009201251,
          -0.03863967009201251,
          0.012935311244227976,
          0.30050490414932657,
          0.30050490414932657,
          0.30050490414932657,
          0.30050490414932657,
          0.30050490414932657,
          -0.18555022298918258,
          -0.18555022298918258,
          -0.18555022298918258,
          -0.18555022298918258,
          -0.18555022298918258,
          -0.18555022298918258,
          -0.18555022298918258,
          -0.18555022298918258,
          -0.18555022298918258,
          -0.18555022298918258,
          0.17391176814219078,
          0.17391176814219078,
          0.17391176814219078,
          0.17391176814219078,
          0.17391176814219078,
          -0.8700908843611023,
          0.012935311244227976,
          0.012935311244227976,
          0.012935311244227976,
          0.3348882250401538,
          0.3348882250401538,
          -0.25900549943776763,
          2.585432865167013,
          2.585432865167013,
          0.3552056419301877,
          1.4429688846581696,
          1.7430415033417512,
          2.799547181623527,
          -0.25900549943776763,
          1.502358257105962,
          1.8790119086827488,
          -1.437415679059748,
          -1.715608002630985,
          -0.1496040238760453,
          1.3007469664279308,
          1.669586226893166,
          2.149389841142434,
          2.5463609096092554,
          1.1006985539722103,
          -0.22149642210231987,
          -1.437415679059748,
          1.8149339015680257,
          1.8149339015680257,
          -1.5843262319569182,
          -0.3058918461070772,
          2.585432865167013,
          -1.4983679297298507,
          -1.660907264850124,
          -1.5921406230684698,
          -0.22149642210231987,
          1.1006985539722103,
          1.8790119086827488,
          -0.9591749430327905,
          -0.9591749430327905,
          -0.354341070998697,
          1.8149339015680257,
          1.3007469664279308,
          -0.40747893055724793,
          1.5820650464437882,
          2.8198645985135613,
          -1.6046436488469522,
          2.799547181623527,
          -0.22931081321387148,
          -1.6187095528477453,
          -1.6827875599624682,
          -0.2933888203285947,
          1.8790119086827488,
          1.9415270375751617,
          1.7430415033417512,
          0.831883499734835,
          -1.4624217306167133,
          1.4429688846581696,
          1.1006985539722103,
          1.2585492544255523,
          1.669586226893166,
          2.3791329398220515,
          -0.25900549943776763,
          1.8790119086827488,
          2.149389841142434,
          2.149389841142434,
          1.502358257105962,
          1.7430415033417512,
          1.1006985539722103,
          2.7557865913988375,
          1.0491235726359696,
          1.7430415033417512,
          1.9415270375751617,
          2.4838457807168424,
          -0.40904180877955815,
          1.502358257105962,
          2.2306595087025705,
          1.8790119086827488,
          -0.3058918461070772,
          2.799547181623527,
          1.502358257105962,
          -1.343642985721129,
          -0.4684311812273502,
          2.799547181623527,
          -0.9841809945897556,
          1.4429688846581696,
          -1.4624217306167133,
          2.7198403922857,
          1.1006985539722103,
          1.669586226893166,
          1.3429446784303096,
          1.9899762624667814,
          2.427582164713671,
          2.149389841142434,
          0.767805492620112,
          2.149389841142434,
          1.2585492544255523,
          1.8790119086827488,
          2.5463609096092554,
          1.8790119086827488,
          1.8790119086827488,
          2.585432865167013,
          -1.6640330212947443,
          -1.6640330212947443,
          -1.6765360470732271,
          -1.4968050515075404,
          -1.4436671919489894,
          -1.4108467492804728,
          -1.504619442619092,
          -1.504619442619092,
          -1.3358285946095774,
          -0.22931081321387148,
          -0.7778810692447935,
          -0.11053206831828732,
          0.16922313347525988,
          -0.39966453944569635,
          -0.1496040238760453,
          -0.1496040238760453,
          -0.10896919009597687,
          0.055133023246606634,
          0.055133023246606634,
          0.30363066059394744,
          0.30363066059394744,
          0.30363066059394744,
          0.38490032815408387,
          0.47554726504808253,
          0.47554726504808253,
          0.47554726504808253,
          0.47554726504808253,
          0.47554726504808253,
          0.6427752348352865,
          0.7365479281739057,
          0.7365479281739057,
          0.8303206215125248,
          1.0100516170782115,
          1.0100516170782115,
          1.0975727975275893,
          1.0975727975275893,
          1.0975727975275893,
          1.0975727975275893,
          1.0975727975275893,
          1.0975727975275893,
          0.4458525788241864,
          0.4458525788241864,
          0.8178175957340421,
          0.8756440899595241,
          0.8756440899595241,
          0.8756440899595241,
          0.8756440899595241,
          0.8756440899595241,
          -0.8466477110264475,
          -0.8466477110264475,
          -0.8466477110264475,
          -0.8466477110264475,
          0.5490025414966674,
          -1.685913316407089
         ],
         "y0": " ",
         "yaxis": "y"
        }
       ],
       "layout": {
        "boxmode": "group",
        "legend": {
         "tracegroupgap": 0
        },
        "margin": {
         "t": 60
        },
        "template": {
         "data": {
          "bar": [
           {
            "error_x": {
             "color": "#2a3f5f"
            },
            "error_y": {
             "color": "#2a3f5f"
            },
            "marker": {
             "line": {
              "color": "#E5ECF6",
              "width": 0.5
             },
             "pattern": {
              "fillmode": "overlay",
              "size": 10,
              "solidity": 0.2
             }
            },
            "type": "bar"
           }
          ],
          "barpolar": [
           {
            "marker": {
             "line": {
              "color": "#E5ECF6",
              "width": 0.5
             },
             "pattern": {
              "fillmode": "overlay",
              "size": 10,
              "solidity": 0.2
             }
            },
            "type": "barpolar"
           }
          ],
          "carpet": [
           {
            "aaxis": {
             "endlinecolor": "#2a3f5f",
             "gridcolor": "white",
             "linecolor": "white",
             "minorgridcolor": "white",
             "startlinecolor": "#2a3f5f"
            },
            "baxis": {
             "endlinecolor": "#2a3f5f",
             "gridcolor": "white",
             "linecolor": "white",
             "minorgridcolor": "white",
             "startlinecolor": "#2a3f5f"
            },
            "type": "carpet"
           }
          ],
          "choropleth": [
           {
            "colorbar": {
             "outlinewidth": 0,
             "ticks": ""
            },
            "type": "choropleth"
           }
          ],
          "contour": [
           {
            "colorbar": {
             "outlinewidth": 0,
             "ticks": ""
            },
            "colorscale": [
             [
              0,
              "#0d0887"
             ],
             [
              0.1111111111111111,
              "#46039f"
             ],
             [
              0.2222222222222222,
              "#7201a8"
             ],
             [
              0.3333333333333333,
              "#9c179e"
             ],
             [
              0.4444444444444444,
              "#bd3786"
             ],
             [
              0.5555555555555556,
              "#d8576b"
             ],
             [
              0.6666666666666666,
              "#ed7953"
             ],
             [
              0.7777777777777778,
              "#fb9f3a"
             ],
             [
              0.8888888888888888,
              "#fdca26"
             ],
             [
              1,
              "#f0f921"
             ]
            ],
            "type": "contour"
           }
          ],
          "contourcarpet": [
           {
            "colorbar": {
             "outlinewidth": 0,
             "ticks": ""
            },
            "type": "contourcarpet"
           }
          ],
          "heatmap": [
           {
            "colorbar": {
             "outlinewidth": 0,
             "ticks": ""
            },
            "colorscale": [
             [
              0,
              "#0d0887"
             ],
             [
              0.1111111111111111,
              "#46039f"
             ],
             [
              0.2222222222222222,
              "#7201a8"
             ],
             [
              0.3333333333333333,
              "#9c179e"
             ],
             [
              0.4444444444444444,
              "#bd3786"
             ],
             [
              0.5555555555555556,
              "#d8576b"
             ],
             [
              0.6666666666666666,
              "#ed7953"
             ],
             [
              0.7777777777777778,
              "#fb9f3a"
             ],
             [
              0.8888888888888888,
              "#fdca26"
             ],
             [
              1,
              "#f0f921"
             ]
            ],
            "type": "heatmap"
           }
          ],
          "heatmapgl": [
           {
            "colorbar": {
             "outlinewidth": 0,
             "ticks": ""
            },
            "colorscale": [
             [
              0,
              "#0d0887"
             ],
             [
              0.1111111111111111,
              "#46039f"
             ],
             [
              0.2222222222222222,
              "#7201a8"
             ],
             [
              0.3333333333333333,
              "#9c179e"
             ],
             [
              0.4444444444444444,
              "#bd3786"
             ],
             [
              0.5555555555555556,
              "#d8576b"
             ],
             [
              0.6666666666666666,
              "#ed7953"
             ],
             [
              0.7777777777777778,
              "#fb9f3a"
             ],
             [
              0.8888888888888888,
              "#fdca26"
             ],
             [
              1,
              "#f0f921"
             ]
            ],
            "type": "heatmapgl"
           }
          ],
          "histogram": [
           {
            "marker": {
             "pattern": {
              "fillmode": "overlay",
              "size": 10,
              "solidity": 0.2
             }
            },
            "type": "histogram"
           }
          ],
          "histogram2d": [
           {
            "colorbar": {
             "outlinewidth": 0,
             "ticks": ""
            },
            "colorscale": [
             [
              0,
              "#0d0887"
             ],
             [
              0.1111111111111111,
              "#46039f"
             ],
             [
              0.2222222222222222,
              "#7201a8"
             ],
             [
              0.3333333333333333,
              "#9c179e"
             ],
             [
              0.4444444444444444,
              "#bd3786"
             ],
             [
              0.5555555555555556,
              "#d8576b"
             ],
             [
              0.6666666666666666,
              "#ed7953"
             ],
             [
              0.7777777777777778,
              "#fb9f3a"
             ],
             [
              0.8888888888888888,
              "#fdca26"
             ],
             [
              1,
              "#f0f921"
             ]
            ],
            "type": "histogram2d"
           }
          ],
          "histogram2dcontour": [
           {
            "colorbar": {
             "outlinewidth": 0,
             "ticks": ""
            },
            "colorscale": [
             [
              0,
              "#0d0887"
             ],
             [
              0.1111111111111111,
              "#46039f"
             ],
             [
              0.2222222222222222,
              "#7201a8"
             ],
             [
              0.3333333333333333,
              "#9c179e"
             ],
             [
              0.4444444444444444,
              "#bd3786"
             ],
             [
              0.5555555555555556,
              "#d8576b"
             ],
             [
              0.6666666666666666,
              "#ed7953"
             ],
             [
              0.7777777777777778,
              "#fb9f3a"
             ],
             [
              0.8888888888888888,
              "#fdca26"
             ],
             [
              1,
              "#f0f921"
             ]
            ],
            "type": "histogram2dcontour"
           }
          ],
          "mesh3d": [
           {
            "colorbar": {
             "outlinewidth": 0,
             "ticks": ""
            },
            "type": "mesh3d"
           }
          ],
          "parcoords": [
           {
            "line": {
             "colorbar": {
              "outlinewidth": 0,
              "ticks": ""
             }
            },
            "type": "parcoords"
           }
          ],
          "pie": [
           {
            "automargin": true,
            "type": "pie"
           }
          ],
          "scatter": [
           {
            "marker": {
             "colorbar": {
              "outlinewidth": 0,
              "ticks": ""
             }
            },
            "type": "scatter"
           }
          ],
          "scatter3d": [
           {
            "line": {
             "colorbar": {
              "outlinewidth": 0,
              "ticks": ""
             }
            },
            "marker": {
             "colorbar": {
              "outlinewidth": 0,
              "ticks": ""
             }
            },
            "type": "scatter3d"
           }
          ],
          "scattercarpet": [
           {
            "marker": {
             "colorbar": {
              "outlinewidth": 0,
              "ticks": ""
             }
            },
            "type": "scattercarpet"
           }
          ],
          "scattergeo": [
           {
            "marker": {
             "colorbar": {
              "outlinewidth": 0,
              "ticks": ""
             }
            },
            "type": "scattergeo"
           }
          ],
          "scattergl": [
           {
            "marker": {
             "colorbar": {
              "outlinewidth": 0,
              "ticks": ""
             }
            },
            "type": "scattergl"
           }
          ],
          "scattermapbox": [
           {
            "marker": {
             "colorbar": {
              "outlinewidth": 0,
              "ticks": ""
             }
            },
            "type": "scattermapbox"
           }
          ],
          "scatterpolar": [
           {
            "marker": {
             "colorbar": {
              "outlinewidth": 0,
              "ticks": ""
             }
            },
            "type": "scatterpolar"
           }
          ],
          "scatterpolargl": [
           {
            "marker": {
             "colorbar": {
              "outlinewidth": 0,
              "ticks": ""
             }
            },
            "type": "scatterpolargl"
           }
          ],
          "scatterternary": [
           {
            "marker": {
             "colorbar": {
              "outlinewidth": 0,
              "ticks": ""
             }
            },
            "type": "scatterternary"
           }
          ],
          "surface": [
           {
            "colorbar": {
             "outlinewidth": 0,
             "ticks": ""
            },
            "colorscale": [
             [
              0,
              "#0d0887"
             ],
             [
              0.1111111111111111,
              "#46039f"
             ],
             [
              0.2222222222222222,
              "#7201a8"
             ],
             [
              0.3333333333333333,
              "#9c179e"
             ],
             [
              0.4444444444444444,
              "#bd3786"
             ],
             [
              0.5555555555555556,
              "#d8576b"
             ],
             [
              0.6666666666666666,
              "#ed7953"
             ],
             [
              0.7777777777777778,
              "#fb9f3a"
             ],
             [
              0.8888888888888888,
              "#fdca26"
             ],
             [
              1,
              "#f0f921"
             ]
            ],
            "type": "surface"
           }
          ],
          "table": [
           {
            "cells": {
             "fill": {
              "color": "#EBF0F8"
             },
             "line": {
              "color": "white"
             }
            },
            "header": {
             "fill": {
              "color": "#C8D4E3"
             },
             "line": {
              "color": "white"
             }
            },
            "type": "table"
           }
          ]
         },
         "layout": {
          "annotationdefaults": {
           "arrowcolor": "#2a3f5f",
           "arrowhead": 0,
           "arrowwidth": 1
          },
          "autotypenumbers": "strict",
          "coloraxis": {
           "colorbar": {
            "outlinewidth": 0,
            "ticks": ""
           }
          },
          "colorscale": {
           "diverging": [
            [
             0,
             "#8e0152"
            ],
            [
             0.1,
             "#c51b7d"
            ],
            [
             0.2,
             "#de77ae"
            ],
            [
             0.3,
             "#f1b6da"
            ],
            [
             0.4,
             "#fde0ef"
            ],
            [
             0.5,
             "#f7f7f7"
            ],
            [
             0.6,
             "#e6f5d0"
            ],
            [
             0.7,
             "#b8e186"
            ],
            [
             0.8,
             "#7fbc41"
            ],
            [
             0.9,
             "#4d9221"
            ],
            [
             1,
             "#276419"
            ]
           ],
           "sequential": [
            [
             0,
             "#0d0887"
            ],
            [
             0.1111111111111111,
             "#46039f"
            ],
            [
             0.2222222222222222,
             "#7201a8"
            ],
            [
             0.3333333333333333,
             "#9c179e"
            ],
            [
             0.4444444444444444,
             "#bd3786"
            ],
            [
             0.5555555555555556,
             "#d8576b"
            ],
            [
             0.6666666666666666,
             "#ed7953"
            ],
            [
             0.7777777777777778,
             "#fb9f3a"
            ],
            [
             0.8888888888888888,
             "#fdca26"
            ],
            [
             1,
             "#f0f921"
            ]
           ],
           "sequentialminus": [
            [
             0,
             "#0d0887"
            ],
            [
             0.1111111111111111,
             "#46039f"
            ],
            [
             0.2222222222222222,
             "#7201a8"
            ],
            [
             0.3333333333333333,
             "#9c179e"
            ],
            [
             0.4444444444444444,
             "#bd3786"
            ],
            [
             0.5555555555555556,
             "#d8576b"
            ],
            [
             0.6666666666666666,
             "#ed7953"
            ],
            [
             0.7777777777777778,
             "#fb9f3a"
            ],
            [
             0.8888888888888888,
             "#fdca26"
            ],
            [
             1,
             "#f0f921"
            ]
           ]
          },
          "colorway": [
           "#636efa",
           "#EF553B",
           "#00cc96",
           "#ab63fa",
           "#FFA15A",
           "#19d3f3",
           "#FF6692",
           "#B6E880",
           "#FF97FF",
           "#FECB52"
          ],
          "font": {
           "color": "#2a3f5f"
          },
          "geo": {
           "bgcolor": "white",
           "lakecolor": "white",
           "landcolor": "#E5ECF6",
           "showlakes": true,
           "showland": true,
           "subunitcolor": "white"
          },
          "hoverlabel": {
           "align": "left"
          },
          "hovermode": "closest",
          "mapbox": {
           "style": "light"
          },
          "paper_bgcolor": "white",
          "plot_bgcolor": "#E5ECF6",
          "polar": {
           "angularaxis": {
            "gridcolor": "white",
            "linecolor": "white",
            "ticks": ""
           },
           "bgcolor": "#E5ECF6",
           "radialaxis": {
            "gridcolor": "white",
            "linecolor": "white",
            "ticks": ""
           }
          },
          "scene": {
           "xaxis": {
            "backgroundcolor": "#E5ECF6",
            "gridcolor": "white",
            "gridwidth": 2,
            "linecolor": "white",
            "showbackground": true,
            "ticks": "",
            "zerolinecolor": "white"
           },
           "yaxis": {
            "backgroundcolor": "#E5ECF6",
            "gridcolor": "white",
            "gridwidth": 2,
            "linecolor": "white",
            "showbackground": true,
            "ticks": "",
            "zerolinecolor": "white"
           },
           "zaxis": {
            "backgroundcolor": "#E5ECF6",
            "gridcolor": "white",
            "gridwidth": 2,
            "linecolor": "white",
            "showbackground": true,
            "ticks": "",
            "zerolinecolor": "white"
           }
          },
          "shapedefaults": {
           "line": {
            "color": "#2a3f5f"
           }
          },
          "ternary": {
           "aaxis": {
            "gridcolor": "white",
            "linecolor": "white",
            "ticks": ""
           },
           "baxis": {
            "gridcolor": "white",
            "linecolor": "white",
            "ticks": ""
           },
           "bgcolor": "#E5ECF6",
           "caxis": {
            "gridcolor": "white",
            "linecolor": "white",
            "ticks": ""
           }
          },
          "title": {
           "x": 0.05
          },
          "xaxis": {
           "automargin": true,
           "gridcolor": "white",
           "linecolor": "white",
           "ticks": "",
           "title": {
            "standoff": 15
           },
           "zerolinecolor": "white",
           "zerolinewidth": 2
          },
          "yaxis": {
           "automargin": true,
           "gridcolor": "white",
           "linecolor": "white",
           "ticks": "",
           "title": {
            "standoff": 15
           },
           "zerolinecolor": "white",
           "zerolinewidth": 2
          }
         }
        },
        "xaxis": {
         "anchor": "y",
         "domain": [
          0,
          1
         ]
        },
        "yaxis": {
         "anchor": "x",
         "domain": [
          0,
          1
         ],
         "title": {
          "text": "DMC"
         }
        }
       }
      }
     },
     "metadata": {},
     "output_type": "display_data"
    },
    {
     "data": {
      "application/vnd.plotly.v1+json": {
       "config": {
        "plotlyServerURL": "https://plot.ly"
       },
       "data": [
        {
         "alignmentgroup": "True",
         "hovertemplate": "DC=%{y}<extra></extra>",
         "legendgroup": "",
         "marker": {
          "color": "#636efa"
         },
         "name": "",
         "notched": false,
         "offsetgroup": "",
         "orientation": "v",
         "showlegend": false,
         "type": "box",
         "x0": " ",
         "xaxis": "x",
         "y": [
          -1.8304767629860488,
          0.48889091543801605,
          0.5607154538443283,
          -1.8982662149650402,
          -1.7985995802102137,
          -0.24186323654980266,
          -0.21119657970216357,
          0.24315415201417212,
          0.5837154464800577,
          0.6079259650439832,
          0.6079259650439832,
          0.6660312095974044,
          0.4735575870141963,
          0.5591014192734,
          0.6119610514713041,
          0.6696627873819931,
          -1.8849504297548811,
          0.46911899194414364,
          -1.9253012940280905,
          -1.8191785209895501,
          0.5837154464800577,
          0.7116276862261306,
          -1.4039681276182276,
          -0.04252996704014929,
          0.18666294203167924,
          0.2157155643083896,
          0.48445232036796293,
          0.5591014192734,
          0.6999259355869,
          0.7289785578636108,
          0.5825049205518611,
          0.6535224416727095,
          0.6410136737480144,
          0.6874171676622051,
          0.7116276862261306,
          0.7354346961473244,
          0.48889091543801605,
          0.5433645822068485,
          0.5607154538443283,
          -1.9382135705955172,
          -0.7313192201838303,
          0.30771553485130687,
          0.4001190140369558,
          0.6079259650439832,
          0.7576276714975895,
          0.5825049205518611,
          0.5591014192734,
          -0.4238456344219762,
          -1.9499153212347482,
          -1.7921434419265,
          0.6393996391770862,
          0.33596113984255327,
          0.4283646190282023,
          0.4283646190282023,
          0.4574172413049126,
          0.6393996391770862,
          0.7354346961473244,
          0.5804873773382007,
          -2.0737924745535,
          -2.037476696707612,
          -1.7985995802102137,
          -1.7985995802102137,
          -0.3282140860944702,
          0.33596113984255327,
          0.3666277966901919,
          0.4574172413049126,
          0.48445232036796293,
          0.48445232036796293,
          0.48445232036796293,
          -1.8982662149650402,
          -1.8163539604904255,
          0.5825049205518611,
          -1.8982662149650402,
          0.26857519650629375,
          0.6696627873819931,
          -2.103652114115675,
          -2.037476696707612,
          -1.7921434419265,
          -0.07319662388778837,
          0.05511912450101716,
          0.2157155643083896,
          0.33596113984255327,
          0.4001190140369558,
          0.4283646190282023,
          0.4574172413049126,
          0.6393996391770862,
          0.6393996391770862,
          0.6393996391770862,
          0.7289785578636108,
          -1.8849504297548811,
          0.30771553485130687,
          -1.8849504297548811,
          -0.24186323654980266,
          0.2157155643083896,
          0.3666277966901919,
          0.6313294663224444,
          -2.0891258029773194,
          -2.1484415734589373,
          0.2157155643083896,
          0.2157155643083896,
          0.2157155643083896,
          0.26857519650629375,
          0.4001190140369558,
          0.5102768735028168,
          -2.173459109308327,
          -1.9797749607969228,
          -1.9111784915324672,
          0.33596113984255327,
          0.6079259650439832,
          0.6535224416727095,
          -1.9797749607969228,
          -1.8982662149650402,
          0.6313294663224444,
          0.7116276862261306,
          -1.9382135705955172,
          -1.9382135705955172,
          -1.8849504297548811,
          -1.8849504297548811,
          -1.86154692847642,
          -0.3282140860944702,
          0.24315415201417212,
          0.24315415201417212,
          0.5356979179949388,
          0.5001891574345144,
          0.5825049205518611,
          0.5804873773382007,
          -1.7921434419265,
          0.7289785578636108,
          0.5078558216464241,
          0.5804873773382007,
          -1.8591258766200274,
          -1.9499153212347482,
          -1.7985995802102137,
          0.5538558069178829,
          -1.9382135705955172,
          0.18666294203167924,
          0.5356979179949388,
          0.5591014192734,
          -0.9463893267600354,
          0.5837154464800577,
          0.5591014192734,
          -0.13977554993858354,
          -0.07319662388778837,
          -1.0153893046672229,
          -0.13977554993858354,
          0.1245226110509367,
          -1.86154692847642,
          0.5001891574345144,
          0.4001190140369558,
          0.5538558069178829,
          -0.4625824641242569,
          -0.7777227140980209,
          -0.4997052592556093,
          0.5825049205518611,
          0.6999259355869,
          0.4001190140369558,
          0.6999259355869,
          0.4283646190282023,
          0.4283646190282023,
          0.48445232036796293,
          -1.86154692847642,
          0.1245226110509367,
          -1.8058627357793913,
          0.5102768735028168,
          0.6313294663224444,
          -1.989055659579761,
          0.4283646190282023,
          0.09103139370417325,
          -1.8163539604904255,
          0.1245226110509367,
          0.6119610514713041,
          0.24880327301242133,
          0.2157155643083896,
          0.5591014192734,
          0.30771553485130687,
          0.30771553485130687,
          -1.9882486422942969,
          0.33596113984255327,
          0.7576276714975895,
          0.26857519650629375,
          0.5356979179949388,
          0.46911899194414364,
          -2.016090738642811,
          0.5978382489756809,
          0.15639979382677235,
          0.5837154464800577,
          -1.7985995802102137,
          0.5591014192734,
          -1.8502486864799215,
          -1.8381434271979586,
          -1.8163539604904255,
          0.1245226110509367,
          0.4001190140369558,
          0.6119610514713041,
          0.4001190140369558,
          0.15639979382677235,
          -1.9882486422942969,
          0.6393996391770862,
          0.5837154464800577,
          0.4735575870141963,
          0.5837154464800577,
          -1.8732486791156506,
          -2.08145913876541,
          0.5078558216464241,
          -1.8058627357793913,
          0.6393996391770862,
          0.18666294203167924,
          0.5837154464800577,
          0.48445232036796293,
          0.5538558069178829,
          0.5607154538443283,
          0.18666294203167924,
          0.5825049205518611,
          -1.7921434419265,
          -1.8849504297548811,
          -1.8849504297548811,
          0.5356979179949388,
          0.6535224416727095,
          0.6119610514713041,
          -1.86154692847642,
          0.33596113984255327,
          0.6696627873819931,
          -1.7921434419265,
          -0.9605121292556585,
          0.7576276714975895,
          0.7289785578636108,
          0.5978382489756809,
          -0.2709158588265132,
          0.7289785578636108,
          -0.2709158588265132,
          0.6119610514713041,
          0.7289785578636108,
          0.5837154464800577,
          0.5001891574345144,
          0.5102768735028168,
          0.2157155643083896,
          0.5102768735028168,
          0.5837154464800577,
          0.5102768735028168,
          -2.1791082303065763,
          -2.0354591534939517,
          -1.866792540831937,
          0.16931207039419902,
          0.6163996465413573,
          0.6163996465413573,
          0.6163996465413573,
          0.6163996465413573,
          -0.1789158882835962,
          0.47920670801244597,
          0.47920670801244597,
          0.47920670801244597,
          0.47920670801244597,
          0.47920670801244597,
          0.07085596156756865,
          0.29762781878300454,
          0.5925926366201635,
          0.13380330983377509,
          0.13380330983377509,
          0.5825049205518611,
          0.5825049205518611,
          -0.023968569474472966,
          0.10111910977247555,
          0.10111910977247555,
          0.3274874583451793,
          0.5506277377760259,
          0.009522647872290489,
          0.23871555694411903,
          0.4449084733802181,
          0.4449084733802181,
          0.4449084733802181,
          0.4449084733802181,
          0.4449084733802181,
          0.4449084733802181,
          -0.7845823610244664,
          -0.7801437659544133,
          -0.7906349906654477,
          -0.799915689448286,
          -0.799915689448286,
          -0.799915689448286,
          -0.799915689448286,
          -0.7882139388090551,
          -0.799915689448286,
          -0.7845823610244664,
          -2.13552929689151,
          -2.1472310475307412,
          -0.5493368223116567,
          -0.444828083844045,
          -0.2947228687477068,
          -0.2947228687477068,
          -0.2947228687477068,
          -0.2947228687477068,
          -0.2947228687477068,
          -0.32942461202266654,
          -0.47267018019255924,
          -0.43191580727661805,
          -0.47267018019255924,
          -1.037582280017488,
          -1.037582280017488,
          -0.6889508126969607,
          -1.2675822063747804,
          -1.0081261490980453,
          -1.0081261490980453,
          -1.274441853301226,
          -1.274441853301226,
          -1.7517925776532908,
          0.6712768219529214,
          0.6712768219529214,
          0.6712768219529214,
          0.848013607469578,
          0.848013607469578,
          0.848013607469578,
          0.848013607469578,
          0.6402066564625506,
          0.9246802495886755,
          0.9246802495886755,
          1.0876977412524405,
          0.7725574912786766,
          0.7725574912786766,
          0.9505048027235292,
          0.9505048027235292,
          0.9505048027235292,
          0.9505048027235292,
          0.9505048027235292,
          1.1090836993172413,
          0.7221189109371651,
          0.8213820370492598,
          0.8213820370492598,
          0.8213820370492598,
          0.8213820370492598,
          0.8213820370492598,
          0.8213820370492598,
          0.9981188225659159,
          0.9981188225659159,
          0.6987154096587039,
          0.8718206173907713,
          0.8718206173907713,
          0.8718206173907713,
          0.8718206173907713,
          0.8718206173907713,
          0.8718206173907713,
          0.8718206173907713,
          0.8972416618828929,
          1.045732842408303,
          1.045732842408303,
          1.045732842408303,
          1.045732842408303,
          1.045732842408303,
          0.7963645011998699,
          0.7963645011998699,
          0.7963645011998699,
          0.7963645011998699,
          0.7963645011998699,
          0.7963645011998699,
          0.7963645011998699,
          0.7963645011998699,
          0.7963645011998699,
          0.7963645011998699,
          0.9755223385729191,
          0.9755223385729191,
          0.9755223385729191,
          0.9755223385729191,
          0.9755223385729191,
          0.743908377644698,
          0.8972416618828929,
          0.8972416618828929,
          0.8972416618828929,
          1.0659082745449076,
          1.0659082745449076,
          0.7927329234152811,
          1.1183643981000795,
          1.1183643981000795,
          -0.11072292766187275,
          0.47032951787233973,
          0.6079259650439832,
          1.2402240082051712,
          0.7927329234152811,
          0.5030137179336392,
          0.6745048910947784,
          -2.0875117684063915,
          -1.519371599439606,
          -0.3596877602275735,
          0.38357515968493994,
          0.5732242217690232,
          0.8306627358320977,
          1.094153879536154,
          0.26252256686531233,
          0.8173469506219389,
          -2.0875117684063915,
          0.6406101651052828,
          0.6406101651052828,
          -1.975739874369602,
          0.7673118789231596,
          1.1183643981000795,
          -2.107687200542996,
          -2.022546876926525,
          -1.9813889953678514,
          0.8173469506219389,
          0.26252256686531233,
          0.6745048910947784,
          -1.0097401836689737,
          -1.0097401836689737,
          0.7414873257883058,
          0.6406101651052828,
          0.38357515968493994,
          0.7148557553679876,
          0.5365049352804028,
          1.2616099662699722,
          -1.989055659579761,
          1.2402240082051712,
          -0.3943895035025335,
          -1.997932849719867,
          -2.0350556448512194,
          -0.4270737035638328,
          0.6745048910947784,
          0.7067855825133458,
          0.6079259650439832,
          0.11241735176897395,
          -2.0967924671892297,
          0.47032951787233973,
          0.26252256686531233,
          0.35492604605096134,
          0.5732242217690232,
          1.0005398744223086,
          0.7927329234152811,
          0.6745048910947784,
          0.8306627358320977,
          0.8306627358320977,
          0.5030137179336392,
          0.6079259650439832,
          0.26252256686531233,
          1.2160134896412456,
          0.23145240137494108,
          0.6079259650439832,
          0.7067855825133458,
          1.062276696760319,
          -0.6913718645533531,
          0.5030137179336392,
          0.8895749976709832,
          0.6745048910947784,
          0.7673118789231596,
          1.2402240082051712,
          0.5030137179336392,
          -2.043125817705861,
          -0.7248630819001167,
          1.2402240082051712,
          -1.804652209851195,
          0.47032951787233973,
          -2.0967924671892297,
          1.194627531576445,
          0.26252256686531233,
          0.5732242217690232,
          0.4114172560334542,
          0.7370487307182526,
          1.0303995139844833,
          0.8306627358320977,
          0.0777156084940144,
          0.8306627358320977,
          0.35492604605096134,
          0.6745048910947784,
          1.094153879536154,
          0.6745048910947784,
          0.6745048910947784,
          1.1183643981000795,
          -2.1456170129598124,
          -2.1456170129598124,
          -2.149248590744402,
          -2.06209072391427,
          -2.0451433609195218,
          -2.0354591534939517,
          -2.107687200542996,
          -2.107687200542996,
          -1.91359954338886,
          -1.286950621225921,
          -1.1917225815411472,
          -0.9330735415498763,
          -0.7978981462346255,
          -0.6171262742906483,
          -0.5025298197547342,
          -0.5025298197547342,
          -0.46944211105070244,
          0.0486629862173036,
          0.0486629862173036,
          0.15801382839770062,
          0.15801382839770062,
          0.15801382839770062,
          0.1951366235290528,
          0.23346994458860154,
          0.23346994458860154,
          0.23346994458860154,
          0.23346994458860154,
          0.23346994458860154,
          0.3073120262085747,
          0.3456453472681234,
          0.3456453472681234,
          0.38357515968493994,
          0.45943478451857306,
          0.45943478451857306,
          0.4973645969353901,
          0.4973645969353901,
          0.4973645969353901,
          0.4973645969353901,
          0.4973645969353901,
          0.4973645969353901,
          0.5695926439844344,
          0.5695926439844344,
          0.7927329234152811,
          0.8258206321193129,
          0.8258206321193129,
          0.8258206321193129,
          0.8258206321193129,
          0.8258206321193129,
          0.47476811294239285,
          0.47476811294239285,
          0.47476811294239285,
          0.47476811294239285,
          0.2693822137917581,
          -1.7804416912872696
         ],
         "y0": " ",
         "yaxis": "y"
        }
       ],
       "layout": {
        "boxmode": "group",
        "legend": {
         "tracegroupgap": 0
        },
        "margin": {
         "t": 60
        },
        "template": {
         "data": {
          "bar": [
           {
            "error_x": {
             "color": "#2a3f5f"
            },
            "error_y": {
             "color": "#2a3f5f"
            },
            "marker": {
             "line": {
              "color": "#E5ECF6",
              "width": 0.5
             },
             "pattern": {
              "fillmode": "overlay",
              "size": 10,
              "solidity": 0.2
             }
            },
            "type": "bar"
           }
          ],
          "barpolar": [
           {
            "marker": {
             "line": {
              "color": "#E5ECF6",
              "width": 0.5
             },
             "pattern": {
              "fillmode": "overlay",
              "size": 10,
              "solidity": 0.2
             }
            },
            "type": "barpolar"
           }
          ],
          "carpet": [
           {
            "aaxis": {
             "endlinecolor": "#2a3f5f",
             "gridcolor": "white",
             "linecolor": "white",
             "minorgridcolor": "white",
             "startlinecolor": "#2a3f5f"
            },
            "baxis": {
             "endlinecolor": "#2a3f5f",
             "gridcolor": "white",
             "linecolor": "white",
             "minorgridcolor": "white",
             "startlinecolor": "#2a3f5f"
            },
            "type": "carpet"
           }
          ],
          "choropleth": [
           {
            "colorbar": {
             "outlinewidth": 0,
             "ticks": ""
            },
            "type": "choropleth"
           }
          ],
          "contour": [
           {
            "colorbar": {
             "outlinewidth": 0,
             "ticks": ""
            },
            "colorscale": [
             [
              0,
              "#0d0887"
             ],
             [
              0.1111111111111111,
              "#46039f"
             ],
             [
              0.2222222222222222,
              "#7201a8"
             ],
             [
              0.3333333333333333,
              "#9c179e"
             ],
             [
              0.4444444444444444,
              "#bd3786"
             ],
             [
              0.5555555555555556,
              "#d8576b"
             ],
             [
              0.6666666666666666,
              "#ed7953"
             ],
             [
              0.7777777777777778,
              "#fb9f3a"
             ],
             [
              0.8888888888888888,
              "#fdca26"
             ],
             [
              1,
              "#f0f921"
             ]
            ],
            "type": "contour"
           }
          ],
          "contourcarpet": [
           {
            "colorbar": {
             "outlinewidth": 0,
             "ticks": ""
            },
            "type": "contourcarpet"
           }
          ],
          "heatmap": [
           {
            "colorbar": {
             "outlinewidth": 0,
             "ticks": ""
            },
            "colorscale": [
             [
              0,
              "#0d0887"
             ],
             [
              0.1111111111111111,
              "#46039f"
             ],
             [
              0.2222222222222222,
              "#7201a8"
             ],
             [
              0.3333333333333333,
              "#9c179e"
             ],
             [
              0.4444444444444444,
              "#bd3786"
             ],
             [
              0.5555555555555556,
              "#d8576b"
             ],
             [
              0.6666666666666666,
              "#ed7953"
             ],
             [
              0.7777777777777778,
              "#fb9f3a"
             ],
             [
              0.8888888888888888,
              "#fdca26"
             ],
             [
              1,
              "#f0f921"
             ]
            ],
            "type": "heatmap"
           }
          ],
          "heatmapgl": [
           {
            "colorbar": {
             "outlinewidth": 0,
             "ticks": ""
            },
            "colorscale": [
             [
              0,
              "#0d0887"
             ],
             [
              0.1111111111111111,
              "#46039f"
             ],
             [
              0.2222222222222222,
              "#7201a8"
             ],
             [
              0.3333333333333333,
              "#9c179e"
             ],
             [
              0.4444444444444444,
              "#bd3786"
             ],
             [
              0.5555555555555556,
              "#d8576b"
             ],
             [
              0.6666666666666666,
              "#ed7953"
             ],
             [
              0.7777777777777778,
              "#fb9f3a"
             ],
             [
              0.8888888888888888,
              "#fdca26"
             ],
             [
              1,
              "#f0f921"
             ]
            ],
            "type": "heatmapgl"
           }
          ],
          "histogram": [
           {
            "marker": {
             "pattern": {
              "fillmode": "overlay",
              "size": 10,
              "solidity": 0.2
             }
            },
            "type": "histogram"
           }
          ],
          "histogram2d": [
           {
            "colorbar": {
             "outlinewidth": 0,
             "ticks": ""
            },
            "colorscale": [
             [
              0,
              "#0d0887"
             ],
             [
              0.1111111111111111,
              "#46039f"
             ],
             [
              0.2222222222222222,
              "#7201a8"
             ],
             [
              0.3333333333333333,
              "#9c179e"
             ],
             [
              0.4444444444444444,
              "#bd3786"
             ],
             [
              0.5555555555555556,
              "#d8576b"
             ],
             [
              0.6666666666666666,
              "#ed7953"
             ],
             [
              0.7777777777777778,
              "#fb9f3a"
             ],
             [
              0.8888888888888888,
              "#fdca26"
             ],
             [
              1,
              "#f0f921"
             ]
            ],
            "type": "histogram2d"
           }
          ],
          "histogram2dcontour": [
           {
            "colorbar": {
             "outlinewidth": 0,
             "ticks": ""
            },
            "colorscale": [
             [
              0,
              "#0d0887"
             ],
             [
              0.1111111111111111,
              "#46039f"
             ],
             [
              0.2222222222222222,
              "#7201a8"
             ],
             [
              0.3333333333333333,
              "#9c179e"
             ],
             [
              0.4444444444444444,
              "#bd3786"
             ],
             [
              0.5555555555555556,
              "#d8576b"
             ],
             [
              0.6666666666666666,
              "#ed7953"
             ],
             [
              0.7777777777777778,
              "#fb9f3a"
             ],
             [
              0.8888888888888888,
              "#fdca26"
             ],
             [
              1,
              "#f0f921"
             ]
            ],
            "type": "histogram2dcontour"
           }
          ],
          "mesh3d": [
           {
            "colorbar": {
             "outlinewidth": 0,
             "ticks": ""
            },
            "type": "mesh3d"
           }
          ],
          "parcoords": [
           {
            "line": {
             "colorbar": {
              "outlinewidth": 0,
              "ticks": ""
             }
            },
            "type": "parcoords"
           }
          ],
          "pie": [
           {
            "automargin": true,
            "type": "pie"
           }
          ],
          "scatter": [
           {
            "marker": {
             "colorbar": {
              "outlinewidth": 0,
              "ticks": ""
             }
            },
            "type": "scatter"
           }
          ],
          "scatter3d": [
           {
            "line": {
             "colorbar": {
              "outlinewidth": 0,
              "ticks": ""
             }
            },
            "marker": {
             "colorbar": {
              "outlinewidth": 0,
              "ticks": ""
             }
            },
            "type": "scatter3d"
           }
          ],
          "scattercarpet": [
           {
            "marker": {
             "colorbar": {
              "outlinewidth": 0,
              "ticks": ""
             }
            },
            "type": "scattercarpet"
           }
          ],
          "scattergeo": [
           {
            "marker": {
             "colorbar": {
              "outlinewidth": 0,
              "ticks": ""
             }
            },
            "type": "scattergeo"
           }
          ],
          "scattergl": [
           {
            "marker": {
             "colorbar": {
              "outlinewidth": 0,
              "ticks": ""
             }
            },
            "type": "scattergl"
           }
          ],
          "scattermapbox": [
           {
            "marker": {
             "colorbar": {
              "outlinewidth": 0,
              "ticks": ""
             }
            },
            "type": "scattermapbox"
           }
          ],
          "scatterpolar": [
           {
            "marker": {
             "colorbar": {
              "outlinewidth": 0,
              "ticks": ""
             }
            },
            "type": "scatterpolar"
           }
          ],
          "scatterpolargl": [
           {
            "marker": {
             "colorbar": {
              "outlinewidth": 0,
              "ticks": ""
             }
            },
            "type": "scatterpolargl"
           }
          ],
          "scatterternary": [
           {
            "marker": {
             "colorbar": {
              "outlinewidth": 0,
              "ticks": ""
             }
            },
            "type": "scatterternary"
           }
          ],
          "surface": [
           {
            "colorbar": {
             "outlinewidth": 0,
             "ticks": ""
            },
            "colorscale": [
             [
              0,
              "#0d0887"
             ],
             [
              0.1111111111111111,
              "#46039f"
             ],
             [
              0.2222222222222222,
              "#7201a8"
             ],
             [
              0.3333333333333333,
              "#9c179e"
             ],
             [
              0.4444444444444444,
              "#bd3786"
             ],
             [
              0.5555555555555556,
              "#d8576b"
             ],
             [
              0.6666666666666666,
              "#ed7953"
             ],
             [
              0.7777777777777778,
              "#fb9f3a"
             ],
             [
              0.8888888888888888,
              "#fdca26"
             ],
             [
              1,
              "#f0f921"
             ]
            ],
            "type": "surface"
           }
          ],
          "table": [
           {
            "cells": {
             "fill": {
              "color": "#EBF0F8"
             },
             "line": {
              "color": "white"
             }
            },
            "header": {
             "fill": {
              "color": "#C8D4E3"
             },
             "line": {
              "color": "white"
             }
            },
            "type": "table"
           }
          ]
         },
         "layout": {
          "annotationdefaults": {
           "arrowcolor": "#2a3f5f",
           "arrowhead": 0,
           "arrowwidth": 1
          },
          "autotypenumbers": "strict",
          "coloraxis": {
           "colorbar": {
            "outlinewidth": 0,
            "ticks": ""
           }
          },
          "colorscale": {
           "diverging": [
            [
             0,
             "#8e0152"
            ],
            [
             0.1,
             "#c51b7d"
            ],
            [
             0.2,
             "#de77ae"
            ],
            [
             0.3,
             "#f1b6da"
            ],
            [
             0.4,
             "#fde0ef"
            ],
            [
             0.5,
             "#f7f7f7"
            ],
            [
             0.6,
             "#e6f5d0"
            ],
            [
             0.7,
             "#b8e186"
            ],
            [
             0.8,
             "#7fbc41"
            ],
            [
             0.9,
             "#4d9221"
            ],
            [
             1,
             "#276419"
            ]
           ],
           "sequential": [
            [
             0,
             "#0d0887"
            ],
            [
             0.1111111111111111,
             "#46039f"
            ],
            [
             0.2222222222222222,
             "#7201a8"
            ],
            [
             0.3333333333333333,
             "#9c179e"
            ],
            [
             0.4444444444444444,
             "#bd3786"
            ],
            [
             0.5555555555555556,
             "#d8576b"
            ],
            [
             0.6666666666666666,
             "#ed7953"
            ],
            [
             0.7777777777777778,
             "#fb9f3a"
            ],
            [
             0.8888888888888888,
             "#fdca26"
            ],
            [
             1,
             "#f0f921"
            ]
           ],
           "sequentialminus": [
            [
             0,
             "#0d0887"
            ],
            [
             0.1111111111111111,
             "#46039f"
            ],
            [
             0.2222222222222222,
             "#7201a8"
            ],
            [
             0.3333333333333333,
             "#9c179e"
            ],
            [
             0.4444444444444444,
             "#bd3786"
            ],
            [
             0.5555555555555556,
             "#d8576b"
            ],
            [
             0.6666666666666666,
             "#ed7953"
            ],
            [
             0.7777777777777778,
             "#fb9f3a"
            ],
            [
             0.8888888888888888,
             "#fdca26"
            ],
            [
             1,
             "#f0f921"
            ]
           ]
          },
          "colorway": [
           "#636efa",
           "#EF553B",
           "#00cc96",
           "#ab63fa",
           "#FFA15A",
           "#19d3f3",
           "#FF6692",
           "#B6E880",
           "#FF97FF",
           "#FECB52"
          ],
          "font": {
           "color": "#2a3f5f"
          },
          "geo": {
           "bgcolor": "white",
           "lakecolor": "white",
           "landcolor": "#E5ECF6",
           "showlakes": true,
           "showland": true,
           "subunitcolor": "white"
          },
          "hoverlabel": {
           "align": "left"
          },
          "hovermode": "closest",
          "mapbox": {
           "style": "light"
          },
          "paper_bgcolor": "white",
          "plot_bgcolor": "#E5ECF6",
          "polar": {
           "angularaxis": {
            "gridcolor": "white",
            "linecolor": "white",
            "ticks": ""
           },
           "bgcolor": "#E5ECF6",
           "radialaxis": {
            "gridcolor": "white",
            "linecolor": "white",
            "ticks": ""
           }
          },
          "scene": {
           "xaxis": {
            "backgroundcolor": "#E5ECF6",
            "gridcolor": "white",
            "gridwidth": 2,
            "linecolor": "white",
            "showbackground": true,
            "ticks": "",
            "zerolinecolor": "white"
           },
           "yaxis": {
            "backgroundcolor": "#E5ECF6",
            "gridcolor": "white",
            "gridwidth": 2,
            "linecolor": "white",
            "showbackground": true,
            "ticks": "",
            "zerolinecolor": "white"
           },
           "zaxis": {
            "backgroundcolor": "#E5ECF6",
            "gridcolor": "white",
            "gridwidth": 2,
            "linecolor": "white",
            "showbackground": true,
            "ticks": "",
            "zerolinecolor": "white"
           }
          },
          "shapedefaults": {
           "line": {
            "color": "#2a3f5f"
           }
          },
          "ternary": {
           "aaxis": {
            "gridcolor": "white",
            "linecolor": "white",
            "ticks": ""
           },
           "baxis": {
            "gridcolor": "white",
            "linecolor": "white",
            "ticks": ""
           },
           "bgcolor": "#E5ECF6",
           "caxis": {
            "gridcolor": "white",
            "linecolor": "white",
            "ticks": ""
           }
          },
          "title": {
           "x": 0.05
          },
          "xaxis": {
           "automargin": true,
           "gridcolor": "white",
           "linecolor": "white",
           "ticks": "",
           "title": {
            "standoff": 15
           },
           "zerolinecolor": "white",
           "zerolinewidth": 2
          },
          "yaxis": {
           "automargin": true,
           "gridcolor": "white",
           "linecolor": "white",
           "ticks": "",
           "title": {
            "standoff": 15
           },
           "zerolinecolor": "white",
           "zerolinewidth": 2
          }
         }
        },
        "xaxis": {
         "anchor": "y",
         "domain": [
          0,
          1
         ]
        },
        "yaxis": {
         "anchor": "x",
         "domain": [
          0,
          1
         ],
         "title": {
          "text": "DC"
         }
        }
       }
      }
     },
     "metadata": {},
     "output_type": "display_data"
    },
    {
     "data": {
      "application/vnd.plotly.v1+json": {
       "config": {
        "plotlyServerURL": "https://plot.ly"
       },
       "data": [
        {
         "alignmentgroup": "True",
         "hovertemplate": "ISI=%{y}<extra></extra>",
         "legendgroup": "",
         "marker": {
          "color": "#636efa"
         },
         "name": "",
         "notched": false,
         "offsetgroup": "",
         "orientation": "v",
         "showlegend": false,
         "type": "box",
         "x0": " ",
         "xaxis": "x",
         "y": [
          -0.8609455677111861,
          -0.5096882687663312,
          -0.5096882687663312,
          -0.004755901533102472,
          0.126965585571218,
          1.2465982259579427,
          -0.1145238074533696,
          0.3684549785958056,
          -0.44382752521417096,
          -0.42187394403011763,
          -0.42187394403011763,
          2.9809311394981637,
          -1.8049495586254831,
          -0.44382752521417096,
          0.039151260835004226,
          1.0709695764855154,
          -0.2681988757417436,
          -1.321970772576308,
          -0.597502593502545,
          -0.8609455677111861,
          -0.44382752521417096,
          0.039151260835004226,
          10.33538083615606,
          -0.6194561746865983,
          2.475998772264935,
          0.34650139741175223,
          0.697758696356607,
          -0.44382752521417096,
          -0.20233813218958338,
          -0.20233813218958338,
          1.510041200166584,
          -0.42187394403011763,
          -0.7072704994228122,
          -0.2681988757417436,
          0.039151260835004226,
          -0.597502593502545,
          -0.5096882687663312,
          -0.0706166450852629,
          -0.5096882687663312,
          -1.1463421231038806,
          -1.6512744903371093,
          -0.02670948271715582,
          1.7515305931911715,
          -0.42187394403011763,
          -0.6194561746865983,
          1.510041200166584,
          -0.44382752521417096,
          0.43431572214796604,
          -1.0804813795517203,
          -0.8828991488952395,
          0.039151260835004226,
          -0.597502593502545,
          0.126965585571218,
          0.126965585571218,
          -0.597502593502545,
          0.039151260835004226,
          -0.597502593502545,
          -0.04866306390120917,
          -1.5195530032327889,
          -0.8170384053430793,
          0.126965585571218,
          0.126965585571218,
          -0.29015245692579694,
          -0.597502593502545,
          -0.7072704994228122,
          -0.597502593502545,
          0.697758696356607,
          0.697758696356607,
          0.697758696356607,
          -0.004755901533102472,
          0.7636194399087675,
          1.510041200166584,
          -0.004755901533102472,
          -0.004755901533102472,
          1.0709695764855154,
          -0.29015245692579694,
          -0.8170384053430793,
          -0.8828991488952395,
          0.7636194399087675,
          -0.44382752521417096,
          0.34650139741175223,
          -0.597502593502545,
          1.7515305931911715,
          0.126965585571218,
          -0.597502593502545,
          0.039151260835004226,
          0.039151260835004226,
          0.039151260835004226,
          -0.20233813218958338,
          -0.2681988757417436,
          -0.02670948271715582,
          -0.2681988757417436,
          1.2465982259579427,
          0.34650139741175223,
          -0.7072704994228122,
          -0.9268063112633463,
          -1.4097850973125217,
          -1.826903139809537,
          0.34650139741175223,
          0.34650139741175223,
          0.34650139741175223,
          -0.004755901533102472,
          1.7515305931911715,
          -0.09257022626931626,
          -1.3439243537603613,
          -1.3658779349444148,
          -0.3340596192939039,
          -0.597502593502545,
          -0.42187394403011763,
          -0.42187394403011763,
          -1.3658779349444148,
          -0.004755901533102472,
          -0.9268063112633463,
          0.039151260835004226,
          -1.1463421231038806,
          -1.1463421231038806,
          -0.2681988757417436,
          -0.2681988757417436,
          -0.6194561746865983,
          -0.29015245692579694,
          0.3684549785958056,
          0.3684549785958056,
          -0.1145238074533696,
          -1.278063610208201,
          1.510041200166584,
          -0.04866306390120917,
          -0.8828991488952395,
          -0.20233813218958338,
          -0.8389919865271326,
          -0.04866306390120917,
          -1.8049495586254831,
          -1.0804813795517203,
          0.126965585571218,
          1.949112823847652,
          -1.1463421231038806,
          2.475998772264935,
          -0.1145238074533696,
          -0.44382752521417096,
          -1.1243885419198272,
          -0.44382752521417096,
          -0.44382752521417096,
          0.9172945081971412,
          0.7636194399087675,
          -0.0706166450852629,
          0.9172945081971412,
          0.3025942350436456,
          -0.6194561746865983,
          -1.278063610208201,
          1.7515305931911715,
          1.949112823847652,
          -0.42187394403011763,
          -0.3999203628460641,
          -0.6194561746865983,
          1.510041200166584,
          -0.20233813218958338,
          1.7515305931911715,
          -0.20233813218958338,
          0.126965585571218,
          0.126965585571218,
          0.697758696356607,
          -0.6194561746865983,
          0.3025942350436456,
          -0.2681988757417436,
          -0.09257022626931626,
          -0.9268063112633463,
          -1.321970772576308,
          0.126965585571218,
          1.6417626872709044,
          0.7636194399087675,
          0.3025942350436456,
          0.039151260835004226,
          -0.5316418499503848,
          0.34650139741175223,
          -0.44382752521417096,
          -0.02670948271715582,
          -0.02670948271715582,
          -1.3878315161284682,
          -0.597502593502545,
          -0.6194561746865983,
          -0.004755901533102472,
          -0.1145238074533696,
          -1.321970772576308,
          -1.1243885419198272,
          0.45626930333201937,
          1.3344125506941564,
          -0.44382752521417096,
          0.126965585571218,
          -0.44382752521417096,
          -0.24624529455769006,
          -0.7731312429749724,
          0.7636194399087675,
          0.3025942350436456,
          1.7515305931911715,
          0.039151260835004226,
          1.7515305931911715,
          1.3344125506941564,
          -1.3878315161284682,
          0.039151260835004226,
          -0.44382752521417096,
          -1.8049495586254831,
          -0.44382752521417096,
          -0.3999203628460641,
          -1.5195530032327889,
          -0.8389919865271326,
          -0.2681988757417436,
          0.039151260835004226,
          2.475998772264935,
          -0.44382752521417096,
          0.697758696356607,
          1.949112823847652,
          -0.5096882687663312,
          2.475998772264935,
          1.510041200166584,
          -0.8828991488952395,
          -0.2681988757417436,
          -0.2681988757417436,
          -0.1145238074533696,
          -0.42187394403011763,
          0.039151260835004226,
          -0.6194561746865983,
          -0.597502593502545,
          1.0709695764855154,
          -0.8828991488952395,
          -0.4877346875822779,
          -0.6194561746865983,
          -0.20233813218958338,
          0.45626930333201937,
          0.6318979528044469,
          -0.20233813218958338,
          0.6318979528044469,
          0.039151260835004226,
          -0.20233813218958338,
          -0.44382752521417096,
          -1.278063610208201,
          -0.09257022626931626,
          0.34650139741175223,
          -0.09257022626931626,
          -0.44382752521417096,
          -0.09257022626931626,
          -1.212202866656041,
          -1.1463421231038806,
          -1.475645840864682,
          0.8514337646449812,
          1.0490159953014622,
          1.0490159953014622,
          1.0490159953014622,
          1.0490159953014622,
          0.126965585571218,
          0.9831552517493016,
          0.9831552517493016,
          0.9831552517493016,
          0.9831552517493016,
          0.9831552517493016,
          -0.22429171337363674,
          -0.597502593502545,
          -0.8828991488952395,
          0.43431572214796604,
          0.43431572214796604,
          1.0270624141174083,
          1.0270624141174083,
          1.1807374824057826,
          -0.02670948271715582,
          -0.02670948271715582,
          -0.42187394403011763,
          0.8733873458290345,
          1.2246446447738892,
          3.0028847206822165,
          1.1587839012217291,
          1.1587839012217291,
          1.1587839012217291,
          1.1587839012217291,
          1.1587839012217291,
          1.1587839012217291,
          -0.4877346875822779,
          -0.8170384053430793,
          -1.5415065844168423,
          -1.4097850973125217,
          -1.4097850973125217,
          -1.4097850973125217,
          -1.4097850973125217,
          -1.0804813795517203,
          -1.4097850973125217,
          -1.2341564478400942,
          -1.278063610208201,
          -0.597502593502545,
          0.7197122775406607,
          0.7636194399087675,
          -0.004755901533102472,
          -0.004755901533102472,
          -0.004755901533102472,
          -0.004755901533102472,
          -0.004755901533102472,
          -0.597502593502545,
          0.43431572214796604,
          -0.1145238074533696,
          0.43431572214796604,
          -0.5755490123184914,
          -0.5755490123184914,
          0.8075266022768741,
          -1.8927638833616969,
          -0.3340596192939039,
          -0.3340596192939039,
          -0.42187394403011763,
          -0.42187394403011763,
          -1.212202866656041,
          -0.7292240806068655,
          -0.7292240806068655,
          -0.7292240806068655,
          0.19282632912337844,
          0.19282632912337844,
          0.19282632912337844,
          0.19282632912337844,
          -1.8927638833616969,
          -0.04866306390120917,
          -0.04866306390120917,
          -0.3999203628460641,
          -0.09257022626931626,
          -0.09257022626931626,
          -0.3340596192939039,
          -0.3340596192939039,
          -0.3340596192939039,
          -0.3340596192939039,
          -0.3340596192939039,
          -0.4877346875822779,
          -0.7950848241590257,
          -0.13647738863742295,
          -0.13647738863742295,
          -0.13647738863742295,
          -0.13647738863742295,
          -0.13647738863742295,
          -0.13647738863742295,
          -0.1145238074533696,
          -0.1145238074533696,
          0.10501200438716465,
          -0.6194561746865983,
          -0.6194561746865983,
          -0.6194561746865983,
          -0.6194561746865983,
          -0.6194561746865983,
          -0.6194561746865983,
          -0.6194561746865983,
          -0.5535954311344381,
          -0.3340596192939039,
          -0.3340596192939039,
          -0.3340596192939039,
          -0.3340596192939039,
          -0.3340596192939039,
          0.126965585571218,
          0.126965585571218,
          0.126965585571218,
          0.126965585571218,
          0.126965585571218,
          0.126965585571218,
          0.126965585571218,
          0.126965585571218,
          0.126965585571218,
          0.126965585571218,
          0.2586870726755385,
          0.2586870726755385,
          0.2586870726755385,
          0.2586870726755385,
          0.2586870726755385,
          0.5660372092522865,
          -0.5535954311344381,
          -0.5535954311344381,
          -0.5535954311344381,
          0.7636194399087675,
          0.7636194399087675,
          -0.13647738863742295,
          -0.42187394403011763,
          -0.42187394403011763,
          -0.22429171337363674,
          -0.20233813218958338,
          1.0709695764855154,
          -0.3560132004779572,
          -0.13647738863742295,
          -0.18038455100553002,
          -0.13647738863742295,
          -0.22429171337363674,
          -1.9805782080979109,
          0.6318979528044469,
          -0.4877346875822779,
          1.9710664050317057,
          -0.597502593502545,
          -0.29015245692579694,
          -0.3121060381098505,
          0.5221300468841799,
          -0.22429171337363674,
          0.6538515339885003,
          0.6538515339885003,
          -1.0804813795517203,
          -0.3999203628460641,
          -0.42187394403011763,
          0.5221300468841799,
          -1.4975994220487354,
          -1.212202866656041,
          0.5221300468841799,
          -0.3121060381098505,
          -0.13647738863742295,
          1.0929231576695688,
          1.0929231576695688,
          -0.15843096982147628,
          0.6538515339885003,
          -0.4877346875822779,
          -1.168295704287934,
          0.10501200438716465,
          -1.1024349607357737,
          -1.3439243537603613,
          -0.3560132004779572,
          0.6758051151725536,
          -1.3878315161284682,
          -1.2561100290241478,
          0.17087274793932508,
          -0.13647738863742295,
          0.23673349149148512,
          1.0709695764855154,
          -0.02670948271715582,
          0.19282632912337844,
          -0.20233813218958338,
          -0.3121060381098505,
          -0.2681988757417436,
          1.9710664050317057,
          -0.8389919865271326,
          -0.13647738863742295,
          -0.13647738863742295,
          -0.597502593502545,
          -0.597502593502545,
          -0.18038455100553002,
          1.0709695764855154,
          -0.3121060381098505,
          -0.4877346875822779,
          0.126965585571218,
          1.0709695764855154,
          0.23673349149148512,
          -0.7731312429749724,
          -0.751177661790919,
          -0.18038455100553002,
          0.14891916675527134,
          -0.13647738863742295,
          -0.3999203628460641,
          -0.3560132004779572,
          -0.18038455100553002,
          -1.168295704287934,
          1.707623430823065,
          -0.3560132004779572,
          0.3684549785958056,
          -0.20233813218958338,
          0.19282632912337844,
          0.23673349149148512,
          -0.3121060381098505,
          1.9710664050317057,
          1.5978555249027977,
          -0.3340596192939039,
          -0.751177661790919,
          -0.597502593502545,
          1.685669849639011,
          -0.597502593502545,
          -0.2681988757417436,
          -0.13647738863742295,
          -0.29015245692579694,
          -0.13647738863742295,
          -0.13647738863742295,
          -0.42187394403011763,
          -1.5634601656008955,
          -1.5634601656008955,
          -1.5854137467849492,
          -0.42187394403011763,
          -0.37796678166201075,
          -0.1145238074533696,
          0.7197122775406607,
          0.7197122775406607,
          -0.7292240806068655,
          -0.9487598924473997,
          0.08305842320311131,
          0.39040855977985933,
          1.9710664050317057,
          0.19282632912337844,
          1.2465982259579427,
          1.2465982259579427,
          -0.5755490123184914,
          0.10501200438716465,
          0.10501200438716465,
          1.114876738853622,
          1.114876738853622,
          1.114876738853622,
          2.695534584105469,
          1.9052056614795454,
          1.9052056614795454,
          1.9052056614795454,
          1.9052056614795454,
          1.9052056614795454,
          1.0490159953014622,
          0.5001764657001264,
          0.5001764657001264,
          1.0929231576695688,
          1.707623430823065,
          1.707623430823065,
          1.1587839012217291,
          1.1587839012217291,
          1.1587839012217291,
          1.1587839012217291,
          1.1587839012217291,
          1.1587839012217291,
          2.4101380287127743,
          2.4101380287127743,
          0.23673349149148512,
          -0.42187394403011763,
          -0.42187394403011763,
          -0.42187394403011763,
          -0.42187394403011763,
          -0.42187394403011763,
          -1.5634601656008955,
          -1.5634601656008955,
          -1.5634601656008955,
          -1.5634601656008955,
          0.5001764657001264,
          -1.7390888150733232
         ],
         "y0": " ",
         "yaxis": "y"
        }
       ],
       "layout": {
        "boxmode": "group",
        "legend": {
         "tracegroupgap": 0
        },
        "margin": {
         "t": 60
        },
        "template": {
         "data": {
          "bar": [
           {
            "error_x": {
             "color": "#2a3f5f"
            },
            "error_y": {
             "color": "#2a3f5f"
            },
            "marker": {
             "line": {
              "color": "#E5ECF6",
              "width": 0.5
             },
             "pattern": {
              "fillmode": "overlay",
              "size": 10,
              "solidity": 0.2
             }
            },
            "type": "bar"
           }
          ],
          "barpolar": [
           {
            "marker": {
             "line": {
              "color": "#E5ECF6",
              "width": 0.5
             },
             "pattern": {
              "fillmode": "overlay",
              "size": 10,
              "solidity": 0.2
             }
            },
            "type": "barpolar"
           }
          ],
          "carpet": [
           {
            "aaxis": {
             "endlinecolor": "#2a3f5f",
             "gridcolor": "white",
             "linecolor": "white",
             "minorgridcolor": "white",
             "startlinecolor": "#2a3f5f"
            },
            "baxis": {
             "endlinecolor": "#2a3f5f",
             "gridcolor": "white",
             "linecolor": "white",
             "minorgridcolor": "white",
             "startlinecolor": "#2a3f5f"
            },
            "type": "carpet"
           }
          ],
          "choropleth": [
           {
            "colorbar": {
             "outlinewidth": 0,
             "ticks": ""
            },
            "type": "choropleth"
           }
          ],
          "contour": [
           {
            "colorbar": {
             "outlinewidth": 0,
             "ticks": ""
            },
            "colorscale": [
             [
              0,
              "#0d0887"
             ],
             [
              0.1111111111111111,
              "#46039f"
             ],
             [
              0.2222222222222222,
              "#7201a8"
             ],
             [
              0.3333333333333333,
              "#9c179e"
             ],
             [
              0.4444444444444444,
              "#bd3786"
             ],
             [
              0.5555555555555556,
              "#d8576b"
             ],
             [
              0.6666666666666666,
              "#ed7953"
             ],
             [
              0.7777777777777778,
              "#fb9f3a"
             ],
             [
              0.8888888888888888,
              "#fdca26"
             ],
             [
              1,
              "#f0f921"
             ]
            ],
            "type": "contour"
           }
          ],
          "contourcarpet": [
           {
            "colorbar": {
             "outlinewidth": 0,
             "ticks": ""
            },
            "type": "contourcarpet"
           }
          ],
          "heatmap": [
           {
            "colorbar": {
             "outlinewidth": 0,
             "ticks": ""
            },
            "colorscale": [
             [
              0,
              "#0d0887"
             ],
             [
              0.1111111111111111,
              "#46039f"
             ],
             [
              0.2222222222222222,
              "#7201a8"
             ],
             [
              0.3333333333333333,
              "#9c179e"
             ],
             [
              0.4444444444444444,
              "#bd3786"
             ],
             [
              0.5555555555555556,
              "#d8576b"
             ],
             [
              0.6666666666666666,
              "#ed7953"
             ],
             [
              0.7777777777777778,
              "#fb9f3a"
             ],
             [
              0.8888888888888888,
              "#fdca26"
             ],
             [
              1,
              "#f0f921"
             ]
            ],
            "type": "heatmap"
           }
          ],
          "heatmapgl": [
           {
            "colorbar": {
             "outlinewidth": 0,
             "ticks": ""
            },
            "colorscale": [
             [
              0,
              "#0d0887"
             ],
             [
              0.1111111111111111,
              "#46039f"
             ],
             [
              0.2222222222222222,
              "#7201a8"
             ],
             [
              0.3333333333333333,
              "#9c179e"
             ],
             [
              0.4444444444444444,
              "#bd3786"
             ],
             [
              0.5555555555555556,
              "#d8576b"
             ],
             [
              0.6666666666666666,
              "#ed7953"
             ],
             [
              0.7777777777777778,
              "#fb9f3a"
             ],
             [
              0.8888888888888888,
              "#fdca26"
             ],
             [
              1,
              "#f0f921"
             ]
            ],
            "type": "heatmapgl"
           }
          ],
          "histogram": [
           {
            "marker": {
             "pattern": {
              "fillmode": "overlay",
              "size": 10,
              "solidity": 0.2
             }
            },
            "type": "histogram"
           }
          ],
          "histogram2d": [
           {
            "colorbar": {
             "outlinewidth": 0,
             "ticks": ""
            },
            "colorscale": [
             [
              0,
              "#0d0887"
             ],
             [
              0.1111111111111111,
              "#46039f"
             ],
             [
              0.2222222222222222,
              "#7201a8"
             ],
             [
              0.3333333333333333,
              "#9c179e"
             ],
             [
              0.4444444444444444,
              "#bd3786"
             ],
             [
              0.5555555555555556,
              "#d8576b"
             ],
             [
              0.6666666666666666,
              "#ed7953"
             ],
             [
              0.7777777777777778,
              "#fb9f3a"
             ],
             [
              0.8888888888888888,
              "#fdca26"
             ],
             [
              1,
              "#f0f921"
             ]
            ],
            "type": "histogram2d"
           }
          ],
          "histogram2dcontour": [
           {
            "colorbar": {
             "outlinewidth": 0,
             "ticks": ""
            },
            "colorscale": [
             [
              0,
              "#0d0887"
             ],
             [
              0.1111111111111111,
              "#46039f"
             ],
             [
              0.2222222222222222,
              "#7201a8"
             ],
             [
              0.3333333333333333,
              "#9c179e"
             ],
             [
              0.4444444444444444,
              "#bd3786"
             ],
             [
              0.5555555555555556,
              "#d8576b"
             ],
             [
              0.6666666666666666,
              "#ed7953"
             ],
             [
              0.7777777777777778,
              "#fb9f3a"
             ],
             [
              0.8888888888888888,
              "#fdca26"
             ],
             [
              1,
              "#f0f921"
             ]
            ],
            "type": "histogram2dcontour"
           }
          ],
          "mesh3d": [
           {
            "colorbar": {
             "outlinewidth": 0,
             "ticks": ""
            },
            "type": "mesh3d"
           }
          ],
          "parcoords": [
           {
            "line": {
             "colorbar": {
              "outlinewidth": 0,
              "ticks": ""
             }
            },
            "type": "parcoords"
           }
          ],
          "pie": [
           {
            "automargin": true,
            "type": "pie"
           }
          ],
          "scatter": [
           {
            "marker": {
             "colorbar": {
              "outlinewidth": 0,
              "ticks": ""
             }
            },
            "type": "scatter"
           }
          ],
          "scatter3d": [
           {
            "line": {
             "colorbar": {
              "outlinewidth": 0,
              "ticks": ""
             }
            },
            "marker": {
             "colorbar": {
              "outlinewidth": 0,
              "ticks": ""
             }
            },
            "type": "scatter3d"
           }
          ],
          "scattercarpet": [
           {
            "marker": {
             "colorbar": {
              "outlinewidth": 0,
              "ticks": ""
             }
            },
            "type": "scattercarpet"
           }
          ],
          "scattergeo": [
           {
            "marker": {
             "colorbar": {
              "outlinewidth": 0,
              "ticks": ""
             }
            },
            "type": "scattergeo"
           }
          ],
          "scattergl": [
           {
            "marker": {
             "colorbar": {
              "outlinewidth": 0,
              "ticks": ""
             }
            },
            "type": "scattergl"
           }
          ],
          "scattermapbox": [
           {
            "marker": {
             "colorbar": {
              "outlinewidth": 0,
              "ticks": ""
             }
            },
            "type": "scattermapbox"
           }
          ],
          "scatterpolar": [
           {
            "marker": {
             "colorbar": {
              "outlinewidth": 0,
              "ticks": ""
             }
            },
            "type": "scatterpolar"
           }
          ],
          "scatterpolargl": [
           {
            "marker": {
             "colorbar": {
              "outlinewidth": 0,
              "ticks": ""
             }
            },
            "type": "scatterpolargl"
           }
          ],
          "scatterternary": [
           {
            "marker": {
             "colorbar": {
              "outlinewidth": 0,
              "ticks": ""
             }
            },
            "type": "scatterternary"
           }
          ],
          "surface": [
           {
            "colorbar": {
             "outlinewidth": 0,
             "ticks": ""
            },
            "colorscale": [
             [
              0,
              "#0d0887"
             ],
             [
              0.1111111111111111,
              "#46039f"
             ],
             [
              0.2222222222222222,
              "#7201a8"
             ],
             [
              0.3333333333333333,
              "#9c179e"
             ],
             [
              0.4444444444444444,
              "#bd3786"
             ],
             [
              0.5555555555555556,
              "#d8576b"
             ],
             [
              0.6666666666666666,
              "#ed7953"
             ],
             [
              0.7777777777777778,
              "#fb9f3a"
             ],
             [
              0.8888888888888888,
              "#fdca26"
             ],
             [
              1,
              "#f0f921"
             ]
            ],
            "type": "surface"
           }
          ],
          "table": [
           {
            "cells": {
             "fill": {
              "color": "#EBF0F8"
             },
             "line": {
              "color": "white"
             }
            },
            "header": {
             "fill": {
              "color": "#C8D4E3"
             },
             "line": {
              "color": "white"
             }
            },
            "type": "table"
           }
          ]
         },
         "layout": {
          "annotationdefaults": {
           "arrowcolor": "#2a3f5f",
           "arrowhead": 0,
           "arrowwidth": 1
          },
          "autotypenumbers": "strict",
          "coloraxis": {
           "colorbar": {
            "outlinewidth": 0,
            "ticks": ""
           }
          },
          "colorscale": {
           "diverging": [
            [
             0,
             "#8e0152"
            ],
            [
             0.1,
             "#c51b7d"
            ],
            [
             0.2,
             "#de77ae"
            ],
            [
             0.3,
             "#f1b6da"
            ],
            [
             0.4,
             "#fde0ef"
            ],
            [
             0.5,
             "#f7f7f7"
            ],
            [
             0.6,
             "#e6f5d0"
            ],
            [
             0.7,
             "#b8e186"
            ],
            [
             0.8,
             "#7fbc41"
            ],
            [
             0.9,
             "#4d9221"
            ],
            [
             1,
             "#276419"
            ]
           ],
           "sequential": [
            [
             0,
             "#0d0887"
            ],
            [
             0.1111111111111111,
             "#46039f"
            ],
            [
             0.2222222222222222,
             "#7201a8"
            ],
            [
             0.3333333333333333,
             "#9c179e"
            ],
            [
             0.4444444444444444,
             "#bd3786"
            ],
            [
             0.5555555555555556,
             "#d8576b"
            ],
            [
             0.6666666666666666,
             "#ed7953"
            ],
            [
             0.7777777777777778,
             "#fb9f3a"
            ],
            [
             0.8888888888888888,
             "#fdca26"
            ],
            [
             1,
             "#f0f921"
            ]
           ],
           "sequentialminus": [
            [
             0,
             "#0d0887"
            ],
            [
             0.1111111111111111,
             "#46039f"
            ],
            [
             0.2222222222222222,
             "#7201a8"
            ],
            [
             0.3333333333333333,
             "#9c179e"
            ],
            [
             0.4444444444444444,
             "#bd3786"
            ],
            [
             0.5555555555555556,
             "#d8576b"
            ],
            [
             0.6666666666666666,
             "#ed7953"
            ],
            [
             0.7777777777777778,
             "#fb9f3a"
            ],
            [
             0.8888888888888888,
             "#fdca26"
            ],
            [
             1,
             "#f0f921"
            ]
           ]
          },
          "colorway": [
           "#636efa",
           "#EF553B",
           "#00cc96",
           "#ab63fa",
           "#FFA15A",
           "#19d3f3",
           "#FF6692",
           "#B6E880",
           "#FF97FF",
           "#FECB52"
          ],
          "font": {
           "color": "#2a3f5f"
          },
          "geo": {
           "bgcolor": "white",
           "lakecolor": "white",
           "landcolor": "#E5ECF6",
           "showlakes": true,
           "showland": true,
           "subunitcolor": "white"
          },
          "hoverlabel": {
           "align": "left"
          },
          "hovermode": "closest",
          "mapbox": {
           "style": "light"
          },
          "paper_bgcolor": "white",
          "plot_bgcolor": "#E5ECF6",
          "polar": {
           "angularaxis": {
            "gridcolor": "white",
            "linecolor": "white",
            "ticks": ""
           },
           "bgcolor": "#E5ECF6",
           "radialaxis": {
            "gridcolor": "white",
            "linecolor": "white",
            "ticks": ""
           }
          },
          "scene": {
           "xaxis": {
            "backgroundcolor": "#E5ECF6",
            "gridcolor": "white",
            "gridwidth": 2,
            "linecolor": "white",
            "showbackground": true,
            "ticks": "",
            "zerolinecolor": "white"
           },
           "yaxis": {
            "backgroundcolor": "#E5ECF6",
            "gridcolor": "white",
            "gridwidth": 2,
            "linecolor": "white",
            "showbackground": true,
            "ticks": "",
            "zerolinecolor": "white"
           },
           "zaxis": {
            "backgroundcolor": "#E5ECF6",
            "gridcolor": "white",
            "gridwidth": 2,
            "linecolor": "white",
            "showbackground": true,
            "ticks": "",
            "zerolinecolor": "white"
           }
          },
          "shapedefaults": {
           "line": {
            "color": "#2a3f5f"
           }
          },
          "ternary": {
           "aaxis": {
            "gridcolor": "white",
            "linecolor": "white",
            "ticks": ""
           },
           "baxis": {
            "gridcolor": "white",
            "linecolor": "white",
            "ticks": ""
           },
           "bgcolor": "#E5ECF6",
           "caxis": {
            "gridcolor": "white",
            "linecolor": "white",
            "ticks": ""
           }
          },
          "title": {
           "x": 0.05
          },
          "xaxis": {
           "automargin": true,
           "gridcolor": "white",
           "linecolor": "white",
           "ticks": "",
           "title": {
            "standoff": 15
           },
           "zerolinecolor": "white",
           "zerolinewidth": 2
          },
          "yaxis": {
           "automargin": true,
           "gridcolor": "white",
           "linecolor": "white",
           "ticks": "",
           "title": {
            "standoff": 15
           },
           "zerolinecolor": "white",
           "zerolinewidth": 2
          }
         }
        },
        "xaxis": {
         "anchor": "y",
         "domain": [
          0,
          1
         ]
        },
        "yaxis": {
         "anchor": "x",
         "domain": [
          0,
          1
         ],
         "title": {
          "text": "ISI"
         }
        }
       }
      }
     },
     "metadata": {},
     "output_type": "display_data"
    },
    {
     "data": {
      "application/vnd.plotly.v1+json": {
       "config": {
        "plotlyServerURL": "https://plot.ly"
       },
       "data": [
        {
         "alignmentgroup": "True",
         "hovertemplate": "temp=%{y}<extra></extra>",
         "legendgroup": "",
         "marker": {
          "color": "#636efa"
         },
         "name": "",
         "notched": false,
         "offsetgroup": "",
         "orientation": "v",
         "showlegend": false,
         "type": "box",
         "x0": " ",
         "xaxis": "x",
         "y": [
          -1.842640146758736,
          -0.1532782649268027,
          -0.7393834076031878,
          -1.8254017602094303,
          -1.2910117771809617,
          0.5707339701440257,
          0.8982633145808294,
          -1.8771169198573467,
          -0.9979592058427693,
          0.6741642894398586,
          -0.18775503802541343,
          0.07082076021416817,
          -0.3256621304198571,
          0.415588491200277,
          1.2947462052148542,
          0.6914026759891637,
          -0.6531914748566605,
          -0.37737729006777354,
          -0.5152843824622169,
          -1.6530178947163758,
          -0.10156310527888623,
          0.03634398711555741,
          0.36387333155236057,
          0.10529753331277893,
          0.8293097683836074,
          -0.4463308362649951,
          0.019105600566251726,
          0.08805914676347325,
          1.949804894088461,
          0.6741642894398586,
          1.1223623397217997,
          -1.3254885502795728,
          0.294919785355139,
          -0.20499342457471914,
          0.3983501046509713,
          -0.11880149182819193,
          0.4845420373974985,
          -1.308250163730267,
          -0.18775503802541343,
          -0.8255753403497149,
          0.7603562221863858,
          -0.08432471872958117,
          -0.39461567661707864,
          0.12253591986208462,
          -1.0324359789413802,
          1.208554272468327,
          -0.7221450210538823,
          0.7086410625384694,
          -1.22205823098374,
          -1.3599653233781837,
          0.32939655845374977,
          0.45006526429888777,
          0.26044301225652766,
          0.26044301225652766,
          -0.2222318111240242,
          1.518845230355825,
          -0.18775503802541343,
          -0.8772904999976311,
          -0.8600521134483257,
          -1.1358662982372127,
          -1.2737733906316564,
          -2.308076583589983,
          -0.015371172532359034,
          0.32939655845374977,
          0.725879449087775,
          -0.049847945630969795,
          0.7086410625384694,
          0.12253591986208462,
          0.12253591986208462,
          -0.29118535732124634,
          -0.5325227690115223,
          -0.20499342457471914,
          -0.5669995421101334,
          -0.27394697077194063,
          1.50160684380652,
          -2.1012159449983177,
          -0.5497611555608279,
          -1.8254017602094303,
          -0.7221450210538823,
          0.4673036508481934,
          0.10529753331277893,
          -0.17051665147610837,
          -0.049847945630969795,
          -0.39461567661707864,
          0.2259662391579169,
          0.45006526429888777,
          1.1223623397217997,
          0.6052107432426365,
          1.1051239531724946,
          -0.2567085842226356,
          -0.7221450210538823,
          -0.2567085842226356,
          0.32939655845374977,
          -0.11880149182819193,
          0.7775946087356909,
          -0.18775503802541343,
          -1.0669127520399913,
          -0.2567085842226356,
          -1.256535004082351,
          0.15701269296069537,
          0.15701269296069537,
          -0.7738601807017985,
          0.20872785260861182,
          0.8982633145808294,
          -2.3425533566885934,
          -1.0669127520399913,
          -0.11880149182819193,
          0.43282687774958206,
          0.2432046257072226,
          -0.2567085842226356,
          -0.8945288865469367,
          -0.015371172532359034,
          0.6741642894398586,
          0.0018672140169460397,
          -0.5325227690115223,
          -0.5842379286594387,
          -1.256535004082351,
          -0.6359530883073552,
          -1.4289188695754054,
          0.12253591986208462,
          -1.4806340292233215,
          -0.30842374387055144,
          0.6224491297919421,
          -0.17051665147610837,
          0.15701269296069537,
          0.294919785355139,
          -1.7047330543642925,
          -0.29118535732124634,
          -0.5152843824622169,
          -0.6014763152087441,
          -0.6014763152087441,
          -0.8428137268990203,
          -1.4289188695754054,
          -0.2222318111240242,
          -0.6876682479552713,
          -0.2222318111240242,
          -0.29118535732124634,
          -0.5669995421101334,
          -0.1532782649268027,
          0.4845420373974985,
          0.5190188104961093,
          0.7603562221863858,
          0.3983501046509713,
          -0.39461567661707864,
          0.846548154932913,
          1.4671300707079085,
          -0.980720819293464,
          0.9155017011301345,
          -0.2567085842226356,
          0.8293097683836074,
          0.7431178356370801,
          1.0189320204259675,
          0.9844552473273567,
          0.20872785260861182,
          1.8463745747926288,
          -0.42909244971569,
          1.6739907092995743,
          -0.08432471872958117,
          0.27768139880583337,
          0.019105600566251726,
          -0.48080760936360584,
          0.2432046257072226,
          -0.6359530883073552,
          -0.18775503802541343,
          -0.18775503802541343,
          -2.3425533566885934,
          -0.39461567661707864,
          0.7775946087356909,
          -0.7393834076031878,
          0.3121581719044441,
          0.5190188104961093,
          -0.2567085842226356,
          0.20872785260861182,
          -0.20499342457471914,
          -0.8083369538004096,
          0.2432046257072226,
          -2.2563614239420664,
          0.05358237366486249,
          -0.10156310527888623,
          -0.7738601807017985,
          0.8637865414822181,
          0.03634398711555741,
          -1.1186279116879074,
          -0.36013890351846783,
          0.32939655845374977,
          -0.2222318111240242,
          -1.2737733906316564,
          0.36387333155236057,
          -0.9634824327441583,
          -1.2737733906316564,
          -1.2392966175330455,
          0.9155017011301345,
          0.9844552473273567,
          0.9327400876794403,
          0.9844552473273567,
          0.7948329952849966,
          -2.2563614239420664,
          0.45006526429888777,
          -0.8600521134483257,
          0.6396875163412479,
          0.4673036508481934,
          -1.1186279116879074,
          -1.739209827462903,
          0.2259662391579169,
          -0.6531914748566605,
          0.5534955835947206,
          0.6914026759891637,
          0.3121581719044441,
          0.12253591986208462,
          0.7431178356370801,
          -0.08432471872958117,
          -2.3770301297872045,
          0.20872785260861182,
          -1.3599653233781837,
          -0.3256621304198571,
          -0.3256621304198571,
          -0.3429005169691628,
          -1.1186279116879074,
          0.08805914676347325,
          -0.6359530883073552,
          -0.46356922281430074,
          -0.049847945630969795,
          -1.3599653233781837,
          -0.9462440461948529,
          -0.6014763152087441,
          0.6914026759891637,
          -0.48080760936360584,
          0.20872785260861182,
          1.6222755496516579,
          -0.42909244971569,
          1.2947462052148542,
          1.5360836169051306,
          -0.03260955908166472,
          0.9327400876794403,
          -0.20499342457471914,
          0.12253591986208462,
          -0.11880149182819193,
          -0.015371172532359034,
          1.070647180073884,
          -0.9462440461948529,
          -0.6359530883073552,
          -0.37737729006777354,
          -0.6014763152087441,
          0.5190188104961093,
          0.6052107432426365,
          1.3636997514120763,
          1.174077499369716,
          0.3121581719044441,
          1.6912290958488794,
          0.4845420373974985,
          1.3636997514120763,
          0.8810249280315238,
          0.5534955835947206,
          0.43282687774958206,
          0.0018672140169460397,
          0.5879723566933314,
          0.8637865414822181,
          0.43282687774958206,
          0.294919785355139,
          0.8293097683836074,
          1.6222755496516579,
          -1.3254885502795728,
          0.43282687774958206,
          0.07082076021416817,
          0.5017804239468042,
          0.5534955835947206,
          0.08805914676347325,
          0.8293097683836074,
          0.36387333155236057,
          0.03634398711555741,
          0.5017804239468042,
          0.20872785260861182,
          0.2259662391579169,
          -2.428745289435121,
          -2.3770301297872045,
          -2.3770301297872045,
          -2.463222062533732,
          -2.463222062533732,
          -2.463222062533732,
          -2.463222062533732,
          -2.8769433397170627,
          -2.3770301297872045,
          -2.5321756087309537,
          -1.739209827462903,
          -1.963308852603874,
          0.7775946087356909,
          -1.0841511385892966,
          0.5534955835947206,
          0.9155017011301345,
          0.9327400876794403,
          -0.03260955908166472,
          1.1051239531724946,
          0.6914026759891637,
          1.3809381379613814,
          -0.30842374387055144,
          0.5707339701440257,
          -0.7910985672511038,
          -0.6014763152087441,
          0.12253591986208462,
          -1.4289188695754054,
          0.3121581719044441,
          0.03634398711555741,
          0.05358237366486249,
          0.05358237366486249,
          -1.308250163730267,
          0.019105600566251726,
          -0.30842374387055144,
          0.846548154932913,
          -0.4980459959129115,
          1.0361704069752724,
          1.1051239531724946,
          1.0189320204259675,
          -1.1531046847865183,
          0.9327400876794403,
          0.1397743064113897,
          -0.06708633218027547,
          -0.049847945630969795,
          0.05358237366486249,
          0.4673036508481934,
          0.4673036508481934,
          0.0018672140169460397,
          -0.36013890351846783,
          -0.36013890351846783,
          -1.0324359789413802,
          -0.8945288865469367,
          0.9155017011301345,
          0.8982633145808294,
          0.3983501046509713,
          0.1397743064113897,
          0.7948329952849966,
          0.9155017011301345,
          0.45006526429888777,
          -0.30842374387055144,
          -0.136039878377497,
          -0.1532782649268027,
          -1.5668259619698488,
          0.07082076021416817,
          0.7086410625384694,
          0.656925902890553,
          0.26044301225652766,
          0.07082076021416817,
          -0.5497611555608279,
          0.294919785355139,
          -0.5152843824622169,
          -1.1531046847865183,
          -0.36013890351846783,
          0.415588491200277,
          -1.5151108023219326,
          -0.2567085842226356,
          -1.0496743654906855,
          -1.5151108023219326,
          -0.6014763152087441,
          0.294919785355139,
          0.15701269296069537,
          -0.03260955908166472,
          0.32939655845374977,
          0.32939655845374977,
          -0.5152843824622169,
          0.1397743064113897,
          0.3811117181016662,
          -0.08432471872958117,
          -0.27394697077194063,
          -0.6359530883073552,
          -0.5152843824622169,
          0.3811117181016662,
          0.12253591986208462,
          -0.5152843824622169,
          -0.42909244971569,
          -0.36013890351846783,
          -0.8772904999976311,
          -0.8772904999976311,
          -0.8083369538004096,
          -1.4633956426740162,
          0.2432046257072226,
          -1.4806340292233215,
          -0.6014763152087441,
          0.3811117181016662,
          0.5190188104961093,
          -1.7564482140122089,
          -2.359791743237899,
          0.07082076021416817,
          -0.46356922281430074,
          1.6050371631023521,
          0.27768139880583337,
          0.415588491200277,
          0.34663494500305486,
          0.294919785355139,
          -1.256535004082351,
          0.7603562221863858,
          0.7603562221863858,
          -1.963308852603874,
          0.3121581719044441,
          0.5190188104961093,
          -0.6359530883073552,
          -2.3425533566885934,
          -1.5151108023219326,
          0.26044301225652766,
          0.9327400876794403,
          1.208554272468327,
          1.5705603900037415,
          1.5705603900037415,
          0.6741642894398586,
          1.0534087935245782,
          0.415588491200277,
          0.5017804239468042,
          1.5533220034544357,
          -0.3256621304198571,
          -0.8083369538004096,
          0.17425107951000046,
          0.7775946087356909,
          -0.7221450210538823,
          -1.842640146758736,
          0.6741642894398586,
          1.2947462052148542,
          0.8982633145808294,
          1.4843684572572142,
          1.277507818665549,
          -0.8772904999976311,
          1.0361704069752724,
          1.0189320204259675,
          1.2602694321162433,
          2.0532352133842937,
          1.7946594151447124,
          0.5879723566933314,
          1.3809381379613814,
          0.26044301225652766,
          0.26044301225652766,
          1.5533220034544357,
          1.2602694321162433,
          0.9844552473273567,
          0.08805914676347325,
          0.7603562221863858,
          0.8637865414822181,
          0.34663494500305486,
          0.5707339701440257,
          0.846548154932913,
          1.3636997514120763,
          -0.8083369538004096,
          0.8120713818343023,
          0.03634398711555741,
          -0.46356922281430074,
          1.1396007262711054,
          -1.377203709927489,
          -0.7049066345045767,
          -0.46356922281430074,
          -0.27394697077194063,
          0.03634398711555741,
          -1.7219714409135978,
          -1.4461572561247107,
          0.07082076021416817,
          0.7775946087356909,
          -1.22205823098374,
          -0.20499342457471914,
          -0.2567085842226356,
          -0.36013890351846783,
          -0.17051665147610837,
          -0.39461567661707864,
          0.17425107951000046,
          0.0018672140169460397,
          -0.5842379286594387,
          0.0018672140169460397,
          0.0018672140169460397,
          -0.7566217941524931,
          -2.463222062533732,
          -2.3770301297872045,
          -2.463222062533732,
          -1.4978724157726273,
          -1.3254885502795728,
          -0.9634824327441583,
          -0.8945288865469367,
          -0.2222318111240242,
          -0.1532782649268027,
          -0.7910985672511038,
          0.967216860778051,
          1.2947462052148542,
          0.656925902890553,
          1.4326532976092978,
          1.2430310455669382,
          -0.11880149182819193,
          0.6396875163412479,
          1.949804894088461,
          1.949804894088461,
          0.7775946087356909,
          2.087711986482905,
          2.449718104018319,
          2.018758440285683,
          0.8982633145808294,
          1.2947462052148542,
          0.08805914676347325,
          0.294919785355139,
          1.6912290958488794,
          2.3290493981731806,
          2.3290493981731806,
          1.4843684572572142,
          2.0532352133842937,
          0.8637865414822181,
          2.363526171271792,
          2.311811011623875,
          2.4841948771169293,
          1.4498916841586034,
          0.4673036508481934,
          0.4673036508481934,
          0.3121581719044441,
          1.7774210285954066,
          1.7257058689474902,
          1.3464613648627706,
          -0.06708633218027547,
          1.208554272468327,
          1.208554272468327,
          0.3811117181016662,
          -0.11880149182819193,
          1.5360836169051306,
          1.5360836169051306,
          0.5190188104961093,
          0.3983501046509713,
          1.1568391128204112,
          -1.22205823098374
         ],
         "y0": " ",
         "yaxis": "y"
        }
       ],
       "layout": {
        "boxmode": "group",
        "legend": {
         "tracegroupgap": 0
        },
        "margin": {
         "t": 60
        },
        "template": {
         "data": {
          "bar": [
           {
            "error_x": {
             "color": "#2a3f5f"
            },
            "error_y": {
             "color": "#2a3f5f"
            },
            "marker": {
             "line": {
              "color": "#E5ECF6",
              "width": 0.5
             },
             "pattern": {
              "fillmode": "overlay",
              "size": 10,
              "solidity": 0.2
             }
            },
            "type": "bar"
           }
          ],
          "barpolar": [
           {
            "marker": {
             "line": {
              "color": "#E5ECF6",
              "width": 0.5
             },
             "pattern": {
              "fillmode": "overlay",
              "size": 10,
              "solidity": 0.2
             }
            },
            "type": "barpolar"
           }
          ],
          "carpet": [
           {
            "aaxis": {
             "endlinecolor": "#2a3f5f",
             "gridcolor": "white",
             "linecolor": "white",
             "minorgridcolor": "white",
             "startlinecolor": "#2a3f5f"
            },
            "baxis": {
             "endlinecolor": "#2a3f5f",
             "gridcolor": "white",
             "linecolor": "white",
             "minorgridcolor": "white",
             "startlinecolor": "#2a3f5f"
            },
            "type": "carpet"
           }
          ],
          "choropleth": [
           {
            "colorbar": {
             "outlinewidth": 0,
             "ticks": ""
            },
            "type": "choropleth"
           }
          ],
          "contour": [
           {
            "colorbar": {
             "outlinewidth": 0,
             "ticks": ""
            },
            "colorscale": [
             [
              0,
              "#0d0887"
             ],
             [
              0.1111111111111111,
              "#46039f"
             ],
             [
              0.2222222222222222,
              "#7201a8"
             ],
             [
              0.3333333333333333,
              "#9c179e"
             ],
             [
              0.4444444444444444,
              "#bd3786"
             ],
             [
              0.5555555555555556,
              "#d8576b"
             ],
             [
              0.6666666666666666,
              "#ed7953"
             ],
             [
              0.7777777777777778,
              "#fb9f3a"
             ],
             [
              0.8888888888888888,
              "#fdca26"
             ],
             [
              1,
              "#f0f921"
             ]
            ],
            "type": "contour"
           }
          ],
          "contourcarpet": [
           {
            "colorbar": {
             "outlinewidth": 0,
             "ticks": ""
            },
            "type": "contourcarpet"
           }
          ],
          "heatmap": [
           {
            "colorbar": {
             "outlinewidth": 0,
             "ticks": ""
            },
            "colorscale": [
             [
              0,
              "#0d0887"
             ],
             [
              0.1111111111111111,
              "#46039f"
             ],
             [
              0.2222222222222222,
              "#7201a8"
             ],
             [
              0.3333333333333333,
              "#9c179e"
             ],
             [
              0.4444444444444444,
              "#bd3786"
             ],
             [
              0.5555555555555556,
              "#d8576b"
             ],
             [
              0.6666666666666666,
              "#ed7953"
             ],
             [
              0.7777777777777778,
              "#fb9f3a"
             ],
             [
              0.8888888888888888,
              "#fdca26"
             ],
             [
              1,
              "#f0f921"
             ]
            ],
            "type": "heatmap"
           }
          ],
          "heatmapgl": [
           {
            "colorbar": {
             "outlinewidth": 0,
             "ticks": ""
            },
            "colorscale": [
             [
              0,
              "#0d0887"
             ],
             [
              0.1111111111111111,
              "#46039f"
             ],
             [
              0.2222222222222222,
              "#7201a8"
             ],
             [
              0.3333333333333333,
              "#9c179e"
             ],
             [
              0.4444444444444444,
              "#bd3786"
             ],
             [
              0.5555555555555556,
              "#d8576b"
             ],
             [
              0.6666666666666666,
              "#ed7953"
             ],
             [
              0.7777777777777778,
              "#fb9f3a"
             ],
             [
              0.8888888888888888,
              "#fdca26"
             ],
             [
              1,
              "#f0f921"
             ]
            ],
            "type": "heatmapgl"
           }
          ],
          "histogram": [
           {
            "marker": {
             "pattern": {
              "fillmode": "overlay",
              "size": 10,
              "solidity": 0.2
             }
            },
            "type": "histogram"
           }
          ],
          "histogram2d": [
           {
            "colorbar": {
             "outlinewidth": 0,
             "ticks": ""
            },
            "colorscale": [
             [
              0,
              "#0d0887"
             ],
             [
              0.1111111111111111,
              "#46039f"
             ],
             [
              0.2222222222222222,
              "#7201a8"
             ],
             [
              0.3333333333333333,
              "#9c179e"
             ],
             [
              0.4444444444444444,
              "#bd3786"
             ],
             [
              0.5555555555555556,
              "#d8576b"
             ],
             [
              0.6666666666666666,
              "#ed7953"
             ],
             [
              0.7777777777777778,
              "#fb9f3a"
             ],
             [
              0.8888888888888888,
              "#fdca26"
             ],
             [
              1,
              "#f0f921"
             ]
            ],
            "type": "histogram2d"
           }
          ],
          "histogram2dcontour": [
           {
            "colorbar": {
             "outlinewidth": 0,
             "ticks": ""
            },
            "colorscale": [
             [
              0,
              "#0d0887"
             ],
             [
              0.1111111111111111,
              "#46039f"
             ],
             [
              0.2222222222222222,
              "#7201a8"
             ],
             [
              0.3333333333333333,
              "#9c179e"
             ],
             [
              0.4444444444444444,
              "#bd3786"
             ],
             [
              0.5555555555555556,
              "#d8576b"
             ],
             [
              0.6666666666666666,
              "#ed7953"
             ],
             [
              0.7777777777777778,
              "#fb9f3a"
             ],
             [
              0.8888888888888888,
              "#fdca26"
             ],
             [
              1,
              "#f0f921"
             ]
            ],
            "type": "histogram2dcontour"
           }
          ],
          "mesh3d": [
           {
            "colorbar": {
             "outlinewidth": 0,
             "ticks": ""
            },
            "type": "mesh3d"
           }
          ],
          "parcoords": [
           {
            "line": {
             "colorbar": {
              "outlinewidth": 0,
              "ticks": ""
             }
            },
            "type": "parcoords"
           }
          ],
          "pie": [
           {
            "automargin": true,
            "type": "pie"
           }
          ],
          "scatter": [
           {
            "marker": {
             "colorbar": {
              "outlinewidth": 0,
              "ticks": ""
             }
            },
            "type": "scatter"
           }
          ],
          "scatter3d": [
           {
            "line": {
             "colorbar": {
              "outlinewidth": 0,
              "ticks": ""
             }
            },
            "marker": {
             "colorbar": {
              "outlinewidth": 0,
              "ticks": ""
             }
            },
            "type": "scatter3d"
           }
          ],
          "scattercarpet": [
           {
            "marker": {
             "colorbar": {
              "outlinewidth": 0,
              "ticks": ""
             }
            },
            "type": "scattercarpet"
           }
          ],
          "scattergeo": [
           {
            "marker": {
             "colorbar": {
              "outlinewidth": 0,
              "ticks": ""
             }
            },
            "type": "scattergeo"
           }
          ],
          "scattergl": [
           {
            "marker": {
             "colorbar": {
              "outlinewidth": 0,
              "ticks": ""
             }
            },
            "type": "scattergl"
           }
          ],
          "scattermapbox": [
           {
            "marker": {
             "colorbar": {
              "outlinewidth": 0,
              "ticks": ""
             }
            },
            "type": "scattermapbox"
           }
          ],
          "scatterpolar": [
           {
            "marker": {
             "colorbar": {
              "outlinewidth": 0,
              "ticks": ""
             }
            },
            "type": "scatterpolar"
           }
          ],
          "scatterpolargl": [
           {
            "marker": {
             "colorbar": {
              "outlinewidth": 0,
              "ticks": ""
             }
            },
            "type": "scatterpolargl"
           }
          ],
          "scatterternary": [
           {
            "marker": {
             "colorbar": {
              "outlinewidth": 0,
              "ticks": ""
             }
            },
            "type": "scatterternary"
           }
          ],
          "surface": [
           {
            "colorbar": {
             "outlinewidth": 0,
             "ticks": ""
            },
            "colorscale": [
             [
              0,
              "#0d0887"
             ],
             [
              0.1111111111111111,
              "#46039f"
             ],
             [
              0.2222222222222222,
              "#7201a8"
             ],
             [
              0.3333333333333333,
              "#9c179e"
             ],
             [
              0.4444444444444444,
              "#bd3786"
             ],
             [
              0.5555555555555556,
              "#d8576b"
             ],
             [
              0.6666666666666666,
              "#ed7953"
             ],
             [
              0.7777777777777778,
              "#fb9f3a"
             ],
             [
              0.8888888888888888,
              "#fdca26"
             ],
             [
              1,
              "#f0f921"
             ]
            ],
            "type": "surface"
           }
          ],
          "table": [
           {
            "cells": {
             "fill": {
              "color": "#EBF0F8"
             },
             "line": {
              "color": "white"
             }
            },
            "header": {
             "fill": {
              "color": "#C8D4E3"
             },
             "line": {
              "color": "white"
             }
            },
            "type": "table"
           }
          ]
         },
         "layout": {
          "annotationdefaults": {
           "arrowcolor": "#2a3f5f",
           "arrowhead": 0,
           "arrowwidth": 1
          },
          "autotypenumbers": "strict",
          "coloraxis": {
           "colorbar": {
            "outlinewidth": 0,
            "ticks": ""
           }
          },
          "colorscale": {
           "diverging": [
            [
             0,
             "#8e0152"
            ],
            [
             0.1,
             "#c51b7d"
            ],
            [
             0.2,
             "#de77ae"
            ],
            [
             0.3,
             "#f1b6da"
            ],
            [
             0.4,
             "#fde0ef"
            ],
            [
             0.5,
             "#f7f7f7"
            ],
            [
             0.6,
             "#e6f5d0"
            ],
            [
             0.7,
             "#b8e186"
            ],
            [
             0.8,
             "#7fbc41"
            ],
            [
             0.9,
             "#4d9221"
            ],
            [
             1,
             "#276419"
            ]
           ],
           "sequential": [
            [
             0,
             "#0d0887"
            ],
            [
             0.1111111111111111,
             "#46039f"
            ],
            [
             0.2222222222222222,
             "#7201a8"
            ],
            [
             0.3333333333333333,
             "#9c179e"
            ],
            [
             0.4444444444444444,
             "#bd3786"
            ],
            [
             0.5555555555555556,
             "#d8576b"
            ],
            [
             0.6666666666666666,
             "#ed7953"
            ],
            [
             0.7777777777777778,
             "#fb9f3a"
            ],
            [
             0.8888888888888888,
             "#fdca26"
            ],
            [
             1,
             "#f0f921"
            ]
           ],
           "sequentialminus": [
            [
             0,
             "#0d0887"
            ],
            [
             0.1111111111111111,
             "#46039f"
            ],
            [
             0.2222222222222222,
             "#7201a8"
            ],
            [
             0.3333333333333333,
             "#9c179e"
            ],
            [
             0.4444444444444444,
             "#bd3786"
            ],
            [
             0.5555555555555556,
             "#d8576b"
            ],
            [
             0.6666666666666666,
             "#ed7953"
            ],
            [
             0.7777777777777778,
             "#fb9f3a"
            ],
            [
             0.8888888888888888,
             "#fdca26"
            ],
            [
             1,
             "#f0f921"
            ]
           ]
          },
          "colorway": [
           "#636efa",
           "#EF553B",
           "#00cc96",
           "#ab63fa",
           "#FFA15A",
           "#19d3f3",
           "#FF6692",
           "#B6E880",
           "#FF97FF",
           "#FECB52"
          ],
          "font": {
           "color": "#2a3f5f"
          },
          "geo": {
           "bgcolor": "white",
           "lakecolor": "white",
           "landcolor": "#E5ECF6",
           "showlakes": true,
           "showland": true,
           "subunitcolor": "white"
          },
          "hoverlabel": {
           "align": "left"
          },
          "hovermode": "closest",
          "mapbox": {
           "style": "light"
          },
          "paper_bgcolor": "white",
          "plot_bgcolor": "#E5ECF6",
          "polar": {
           "angularaxis": {
            "gridcolor": "white",
            "linecolor": "white",
            "ticks": ""
           },
           "bgcolor": "#E5ECF6",
           "radialaxis": {
            "gridcolor": "white",
            "linecolor": "white",
            "ticks": ""
           }
          },
          "scene": {
           "xaxis": {
            "backgroundcolor": "#E5ECF6",
            "gridcolor": "white",
            "gridwidth": 2,
            "linecolor": "white",
            "showbackground": true,
            "ticks": "",
            "zerolinecolor": "white"
           },
           "yaxis": {
            "backgroundcolor": "#E5ECF6",
            "gridcolor": "white",
            "gridwidth": 2,
            "linecolor": "white",
            "showbackground": true,
            "ticks": "",
            "zerolinecolor": "white"
           },
           "zaxis": {
            "backgroundcolor": "#E5ECF6",
            "gridcolor": "white",
            "gridwidth": 2,
            "linecolor": "white",
            "showbackground": true,
            "ticks": "",
            "zerolinecolor": "white"
           }
          },
          "shapedefaults": {
           "line": {
            "color": "#2a3f5f"
           }
          },
          "ternary": {
           "aaxis": {
            "gridcolor": "white",
            "linecolor": "white",
            "ticks": ""
           },
           "baxis": {
            "gridcolor": "white",
            "linecolor": "white",
            "ticks": ""
           },
           "bgcolor": "#E5ECF6",
           "caxis": {
            "gridcolor": "white",
            "linecolor": "white",
            "ticks": ""
           }
          },
          "title": {
           "x": 0.05
          },
          "xaxis": {
           "automargin": true,
           "gridcolor": "white",
           "linecolor": "white",
           "ticks": "",
           "title": {
            "standoff": 15
           },
           "zerolinecolor": "white",
           "zerolinewidth": 2
          },
          "yaxis": {
           "automargin": true,
           "gridcolor": "white",
           "linecolor": "white",
           "ticks": "",
           "title": {
            "standoff": 15
           },
           "zerolinecolor": "white",
           "zerolinewidth": 2
          }
         }
        },
        "xaxis": {
         "anchor": "y",
         "domain": [
          0,
          1
         ]
        },
        "yaxis": {
         "anchor": "x",
         "domain": [
          0,
          1
         ],
         "title": {
          "text": "temp"
         }
        }
       }
      }
     },
     "metadata": {},
     "output_type": "display_data"
    },
    {
     "data": {
      "application/vnd.plotly.v1+json": {
       "config": {
        "plotlyServerURL": "https://plot.ly"
       },
       "data": [
        {
         "alignmentgroup": "True",
         "hovertemplate": "RH=%{y}<extra></extra>",
         "legendgroup": "",
         "marker": {
          "color": "#636efa"
         },
         "name": "",
         "notched": false,
         "offsetgroup": "",
         "orientation": "v",
         "showlegend": false,
         "type": "box",
         "x0": " ",
         "xaxis": "x",
         "y": [
          0.4117243473229724,
          -0.6924562798204221,
          -0.6924562798204221,
          3.2335192833560917,
          3.356206019705358,
          -0.9378297525189543,
          -1.0605164888682204,
          2.5587422334351286,
          1.1478447654185688,
          -0.26305270259799096,
          0.4117243473229724,
          -0.385739438947257,
          1.699935078990266,
          -0.14036596624872488,
          -1.4285766979160186,
          -0.017679229899458825,
          -1.0605164888682204,
          0.16635087462444026,
          -0.569769543471156,
          -0.017679229899458825,
          -0.26305270259799096,
          -0.385739438947257,
          -0.017679229899458825,
          -0.07902259807409186,
          -0.7537996479950552,
          0.9638146608946697,
          -0.6311129116457891,
          0.2276942427990733,
          -1.2445465933921194,
          -0.324396070772624,
          -1.2445465933921194,
          2.0679952880380643,
          -0.44708280712189,
          -0.324396070772624,
          -0.7537996479950552,
          1.0865013972439357,
          -1.2445465933921194,
          0.9638146608946697,
          -1.0605164888682204,
          -0.07902259807409186,
          -0.44708280712189,
          -0.14036596624872488,
          0.5957544518468715,
          0.2276942427990733,
          1.8226218153395322,
          -1.2445465933921194,
          1.577248342641,
          -0.5084261752965231,
          -0.569769543471156,
          0.10500750644980723,
          -1.6739501706145508,
          -0.6311129116457891,
          -0.14036596624872488,
          -0.14036596624872488,
          0.04366413827517421,
          -1.2445465933921194,
          1.1478447654185688,
          0.3503809791483394,
          -0.26305270259799096,
          0.4117243473229724,
          -0.324396070772624,
          0.9024712927200367,
          -0.569769543471156,
          -0.6924562798204221,
          -0.8151430161696882,
          -0.017679229899458825,
          -0.44708280712189,
          -0.6924562798204221,
          -0.6924562798204221,
          -1.1218598570428533,
          -1.0605164888682204,
          -0.44708280712189,
          -1.1832032252174864,
          -0.07902259807409186,
          -0.8764863843443212,
          2.1293386562126972,
          -0.07902259807409186,
          1.699935078990266,
          1.3318748699424678,
          -1.5512634342652847,
          -0.324396070772624,
          -0.017679229899458825,
          0.4117243473229724,
          0.16635087462444026,
          0.04366413827517421,
          -1.7966369069638166,
          -1.0605164888682204,
          -0.6311129116457891,
          -0.5084261752965231,
          -1.1832032252174864,
          0.9024712927200367,
          -1.2445465933921194,
          -0.7537996479950552,
          -0.07902259807409186,
          -1.3672333297413855,
          1.2091881335932018,
          0.2276942427990733,
          -1.2445465933921194,
          2.6200856016097616,
          -0.324396070772624,
          -0.324396070772624,
          1.3318748699424678,
          -0.26305270259799096,
          -0.9378297525189543,
          2.0679952880380643,
          0.4730677154976054,
          -0.9378297525189543,
          -0.6924562798204221,
          0.04366413827517421,
          0.7184411881961376,
          -0.07902259807409186,
          -1.6126068024399176,
          -0.324396070772624,
          -0.569769543471156,
          -1.0605164888682204,
          -1.0605164888682204,
          -0.8764863843443212,
          -1.0605164888682204,
          -0.8764863843443212,
          -0.5084261752965231,
          1.8226218153395322,
          -0.07902259807409186,
          -0.14036596624872488,
          0.04366413827517421,
          0.3503809791483394,
          -1.2445465933921194,
          0.28903761097370634,
          -0.07902259807409186,
          0.10500750644980723,
          -0.569769543471156,
          -0.26305270259799096,
          -0.324396070772624,
          0.10500750644980723,
          -0.14036596624872488,
          -0.385739438947257,
          0.4730677154976054,
          0.8411279245454036,
          1.3318748699424678,
          -0.14036596624872488,
          -0.385739438947257,
          -0.324396070772624,
          -0.8151430161696882,
          0.4117243473229724,
          0.5344110836722384,
          -0.7537996479950552,
          -1.3672333297413855,
          -0.26305270259799096,
          -0.9991731206935873,
          -0.07902259807409186,
          -1.1832032252174864,
          -0.324396070772624,
          -0.9378297525189543,
          -0.07902259807409186,
          0.16635087462444026,
          -1.0605164888682204,
          0.16635087462444026,
          -1.0605164888682204,
          0.04366413827517421,
          -0.569769543471156,
          -0.6311129116457891,
          -0.9378297525189543,
          -0.20170933442335792,
          -0.8151430161696882,
          0.7184411881961376,
          1.3932182381171008,
          1.577248342641,
          0.16635087462444026,
          -0.6924562798204221,
          -1.1218598570428533,
          0.04366413827517421,
          -0.569769543471156,
          0.3503809791483394,
          -0.324396070772624,
          -0.324396070772624,
          0.5344110836722384,
          -0.324396070772624,
          0.5957544518468715,
          -0.017679229899458825,
          0.04366413827517421,
          1.3318748699424678,
          -0.7537996479950552,
          -0.7537996479950552,
          0.5344110836722384,
          0.04366413827517421,
          -0.6311129116457891,
          0.10500750644980723,
          -0.324396070772624,
          -0.14036596624872488,
          -0.14036596624872488,
          0.9638146608946697,
          -0.6924562798204221,
          -0.9991731206935873,
          -1.3672333297413855,
          -1.1832032252174864,
          -1.3672333297413855,
          -0.5084261752965231,
          0.5957544518468715,
          -1.7966369069638166,
          0.9024712927200367,
          -0.385739438947257,
          -0.6924562798204221,
          0.5957544518468715,
          1.454561606291734,
          -0.44708280712189,
          1.2091881335932018,
          -0.6311129116457891,
          -0.8151430161696882,
          -0.44708280712189,
          -0.6924562798204221,
          -1.1218598570428533,
          -1.1832032252174864,
          3.172175915181459,
          0.16635087462444026,
          0.10500750644980723,
          -1.0605164888682204,
          -1.0605164888682204,
          0.9638146608946697,
          1.761278447164899,
          -1.5512634342652847,
          -1.0605164888682204,
          0.9024712927200367,
          0.28903761097370634,
          0.10500750644980723,
          2.1293386562126972,
          0.7797845563707706,
          -0.324396070772624,
          -0.017679229899458825,
          -0.6311129116457891,
          -1.1218598570428533,
          -0.07902259807409186,
          -1.4285766979160186,
          -1.0605164888682204,
          -0.07902259807409186,
          -0.5084261752965231,
          -1.1832032252174864,
          -0.20170933442335792,
          0.10500750644980723,
          -0.26305270259799096,
          -1.0605164888682204,
          1.883965183514165,
          0.4117243473229724,
          -1.4899200660906515,
          1.3318748699424678,
          1.761278447164899,
          0.5957544518468715,
          -0.385739438947257,
          -0.324396070772624,
          1.577248342641,
          -0.9991731206935873,
          -0.26305270259799096,
          -1.1832032252174864,
          -0.5084261752965231,
          -0.44708280712189,
          -0.385739438947257,
          -0.20170933442335792,
          0.10500750644980723,
          -0.20170933442335792,
          -0.017679229899458825,
          0.9024712927200367,
          -0.26305270259799096,
          -0.7537996479950552,
          2.4360554970858623,
          -0.14036596624872488,
          -0.324396070772624,
          0.5344110836722384,
          0.5957544518468715,
          0.6570978200215045,
          -1.2445465933921194,
          -0.7537996479950552,
          0.5344110836722384,
          0.7184411881961376,
          0.8411279245454036,
          0.16635087462444026,
          0.7797845563707706,
          1.0251580290693028,
          1.0251580290693028,
          -1.4285766979160186,
          -1.4285766979160186,
          -1.4285766979160186,
          -1.4285766979160186,
          0.9024712927200367,
          -1.2445465933921194,
          0.4117243473229724,
          -0.569769543471156,
          0.10500750644980723,
          -0.26305270259799096,
          2.804115706133661,
          0.28903761097370634,
          -0.7537996479950552,
          -0.8764863843443212,
          0.5344110836722384,
          -0.324396070772624,
          -0.26305270259799096,
          -0.9991731206935873,
          1.3932182381171008,
          0.2276942427990733,
          0.10500750644980723,
          0.04366413827517421,
          -0.07902259807409186,
          2.804115706133661,
          -1.1832032252174864,
          -0.324396070772624,
          -0.385739438947257,
          -0.385739438947257,
          3.0494891788321925,
          0.4730677154976054,
          0.5344110836722384,
          -0.569769543471156,
          0.04366413827517421,
          -1.0605164888682204,
          -1.0605164888682204,
          -0.9991731206935873,
          2.0679952880380643,
          -1.0605164888682204,
          -0.20170933442335792,
          -0.8764863843443212,
          -1.2445465933921194,
          -1.2445465933921194,
          -1.0605164888682204,
          -0.9991731206935873,
          -0.6311129116457891,
          -0.9991731206935873,
          -0.9991731206935873,
          -0.324396070772624,
          0.7184411881961376,
          -1.0605164888682204,
          -1.0605164888682204,
          -0.7537996479950552,
          -0.569769543471156,
          -1.0605164888682204,
          -1.0605164888682204,
          -0.9991731206935873,
          -0.20170933442335792,
          0.5957544518468715,
          0.4117243473229724,
          2.5587422334351286,
          -0.017679229899458825,
          -0.6311129116457891,
          -0.569769543471156,
          -0.20170933442335792,
          -0.017679229899458825,
          0.4117243473229724,
          -0.44708280712189,
          0.4117243473229724,
          1.3318748699424678,
          -0.07902259807409186,
          -0.569769543471156,
          1.883965183514165,
          0.7797845563707706,
          1.2091881335932018,
          1.883965183514165,
          0.5344110836722384,
          -0.07902259807409186,
          0.16635087462444026,
          0.3503809791483394,
          -0.569769543471156,
          -0.569769543471156,
          0.6570978200215045,
          -0.324396070772624,
          -0.324396070772624,
          -0.14036596624872488,
          0.04366413827517421,
          1.2091881335932018,
          0.5344110836722384,
          -0.569769543471156,
          0.04366413827517421,
          -0.385739438947257,
          -1.0605164888682204,
          0.16635087462444026,
          2.0066519198634314,
          2.0066519198634314,
          0.8411279245454036,
          1.883965183514165,
          -0.14036596624872488,
          2.0679952880380643,
          0.7797845563707706,
          0.5957544518468715,
          -0.14036596624872488,
          0.4117243473229724,
          3.417549387879991,
          -0.324396070772624,
          1.1478447654185688,
          -0.9378297525189543,
          0.8411279245454036,
          -0.017679229899458825,
          0.3503809791483394,
          0.6570978200215045,
          0.2276942427990733,
          -0.6311129116457891,
          -0.6311129116457891,
          1.638591710815633,
          0.10500750644980723,
          -0.07902259807409186,
          -1.5512634342652847,
          1.454561606291734,
          1.0865013972439357,
          0.6570978200215045,
          -0.6924562798204221,
          -0.7537996479950552,
          -0.6311129116457891,
          -0.6311129116457891,
          0.10500750644980723,
          -0.5084261752965231,
          -0.20170933442335792,
          -0.6311129116457891,
          -1.0605164888682204,
          1.3932182381171008,
          0.10500750644980723,
          -0.017679229899458825,
          -0.8151430161696882,
          -0.14036596624872488,
          0.5344110836722384,
          -1.0605164888682204,
          -0.6924562798204221,
          0.3503809791483394,
          -1.0605164888682204,
          -0.324396070772624,
          -1.2445465933921194,
          -0.14036596624872488,
          -0.5084261752965231,
          -0.5084261752965231,
          -1.5512634342652847,
          -1.0605164888682204,
          0.2276942427990733,
          -0.8151430161696882,
          0.7184411881961376,
          0.7184411881961376,
          -0.6924562798204221,
          -0.6311129116457891,
          -0.017679229899458825,
          0.04366413827517421,
          -0.26305270259799096,
          -0.385739438947257,
          1.3318748699424678,
          0.04366413827517421,
          0.4117243473229724,
          -0.569769543471156,
          1.761278447164899,
          0.5344110836722384,
          0.10500750644980723,
          0.8411279245454036,
          -0.9378297525189543,
          1.2091881335932018,
          2.0679952880380643,
          0.8411279245454036,
          2.19068202438733,
          1.577248342641,
          -0.569769543471156,
          2.0066519198634314,
          1.0251580290693028,
          0.28903761097370634,
          2.6814289697843945,
          1.270531501767835,
          0.5957544518468715,
          0.7184411881961376,
          0.2276942427990733,
          0.9024712927200367,
          0.3503809791483394,
          1.2091881335932018,
          1.699935078990266,
          1.2091881335932018,
          1.2091881335932018,
          1.9453085516887982,
          2.3133687607365965,
          2.0066519198634314,
          0.9024712927200367,
          0.04366413827517421,
          -0.20170933442335792,
          -1.0605164888682204,
          -0.6924562798204221,
          -1.0605164888682204,
          -0.26305270259799096,
          2.1293386562126972,
          0.3503809791483394,
          -0.569769543471156,
          -0.26305270259799096,
          -0.9991731206935873,
          0.04366413827517421,
          2.3133687607365965,
          0.7797845563707706,
          -1.1832032252174864,
          -1.3672333297413855,
          -0.26305270259799096,
          -1.0605164888682204,
          -1.1832032252174864,
          -0.9991731206935873,
          -0.07902259807409186,
          -0.6311129116457891,
          1.638591710815633,
          0.8411279245454036,
          -0.6924562798204221,
          -1.4285766979160186,
          -1.0605164888682204,
          -0.9378297525189543,
          -0.8764863843443212,
          -0.14036596624872488,
          -1.1218598570428533,
          -1.0605164888682204,
          -1.1218598570428533,
          1.1478447654185688,
          1.270531501767835,
          1.270531501767835,
          1.5159049744663669,
          -0.8764863843443212,
          -0.9378297525189543,
          -0.569769543471156,
          1.761278447164899,
          -0.20170933442335792,
          -0.20170933442335792,
          1.638591710815633,
          1.0865013972439357,
          -0.569769543471156,
          -0.7537996479950552,
          1.638591710815633,
          1.577248342641,
          -0.14036596624872488,
          -0.8151430161696882
         ],
         "y0": " ",
         "yaxis": "y"
        }
       ],
       "layout": {
        "boxmode": "group",
        "legend": {
         "tracegroupgap": 0
        },
        "margin": {
         "t": 60
        },
        "template": {
         "data": {
          "bar": [
           {
            "error_x": {
             "color": "#2a3f5f"
            },
            "error_y": {
             "color": "#2a3f5f"
            },
            "marker": {
             "line": {
              "color": "#E5ECF6",
              "width": 0.5
             },
             "pattern": {
              "fillmode": "overlay",
              "size": 10,
              "solidity": 0.2
             }
            },
            "type": "bar"
           }
          ],
          "barpolar": [
           {
            "marker": {
             "line": {
              "color": "#E5ECF6",
              "width": 0.5
             },
             "pattern": {
              "fillmode": "overlay",
              "size": 10,
              "solidity": 0.2
             }
            },
            "type": "barpolar"
           }
          ],
          "carpet": [
           {
            "aaxis": {
             "endlinecolor": "#2a3f5f",
             "gridcolor": "white",
             "linecolor": "white",
             "minorgridcolor": "white",
             "startlinecolor": "#2a3f5f"
            },
            "baxis": {
             "endlinecolor": "#2a3f5f",
             "gridcolor": "white",
             "linecolor": "white",
             "minorgridcolor": "white",
             "startlinecolor": "#2a3f5f"
            },
            "type": "carpet"
           }
          ],
          "choropleth": [
           {
            "colorbar": {
             "outlinewidth": 0,
             "ticks": ""
            },
            "type": "choropleth"
           }
          ],
          "contour": [
           {
            "colorbar": {
             "outlinewidth": 0,
             "ticks": ""
            },
            "colorscale": [
             [
              0,
              "#0d0887"
             ],
             [
              0.1111111111111111,
              "#46039f"
             ],
             [
              0.2222222222222222,
              "#7201a8"
             ],
             [
              0.3333333333333333,
              "#9c179e"
             ],
             [
              0.4444444444444444,
              "#bd3786"
             ],
             [
              0.5555555555555556,
              "#d8576b"
             ],
             [
              0.6666666666666666,
              "#ed7953"
             ],
             [
              0.7777777777777778,
              "#fb9f3a"
             ],
             [
              0.8888888888888888,
              "#fdca26"
             ],
             [
              1,
              "#f0f921"
             ]
            ],
            "type": "contour"
           }
          ],
          "contourcarpet": [
           {
            "colorbar": {
             "outlinewidth": 0,
             "ticks": ""
            },
            "type": "contourcarpet"
           }
          ],
          "heatmap": [
           {
            "colorbar": {
             "outlinewidth": 0,
             "ticks": ""
            },
            "colorscale": [
             [
              0,
              "#0d0887"
             ],
             [
              0.1111111111111111,
              "#46039f"
             ],
             [
              0.2222222222222222,
              "#7201a8"
             ],
             [
              0.3333333333333333,
              "#9c179e"
             ],
             [
              0.4444444444444444,
              "#bd3786"
             ],
             [
              0.5555555555555556,
              "#d8576b"
             ],
             [
              0.6666666666666666,
              "#ed7953"
             ],
             [
              0.7777777777777778,
              "#fb9f3a"
             ],
             [
              0.8888888888888888,
              "#fdca26"
             ],
             [
              1,
              "#f0f921"
             ]
            ],
            "type": "heatmap"
           }
          ],
          "heatmapgl": [
           {
            "colorbar": {
             "outlinewidth": 0,
             "ticks": ""
            },
            "colorscale": [
             [
              0,
              "#0d0887"
             ],
             [
              0.1111111111111111,
              "#46039f"
             ],
             [
              0.2222222222222222,
              "#7201a8"
             ],
             [
              0.3333333333333333,
              "#9c179e"
             ],
             [
              0.4444444444444444,
              "#bd3786"
             ],
             [
              0.5555555555555556,
              "#d8576b"
             ],
             [
              0.6666666666666666,
              "#ed7953"
             ],
             [
              0.7777777777777778,
              "#fb9f3a"
             ],
             [
              0.8888888888888888,
              "#fdca26"
             ],
             [
              1,
              "#f0f921"
             ]
            ],
            "type": "heatmapgl"
           }
          ],
          "histogram": [
           {
            "marker": {
             "pattern": {
              "fillmode": "overlay",
              "size": 10,
              "solidity": 0.2
             }
            },
            "type": "histogram"
           }
          ],
          "histogram2d": [
           {
            "colorbar": {
             "outlinewidth": 0,
             "ticks": ""
            },
            "colorscale": [
             [
              0,
              "#0d0887"
             ],
             [
              0.1111111111111111,
              "#46039f"
             ],
             [
              0.2222222222222222,
              "#7201a8"
             ],
             [
              0.3333333333333333,
              "#9c179e"
             ],
             [
              0.4444444444444444,
              "#bd3786"
             ],
             [
              0.5555555555555556,
              "#d8576b"
             ],
             [
              0.6666666666666666,
              "#ed7953"
             ],
             [
              0.7777777777777778,
              "#fb9f3a"
             ],
             [
              0.8888888888888888,
              "#fdca26"
             ],
             [
              1,
              "#f0f921"
             ]
            ],
            "type": "histogram2d"
           }
          ],
          "histogram2dcontour": [
           {
            "colorbar": {
             "outlinewidth": 0,
             "ticks": ""
            },
            "colorscale": [
             [
              0,
              "#0d0887"
             ],
             [
              0.1111111111111111,
              "#46039f"
             ],
             [
              0.2222222222222222,
              "#7201a8"
             ],
             [
              0.3333333333333333,
              "#9c179e"
             ],
             [
              0.4444444444444444,
              "#bd3786"
             ],
             [
              0.5555555555555556,
              "#d8576b"
             ],
             [
              0.6666666666666666,
              "#ed7953"
             ],
             [
              0.7777777777777778,
              "#fb9f3a"
             ],
             [
              0.8888888888888888,
              "#fdca26"
             ],
             [
              1,
              "#f0f921"
             ]
            ],
            "type": "histogram2dcontour"
           }
          ],
          "mesh3d": [
           {
            "colorbar": {
             "outlinewidth": 0,
             "ticks": ""
            },
            "type": "mesh3d"
           }
          ],
          "parcoords": [
           {
            "line": {
             "colorbar": {
              "outlinewidth": 0,
              "ticks": ""
             }
            },
            "type": "parcoords"
           }
          ],
          "pie": [
           {
            "automargin": true,
            "type": "pie"
           }
          ],
          "scatter": [
           {
            "marker": {
             "colorbar": {
              "outlinewidth": 0,
              "ticks": ""
             }
            },
            "type": "scatter"
           }
          ],
          "scatter3d": [
           {
            "line": {
             "colorbar": {
              "outlinewidth": 0,
              "ticks": ""
             }
            },
            "marker": {
             "colorbar": {
              "outlinewidth": 0,
              "ticks": ""
             }
            },
            "type": "scatter3d"
           }
          ],
          "scattercarpet": [
           {
            "marker": {
             "colorbar": {
              "outlinewidth": 0,
              "ticks": ""
             }
            },
            "type": "scattercarpet"
           }
          ],
          "scattergeo": [
           {
            "marker": {
             "colorbar": {
              "outlinewidth": 0,
              "ticks": ""
             }
            },
            "type": "scattergeo"
           }
          ],
          "scattergl": [
           {
            "marker": {
             "colorbar": {
              "outlinewidth": 0,
              "ticks": ""
             }
            },
            "type": "scattergl"
           }
          ],
          "scattermapbox": [
           {
            "marker": {
             "colorbar": {
              "outlinewidth": 0,
              "ticks": ""
             }
            },
            "type": "scattermapbox"
           }
          ],
          "scatterpolar": [
           {
            "marker": {
             "colorbar": {
              "outlinewidth": 0,
              "ticks": ""
             }
            },
            "type": "scatterpolar"
           }
          ],
          "scatterpolargl": [
           {
            "marker": {
             "colorbar": {
              "outlinewidth": 0,
              "ticks": ""
             }
            },
            "type": "scatterpolargl"
           }
          ],
          "scatterternary": [
           {
            "marker": {
             "colorbar": {
              "outlinewidth": 0,
              "ticks": ""
             }
            },
            "type": "scatterternary"
           }
          ],
          "surface": [
           {
            "colorbar": {
             "outlinewidth": 0,
             "ticks": ""
            },
            "colorscale": [
             [
              0,
              "#0d0887"
             ],
             [
              0.1111111111111111,
              "#46039f"
             ],
             [
              0.2222222222222222,
              "#7201a8"
             ],
             [
              0.3333333333333333,
              "#9c179e"
             ],
             [
              0.4444444444444444,
              "#bd3786"
             ],
             [
              0.5555555555555556,
              "#d8576b"
             ],
             [
              0.6666666666666666,
              "#ed7953"
             ],
             [
              0.7777777777777778,
              "#fb9f3a"
             ],
             [
              0.8888888888888888,
              "#fdca26"
             ],
             [
              1,
              "#f0f921"
             ]
            ],
            "type": "surface"
           }
          ],
          "table": [
           {
            "cells": {
             "fill": {
              "color": "#EBF0F8"
             },
             "line": {
              "color": "white"
             }
            },
            "header": {
             "fill": {
              "color": "#C8D4E3"
             },
             "line": {
              "color": "white"
             }
            },
            "type": "table"
           }
          ]
         },
         "layout": {
          "annotationdefaults": {
           "arrowcolor": "#2a3f5f",
           "arrowhead": 0,
           "arrowwidth": 1
          },
          "autotypenumbers": "strict",
          "coloraxis": {
           "colorbar": {
            "outlinewidth": 0,
            "ticks": ""
           }
          },
          "colorscale": {
           "diverging": [
            [
             0,
             "#8e0152"
            ],
            [
             0.1,
             "#c51b7d"
            ],
            [
             0.2,
             "#de77ae"
            ],
            [
             0.3,
             "#f1b6da"
            ],
            [
             0.4,
             "#fde0ef"
            ],
            [
             0.5,
             "#f7f7f7"
            ],
            [
             0.6,
             "#e6f5d0"
            ],
            [
             0.7,
             "#b8e186"
            ],
            [
             0.8,
             "#7fbc41"
            ],
            [
             0.9,
             "#4d9221"
            ],
            [
             1,
             "#276419"
            ]
           ],
           "sequential": [
            [
             0,
             "#0d0887"
            ],
            [
             0.1111111111111111,
             "#46039f"
            ],
            [
             0.2222222222222222,
             "#7201a8"
            ],
            [
             0.3333333333333333,
             "#9c179e"
            ],
            [
             0.4444444444444444,
             "#bd3786"
            ],
            [
             0.5555555555555556,
             "#d8576b"
            ],
            [
             0.6666666666666666,
             "#ed7953"
            ],
            [
             0.7777777777777778,
             "#fb9f3a"
            ],
            [
             0.8888888888888888,
             "#fdca26"
            ],
            [
             1,
             "#f0f921"
            ]
           ],
           "sequentialminus": [
            [
             0,
             "#0d0887"
            ],
            [
             0.1111111111111111,
             "#46039f"
            ],
            [
             0.2222222222222222,
             "#7201a8"
            ],
            [
             0.3333333333333333,
             "#9c179e"
            ],
            [
             0.4444444444444444,
             "#bd3786"
            ],
            [
             0.5555555555555556,
             "#d8576b"
            ],
            [
             0.6666666666666666,
             "#ed7953"
            ],
            [
             0.7777777777777778,
             "#fb9f3a"
            ],
            [
             0.8888888888888888,
             "#fdca26"
            ],
            [
             1,
             "#f0f921"
            ]
           ]
          },
          "colorway": [
           "#636efa",
           "#EF553B",
           "#00cc96",
           "#ab63fa",
           "#FFA15A",
           "#19d3f3",
           "#FF6692",
           "#B6E880",
           "#FF97FF",
           "#FECB52"
          ],
          "font": {
           "color": "#2a3f5f"
          },
          "geo": {
           "bgcolor": "white",
           "lakecolor": "white",
           "landcolor": "#E5ECF6",
           "showlakes": true,
           "showland": true,
           "subunitcolor": "white"
          },
          "hoverlabel": {
           "align": "left"
          },
          "hovermode": "closest",
          "mapbox": {
           "style": "light"
          },
          "paper_bgcolor": "white",
          "plot_bgcolor": "#E5ECF6",
          "polar": {
           "angularaxis": {
            "gridcolor": "white",
            "linecolor": "white",
            "ticks": ""
           },
           "bgcolor": "#E5ECF6",
           "radialaxis": {
            "gridcolor": "white",
            "linecolor": "white",
            "ticks": ""
           }
          },
          "scene": {
           "xaxis": {
            "backgroundcolor": "#E5ECF6",
            "gridcolor": "white",
            "gridwidth": 2,
            "linecolor": "white",
            "showbackground": true,
            "ticks": "",
            "zerolinecolor": "white"
           },
           "yaxis": {
            "backgroundcolor": "#E5ECF6",
            "gridcolor": "white",
            "gridwidth": 2,
            "linecolor": "white",
            "showbackground": true,
            "ticks": "",
            "zerolinecolor": "white"
           },
           "zaxis": {
            "backgroundcolor": "#E5ECF6",
            "gridcolor": "white",
            "gridwidth": 2,
            "linecolor": "white",
            "showbackground": true,
            "ticks": "",
            "zerolinecolor": "white"
           }
          },
          "shapedefaults": {
           "line": {
            "color": "#2a3f5f"
           }
          },
          "ternary": {
           "aaxis": {
            "gridcolor": "white",
            "linecolor": "white",
            "ticks": ""
           },
           "baxis": {
            "gridcolor": "white",
            "linecolor": "white",
            "ticks": ""
           },
           "bgcolor": "#E5ECF6",
           "caxis": {
            "gridcolor": "white",
            "linecolor": "white",
            "ticks": ""
           }
          },
          "title": {
           "x": 0.05
          },
          "xaxis": {
           "automargin": true,
           "gridcolor": "white",
           "linecolor": "white",
           "ticks": "",
           "title": {
            "standoff": 15
           },
           "zerolinecolor": "white",
           "zerolinewidth": 2
          },
          "yaxis": {
           "automargin": true,
           "gridcolor": "white",
           "linecolor": "white",
           "ticks": "",
           "title": {
            "standoff": 15
           },
           "zerolinecolor": "white",
           "zerolinewidth": 2
          }
         }
        },
        "xaxis": {
         "anchor": "y",
         "domain": [
          0,
          1
         ]
        },
        "yaxis": {
         "anchor": "x",
         "domain": [
          0,
          1
         ],
         "title": {
          "text": "RH"
         }
        }
       }
      }
     },
     "metadata": {},
     "output_type": "display_data"
    },
    {
     "data": {
      "application/vnd.plotly.v1+json": {
       "config": {
        "plotlyServerURL": "https://plot.ly"
       },
       "data": [
        {
         "alignmentgroup": "True",
         "hovertemplate": "wind=%{y}<extra></extra>",
         "legendgroup": "",
         "marker": {
          "color": "#636efa"
         },
         "name": "",
         "notched": false,
         "offsetgroup": "",
         "orientation": "v",
         "showlegend": false,
         "type": "box",
         "x0": " ",
         "xaxis": "x",
         "y": [
          1.4986144168823812,
          -1.741755636812102,
          -1.518281840005586,
          -0.009833711561602487,
          -1.238939593997441,
          0.772324577261204,
          -0.5126497543762636,
          -1.0154657971909247,
          0.772324577261204,
          -0.009833711561602487,
          1.7779566628905261,
          -0.009833711561602487,
          1.4986144168823812,
          -1.0154657971909247,
          0.2695085344465426,
          0.772324577261204,
          0.772324577261204,
          0.49298233125305885,
          -0.009833711561602487,
          0.2695085344465426,
          -0.7361235511827796,
          -0.7361235511827796,
          0.2695085344465426,
          0.9957983740677198,
          0.9957983740677198,
          0.772324577261204,
          0.9957983740677198,
          -1.518281840005586,
          -0.7361235511827796,
          -0.2333075083681185,
          -0.2333075083681185,
          2.001430459697042,
          -1.238939593997441,
          -0.2333075083681185,
          -0.7361235511827796,
          0.2695085344465426,
          0.2695085344465426,
          0.772324577261204,
          -0.009833711561602487,
          -0.7361235511827796,
          -0.5126497543762636,
          1.4986144168823812,
          0.772324577261204,
          -0.7361235511827796,
          0.49298233125305885,
          -0.009833711561602487,
          -0.2333075083681185,
          -0.5126497543762636,
          -1.238939593997441,
          0.9957983740677198,
          -1.518281840005586,
          -1.0154657971909247,
          0.49298233125305885,
          0.49298233125305885,
          -0.2333075083681185,
          -1.0154657971909247,
          0.49298233125305885,
          -0.7361235511827796,
          0.772324577261204,
          -1.741755636812102,
          0.9957983740677198,
          1.2751406200758648,
          0.49298233125305885,
          -0.7361235511827796,
          -0.5126497543762636,
          0.2695085344465426,
          0.2695085344465426,
          0.772324577261204,
          1.2751406200758648,
          0.2695085344465426,
          2.001430459697042,
          -0.2333075083681185,
          1.2751406200758648,
          0.2695085344465426,
          -1.518281840005586,
          -0.5126497543762636,
          -0.5126497543762636,
          -0.5126497543762636,
          -0.7361235511827796,
          1.4986144168823812,
          1.2751406200758648,
          -1.0154657971909247,
          0.2695085344465426,
          -1.741755636812102,
          -0.2333075083681185,
          -1.741755636812102,
          -1.0154657971909247,
          -1.0154657971909247,
          -0.2333075083681185,
          0.49298233125305885,
          0.9957983740677198,
          0.772324577261204,
          1.2751406200758648,
          0.49298233125305885,
          -0.7361235511827796,
          -1.518281840005586,
          -1.238939593997441,
          0.772324577261204,
          0.2695085344465426,
          0.772324577261204,
          0.772324577261204,
          0.772324577261204,
          -0.009833711561602487,
          0.2695085344465426,
          -0.5126497543762636,
          1.2751406200758648,
          -0.5126497543762636,
          -0.5126497543762636,
          -0.5126497543762636,
          0.772324577261204,
          0.9957983740677198,
          0.2695085344465426,
          -0.2333075083681185,
          -0.7361235511827796,
          2.001430459697042,
          1.2751406200758648,
          1.2751406200758648,
          0.49298233125305885,
          -0.009833711561602487,
          -0.5126497543762636,
          -1.0154657971909247,
          0.772324577261204,
          0.772324577261204,
          -0.5126497543762636,
          0.772324577261204,
          0.772324577261204,
          -1.0154657971909247,
          -0.5126497543762636,
          -0.2333075083681185,
          -1.741755636812102,
          -0.7361235511827796,
          -0.5126497543762636,
          0.49298233125305885,
          -0.5126497543762636,
          -0.7361235511827796,
          0.9957983740677198,
          -1.518281840005586,
          -0.5126497543762636,
          -0.7361235511827796,
          -1.0154657971909247,
          -1.238939593997441,
          0.2695085344465426,
          2.7277202993182197,
          0.772324577261204,
          0.772324577261204,
          -0.009833711561602487,
          0.772324577261204,
          -0.2333075083681185,
          1.4986144168823812,
          0.2695085344465426,
          0.772324577261204,
          -1.0154657971909247,
          -1.238939593997441,
          0.49298233125305885,
          -0.7361235511827796,
          -1.518281840005586,
          -1.0154657971909247,
          -0.2333075083681185,
          -0.009833711561602487,
          0.9957983740677198,
          -0.5126497543762636,
          -0.009833711561602487,
          2.504246502511703,
          -1.238939593997441,
          -1.0154657971909247,
          0.2695085344465426,
          -1.741755636812102,
          0.2695085344465426,
          3.0070625453263644,
          -1.0154657971909247,
          -1.238939593997441,
          -0.009833711561602487,
          0.772324577261204,
          -1.0154657971909247,
          -1.238939593997441,
          0.49298233125305885,
          0.9957983740677198,
          -0.7361235511827796,
          -1.0154657971909247,
          0.772324577261204,
          1.4986144168823812,
          -0.009833711561602487,
          -1.0154657971909247,
          0.2695085344465426,
          0.49298233125305885,
          -0.5126497543762636,
          0.9957983740677198,
          -1.0154657971909247,
          -1.741755636812102,
          -0.009833711561602487,
          -0.009833711561602487,
          -0.7361235511827796,
          0.2695085344465426,
          -0.009833711561602487,
          0.2695085344465426,
          0.772324577261204,
          0.9957983740677198,
          -1.741755636812102,
          1.2751406200758648,
          -0.2333075083681185,
          -1.0154657971909247,
          -0.2333075083681185,
          -1.0154657971909247,
          -0.7361235511827796,
          -0.009833711561602487,
          -1.238939593997441,
          1.7779566628905261,
          -1.0154657971909247,
          1.2751406200758648,
          0.49298233125305885,
          -0.5126497543762636,
          0.9957983740677198,
          0.49298233125305885,
          0.9957983740677198,
          0.49298233125305885,
          0.49298233125305885,
          -1.518281840005586,
          1.2751406200758648,
          -1.518281840005586,
          -0.5126497543762636,
          -0.5126497543762636,
          -0.2333075083681185,
          0.9957983740677198,
          -0.2333075083681185,
          0.2695085344465426,
          0.49298233125305885,
          -0.009833711561602487,
          0.2695085344465426,
          -0.5126497543762636,
          -0.009833711561602487,
          0.2695085344465426,
          -0.5126497543762636,
          -0.7361235511827796,
          -0.5126497543762636,
          -0.5126497543762636,
          0.9957983740677198,
          -1.238939593997441,
          -1.0154657971909247,
          -0.009833711561602487,
          -1.238939593997441,
          -0.7361235511827796,
          -0.5126497543762636,
          -0.009833711561602487,
          2.001430459697042,
          2.001430459697042,
          1.2751406200758648,
          0.772324577261204,
          -1.0154657971909247,
          -0.7361235511827796,
          -2.0210978828202473,
          -0.5126497543762636,
          -0.5126497543762636,
          -0.2333075083681185,
          -0.7361235511827796,
          -0.5126497543762636,
          -0.009833711561602487,
          -1.0154657971909247,
          -0.7361235511827796,
          -1.741755636812102,
          -1.238939593997441,
          -0.009833711561602487,
          2.001430459697042,
          -0.5126497543762636,
          -0.2333075083681185,
          -0.5126497543762636,
          2.001430459697042,
          -0.009833711561602487,
          -0.5126497543762636,
          -0.5126497543762636,
          -0.7361235511827796,
          -0.5126497543762636,
          0.2695085344465426,
          -0.009833711561602487,
          2.504246502511703,
          2.2249042565035584,
          0.49298233125305885,
          2.504246502511703,
          2.504246502511703,
          2.504246502511703,
          2.504246502511703,
          0.49298233125305885,
          2.504246502511703,
          -0.009833711561602487,
          -0.5126497543762636,
          2.2249042565035584,
          1.2751406200758648,
          2.001430459697042,
          -0.7361235511827796,
          -1.238939593997441,
          -1.238939593997441,
          -1.238939593997441,
          -1.741755636812102,
          -1.518281840005586,
          0.772324577261204,
          -0.2333075083681185,
          -1.518281840005586,
          -1.238939593997441,
          -1.0154657971909247,
          0.49298233125305885,
          -0.7361235511827796,
          0.49298233125305885,
          0.772324577261204,
          0.2695085344465426,
          0.2695085344465426,
          0.49298233125305885,
          -1.0154657971909247,
          0.772324577261204,
          -0.2333075083681185,
          -1.238939593997441,
          -1.0154657971909247,
          -0.7361235511827796,
          -1.238939593997441,
          1.2751406200758648,
          0.49298233125305885,
          -1.238939593997441,
          -0.7361235511827796,
          0.9957983740677198,
          0.49298233125305885,
          -1.0154657971909247,
          1.2751406200758648,
          1.7779566628905261,
          -0.009833711561602487,
          -0.009833711561602487,
          -0.7361235511827796,
          -1.238939593997441,
          -0.5126497543762636,
          -0.5126497543762636,
          -1.0154657971909247,
          -1.238939593997441,
          -0.009833711561602487,
          -0.5126497543762636,
          0.2695085344465426,
          -1.0154657971909247,
          -0.5126497543762636,
          0.772324577261204,
          -1.238939593997441,
          -1.0154657971909247,
          -1.0154657971909247,
          -1.0154657971909247,
          -1.238939593997441,
          -1.0154657971909247,
          -1.0154657971909247,
          -1.238939593997441,
          0.2695085344465426,
          0.49298233125305885,
          -0.5126497543762636,
          -1.0154657971909247,
          -0.2333075083681185,
          0.2695085344465426,
          -0.2333075083681185,
          -0.2333075083681185,
          1.2751406200758648,
          -0.2333075083681185,
          -0.7361235511827796,
          -1.0154657971909247,
          0.49298233125305885,
          0.49298233125305885,
          -0.2333075083681185,
          -0.7361235511827796,
          -1.0154657971909247,
          -1.0154657971909247,
          -0.009833711561602487,
          -0.5126497543762636,
          -1.0154657971909247,
          -0.7361235511827796,
          -0.5126497543762636,
          0.772324577261204,
          -0.2333075083681185,
          0.49298233125305885,
          2.001430459697042,
          2.001430459697042,
          -0.009833711561602487,
          -1.741755636812102,
          -0.7361235511827796,
          -0.009833711561602487,
          0.49298233125305885,
          -1.0154657971909247,
          -1.0154657971909247,
          0.9957983740677198,
          -1.741755636812102,
          1.7779566628905261,
          -0.7361235511827796,
          -1.238939593997441,
          -0.7361235511827796,
          0.2695085344465426,
          -1.0154657971909247,
          0.772324577261204,
          0.772324577261204,
          -0.5126497543762636,
          -0.5126497543762636,
          1.2751406200758648,
          -0.7361235511827796,
          -0.009833711561602487,
          2.001430459697042,
          -1.238939593997441,
          -1.238939593997441,
          0.49298233125305885,
          -0.2333075083681185,
          -0.5126497543762636,
          0.2695085344465426,
          0.2695085344465426,
          -0.009833711561602487,
          -0.009833711561602487,
          -0.2333075083681185,
          -1.0154657971909247,
          -1.0154657971909247,
          0.49298233125305885,
          -0.009833711561602487,
          -0.5126497543762636,
          0.772324577261204,
          -0.7361235511827796,
          3.0070625453263644,
          0.2695085344465426,
          -0.2333075083681185,
          -0.009833711561602487,
          0.49298233125305885,
          -0.5126497543762636,
          0.9957983740677198,
          0.772324577261204,
          -0.009833711561602487,
          0.2695085344465426,
          0.2695085344465426,
          -0.2333075083681185,
          -0.009833711561602487,
          -0.2333075083681185,
          -1.0154657971909247,
          -1.0154657971909247,
          -1.0154657971909247,
          0.9957983740677198,
          -0.009833711561602487,
          -0.2333075083681185,
          -0.009833711561602487,
          1.4986144168823812,
          0.49298233125305885,
          -0.2333075083681185,
          -1.238939593997441,
          -1.518281840005586,
          -0.7361235511827796,
          -0.009833711561602487,
          -1.0154657971909247,
          -0.2333075083681185,
          -1.238939593997441,
          -0.5126497543762636,
          2.2249042565035584,
          -0.2333075083681185,
          0.2695085344465426,
          -1.0154657971909247,
          2.2249042565035584,
          -0.009833711561602487,
          0.49298233125305885,
          0.772324577261204,
          0.49298233125305885,
          -0.009833711561602487,
          -0.5126497543762636,
          -0.5126497543762636,
          -0.7361235511827796,
          -0.7361235511827796,
          -0.009833711561602487,
          0.49298233125305885,
          2.2249042565035584,
          0.49298233125305885,
          0.49298233125305885,
          2.001430459697042,
          1.2751406200758648,
          0.772324577261204,
          -1.741755636812102,
          0.9957983740677198,
          0.772324577261204,
          -0.2333075083681185,
          3.0070625453263644,
          0.9957983740677198,
          -0.009833711561602487,
          -0.009833711561602487,
          -0.5126497543762636,
          -0.7361235511827796,
          3.0070625453263644,
          -1.518281840005586,
          -0.009833711561602487,
          0.2695085344465426,
          0.49298233125305885,
          0.2695085344465426,
          0.49298233125305885,
          0.9957983740677198,
          0.772324577261204,
          -0.009833711561602487,
          -0.2333075083681185,
          1.2751406200758648,
          -0.2333075083681185,
          2.001430459697042,
          -1.518281840005586,
          -0.009833711561602487,
          0.2695085344465426,
          -1.0154657971909247,
          0.2695085344465426,
          0.49298233125305885,
          -1.0154657971909247,
          -0.5126497543762636,
          -1.0154657971909247,
          -0.7361235511827796,
          0.49298233125305885,
          0.49298233125305885,
          0.49298233125305885,
          0.49298233125305885,
          0.49298233125305885,
          0.49298233125305885,
          -1.238939593997441,
          2.504246502511703,
          -0.2333075083681185,
          -0.2333075083681185,
          2.001430459697042,
          0.772324577261204,
          -0.7361235511827796,
          -0.7361235511827796,
          0.9957983740677198,
          1.4986144168823812,
          -0.009833711561602487,
          0.2695085344465426
         ],
         "y0": " ",
         "yaxis": "y"
        }
       ],
       "layout": {
        "boxmode": "group",
        "legend": {
         "tracegroupgap": 0
        },
        "margin": {
         "t": 60
        },
        "template": {
         "data": {
          "bar": [
           {
            "error_x": {
             "color": "#2a3f5f"
            },
            "error_y": {
             "color": "#2a3f5f"
            },
            "marker": {
             "line": {
              "color": "#E5ECF6",
              "width": 0.5
             },
             "pattern": {
              "fillmode": "overlay",
              "size": 10,
              "solidity": 0.2
             }
            },
            "type": "bar"
           }
          ],
          "barpolar": [
           {
            "marker": {
             "line": {
              "color": "#E5ECF6",
              "width": 0.5
             },
             "pattern": {
              "fillmode": "overlay",
              "size": 10,
              "solidity": 0.2
             }
            },
            "type": "barpolar"
           }
          ],
          "carpet": [
           {
            "aaxis": {
             "endlinecolor": "#2a3f5f",
             "gridcolor": "white",
             "linecolor": "white",
             "minorgridcolor": "white",
             "startlinecolor": "#2a3f5f"
            },
            "baxis": {
             "endlinecolor": "#2a3f5f",
             "gridcolor": "white",
             "linecolor": "white",
             "minorgridcolor": "white",
             "startlinecolor": "#2a3f5f"
            },
            "type": "carpet"
           }
          ],
          "choropleth": [
           {
            "colorbar": {
             "outlinewidth": 0,
             "ticks": ""
            },
            "type": "choropleth"
           }
          ],
          "contour": [
           {
            "colorbar": {
             "outlinewidth": 0,
             "ticks": ""
            },
            "colorscale": [
             [
              0,
              "#0d0887"
             ],
             [
              0.1111111111111111,
              "#46039f"
             ],
             [
              0.2222222222222222,
              "#7201a8"
             ],
             [
              0.3333333333333333,
              "#9c179e"
             ],
             [
              0.4444444444444444,
              "#bd3786"
             ],
             [
              0.5555555555555556,
              "#d8576b"
             ],
             [
              0.6666666666666666,
              "#ed7953"
             ],
             [
              0.7777777777777778,
              "#fb9f3a"
             ],
             [
              0.8888888888888888,
              "#fdca26"
             ],
             [
              1,
              "#f0f921"
             ]
            ],
            "type": "contour"
           }
          ],
          "contourcarpet": [
           {
            "colorbar": {
             "outlinewidth": 0,
             "ticks": ""
            },
            "type": "contourcarpet"
           }
          ],
          "heatmap": [
           {
            "colorbar": {
             "outlinewidth": 0,
             "ticks": ""
            },
            "colorscale": [
             [
              0,
              "#0d0887"
             ],
             [
              0.1111111111111111,
              "#46039f"
             ],
             [
              0.2222222222222222,
              "#7201a8"
             ],
             [
              0.3333333333333333,
              "#9c179e"
             ],
             [
              0.4444444444444444,
              "#bd3786"
             ],
             [
              0.5555555555555556,
              "#d8576b"
             ],
             [
              0.6666666666666666,
              "#ed7953"
             ],
             [
              0.7777777777777778,
              "#fb9f3a"
             ],
             [
              0.8888888888888888,
              "#fdca26"
             ],
             [
              1,
              "#f0f921"
             ]
            ],
            "type": "heatmap"
           }
          ],
          "heatmapgl": [
           {
            "colorbar": {
             "outlinewidth": 0,
             "ticks": ""
            },
            "colorscale": [
             [
              0,
              "#0d0887"
             ],
             [
              0.1111111111111111,
              "#46039f"
             ],
             [
              0.2222222222222222,
              "#7201a8"
             ],
             [
              0.3333333333333333,
              "#9c179e"
             ],
             [
              0.4444444444444444,
              "#bd3786"
             ],
             [
              0.5555555555555556,
              "#d8576b"
             ],
             [
              0.6666666666666666,
              "#ed7953"
             ],
             [
              0.7777777777777778,
              "#fb9f3a"
             ],
             [
              0.8888888888888888,
              "#fdca26"
             ],
             [
              1,
              "#f0f921"
             ]
            ],
            "type": "heatmapgl"
           }
          ],
          "histogram": [
           {
            "marker": {
             "pattern": {
              "fillmode": "overlay",
              "size": 10,
              "solidity": 0.2
             }
            },
            "type": "histogram"
           }
          ],
          "histogram2d": [
           {
            "colorbar": {
             "outlinewidth": 0,
             "ticks": ""
            },
            "colorscale": [
             [
              0,
              "#0d0887"
             ],
             [
              0.1111111111111111,
              "#46039f"
             ],
             [
              0.2222222222222222,
              "#7201a8"
             ],
             [
              0.3333333333333333,
              "#9c179e"
             ],
             [
              0.4444444444444444,
              "#bd3786"
             ],
             [
              0.5555555555555556,
              "#d8576b"
             ],
             [
              0.6666666666666666,
              "#ed7953"
             ],
             [
              0.7777777777777778,
              "#fb9f3a"
             ],
             [
              0.8888888888888888,
              "#fdca26"
             ],
             [
              1,
              "#f0f921"
             ]
            ],
            "type": "histogram2d"
           }
          ],
          "histogram2dcontour": [
           {
            "colorbar": {
             "outlinewidth": 0,
             "ticks": ""
            },
            "colorscale": [
             [
              0,
              "#0d0887"
             ],
             [
              0.1111111111111111,
              "#46039f"
             ],
             [
              0.2222222222222222,
              "#7201a8"
             ],
             [
              0.3333333333333333,
              "#9c179e"
             ],
             [
              0.4444444444444444,
              "#bd3786"
             ],
             [
              0.5555555555555556,
              "#d8576b"
             ],
             [
              0.6666666666666666,
              "#ed7953"
             ],
             [
              0.7777777777777778,
              "#fb9f3a"
             ],
             [
              0.8888888888888888,
              "#fdca26"
             ],
             [
              1,
              "#f0f921"
             ]
            ],
            "type": "histogram2dcontour"
           }
          ],
          "mesh3d": [
           {
            "colorbar": {
             "outlinewidth": 0,
             "ticks": ""
            },
            "type": "mesh3d"
           }
          ],
          "parcoords": [
           {
            "line": {
             "colorbar": {
              "outlinewidth": 0,
              "ticks": ""
             }
            },
            "type": "parcoords"
           }
          ],
          "pie": [
           {
            "automargin": true,
            "type": "pie"
           }
          ],
          "scatter": [
           {
            "marker": {
             "colorbar": {
              "outlinewidth": 0,
              "ticks": ""
             }
            },
            "type": "scatter"
           }
          ],
          "scatter3d": [
           {
            "line": {
             "colorbar": {
              "outlinewidth": 0,
              "ticks": ""
             }
            },
            "marker": {
             "colorbar": {
              "outlinewidth": 0,
              "ticks": ""
             }
            },
            "type": "scatter3d"
           }
          ],
          "scattercarpet": [
           {
            "marker": {
             "colorbar": {
              "outlinewidth": 0,
              "ticks": ""
             }
            },
            "type": "scattercarpet"
           }
          ],
          "scattergeo": [
           {
            "marker": {
             "colorbar": {
              "outlinewidth": 0,
              "ticks": ""
             }
            },
            "type": "scattergeo"
           }
          ],
          "scattergl": [
           {
            "marker": {
             "colorbar": {
              "outlinewidth": 0,
              "ticks": ""
             }
            },
            "type": "scattergl"
           }
          ],
          "scattermapbox": [
           {
            "marker": {
             "colorbar": {
              "outlinewidth": 0,
              "ticks": ""
             }
            },
            "type": "scattermapbox"
           }
          ],
          "scatterpolar": [
           {
            "marker": {
             "colorbar": {
              "outlinewidth": 0,
              "ticks": ""
             }
            },
            "type": "scatterpolar"
           }
          ],
          "scatterpolargl": [
           {
            "marker": {
             "colorbar": {
              "outlinewidth": 0,
              "ticks": ""
             }
            },
            "type": "scatterpolargl"
           }
          ],
          "scatterternary": [
           {
            "marker": {
             "colorbar": {
              "outlinewidth": 0,
              "ticks": ""
             }
            },
            "type": "scatterternary"
           }
          ],
          "surface": [
           {
            "colorbar": {
             "outlinewidth": 0,
             "ticks": ""
            },
            "colorscale": [
             [
              0,
              "#0d0887"
             ],
             [
              0.1111111111111111,
              "#46039f"
             ],
             [
              0.2222222222222222,
              "#7201a8"
             ],
             [
              0.3333333333333333,
              "#9c179e"
             ],
             [
              0.4444444444444444,
              "#bd3786"
             ],
             [
              0.5555555555555556,
              "#d8576b"
             ],
             [
              0.6666666666666666,
              "#ed7953"
             ],
             [
              0.7777777777777778,
              "#fb9f3a"
             ],
             [
              0.8888888888888888,
              "#fdca26"
             ],
             [
              1,
              "#f0f921"
             ]
            ],
            "type": "surface"
           }
          ],
          "table": [
           {
            "cells": {
             "fill": {
              "color": "#EBF0F8"
             },
             "line": {
              "color": "white"
             }
            },
            "header": {
             "fill": {
              "color": "#C8D4E3"
             },
             "line": {
              "color": "white"
             }
            },
            "type": "table"
           }
          ]
         },
         "layout": {
          "annotationdefaults": {
           "arrowcolor": "#2a3f5f",
           "arrowhead": 0,
           "arrowwidth": 1
          },
          "autotypenumbers": "strict",
          "coloraxis": {
           "colorbar": {
            "outlinewidth": 0,
            "ticks": ""
           }
          },
          "colorscale": {
           "diverging": [
            [
             0,
             "#8e0152"
            ],
            [
             0.1,
             "#c51b7d"
            ],
            [
             0.2,
             "#de77ae"
            ],
            [
             0.3,
             "#f1b6da"
            ],
            [
             0.4,
             "#fde0ef"
            ],
            [
             0.5,
             "#f7f7f7"
            ],
            [
             0.6,
             "#e6f5d0"
            ],
            [
             0.7,
             "#b8e186"
            ],
            [
             0.8,
             "#7fbc41"
            ],
            [
             0.9,
             "#4d9221"
            ],
            [
             1,
             "#276419"
            ]
           ],
           "sequential": [
            [
             0,
             "#0d0887"
            ],
            [
             0.1111111111111111,
             "#46039f"
            ],
            [
             0.2222222222222222,
             "#7201a8"
            ],
            [
             0.3333333333333333,
             "#9c179e"
            ],
            [
             0.4444444444444444,
             "#bd3786"
            ],
            [
             0.5555555555555556,
             "#d8576b"
            ],
            [
             0.6666666666666666,
             "#ed7953"
            ],
            [
             0.7777777777777778,
             "#fb9f3a"
            ],
            [
             0.8888888888888888,
             "#fdca26"
            ],
            [
             1,
             "#f0f921"
            ]
           ],
           "sequentialminus": [
            [
             0,
             "#0d0887"
            ],
            [
             0.1111111111111111,
             "#46039f"
            ],
            [
             0.2222222222222222,
             "#7201a8"
            ],
            [
             0.3333333333333333,
             "#9c179e"
            ],
            [
             0.4444444444444444,
             "#bd3786"
            ],
            [
             0.5555555555555556,
             "#d8576b"
            ],
            [
             0.6666666666666666,
             "#ed7953"
            ],
            [
             0.7777777777777778,
             "#fb9f3a"
            ],
            [
             0.8888888888888888,
             "#fdca26"
            ],
            [
             1,
             "#f0f921"
            ]
           ]
          },
          "colorway": [
           "#636efa",
           "#EF553B",
           "#00cc96",
           "#ab63fa",
           "#FFA15A",
           "#19d3f3",
           "#FF6692",
           "#B6E880",
           "#FF97FF",
           "#FECB52"
          ],
          "font": {
           "color": "#2a3f5f"
          },
          "geo": {
           "bgcolor": "white",
           "lakecolor": "white",
           "landcolor": "#E5ECF6",
           "showlakes": true,
           "showland": true,
           "subunitcolor": "white"
          },
          "hoverlabel": {
           "align": "left"
          },
          "hovermode": "closest",
          "mapbox": {
           "style": "light"
          },
          "paper_bgcolor": "white",
          "plot_bgcolor": "#E5ECF6",
          "polar": {
           "angularaxis": {
            "gridcolor": "white",
            "linecolor": "white",
            "ticks": ""
           },
           "bgcolor": "#E5ECF6",
           "radialaxis": {
            "gridcolor": "white",
            "linecolor": "white",
            "ticks": ""
           }
          },
          "scene": {
           "xaxis": {
            "backgroundcolor": "#E5ECF6",
            "gridcolor": "white",
            "gridwidth": 2,
            "linecolor": "white",
            "showbackground": true,
            "ticks": "",
            "zerolinecolor": "white"
           },
           "yaxis": {
            "backgroundcolor": "#E5ECF6",
            "gridcolor": "white",
            "gridwidth": 2,
            "linecolor": "white",
            "showbackground": true,
            "ticks": "",
            "zerolinecolor": "white"
           },
           "zaxis": {
            "backgroundcolor": "#E5ECF6",
            "gridcolor": "white",
            "gridwidth": 2,
            "linecolor": "white",
            "showbackground": true,
            "ticks": "",
            "zerolinecolor": "white"
           }
          },
          "shapedefaults": {
           "line": {
            "color": "#2a3f5f"
           }
          },
          "ternary": {
           "aaxis": {
            "gridcolor": "white",
            "linecolor": "white",
            "ticks": ""
           },
           "baxis": {
            "gridcolor": "white",
            "linecolor": "white",
            "ticks": ""
           },
           "bgcolor": "#E5ECF6",
           "caxis": {
            "gridcolor": "white",
            "linecolor": "white",
            "ticks": ""
           }
          },
          "title": {
           "x": 0.05
          },
          "xaxis": {
           "automargin": true,
           "gridcolor": "white",
           "linecolor": "white",
           "ticks": "",
           "title": {
            "standoff": 15
           },
           "zerolinecolor": "white",
           "zerolinewidth": 2
          },
          "yaxis": {
           "automargin": true,
           "gridcolor": "white",
           "linecolor": "white",
           "ticks": "",
           "title": {
            "standoff": 15
           },
           "zerolinecolor": "white",
           "zerolinewidth": 2
          }
         }
        },
        "xaxis": {
         "anchor": "y",
         "domain": [
          0,
          1
         ]
        },
        "yaxis": {
         "anchor": "x",
         "domain": [
          0,
          1
         ],
         "title": {
          "text": "wind"
         }
        }
       }
      }
     },
     "metadata": {},
     "output_type": "display_data"
    },
    {
     "data": {
      "application/vnd.plotly.v1+json": {
       "config": {
        "plotlyServerURL": "https://plot.ly"
       },
       "data": [
        {
         "alignmentgroup": "True",
         "hovertemplate": "rain=%{y}<extra></extra>",
         "legendgroup": "",
         "marker": {
          "color": "#636efa"
         },
         "name": "",
         "notched": false,
         "offsetgroup": "",
         "orientation": "v",
         "showlegend": false,
         "type": "box",
         "x0": " ",
         "xaxis": "x",
         "y": [
          -0.07326830956410954,
          -0.07326830956410954,
          -0.07326830956410954,
          0.6031551912331161,
          -0.07326830956410954,
          -0.07326830956410954,
          -0.07326830956410954,
          -0.07326830956410954,
          -0.07326830956410954,
          -0.07326830956410954,
          -0.07326830956410954,
          -0.07326830956410954,
          -0.07326830956410954,
          -0.07326830956410954,
          -0.07326830956410954,
          -0.07326830956410954,
          -0.07326830956410954,
          -0.07326830956410954,
          -0.07326830956410954,
          -0.07326830956410954,
          -0.07326830956410954,
          -0.07326830956410954,
          -0.07326830956410954,
          -0.07326830956410954,
          -0.07326830956410954,
          -0.07326830956410954,
          -0.07326830956410954,
          -0.07326830956410954,
          -0.07326830956410954,
          -0.07326830956410954,
          -0.07326830956410954,
          -0.07326830956410954,
          -0.07326830956410954,
          -0.07326830956410954,
          -0.07326830956410954,
          -0.07326830956410954,
          -0.07326830956410954,
          -0.07326830956410954,
          -0.07326830956410954,
          -0.07326830956410954,
          -0.07326830956410954,
          -0.07326830956410954,
          -0.07326830956410954,
          -0.07326830956410954,
          -0.07326830956410954,
          -0.07326830956410954,
          -0.07326830956410954,
          -0.07326830956410954,
          -0.07326830956410954,
          -0.07326830956410954,
          -0.07326830956410954,
          -0.07326830956410954,
          -0.07326830956410954,
          -0.07326830956410954,
          -0.07326830956410954,
          -0.07326830956410954,
          -0.07326830956410954,
          -0.07326830956410954,
          -0.07326830956410954,
          -0.07326830956410954,
          -0.07326830956410954,
          -0.07326830956410954,
          -0.07326830956410954,
          -0.07326830956410954,
          -0.07326830956410954,
          -0.07326830956410954,
          -0.07326830956410954,
          -0.07326830956410954,
          -0.07326830956410954,
          -0.07326830956410954,
          -0.07326830956410954,
          -0.07326830956410954,
          -0.07326830956410954,
          -0.07326830956410954,
          -0.07326830956410954,
          -0.07326830956410954,
          -0.07326830956410954,
          -0.07326830956410954,
          -0.07326830956410954,
          -0.07326830956410954,
          -0.07326830956410954,
          -0.07326830956410954,
          -0.07326830956410954,
          -0.07326830956410954,
          -0.07326830956410954,
          -0.07326830956410954,
          -0.07326830956410954,
          -0.07326830956410954,
          -0.07326830956410954,
          -0.07326830956410954,
          -0.07326830956410954,
          -0.07326830956410954,
          -0.07326830956410954,
          -0.07326830956410954,
          -0.07326830956410954,
          -0.07326830956410954,
          -0.07326830956410954,
          -0.07326830956410954,
          -0.07326830956410954,
          -0.07326830956410954,
          -0.07326830956410954,
          -0.07326830956410954,
          -0.07326830956410954,
          -0.07326830956410954,
          -0.07326830956410954,
          -0.07326830956410954,
          -0.07326830956410954,
          -0.07326830956410954,
          -0.07326830956410954,
          -0.07326830956410954,
          -0.07326830956410954,
          -0.07326830956410954,
          -0.07326830956410954,
          -0.07326830956410954,
          -0.07326830956410954,
          -0.07326830956410954,
          -0.07326830956410954,
          -0.07326830956410954,
          -0.07326830956410954,
          -0.07326830956410954,
          -0.07326830956410954,
          -0.07326830956410954,
          -0.07326830956410954,
          -0.07326830956410954,
          -0.07326830956410954,
          -0.07326830956410954,
          -0.07326830956410954,
          -0.07326830956410954,
          -0.07326830956410954,
          -0.07326830956410954,
          -0.07326830956410954,
          -0.07326830956410954,
          -0.07326830956410954,
          -0.07326830956410954,
          -0.07326830956410954,
          -0.07326830956410954,
          -0.07326830956410954,
          -0.07326830956410954,
          -0.07326830956410954,
          -0.07326830956410954,
          -0.07326830956410954,
          -0.07326830956410954,
          -0.07326830956410954,
          -0.07326830956410954,
          -0.07326830956410954,
          -0.07326830956410954,
          -0.07326830956410954,
          -0.07326830956410954,
          -0.07326830956410954,
          -0.07326830956410954,
          -0.07326830956410954,
          -0.07326830956410954,
          -0.07326830956410954,
          -0.07326830956410954,
          -0.07326830956410954,
          -0.07326830956410954,
          -0.07326830956410954,
          -0.07326830956410954,
          -0.07326830956410954,
          -0.07326830956410954,
          -0.07326830956410954,
          -0.07326830956410954,
          -0.07326830956410954,
          -0.07326830956410954,
          -0.07326830956410954,
          -0.07326830956410954,
          -0.07326830956410954,
          -0.07326830956410954,
          -0.07326830956410954,
          -0.07326830956410954,
          -0.07326830956410954,
          -0.07326830956410954,
          -0.07326830956410954,
          -0.07326830956410954,
          -0.07326830956410954,
          -0.07326830956410954,
          -0.07326830956410954,
          -0.07326830956410954,
          -0.07326830956410954,
          -0.07326830956410954,
          -0.07326830956410954,
          -0.07326830956410954,
          -0.07326830956410954,
          -0.07326830956410954,
          -0.07326830956410954,
          -0.07326830956410954,
          -0.07326830956410954,
          -0.07326830956410954,
          -0.07326830956410954,
          -0.07326830956410954,
          -0.07326830956410954,
          -0.07326830956410954,
          -0.07326830956410954,
          -0.07326830956410954,
          -0.07326830956410954,
          -0.07326830956410954,
          -0.07326830956410954,
          -0.07326830956410954,
          -0.07326830956410954,
          -0.07326830956410954,
          -0.07326830956410954,
          -0.07326830956410954,
          -0.07326830956410954,
          -0.07326830956410954,
          -0.07326830956410954,
          -0.07326830956410954,
          -0.07326830956410954,
          -0.07326830956410954,
          -0.07326830956410954,
          -0.07326830956410954,
          -0.07326830956410954,
          -0.07326830956410954,
          -0.07326830956410954,
          -0.07326830956410954,
          -0.07326830956410954,
          -0.07326830956410954,
          -0.07326830956410954,
          -0.07326830956410954,
          -0.07326830956410954,
          -0.07326830956410954,
          -0.07326830956410954,
          -0.07326830956410954,
          -0.07326830956410954,
          -0.07326830956410954,
          -0.07326830956410954,
          -0.07326830956410954,
          -0.07326830956410954,
          -0.07326830956410954,
          -0.07326830956410954,
          -0.07326830956410954,
          -0.07326830956410954,
          -0.07326830956410954,
          -0.07326830956410954,
          -0.07326830956410954,
          -0.07326830956410954,
          -0.07326830956410954,
          -0.07326830956410954,
          -0.07326830956410954,
          -0.07326830956410954,
          -0.07326830956410954,
          -0.07326830956410954,
          -0.07326830956410954,
          -0.07326830956410954,
          3.308849194422019,
          -0.07326830956410954,
          -0.07326830956410954,
          -0.07326830956410954,
          -0.07326830956410954,
          -0.07326830956410954,
          -0.07326830956410954,
          -0.07326830956410954,
          -0.07326830956410954,
          -0.07326830956410954,
          -0.07326830956410954,
          -0.07326830956410954,
          -0.07326830956410954,
          -0.07326830956410954,
          -0.07326830956410954,
          -0.07326830956410954,
          -0.07326830956410954,
          -0.07326830956410954,
          -0.07326830956410954,
          -0.07326830956410954,
          -0.07326830956410954,
          -0.07326830956410954,
          -0.07326830956410954,
          -0.07326830956410954,
          -0.07326830956410954,
          -0.07326830956410954,
          -0.07326830956410954,
          -0.07326830956410954,
          -0.07326830956410954,
          -0.07326830956410954,
          -0.07326830956410954,
          -0.07326830956410954,
          -0.07326830956410954,
          -0.07326830956410954,
          -0.07326830956410954,
          -0.07326830956410954,
          -0.07326830956410954,
          -0.07326830956410954,
          -0.07326830956410954,
          -0.07326830956410954,
          -0.07326830956410954,
          -0.07326830956410954,
          -0.07326830956410954,
          0.6031551912331161,
          -0.07326830956410954,
          -0.07326830956410954,
          -0.07326830956410954,
          -0.07326830956410954,
          -0.07326830956410954,
          -0.07326830956410954,
          -0.07326830956410954,
          -0.07326830956410954,
          -0.07326830956410954,
          -0.07326830956410954,
          -0.07326830956410954,
          -0.07326830956410954,
          -0.07326830956410954,
          -0.07326830956410954,
          -0.07326830956410954,
          -0.07326830956410954,
          -0.07326830956410954,
          -0.07326830956410954,
          -0.07326830956410954,
          -0.07326830956410954,
          -0.07326830956410954,
          -0.07326830956410954,
          -0.07326830956410954,
          -0.07326830956410954,
          -0.07326830956410954,
          -0.07326830956410954,
          -0.07326830956410954,
          -0.07326830956410954,
          -0.07326830956410954,
          -0.07326830956410954,
          -0.07326830956410954,
          -0.07326830956410954,
          -0.07326830956410954,
          -0.07326830956410954,
          -0.07326830956410954,
          -0.07326830956410954,
          -0.07326830956410954,
          -0.07326830956410954,
          -0.07326830956410954,
          -0.07326830956410954,
          -0.07326830956410954,
          -0.07326830956410954,
          -0.07326830956410954,
          -0.07326830956410954,
          -0.07326830956410954,
          -0.07326830956410954,
          -0.07326830956410954,
          -0.07326830956410954,
          -0.07326830956410954,
          -0.07326830956410954,
          -0.07326830956410954,
          -0.07326830956410954,
          -0.07326830956410954,
          -0.07326830956410954,
          -0.07326830956410954,
          -0.07326830956410954,
          -0.07326830956410954,
          -0.07326830956410954,
          -0.07326830956410954,
          -0.07326830956410954,
          -0.07326830956410954,
          -0.07326830956410954,
          -0.07326830956410954,
          -0.07326830956410954,
          -0.07326830956410954,
          -0.07326830956410954,
          -0.07326830956410954,
          -0.07326830956410954,
          -0.07326830956410954,
          -0.07326830956410954,
          -0.07326830956410954,
          -0.07326830956410954,
          -0.07326830956410954,
          -0.07326830956410954,
          -0.07326830956410954,
          -0.07326830956410954,
          -0.07326830956410954,
          -0.07326830956410954,
          -0.07326830956410954,
          -0.07326830956410954,
          -0.07326830956410954,
          -0.07326830956410954,
          -0.07326830956410954,
          -0.07326830956410954,
          -0.07326830956410954,
          -0.07326830956410954,
          -0.07326830956410954,
          -0.07326830956410954,
          -0.07326830956410954,
          -0.07326830956410954,
          -0.07326830956410954,
          -0.07326830956410954,
          -0.07326830956410954,
          -0.07326830956410954,
          -0.07326830956410954,
          -0.07326830956410954,
          -0.07326830956410954,
          -0.07326830956410954,
          -0.07326830956410954,
          -0.07326830956410954,
          -0.07326830956410954,
          -0.07326830956410954,
          -0.07326830956410954,
          -0.07326830956410954,
          -0.07326830956410954,
          -0.07326830956410954,
          -0.07326830956410954,
          -0.07326830956410954,
          -0.07326830956410954,
          -0.07326830956410954,
          -0.07326830956410954,
          -0.07326830956410954,
          -0.07326830956410954,
          -0.07326830956410954,
          -0.07326830956410954,
          -0.07326830956410954,
          -0.07326830956410954,
          -0.07326830956410954,
          -0.07326830956410954,
          -0.07326830956410954,
          -0.07326830956410954,
          -0.07326830956410954,
          -0.07326830956410954,
          -0.07326830956410954,
          -0.07326830956410954,
          -0.07326830956410954,
          -0.07326830956410954,
          -0.07326830956410954,
          -0.07326830956410954,
          -0.07326830956410954,
          -0.07326830956410954,
          -0.07326830956410954,
          -0.07326830956410954,
          -0.07326830956410954,
          -0.07326830956410954,
          -0.07326830956410954,
          -0.07326830956410954,
          -0.07326830956410954,
          -0.07326830956410954,
          -0.07326830956410954,
          -0.07326830956410954,
          -0.07326830956410954,
          -0.07326830956410954,
          -0.07326830956410954,
          -0.07326830956410954,
          -0.07326830956410954,
          -0.07326830956410954,
          -0.07326830956410954,
          -0.07326830956410954,
          -0.07326830956410954,
          -0.07326830956410954,
          -0.07326830956410954,
          -0.07326830956410954,
          -0.07326830956410954,
          -0.07326830956410954,
          -0.07326830956410954,
          -0.07326830956410954,
          -0.07326830956410954,
          -0.07326830956410954,
          -0.07326830956410954,
          -0.07326830956410954,
          -0.07326830956410954,
          -0.07326830956410954,
          -0.07326830956410954,
          -0.07326830956410954,
          -0.07326830956410954,
          -0.07326830956410954,
          -0.07326830956410954,
          -0.07326830956410954,
          -0.07326830956410954,
          -0.07326830956410954,
          -0.07326830956410954,
          -0.07326830956410954,
          -0.07326830956410954,
          -0.07326830956410954,
          -0.07326830956410954,
          -0.07326830956410954,
          -0.07326830956410954,
          -0.07326830956410954,
          -0.07326830956410954,
          -0.07326830956410954,
          -0.07326830956410954,
          -0.07326830956410954,
          -0.07326830956410954,
          -0.07326830956410954,
          -0.07326830956410954,
          -0.07326830956410954,
          -0.07326830956410954,
          -0.07326830956410954,
          -0.07326830956410954,
          -0.07326830956410954,
          -0.07326830956410954,
          -0.07326830956410954,
          -0.07326830956410954,
          -0.07326830956410954,
          -0.07326830956410954,
          -0.07326830956410954,
          -0.07326830956410954,
          -0.07326830956410954,
          -0.07326830956410954,
          -0.07326830956410954,
          -0.07326830956410954,
          -0.07326830956410954,
          -0.07326830956410954,
          -0.07326830956410954,
          -0.07326830956410954,
          -0.07326830956410954,
          -0.07326830956410954,
          -0.07326830956410954,
          -0.07326830956410954,
          -0.07326830956410954,
          -0.07326830956410954,
          21.572283715947112,
          2.632425693624793,
          2.632425693624793,
          1.2795786920303418,
          -0.07326830956410954,
          -0.07326830956410954,
          -0.07326830956410954,
          -0.07326830956410954,
          -0.07326830956410954,
          -0.07326830956410954,
          4.66169619601647,
          -0.07326830956410954,
          -0.07326830956410954,
          -0.07326830956410954,
          -0.07326830956410954,
          -0.07326830956410954,
          -0.07326830956410954,
          -0.07326830956410954
         ],
         "y0": " ",
         "yaxis": "y"
        }
       ],
       "layout": {
        "boxmode": "group",
        "legend": {
         "tracegroupgap": 0
        },
        "margin": {
         "t": 60
        },
        "template": {
         "data": {
          "bar": [
           {
            "error_x": {
             "color": "#2a3f5f"
            },
            "error_y": {
             "color": "#2a3f5f"
            },
            "marker": {
             "line": {
              "color": "#E5ECF6",
              "width": 0.5
             },
             "pattern": {
              "fillmode": "overlay",
              "size": 10,
              "solidity": 0.2
             }
            },
            "type": "bar"
           }
          ],
          "barpolar": [
           {
            "marker": {
             "line": {
              "color": "#E5ECF6",
              "width": 0.5
             },
             "pattern": {
              "fillmode": "overlay",
              "size": 10,
              "solidity": 0.2
             }
            },
            "type": "barpolar"
           }
          ],
          "carpet": [
           {
            "aaxis": {
             "endlinecolor": "#2a3f5f",
             "gridcolor": "white",
             "linecolor": "white",
             "minorgridcolor": "white",
             "startlinecolor": "#2a3f5f"
            },
            "baxis": {
             "endlinecolor": "#2a3f5f",
             "gridcolor": "white",
             "linecolor": "white",
             "minorgridcolor": "white",
             "startlinecolor": "#2a3f5f"
            },
            "type": "carpet"
           }
          ],
          "choropleth": [
           {
            "colorbar": {
             "outlinewidth": 0,
             "ticks": ""
            },
            "type": "choropleth"
           }
          ],
          "contour": [
           {
            "colorbar": {
             "outlinewidth": 0,
             "ticks": ""
            },
            "colorscale": [
             [
              0,
              "#0d0887"
             ],
             [
              0.1111111111111111,
              "#46039f"
             ],
             [
              0.2222222222222222,
              "#7201a8"
             ],
             [
              0.3333333333333333,
              "#9c179e"
             ],
             [
              0.4444444444444444,
              "#bd3786"
             ],
             [
              0.5555555555555556,
              "#d8576b"
             ],
             [
              0.6666666666666666,
              "#ed7953"
             ],
             [
              0.7777777777777778,
              "#fb9f3a"
             ],
             [
              0.8888888888888888,
              "#fdca26"
             ],
             [
              1,
              "#f0f921"
             ]
            ],
            "type": "contour"
           }
          ],
          "contourcarpet": [
           {
            "colorbar": {
             "outlinewidth": 0,
             "ticks": ""
            },
            "type": "contourcarpet"
           }
          ],
          "heatmap": [
           {
            "colorbar": {
             "outlinewidth": 0,
             "ticks": ""
            },
            "colorscale": [
             [
              0,
              "#0d0887"
             ],
             [
              0.1111111111111111,
              "#46039f"
             ],
             [
              0.2222222222222222,
              "#7201a8"
             ],
             [
              0.3333333333333333,
              "#9c179e"
             ],
             [
              0.4444444444444444,
              "#bd3786"
             ],
             [
              0.5555555555555556,
              "#d8576b"
             ],
             [
              0.6666666666666666,
              "#ed7953"
             ],
             [
              0.7777777777777778,
              "#fb9f3a"
             ],
             [
              0.8888888888888888,
              "#fdca26"
             ],
             [
              1,
              "#f0f921"
             ]
            ],
            "type": "heatmap"
           }
          ],
          "heatmapgl": [
           {
            "colorbar": {
             "outlinewidth": 0,
             "ticks": ""
            },
            "colorscale": [
             [
              0,
              "#0d0887"
             ],
             [
              0.1111111111111111,
              "#46039f"
             ],
             [
              0.2222222222222222,
              "#7201a8"
             ],
             [
              0.3333333333333333,
              "#9c179e"
             ],
             [
              0.4444444444444444,
              "#bd3786"
             ],
             [
              0.5555555555555556,
              "#d8576b"
             ],
             [
              0.6666666666666666,
              "#ed7953"
             ],
             [
              0.7777777777777778,
              "#fb9f3a"
             ],
             [
              0.8888888888888888,
              "#fdca26"
             ],
             [
              1,
              "#f0f921"
             ]
            ],
            "type": "heatmapgl"
           }
          ],
          "histogram": [
           {
            "marker": {
             "pattern": {
              "fillmode": "overlay",
              "size": 10,
              "solidity": 0.2
             }
            },
            "type": "histogram"
           }
          ],
          "histogram2d": [
           {
            "colorbar": {
             "outlinewidth": 0,
             "ticks": ""
            },
            "colorscale": [
             [
              0,
              "#0d0887"
             ],
             [
              0.1111111111111111,
              "#46039f"
             ],
             [
              0.2222222222222222,
              "#7201a8"
             ],
             [
              0.3333333333333333,
              "#9c179e"
             ],
             [
              0.4444444444444444,
              "#bd3786"
             ],
             [
              0.5555555555555556,
              "#d8576b"
             ],
             [
              0.6666666666666666,
              "#ed7953"
             ],
             [
              0.7777777777777778,
              "#fb9f3a"
             ],
             [
              0.8888888888888888,
              "#fdca26"
             ],
             [
              1,
              "#f0f921"
             ]
            ],
            "type": "histogram2d"
           }
          ],
          "histogram2dcontour": [
           {
            "colorbar": {
             "outlinewidth": 0,
             "ticks": ""
            },
            "colorscale": [
             [
              0,
              "#0d0887"
             ],
             [
              0.1111111111111111,
              "#46039f"
             ],
             [
              0.2222222222222222,
              "#7201a8"
             ],
             [
              0.3333333333333333,
              "#9c179e"
             ],
             [
              0.4444444444444444,
              "#bd3786"
             ],
             [
              0.5555555555555556,
              "#d8576b"
             ],
             [
              0.6666666666666666,
              "#ed7953"
             ],
             [
              0.7777777777777778,
              "#fb9f3a"
             ],
             [
              0.8888888888888888,
              "#fdca26"
             ],
             [
              1,
              "#f0f921"
             ]
            ],
            "type": "histogram2dcontour"
           }
          ],
          "mesh3d": [
           {
            "colorbar": {
             "outlinewidth": 0,
             "ticks": ""
            },
            "type": "mesh3d"
           }
          ],
          "parcoords": [
           {
            "line": {
             "colorbar": {
              "outlinewidth": 0,
              "ticks": ""
             }
            },
            "type": "parcoords"
           }
          ],
          "pie": [
           {
            "automargin": true,
            "type": "pie"
           }
          ],
          "scatter": [
           {
            "marker": {
             "colorbar": {
              "outlinewidth": 0,
              "ticks": ""
             }
            },
            "type": "scatter"
           }
          ],
          "scatter3d": [
           {
            "line": {
             "colorbar": {
              "outlinewidth": 0,
              "ticks": ""
             }
            },
            "marker": {
             "colorbar": {
              "outlinewidth": 0,
              "ticks": ""
             }
            },
            "type": "scatter3d"
           }
          ],
          "scattercarpet": [
           {
            "marker": {
             "colorbar": {
              "outlinewidth": 0,
              "ticks": ""
             }
            },
            "type": "scattercarpet"
           }
          ],
          "scattergeo": [
           {
            "marker": {
             "colorbar": {
              "outlinewidth": 0,
              "ticks": ""
             }
            },
            "type": "scattergeo"
           }
          ],
          "scattergl": [
           {
            "marker": {
             "colorbar": {
              "outlinewidth": 0,
              "ticks": ""
             }
            },
            "type": "scattergl"
           }
          ],
          "scattermapbox": [
           {
            "marker": {
             "colorbar": {
              "outlinewidth": 0,
              "ticks": ""
             }
            },
            "type": "scattermapbox"
           }
          ],
          "scatterpolar": [
           {
            "marker": {
             "colorbar": {
              "outlinewidth": 0,
              "ticks": ""
             }
            },
            "type": "scatterpolar"
           }
          ],
          "scatterpolargl": [
           {
            "marker": {
             "colorbar": {
              "outlinewidth": 0,
              "ticks": ""
             }
            },
            "type": "scatterpolargl"
           }
          ],
          "scatterternary": [
           {
            "marker": {
             "colorbar": {
              "outlinewidth": 0,
              "ticks": ""
             }
            },
            "type": "scatterternary"
           }
          ],
          "surface": [
           {
            "colorbar": {
             "outlinewidth": 0,
             "ticks": ""
            },
            "colorscale": [
             [
              0,
              "#0d0887"
             ],
             [
              0.1111111111111111,
              "#46039f"
             ],
             [
              0.2222222222222222,
              "#7201a8"
             ],
             [
              0.3333333333333333,
              "#9c179e"
             ],
             [
              0.4444444444444444,
              "#bd3786"
             ],
             [
              0.5555555555555556,
              "#d8576b"
             ],
             [
              0.6666666666666666,
              "#ed7953"
             ],
             [
              0.7777777777777778,
              "#fb9f3a"
             ],
             [
              0.8888888888888888,
              "#fdca26"
             ],
             [
              1,
              "#f0f921"
             ]
            ],
            "type": "surface"
           }
          ],
          "table": [
           {
            "cells": {
             "fill": {
              "color": "#EBF0F8"
             },
             "line": {
              "color": "white"
             }
            },
            "header": {
             "fill": {
              "color": "#C8D4E3"
             },
             "line": {
              "color": "white"
             }
            },
            "type": "table"
           }
          ]
         },
         "layout": {
          "annotationdefaults": {
           "arrowcolor": "#2a3f5f",
           "arrowhead": 0,
           "arrowwidth": 1
          },
          "autotypenumbers": "strict",
          "coloraxis": {
           "colorbar": {
            "outlinewidth": 0,
            "ticks": ""
           }
          },
          "colorscale": {
           "diverging": [
            [
             0,
             "#8e0152"
            ],
            [
             0.1,
             "#c51b7d"
            ],
            [
             0.2,
             "#de77ae"
            ],
            [
             0.3,
             "#f1b6da"
            ],
            [
             0.4,
             "#fde0ef"
            ],
            [
             0.5,
             "#f7f7f7"
            ],
            [
             0.6,
             "#e6f5d0"
            ],
            [
             0.7,
             "#b8e186"
            ],
            [
             0.8,
             "#7fbc41"
            ],
            [
             0.9,
             "#4d9221"
            ],
            [
             1,
             "#276419"
            ]
           ],
           "sequential": [
            [
             0,
             "#0d0887"
            ],
            [
             0.1111111111111111,
             "#46039f"
            ],
            [
             0.2222222222222222,
             "#7201a8"
            ],
            [
             0.3333333333333333,
             "#9c179e"
            ],
            [
             0.4444444444444444,
             "#bd3786"
            ],
            [
             0.5555555555555556,
             "#d8576b"
            ],
            [
             0.6666666666666666,
             "#ed7953"
            ],
            [
             0.7777777777777778,
             "#fb9f3a"
            ],
            [
             0.8888888888888888,
             "#fdca26"
            ],
            [
             1,
             "#f0f921"
            ]
           ],
           "sequentialminus": [
            [
             0,
             "#0d0887"
            ],
            [
             0.1111111111111111,
             "#46039f"
            ],
            [
             0.2222222222222222,
             "#7201a8"
            ],
            [
             0.3333333333333333,
             "#9c179e"
            ],
            [
             0.4444444444444444,
             "#bd3786"
            ],
            [
             0.5555555555555556,
             "#d8576b"
            ],
            [
             0.6666666666666666,
             "#ed7953"
            ],
            [
             0.7777777777777778,
             "#fb9f3a"
            ],
            [
             0.8888888888888888,
             "#fdca26"
            ],
            [
             1,
             "#f0f921"
            ]
           ]
          },
          "colorway": [
           "#636efa",
           "#EF553B",
           "#00cc96",
           "#ab63fa",
           "#FFA15A",
           "#19d3f3",
           "#FF6692",
           "#B6E880",
           "#FF97FF",
           "#FECB52"
          ],
          "font": {
           "color": "#2a3f5f"
          },
          "geo": {
           "bgcolor": "white",
           "lakecolor": "white",
           "landcolor": "#E5ECF6",
           "showlakes": true,
           "showland": true,
           "subunitcolor": "white"
          },
          "hoverlabel": {
           "align": "left"
          },
          "hovermode": "closest",
          "mapbox": {
           "style": "light"
          },
          "paper_bgcolor": "white",
          "plot_bgcolor": "#E5ECF6",
          "polar": {
           "angularaxis": {
            "gridcolor": "white",
            "linecolor": "white",
            "ticks": ""
           },
           "bgcolor": "#E5ECF6",
           "radialaxis": {
            "gridcolor": "white",
            "linecolor": "white",
            "ticks": ""
           }
          },
          "scene": {
           "xaxis": {
            "backgroundcolor": "#E5ECF6",
            "gridcolor": "white",
            "gridwidth": 2,
            "linecolor": "white",
            "showbackground": true,
            "ticks": "",
            "zerolinecolor": "white"
           },
           "yaxis": {
            "backgroundcolor": "#E5ECF6",
            "gridcolor": "white",
            "gridwidth": 2,
            "linecolor": "white",
            "showbackground": true,
            "ticks": "",
            "zerolinecolor": "white"
           },
           "zaxis": {
            "backgroundcolor": "#E5ECF6",
            "gridcolor": "white",
            "gridwidth": 2,
            "linecolor": "white",
            "showbackground": true,
            "ticks": "",
            "zerolinecolor": "white"
           }
          },
          "shapedefaults": {
           "line": {
            "color": "#2a3f5f"
           }
          },
          "ternary": {
           "aaxis": {
            "gridcolor": "white",
            "linecolor": "white",
            "ticks": ""
           },
           "baxis": {
            "gridcolor": "white",
            "linecolor": "white",
            "ticks": ""
           },
           "bgcolor": "#E5ECF6",
           "caxis": {
            "gridcolor": "white",
            "linecolor": "white",
            "ticks": ""
           }
          },
          "title": {
           "x": 0.05
          },
          "xaxis": {
           "automargin": true,
           "gridcolor": "white",
           "linecolor": "white",
           "ticks": "",
           "title": {
            "standoff": 15
           },
           "zerolinecolor": "white",
           "zerolinewidth": 2
          },
          "yaxis": {
           "automargin": true,
           "gridcolor": "white",
           "linecolor": "white",
           "ticks": "",
           "title": {
            "standoff": 15
           },
           "zerolinecolor": "white",
           "zerolinewidth": 2
          }
         }
        },
        "xaxis": {
         "anchor": "y",
         "domain": [
          0,
          1
         ]
        },
        "yaxis": {
         "anchor": "x",
         "domain": [
          0,
          1
         ],
         "title": {
          "text": "rain"
         }
        }
       }
      }
     },
     "metadata": {},
     "output_type": "display_data"
    }
   ],
   "source": [
    "%matplotlib inline\n",
    "import plotly.express as px\n",
    "\n",
    "for col in df.columns:\n",
    "    fig = px.box(df[col], y = col)\n",
    "    fig.show()"
   ]
  },
  {
   "cell_type": "code",
   "execution_count": 17,
   "metadata": {},
   "outputs": [
    {
     "data": {
      "text/plain": [
       "<bound method NDFrame.describe of             X         Y     month       day      FFMC       DMC        DC  \\\n",
       "1    1.008313 -0.244001  0.970871  1.176715 -0.008102 -1.179541  0.488891   \n",
       "2    1.008313 -0.244001  0.970871 -0.383187 -0.008102 -1.049822  0.560715   \n",
       "5    1.440925  1.383722 -1.089076  0.136781  0.300161 -0.399665 -0.241863   \n",
       "6    1.440925  1.383722 -1.089076 -0.903154  0.300161 -0.343401 -0.211197   \n",
       "8    1.440925  1.383722  1.199754  1.176715  0.064430  0.291128  0.583715   \n",
       "..        ...       ...       ...       ...       ...       ...       ...   \n",
       "503 -1.154748 -0.244001 -1.089076  1.696682  0.699090  0.445853  0.569593   \n",
       "504 -0.289524 -1.057862 -1.089076  1.696682  0.699090  0.445853  0.569593   \n",
       "507 -1.154748 -0.244001 -1.089076 -1.423121  0.064430  0.875644  0.825821   \n",
       "510  0.575701  0.569860 -1.089076 -1.423121  0.064430  0.875644  0.825821   \n",
       "515 -1.587360 -0.244001 -1.089076 -0.383187  0.680957  0.549003  0.269382   \n",
       "\n",
       "          ISI      temp        RH      wind      rain  \n",
       "1   -0.509688 -0.153278 -0.692456 -1.741756 -0.073268  \n",
       "2   -0.509688 -0.739383 -0.692456 -1.518282 -0.073268  \n",
       "5    1.246598  0.570734 -0.937830  0.772325 -0.073268  \n",
       "6   -0.114524  0.898263 -1.060516 -0.512650 -0.073268  \n",
       "8   -0.443828 -0.997959  1.147845  0.772325 -0.073268  \n",
       "..        ...       ...       ...       ...       ...  \n",
       "503  2.410138  1.777421 -0.876486  0.492982 -0.073268  \n",
       "504  2.410138  1.725706 -0.937830  0.492982 -0.073268  \n",
       "507 -0.421874  1.208554 -0.201709 -0.233308 -0.073268  \n",
       "510 -0.421874 -0.118801  1.086501  0.772325 -0.073268  \n",
       "515  0.500176  1.156839 -0.140366 -0.009834 -0.073268  \n",
       "\n",
       "[310 rows x 12 columns]>"
      ]
     },
     "execution_count": 17,
     "metadata": {},
     "output_type": "execute_result"
    }
   ],
   "source": [
    "cols = ['X', 'Y', 'month', 'day', 'FFMC', 'DMC', 'DC', 'ISI', 'temp', 'RH', 'wind', 'rain']\n",
    "\n",
    "def rem_out(col,df):\n",
    "    \n",
    "    q1 = df[col].quantile(0.25)\n",
    "    q3 = df[col].quantile(0.75)\n",
    "    iqr = q3 - q1\n",
    "    low_limit = q1 - 1.5 * iqr\n",
    "    high_limit = q3 + 1.5 * iqr\n",
    "    return df[(df[col] >= low_limit) & (df[col] <= high_limit)]\n",
    "\n",
    "for col in cols:\n",
    "    df = rem_out(col,df)\n",
    "\n",
    "df.describe"
   ]
  },
  {
   "cell_type": "code",
   "execution_count": 18,
   "metadata": {},
   "outputs": [
    {
     "data": {
      "application/vnd.plotly.v1+json": {
       "config": {
        "plotlyServerURL": "https://plot.ly"
       },
       "data": [
        {
         "alignmentgroup": "True",
         "hovertemplate": "X=%{y}<extra></extra>",
         "legendgroup": "",
         "marker": {
          "color": "#636efa"
         },
         "name": "",
         "notched": false,
         "offsetgroup": "",
         "orientation": "v",
         "showlegend": false,
         "type": "box",
         "x0": " ",
         "xaxis": "x",
         "y": [
          1.0083127743720461,
          1.0083127743720461,
          1.4409249771524177,
          1.4409249771524177,
          1.4409249771524177,
          1.0083127743720461,
          1.0083127743720461,
          0.5757005715916745,
          0.5757005715916745,
          0.5757005715916745,
          0.5757005715916745,
          0.14308836881130294,
          1.0083127743720461,
          1.0083127743720461,
          1.0083127743720461,
          1.0083127743720461,
          0.5757005715916745,
          0.5757005715916745,
          0.5757005715916745,
          0.5757005715916745,
          0.5757005715916745,
          0.5757005715916745,
          0.5757005715916745,
          0.5757005715916745,
          0.5757005715916745,
          1.0083127743720461,
          1.0083127743720461,
          -0.2895238339690686,
          -0.2895238339690686,
          -0.2895238339690686,
          -0.2895238339690686,
          0.14308836881130294,
          0.14308836881130294,
          0.5757005715916745,
          -0.2895238339690686,
          -0.2895238339690686,
          -0.2895238339690686,
          -0.2895238339690686,
          -0.2895238339690686,
          -0.2895238339690686,
          -0.2895238339690686,
          -0.2895238339690686,
          -0.2895238339690686,
          0.14308836881130294,
          0.14308836881130294,
          0.5757005715916745,
          1.4409249771524177,
          1.4409249771524177,
          1.4409249771524177,
          -0.2895238339690686,
          -0.7221360367494402,
          -0.7221360367494402,
          -0.7221360367494402,
          -1.1547482395298116,
          -1.1547482395298116,
          -0.2895238339690686,
          -0.2895238339690686,
          -0.2895238339690686,
          -0.7221360367494402,
          -0.7221360367494402,
          -0.7221360367494402,
          -0.7221360367494402,
          -0.7221360367494402,
          -0.7221360367494402,
          -0.7221360367494402,
          -0.7221360367494402,
          -0.7221360367494402,
          -0.7221360367494402,
          -1.1547482395298116,
          -0.2895238339690686,
          -0.7221360367494402,
          -0.7221360367494402,
          -1.5873604423101833,
          -1.1547482395298116,
          1.4409249771524177,
          -1.1547482395298116,
          0.5757005715916745,
          1.4409249771524177,
          0.5757005715916745,
          -0.7221360367494402,
          0.14308836881130294,
          -1.5873604423101833,
          1.0083127743720461,
          -1.1547482395298116,
          -1.1547482395298116,
          1.0083127743720461,
          0.5757005715916745,
          1.4409249771524177,
          1.4409249771524177,
          0.5757005715916745,
          0.5757005715916745,
          1.4409249771524177,
          0.14308836881130294,
          1.0083127743720461,
          -0.2895238339690686,
          -1.5873604423101833,
          -1.5873604423101833,
          -1.1547482395298116,
          -1.1547482395298116,
          1.4409249771524177,
          -1.5873604423101833,
          1.0083127743720461,
          1.4409249771524177,
          -1.1547482395298116,
          -1.5873604423101833,
          -1.1547482395298116,
          -0.2895238339690686,
          -1.1547482395298116,
          -0.2895238339690686,
          -0.7221360367494402,
          -1.5873604423101833,
          1.4409249771524177,
          -0.2895238339690686,
          1.0083127743720461,
          0.5757005715916745,
          1.4409249771524177,
          -0.2895238339690686,
          1.0083127743720461,
          -0.2895238339690686,
          -1.5873604423101833,
          -0.2895238339690686,
          1.4409249771524177,
          -0.7221360367494402,
          1.0083127743720461,
          -0.2895238339690686,
          1.0083127743720461,
          1.4409249771524177,
          -0.2895238339690686,
          1.4409249771524177,
          -0.2895238339690686,
          -1.5873604423101833,
          0.5757005715916745,
          -0.2895238339690686,
          1.4409249771524177,
          0.5757005715916745,
          -1.1547482395298116,
          -1.1547482395298116,
          -0.7221360367494402,
          0.14308836881130294,
          -1.1547482395298116,
          1.4409249771524177,
          -0.7221360367494402,
          1.4409249771524177,
          1.4409249771524177,
          0.5757005715916745,
          1.0083127743720461,
          0.5757005715916745,
          -1.1547482395298116,
          1.4409249771524177,
          -0.2895238339690686,
          -0.7221360367494402,
          1.0083127743720461,
          -1.1547482395298116,
          -1.1547482395298116,
          0.5757005715916745,
          -0.2895238339690686,
          -0.2895238339690686,
          -0.7221360367494402,
          -0.2895238339690686,
          1.4409249771524177,
          -1.1547482395298116,
          -1.1547482395298116,
          1.0083127743720461,
          1.0083127743720461,
          1.0083127743720461,
          -1.1547482395298116,
          1.8735371799327891,
          -0.2895238339690686,
          1.0083127743720461,
          1.4409249771524177,
          1.0083127743720461,
          0.5757005715916745,
          1.4409249771524177,
          1.4409249771524177,
          0.5757005715916745,
          0.5757005715916745,
          -0.7221360367494402,
          -0.7221360367494402,
          -1.5873604423101833,
          1.0083127743720461,
          -0.7221360367494402,
          -1.1547482395298116,
          -1.1547482395298116,
          1.0083127743720461,
          0.5757005715916745,
          0.5757005715916745,
          -0.2895238339690686,
          -0.7221360367494402,
          -0.2895238339690686,
          -0.2895238339690686,
          0.5757005715916745,
          0.14308836881130294,
          0.5757005715916745,
          -1.5873604423101833,
          0.5757005715916745,
          -0.7221360367494402,
          0.5757005715916745,
          -1.5873604423101833,
          0.14308836881130294,
          0.5757005715916745,
          0.5757005715916745,
          -0.2895238339690686,
          -0.7221360367494402,
          1.0083127743720461,
          -0.2895238339690686,
          -1.5873604423101833,
          -1.1547482395298116,
          1.0083127743720461,
          0.5757005715916745,
          1.4409249771524177,
          -1.1547482395298116,
          -1.1547482395298116,
          1.4409249771524177,
          0.5757005715916745,
          1.4409249771524177,
          0.5757005715916745,
          -1.5873604423101833,
          0.14308836881130294,
          -0.7221360367494402,
          0.14308836881130294,
          0.14308836881130294,
          -0.2895238339690686,
          1.0083127743720461,
          1.0083127743720461,
          1.0083127743720461,
          -0.2895238339690686,
          -0.2895238339690686,
          0.5757005715916745,
          0.5757005715916745,
          -1.5873604423101833,
          0.5757005715916745,
          -0.2895238339690686,
          1.0083127743720461,
          -0.2895238339690686,
          0.5757005715916745,
          0.5757005715916745,
          -0.2895238339690686,
          -0.2895238339690686,
          0.5757005715916745,
          -0.7221360367494402,
          -0.2895238339690686,
          0.14308836881130294,
          0.5757005715916745,
          1.4409249771524177,
          0.14308836881130294,
          1.4409249771524177,
          1.4409249771524177,
          -1.1547482395298116,
          -0.7221360367494402,
          0.5757005715916745,
          1.0083127743720461,
          1.4409249771524177,
          -0.2895238339690686,
          0.14308836881130294,
          1.8735371799327891,
          1.8735371799327891,
          -0.7221360367494402,
          1.4409249771524177,
          -1.1547482395298116,
          -1.5873604423101833,
          1.8735371799327891,
          1.0083127743720461,
          0.14308836881130294,
          1.4409249771524177,
          0.5757005715916745,
          -1.1547482395298116,
          -1.1547482395298116,
          -1.1547482395298116,
          -1.5873604423101833,
          1.4409249771524177,
          -1.1547482395298116,
          -1.5873604423101833,
          -0.7221360367494402,
          -1.5873604423101833,
          1.4409249771524177,
          -1.1547482395298116,
          -1.1547482395298116,
          1.4409249771524177,
          -1.1547482395298116,
          -1.5873604423101833,
          1.4409249771524177,
          0.5757005715916745,
          1.0083127743720461,
          -0.2895238339690686,
          -0.7221360367494402,
          -1.5873604423101833,
          1.4409249771524177,
          -1.1547482395298116,
          1.4409249771524177,
          1.8735371799327891,
          -0.2895238339690686,
          -0.2895238339690686,
          -0.2895238339690686,
          1.0083127743720461,
          -0.2895238339690686,
          -0.7221360367494402,
          1.4409249771524177,
          0.14308836881130294,
          0.14308836881130294,
          -0.2895238339690686,
          -0.2895238339690686,
          -0.2895238339690686,
          -1.5873604423101833,
          0.5757005715916745,
          0.5757005715916745,
          -1.1547482395298116,
          -0.2895238339690686,
          -1.1547482395298116,
          0.5757005715916745,
          -1.5873604423101833
         ],
         "y0": " ",
         "yaxis": "y"
        }
       ],
       "layout": {
        "boxmode": "group",
        "legend": {
         "tracegroupgap": 0
        },
        "margin": {
         "t": 60
        },
        "template": {
         "data": {
          "bar": [
           {
            "error_x": {
             "color": "#2a3f5f"
            },
            "error_y": {
             "color": "#2a3f5f"
            },
            "marker": {
             "line": {
              "color": "#E5ECF6",
              "width": 0.5
             },
             "pattern": {
              "fillmode": "overlay",
              "size": 10,
              "solidity": 0.2
             }
            },
            "type": "bar"
           }
          ],
          "barpolar": [
           {
            "marker": {
             "line": {
              "color": "#E5ECF6",
              "width": 0.5
             },
             "pattern": {
              "fillmode": "overlay",
              "size": 10,
              "solidity": 0.2
             }
            },
            "type": "barpolar"
           }
          ],
          "carpet": [
           {
            "aaxis": {
             "endlinecolor": "#2a3f5f",
             "gridcolor": "white",
             "linecolor": "white",
             "minorgridcolor": "white",
             "startlinecolor": "#2a3f5f"
            },
            "baxis": {
             "endlinecolor": "#2a3f5f",
             "gridcolor": "white",
             "linecolor": "white",
             "minorgridcolor": "white",
             "startlinecolor": "#2a3f5f"
            },
            "type": "carpet"
           }
          ],
          "choropleth": [
           {
            "colorbar": {
             "outlinewidth": 0,
             "ticks": ""
            },
            "type": "choropleth"
           }
          ],
          "contour": [
           {
            "colorbar": {
             "outlinewidth": 0,
             "ticks": ""
            },
            "colorscale": [
             [
              0,
              "#0d0887"
             ],
             [
              0.1111111111111111,
              "#46039f"
             ],
             [
              0.2222222222222222,
              "#7201a8"
             ],
             [
              0.3333333333333333,
              "#9c179e"
             ],
             [
              0.4444444444444444,
              "#bd3786"
             ],
             [
              0.5555555555555556,
              "#d8576b"
             ],
             [
              0.6666666666666666,
              "#ed7953"
             ],
             [
              0.7777777777777778,
              "#fb9f3a"
             ],
             [
              0.8888888888888888,
              "#fdca26"
             ],
             [
              1,
              "#f0f921"
             ]
            ],
            "type": "contour"
           }
          ],
          "contourcarpet": [
           {
            "colorbar": {
             "outlinewidth": 0,
             "ticks": ""
            },
            "type": "contourcarpet"
           }
          ],
          "heatmap": [
           {
            "colorbar": {
             "outlinewidth": 0,
             "ticks": ""
            },
            "colorscale": [
             [
              0,
              "#0d0887"
             ],
             [
              0.1111111111111111,
              "#46039f"
             ],
             [
              0.2222222222222222,
              "#7201a8"
             ],
             [
              0.3333333333333333,
              "#9c179e"
             ],
             [
              0.4444444444444444,
              "#bd3786"
             ],
             [
              0.5555555555555556,
              "#d8576b"
             ],
             [
              0.6666666666666666,
              "#ed7953"
             ],
             [
              0.7777777777777778,
              "#fb9f3a"
             ],
             [
              0.8888888888888888,
              "#fdca26"
             ],
             [
              1,
              "#f0f921"
             ]
            ],
            "type": "heatmap"
           }
          ],
          "heatmapgl": [
           {
            "colorbar": {
             "outlinewidth": 0,
             "ticks": ""
            },
            "colorscale": [
             [
              0,
              "#0d0887"
             ],
             [
              0.1111111111111111,
              "#46039f"
             ],
             [
              0.2222222222222222,
              "#7201a8"
             ],
             [
              0.3333333333333333,
              "#9c179e"
             ],
             [
              0.4444444444444444,
              "#bd3786"
             ],
             [
              0.5555555555555556,
              "#d8576b"
             ],
             [
              0.6666666666666666,
              "#ed7953"
             ],
             [
              0.7777777777777778,
              "#fb9f3a"
             ],
             [
              0.8888888888888888,
              "#fdca26"
             ],
             [
              1,
              "#f0f921"
             ]
            ],
            "type": "heatmapgl"
           }
          ],
          "histogram": [
           {
            "marker": {
             "pattern": {
              "fillmode": "overlay",
              "size": 10,
              "solidity": 0.2
             }
            },
            "type": "histogram"
           }
          ],
          "histogram2d": [
           {
            "colorbar": {
             "outlinewidth": 0,
             "ticks": ""
            },
            "colorscale": [
             [
              0,
              "#0d0887"
             ],
             [
              0.1111111111111111,
              "#46039f"
             ],
             [
              0.2222222222222222,
              "#7201a8"
             ],
             [
              0.3333333333333333,
              "#9c179e"
             ],
             [
              0.4444444444444444,
              "#bd3786"
             ],
             [
              0.5555555555555556,
              "#d8576b"
             ],
             [
              0.6666666666666666,
              "#ed7953"
             ],
             [
              0.7777777777777778,
              "#fb9f3a"
             ],
             [
              0.8888888888888888,
              "#fdca26"
             ],
             [
              1,
              "#f0f921"
             ]
            ],
            "type": "histogram2d"
           }
          ],
          "histogram2dcontour": [
           {
            "colorbar": {
             "outlinewidth": 0,
             "ticks": ""
            },
            "colorscale": [
             [
              0,
              "#0d0887"
             ],
             [
              0.1111111111111111,
              "#46039f"
             ],
             [
              0.2222222222222222,
              "#7201a8"
             ],
             [
              0.3333333333333333,
              "#9c179e"
             ],
             [
              0.4444444444444444,
              "#bd3786"
             ],
             [
              0.5555555555555556,
              "#d8576b"
             ],
             [
              0.6666666666666666,
              "#ed7953"
             ],
             [
              0.7777777777777778,
              "#fb9f3a"
             ],
             [
              0.8888888888888888,
              "#fdca26"
             ],
             [
              1,
              "#f0f921"
             ]
            ],
            "type": "histogram2dcontour"
           }
          ],
          "mesh3d": [
           {
            "colorbar": {
             "outlinewidth": 0,
             "ticks": ""
            },
            "type": "mesh3d"
           }
          ],
          "parcoords": [
           {
            "line": {
             "colorbar": {
              "outlinewidth": 0,
              "ticks": ""
             }
            },
            "type": "parcoords"
           }
          ],
          "pie": [
           {
            "automargin": true,
            "type": "pie"
           }
          ],
          "scatter": [
           {
            "marker": {
             "colorbar": {
              "outlinewidth": 0,
              "ticks": ""
             }
            },
            "type": "scatter"
           }
          ],
          "scatter3d": [
           {
            "line": {
             "colorbar": {
              "outlinewidth": 0,
              "ticks": ""
             }
            },
            "marker": {
             "colorbar": {
              "outlinewidth": 0,
              "ticks": ""
             }
            },
            "type": "scatter3d"
           }
          ],
          "scattercarpet": [
           {
            "marker": {
             "colorbar": {
              "outlinewidth": 0,
              "ticks": ""
             }
            },
            "type": "scattercarpet"
           }
          ],
          "scattergeo": [
           {
            "marker": {
             "colorbar": {
              "outlinewidth": 0,
              "ticks": ""
             }
            },
            "type": "scattergeo"
           }
          ],
          "scattergl": [
           {
            "marker": {
             "colorbar": {
              "outlinewidth": 0,
              "ticks": ""
             }
            },
            "type": "scattergl"
           }
          ],
          "scattermapbox": [
           {
            "marker": {
             "colorbar": {
              "outlinewidth": 0,
              "ticks": ""
             }
            },
            "type": "scattermapbox"
           }
          ],
          "scatterpolar": [
           {
            "marker": {
             "colorbar": {
              "outlinewidth": 0,
              "ticks": ""
             }
            },
            "type": "scatterpolar"
           }
          ],
          "scatterpolargl": [
           {
            "marker": {
             "colorbar": {
              "outlinewidth": 0,
              "ticks": ""
             }
            },
            "type": "scatterpolargl"
           }
          ],
          "scatterternary": [
           {
            "marker": {
             "colorbar": {
              "outlinewidth": 0,
              "ticks": ""
             }
            },
            "type": "scatterternary"
           }
          ],
          "surface": [
           {
            "colorbar": {
             "outlinewidth": 0,
             "ticks": ""
            },
            "colorscale": [
             [
              0,
              "#0d0887"
             ],
             [
              0.1111111111111111,
              "#46039f"
             ],
             [
              0.2222222222222222,
              "#7201a8"
             ],
             [
              0.3333333333333333,
              "#9c179e"
             ],
             [
              0.4444444444444444,
              "#bd3786"
             ],
             [
              0.5555555555555556,
              "#d8576b"
             ],
             [
              0.6666666666666666,
              "#ed7953"
             ],
             [
              0.7777777777777778,
              "#fb9f3a"
             ],
             [
              0.8888888888888888,
              "#fdca26"
             ],
             [
              1,
              "#f0f921"
             ]
            ],
            "type": "surface"
           }
          ],
          "table": [
           {
            "cells": {
             "fill": {
              "color": "#EBF0F8"
             },
             "line": {
              "color": "white"
             }
            },
            "header": {
             "fill": {
              "color": "#C8D4E3"
             },
             "line": {
              "color": "white"
             }
            },
            "type": "table"
           }
          ]
         },
         "layout": {
          "annotationdefaults": {
           "arrowcolor": "#2a3f5f",
           "arrowhead": 0,
           "arrowwidth": 1
          },
          "autotypenumbers": "strict",
          "coloraxis": {
           "colorbar": {
            "outlinewidth": 0,
            "ticks": ""
           }
          },
          "colorscale": {
           "diverging": [
            [
             0,
             "#8e0152"
            ],
            [
             0.1,
             "#c51b7d"
            ],
            [
             0.2,
             "#de77ae"
            ],
            [
             0.3,
             "#f1b6da"
            ],
            [
             0.4,
             "#fde0ef"
            ],
            [
             0.5,
             "#f7f7f7"
            ],
            [
             0.6,
             "#e6f5d0"
            ],
            [
             0.7,
             "#b8e186"
            ],
            [
             0.8,
             "#7fbc41"
            ],
            [
             0.9,
             "#4d9221"
            ],
            [
             1,
             "#276419"
            ]
           ],
           "sequential": [
            [
             0,
             "#0d0887"
            ],
            [
             0.1111111111111111,
             "#46039f"
            ],
            [
             0.2222222222222222,
             "#7201a8"
            ],
            [
             0.3333333333333333,
             "#9c179e"
            ],
            [
             0.4444444444444444,
             "#bd3786"
            ],
            [
             0.5555555555555556,
             "#d8576b"
            ],
            [
             0.6666666666666666,
             "#ed7953"
            ],
            [
             0.7777777777777778,
             "#fb9f3a"
            ],
            [
             0.8888888888888888,
             "#fdca26"
            ],
            [
             1,
             "#f0f921"
            ]
           ],
           "sequentialminus": [
            [
             0,
             "#0d0887"
            ],
            [
             0.1111111111111111,
             "#46039f"
            ],
            [
             0.2222222222222222,
             "#7201a8"
            ],
            [
             0.3333333333333333,
             "#9c179e"
            ],
            [
             0.4444444444444444,
             "#bd3786"
            ],
            [
             0.5555555555555556,
             "#d8576b"
            ],
            [
             0.6666666666666666,
             "#ed7953"
            ],
            [
             0.7777777777777778,
             "#fb9f3a"
            ],
            [
             0.8888888888888888,
             "#fdca26"
            ],
            [
             1,
             "#f0f921"
            ]
           ]
          },
          "colorway": [
           "#636efa",
           "#EF553B",
           "#00cc96",
           "#ab63fa",
           "#FFA15A",
           "#19d3f3",
           "#FF6692",
           "#B6E880",
           "#FF97FF",
           "#FECB52"
          ],
          "font": {
           "color": "#2a3f5f"
          },
          "geo": {
           "bgcolor": "white",
           "lakecolor": "white",
           "landcolor": "#E5ECF6",
           "showlakes": true,
           "showland": true,
           "subunitcolor": "white"
          },
          "hoverlabel": {
           "align": "left"
          },
          "hovermode": "closest",
          "mapbox": {
           "style": "light"
          },
          "paper_bgcolor": "white",
          "plot_bgcolor": "#E5ECF6",
          "polar": {
           "angularaxis": {
            "gridcolor": "white",
            "linecolor": "white",
            "ticks": ""
           },
           "bgcolor": "#E5ECF6",
           "radialaxis": {
            "gridcolor": "white",
            "linecolor": "white",
            "ticks": ""
           }
          },
          "scene": {
           "xaxis": {
            "backgroundcolor": "#E5ECF6",
            "gridcolor": "white",
            "gridwidth": 2,
            "linecolor": "white",
            "showbackground": true,
            "ticks": "",
            "zerolinecolor": "white"
           },
           "yaxis": {
            "backgroundcolor": "#E5ECF6",
            "gridcolor": "white",
            "gridwidth": 2,
            "linecolor": "white",
            "showbackground": true,
            "ticks": "",
            "zerolinecolor": "white"
           },
           "zaxis": {
            "backgroundcolor": "#E5ECF6",
            "gridcolor": "white",
            "gridwidth": 2,
            "linecolor": "white",
            "showbackground": true,
            "ticks": "",
            "zerolinecolor": "white"
           }
          },
          "shapedefaults": {
           "line": {
            "color": "#2a3f5f"
           }
          },
          "ternary": {
           "aaxis": {
            "gridcolor": "white",
            "linecolor": "white",
            "ticks": ""
           },
           "baxis": {
            "gridcolor": "white",
            "linecolor": "white",
            "ticks": ""
           },
           "bgcolor": "#E5ECF6",
           "caxis": {
            "gridcolor": "white",
            "linecolor": "white",
            "ticks": ""
           }
          },
          "title": {
           "x": 0.05
          },
          "xaxis": {
           "automargin": true,
           "gridcolor": "white",
           "linecolor": "white",
           "ticks": "",
           "title": {
            "standoff": 15
           },
           "zerolinecolor": "white",
           "zerolinewidth": 2
          },
          "yaxis": {
           "automargin": true,
           "gridcolor": "white",
           "linecolor": "white",
           "ticks": "",
           "title": {
            "standoff": 15
           },
           "zerolinecolor": "white",
           "zerolinewidth": 2
          }
         }
        },
        "xaxis": {
         "anchor": "y",
         "domain": [
          0,
          1
         ]
        },
        "yaxis": {
         "anchor": "x",
         "domain": [
          0,
          1
         ],
         "title": {
          "text": "X"
         }
        }
       }
      }
     },
     "metadata": {},
     "output_type": "display_data"
    },
    {
     "data": {
      "application/vnd.plotly.v1+json": {
       "config": {
        "plotlyServerURL": "https://plot.ly"
       },
       "data": [
        {
         "alignmentgroup": "True",
         "hovertemplate": "Y=%{y}<extra></extra>",
         "legendgroup": "",
         "marker": {
          "color": "#636efa"
         },
         "name": "",
         "notched": false,
         "offsetgroup": "",
         "orientation": "v",
         "showlegend": false,
         "type": "box",
         "x0": " ",
         "xaxis": "x",
         "y": [
          -0.24400101447758565,
          -0.24400101447758565,
          1.3837218821019228,
          1.3837218821019228,
          1.3837218821019228,
          0.5698604338121686,
          0.5698604338121686,
          0.5698604338121686,
          0.5698604338121686,
          0.5698604338121686,
          -0.24400101447758565,
          -0.24400101447758565,
          -0.24400101447758565,
          -0.24400101447758565,
          -0.24400101447758565,
          -0.24400101447758565,
          -1.0578624627673399,
          -1.0578624627673399,
          -1.0578624627673399,
          -1.0578624627673399,
          -1.0578624627673399,
          -1.0578624627673399,
          -1.0578624627673399,
          -1.0578624627673399,
          -1.0578624627673399,
          -0.24400101447758565,
          -1.0578624627673399,
          -0.24400101447758565,
          -0.24400101447758565,
          -0.24400101447758565,
          -0.24400101447758565,
          1.3837218821019228,
          1.3837218821019228,
          1.3837218821019228,
          -0.24400101447758565,
          -1.0578624627673399,
          -1.0578624627673399,
          -1.0578624627673399,
          -1.0578624627673399,
          -1.0578624627673399,
          -1.0578624627673399,
          -1.0578624627673399,
          0.5698604338121686,
          -0.24400101447758565,
          -0.24400101447758565,
          0.5698604338121686,
          1.3837218821019228,
          1.3837218821019228,
          1.3837218821019228,
          -0.24400101447758565,
          -0.24400101447758565,
          -0.24400101447758565,
          -0.24400101447758565,
          -0.24400101447758565,
          -0.24400101447758565,
          0.5698604338121686,
          0.5698604338121686,
          0.5698604338121686,
          -0.24400101447758565,
          -0.24400101447758565,
          -0.24400101447758565,
          -0.24400101447758565,
          -0.24400101447758565,
          -0.24400101447758565,
          -0.24400101447758565,
          -0.24400101447758565,
          0.5698604338121686,
          0.5698604338121686,
          0.5698604338121686,
          1.3837218821019228,
          1.3837218821019228,
          1.3837218821019228,
          -0.24400101447758565,
          0.5698604338121686,
          1.3837218821019228,
          0.5698604338121686,
          0.5698604338121686,
          1.3837218821019228,
          0.5698604338121686,
          -0.24400101447758565,
          -0.24400101447758565,
          0.5698604338121686,
          -0.24400101447758565,
          -0.24400101447758565,
          -0.24400101447758565,
          -0.24400101447758565,
          -0.24400101447758565,
          1.3837218821019228,
          0.5698604338121686,
          0.5698604338121686,
          0.5698604338121686,
          1.3837218821019228,
          -0.24400101447758565,
          -0.24400101447758565,
          -0.24400101447758565,
          -0.24400101447758565,
          -0.24400101447758565,
          0.5698604338121686,
          0.5698604338121686,
          1.3837218821019228,
          -1.0578624627673399,
          -0.24400101447758565,
          1.3837218821019228,
          0.5698604338121686,
          0.5698604338121686,
          0.5698604338121686,
          0.5698604338121686,
          0.5698604338121686,
          0.5698604338121686,
          -0.24400101447758565,
          0.5698604338121686,
          1.3837218821019228,
          0.5698604338121686,
          0.5698604338121686,
          0.5698604338121686,
          -1.0578624627673399,
          -0.24400101447758565,
          -0.24400101447758565,
          -0.24400101447758565,
          -1.0578624627673399,
          0.5698604338121686,
          1.3837218821019228,
          -0.24400101447758565,
          -0.24400101447758565,
          -0.24400101447758565,
          0.5698604338121686,
          1.3837218821019228,
          1.3837218821019228,
          1.3837218821019228,
          -0.24400101447758565,
          0.5698604338121686,
          -0.24400101447758565,
          0.5698604338121686,
          1.3837218821019228,
          0.5698604338121686,
          -0.24400101447758565,
          -0.24400101447758565,
          -0.24400101447758565,
          -0.24400101447758565,
          -0.24400101447758565,
          1.3837218821019228,
          -0.24400101447758565,
          0.5698604338121686,
          0.5698604338121686,
          0.5698604338121686,
          -0.24400101447758565,
          -1.0578624627673399,
          0.5698604338121686,
          1.3837218821019228,
          -1.0578624627673399,
          -0.24400101447758565,
          -0.24400101447758565,
          -0.24400101447758565,
          -0.24400101447758565,
          -1.0578624627673399,
          -0.24400101447758565,
          -0.24400101447758565,
          -0.24400101447758565,
          -0.24400101447758565,
          1.3837218821019228,
          0.5698604338121686,
          0.5698604338121686,
          -0.24400101447758565,
          -0.24400101447758565,
          -0.24400101447758565,
          0.5698604338121686,
          -0.24400101447758565,
          0.5698604338121686,
          1.3837218821019228,
          1.3837218821019228,
          0.5698604338121686,
          -0.24400101447758565,
          1.3837218821019228,
          1.3837218821019228,
          0.5698604338121686,
          0.5698604338121686,
          1.3837218821019228,
          1.3837218821019228,
          -0.24400101447758565,
          -0.24400101447758565,
          -0.24400101447758565,
          -0.24400101447758565,
          -0.24400101447758565,
          -0.24400101447758565,
          -1.0578624627673399,
          0.5698604338121686,
          -0.24400101447758565,
          -0.24400101447758565,
          0.5698604338121686,
          -0.24400101447758565,
          0.5698604338121686,
          -0.24400101447758565,
          -1.0578624627673399,
          -0.24400101447758565,
          0.5698604338121686,
          0.5698604338121686,
          0.5698604338121686,
          -0.24400101447758565,
          -0.24400101447758565,
          0.5698604338121686,
          0.5698604338121686,
          -1.0578624627673399,
          -1.0578624627673399,
          -0.24400101447758565,
          -0.24400101447758565,
          -0.24400101447758565,
          -1.0578624627673399,
          -0.24400101447758565,
          -1.0578624627673399,
          1.3837218821019228,
          -0.24400101447758565,
          0.5698604338121686,
          1.3837218821019228,
          -1.0578624627673399,
          1.3837218821019228,
          -1.0578624627673399,
          -0.24400101447758565,
          -0.24400101447758565,
          -0.24400101447758565,
          -0.24400101447758565,
          -0.24400101447758565,
          -0.24400101447758565,
          -0.24400101447758565,
          -0.24400101447758565,
          -0.24400101447758565,
          -0.24400101447758565,
          -0.24400101447758565,
          -1.0578624627673399,
          -1.0578624627673399,
          -0.24400101447758565,
          0.5698604338121686,
          -1.0578624627673399,
          -0.24400101447758565,
          -1.0578624627673399,
          0.5698604338121686,
          0.5698604338121686,
          0.5698604338121686,
          0.5698604338121686,
          0.5698604338121686,
          -0.24400101447758565,
          0.5698604338121686,
          -0.24400101447758565,
          0.5698604338121686,
          1.3837218821019228,
          -0.24400101447758565,
          1.3837218821019228,
          1.3837218821019228,
          -0.24400101447758565,
          -0.24400101447758565,
          -0.24400101447758565,
          -0.24400101447758565,
          1.3837218821019228,
          -1.0578624627673399,
          1.3837218821019228,
          0.5698604338121686,
          0.5698604338121686,
          -0.24400101447758565,
          1.3837218821019228,
          -0.24400101447758565,
          -0.24400101447758565,
          -0.24400101447758565,
          0.5698604338121686,
          -0.24400101447758565,
          1.3837218821019228,
          -1.0578624627673399,
          -0.24400101447758565,
          0.5698604338121686,
          -0.24400101447758565,
          -1.0578624627673399,
          1.3837218821019228,
          -0.24400101447758565,
          -1.0578624627673399,
          -0.24400101447758565,
          -1.0578624627673399,
          1.3837218821019228,
          -0.24400101447758565,
          0.5698604338121686,
          1.3837218821019228,
          0.5698604338121686,
          -1.0578624627673399,
          1.3837218821019228,
          0.5698604338121686,
          -0.24400101447758565,
          0.5698604338121686,
          -0.24400101447758565,
          -0.24400101447758565,
          1.3837218821019228,
          0.5698604338121686,
          1.3837218821019228,
          -0.24400101447758565,
          -1.0578624627673399,
          -1.0578624627673399,
          -1.0578624627673399,
          -0.24400101447758565,
          -1.0578624627673399,
          -0.24400101447758565,
          1.3837218821019228,
          -0.24400101447758565,
          -0.24400101447758565,
          -0.24400101447758565,
          -0.24400101447758565,
          -0.24400101447758565,
          -1.0578624627673399,
          1.3837218821019228,
          1.3837218821019228,
          -0.24400101447758565,
          -1.0578624627673399,
          -0.24400101447758565,
          0.5698604338121686,
          -0.24400101447758565
         ],
         "y0": " ",
         "yaxis": "y"
        }
       ],
       "layout": {
        "boxmode": "group",
        "legend": {
         "tracegroupgap": 0
        },
        "margin": {
         "t": 60
        },
        "template": {
         "data": {
          "bar": [
           {
            "error_x": {
             "color": "#2a3f5f"
            },
            "error_y": {
             "color": "#2a3f5f"
            },
            "marker": {
             "line": {
              "color": "#E5ECF6",
              "width": 0.5
             },
             "pattern": {
              "fillmode": "overlay",
              "size": 10,
              "solidity": 0.2
             }
            },
            "type": "bar"
           }
          ],
          "barpolar": [
           {
            "marker": {
             "line": {
              "color": "#E5ECF6",
              "width": 0.5
             },
             "pattern": {
              "fillmode": "overlay",
              "size": 10,
              "solidity": 0.2
             }
            },
            "type": "barpolar"
           }
          ],
          "carpet": [
           {
            "aaxis": {
             "endlinecolor": "#2a3f5f",
             "gridcolor": "white",
             "linecolor": "white",
             "minorgridcolor": "white",
             "startlinecolor": "#2a3f5f"
            },
            "baxis": {
             "endlinecolor": "#2a3f5f",
             "gridcolor": "white",
             "linecolor": "white",
             "minorgridcolor": "white",
             "startlinecolor": "#2a3f5f"
            },
            "type": "carpet"
           }
          ],
          "choropleth": [
           {
            "colorbar": {
             "outlinewidth": 0,
             "ticks": ""
            },
            "type": "choropleth"
           }
          ],
          "contour": [
           {
            "colorbar": {
             "outlinewidth": 0,
             "ticks": ""
            },
            "colorscale": [
             [
              0,
              "#0d0887"
             ],
             [
              0.1111111111111111,
              "#46039f"
             ],
             [
              0.2222222222222222,
              "#7201a8"
             ],
             [
              0.3333333333333333,
              "#9c179e"
             ],
             [
              0.4444444444444444,
              "#bd3786"
             ],
             [
              0.5555555555555556,
              "#d8576b"
             ],
             [
              0.6666666666666666,
              "#ed7953"
             ],
             [
              0.7777777777777778,
              "#fb9f3a"
             ],
             [
              0.8888888888888888,
              "#fdca26"
             ],
             [
              1,
              "#f0f921"
             ]
            ],
            "type": "contour"
           }
          ],
          "contourcarpet": [
           {
            "colorbar": {
             "outlinewidth": 0,
             "ticks": ""
            },
            "type": "contourcarpet"
           }
          ],
          "heatmap": [
           {
            "colorbar": {
             "outlinewidth": 0,
             "ticks": ""
            },
            "colorscale": [
             [
              0,
              "#0d0887"
             ],
             [
              0.1111111111111111,
              "#46039f"
             ],
             [
              0.2222222222222222,
              "#7201a8"
             ],
             [
              0.3333333333333333,
              "#9c179e"
             ],
             [
              0.4444444444444444,
              "#bd3786"
             ],
             [
              0.5555555555555556,
              "#d8576b"
             ],
             [
              0.6666666666666666,
              "#ed7953"
             ],
             [
              0.7777777777777778,
              "#fb9f3a"
             ],
             [
              0.8888888888888888,
              "#fdca26"
             ],
             [
              1,
              "#f0f921"
             ]
            ],
            "type": "heatmap"
           }
          ],
          "heatmapgl": [
           {
            "colorbar": {
             "outlinewidth": 0,
             "ticks": ""
            },
            "colorscale": [
             [
              0,
              "#0d0887"
             ],
             [
              0.1111111111111111,
              "#46039f"
             ],
             [
              0.2222222222222222,
              "#7201a8"
             ],
             [
              0.3333333333333333,
              "#9c179e"
             ],
             [
              0.4444444444444444,
              "#bd3786"
             ],
             [
              0.5555555555555556,
              "#d8576b"
             ],
             [
              0.6666666666666666,
              "#ed7953"
             ],
             [
              0.7777777777777778,
              "#fb9f3a"
             ],
             [
              0.8888888888888888,
              "#fdca26"
             ],
             [
              1,
              "#f0f921"
             ]
            ],
            "type": "heatmapgl"
           }
          ],
          "histogram": [
           {
            "marker": {
             "pattern": {
              "fillmode": "overlay",
              "size": 10,
              "solidity": 0.2
             }
            },
            "type": "histogram"
           }
          ],
          "histogram2d": [
           {
            "colorbar": {
             "outlinewidth": 0,
             "ticks": ""
            },
            "colorscale": [
             [
              0,
              "#0d0887"
             ],
             [
              0.1111111111111111,
              "#46039f"
             ],
             [
              0.2222222222222222,
              "#7201a8"
             ],
             [
              0.3333333333333333,
              "#9c179e"
             ],
             [
              0.4444444444444444,
              "#bd3786"
             ],
             [
              0.5555555555555556,
              "#d8576b"
             ],
             [
              0.6666666666666666,
              "#ed7953"
             ],
             [
              0.7777777777777778,
              "#fb9f3a"
             ],
             [
              0.8888888888888888,
              "#fdca26"
             ],
             [
              1,
              "#f0f921"
             ]
            ],
            "type": "histogram2d"
           }
          ],
          "histogram2dcontour": [
           {
            "colorbar": {
             "outlinewidth": 0,
             "ticks": ""
            },
            "colorscale": [
             [
              0,
              "#0d0887"
             ],
             [
              0.1111111111111111,
              "#46039f"
             ],
             [
              0.2222222222222222,
              "#7201a8"
             ],
             [
              0.3333333333333333,
              "#9c179e"
             ],
             [
              0.4444444444444444,
              "#bd3786"
             ],
             [
              0.5555555555555556,
              "#d8576b"
             ],
             [
              0.6666666666666666,
              "#ed7953"
             ],
             [
              0.7777777777777778,
              "#fb9f3a"
             ],
             [
              0.8888888888888888,
              "#fdca26"
             ],
             [
              1,
              "#f0f921"
             ]
            ],
            "type": "histogram2dcontour"
           }
          ],
          "mesh3d": [
           {
            "colorbar": {
             "outlinewidth": 0,
             "ticks": ""
            },
            "type": "mesh3d"
           }
          ],
          "parcoords": [
           {
            "line": {
             "colorbar": {
              "outlinewidth": 0,
              "ticks": ""
             }
            },
            "type": "parcoords"
           }
          ],
          "pie": [
           {
            "automargin": true,
            "type": "pie"
           }
          ],
          "scatter": [
           {
            "marker": {
             "colorbar": {
              "outlinewidth": 0,
              "ticks": ""
             }
            },
            "type": "scatter"
           }
          ],
          "scatter3d": [
           {
            "line": {
             "colorbar": {
              "outlinewidth": 0,
              "ticks": ""
             }
            },
            "marker": {
             "colorbar": {
              "outlinewidth": 0,
              "ticks": ""
             }
            },
            "type": "scatter3d"
           }
          ],
          "scattercarpet": [
           {
            "marker": {
             "colorbar": {
              "outlinewidth": 0,
              "ticks": ""
             }
            },
            "type": "scattercarpet"
           }
          ],
          "scattergeo": [
           {
            "marker": {
             "colorbar": {
              "outlinewidth": 0,
              "ticks": ""
             }
            },
            "type": "scattergeo"
           }
          ],
          "scattergl": [
           {
            "marker": {
             "colorbar": {
              "outlinewidth": 0,
              "ticks": ""
             }
            },
            "type": "scattergl"
           }
          ],
          "scattermapbox": [
           {
            "marker": {
             "colorbar": {
              "outlinewidth": 0,
              "ticks": ""
             }
            },
            "type": "scattermapbox"
           }
          ],
          "scatterpolar": [
           {
            "marker": {
             "colorbar": {
              "outlinewidth": 0,
              "ticks": ""
             }
            },
            "type": "scatterpolar"
           }
          ],
          "scatterpolargl": [
           {
            "marker": {
             "colorbar": {
              "outlinewidth": 0,
              "ticks": ""
             }
            },
            "type": "scatterpolargl"
           }
          ],
          "scatterternary": [
           {
            "marker": {
             "colorbar": {
              "outlinewidth": 0,
              "ticks": ""
             }
            },
            "type": "scatterternary"
           }
          ],
          "surface": [
           {
            "colorbar": {
             "outlinewidth": 0,
             "ticks": ""
            },
            "colorscale": [
             [
              0,
              "#0d0887"
             ],
             [
              0.1111111111111111,
              "#46039f"
             ],
             [
              0.2222222222222222,
              "#7201a8"
             ],
             [
              0.3333333333333333,
              "#9c179e"
             ],
             [
              0.4444444444444444,
              "#bd3786"
             ],
             [
              0.5555555555555556,
              "#d8576b"
             ],
             [
              0.6666666666666666,
              "#ed7953"
             ],
             [
              0.7777777777777778,
              "#fb9f3a"
             ],
             [
              0.8888888888888888,
              "#fdca26"
             ],
             [
              1,
              "#f0f921"
             ]
            ],
            "type": "surface"
           }
          ],
          "table": [
           {
            "cells": {
             "fill": {
              "color": "#EBF0F8"
             },
             "line": {
              "color": "white"
             }
            },
            "header": {
             "fill": {
              "color": "#C8D4E3"
             },
             "line": {
              "color": "white"
             }
            },
            "type": "table"
           }
          ]
         },
         "layout": {
          "annotationdefaults": {
           "arrowcolor": "#2a3f5f",
           "arrowhead": 0,
           "arrowwidth": 1
          },
          "autotypenumbers": "strict",
          "coloraxis": {
           "colorbar": {
            "outlinewidth": 0,
            "ticks": ""
           }
          },
          "colorscale": {
           "diverging": [
            [
             0,
             "#8e0152"
            ],
            [
             0.1,
             "#c51b7d"
            ],
            [
             0.2,
             "#de77ae"
            ],
            [
             0.3,
             "#f1b6da"
            ],
            [
             0.4,
             "#fde0ef"
            ],
            [
             0.5,
             "#f7f7f7"
            ],
            [
             0.6,
             "#e6f5d0"
            ],
            [
             0.7,
             "#b8e186"
            ],
            [
             0.8,
             "#7fbc41"
            ],
            [
             0.9,
             "#4d9221"
            ],
            [
             1,
             "#276419"
            ]
           ],
           "sequential": [
            [
             0,
             "#0d0887"
            ],
            [
             0.1111111111111111,
             "#46039f"
            ],
            [
             0.2222222222222222,
             "#7201a8"
            ],
            [
             0.3333333333333333,
             "#9c179e"
            ],
            [
             0.4444444444444444,
             "#bd3786"
            ],
            [
             0.5555555555555556,
             "#d8576b"
            ],
            [
             0.6666666666666666,
             "#ed7953"
            ],
            [
             0.7777777777777778,
             "#fb9f3a"
            ],
            [
             0.8888888888888888,
             "#fdca26"
            ],
            [
             1,
             "#f0f921"
            ]
           ],
           "sequentialminus": [
            [
             0,
             "#0d0887"
            ],
            [
             0.1111111111111111,
             "#46039f"
            ],
            [
             0.2222222222222222,
             "#7201a8"
            ],
            [
             0.3333333333333333,
             "#9c179e"
            ],
            [
             0.4444444444444444,
             "#bd3786"
            ],
            [
             0.5555555555555556,
             "#d8576b"
            ],
            [
             0.6666666666666666,
             "#ed7953"
            ],
            [
             0.7777777777777778,
             "#fb9f3a"
            ],
            [
             0.8888888888888888,
             "#fdca26"
            ],
            [
             1,
             "#f0f921"
            ]
           ]
          },
          "colorway": [
           "#636efa",
           "#EF553B",
           "#00cc96",
           "#ab63fa",
           "#FFA15A",
           "#19d3f3",
           "#FF6692",
           "#B6E880",
           "#FF97FF",
           "#FECB52"
          ],
          "font": {
           "color": "#2a3f5f"
          },
          "geo": {
           "bgcolor": "white",
           "lakecolor": "white",
           "landcolor": "#E5ECF6",
           "showlakes": true,
           "showland": true,
           "subunitcolor": "white"
          },
          "hoverlabel": {
           "align": "left"
          },
          "hovermode": "closest",
          "mapbox": {
           "style": "light"
          },
          "paper_bgcolor": "white",
          "plot_bgcolor": "#E5ECF6",
          "polar": {
           "angularaxis": {
            "gridcolor": "white",
            "linecolor": "white",
            "ticks": ""
           },
           "bgcolor": "#E5ECF6",
           "radialaxis": {
            "gridcolor": "white",
            "linecolor": "white",
            "ticks": ""
           }
          },
          "scene": {
           "xaxis": {
            "backgroundcolor": "#E5ECF6",
            "gridcolor": "white",
            "gridwidth": 2,
            "linecolor": "white",
            "showbackground": true,
            "ticks": "",
            "zerolinecolor": "white"
           },
           "yaxis": {
            "backgroundcolor": "#E5ECF6",
            "gridcolor": "white",
            "gridwidth": 2,
            "linecolor": "white",
            "showbackground": true,
            "ticks": "",
            "zerolinecolor": "white"
           },
           "zaxis": {
            "backgroundcolor": "#E5ECF6",
            "gridcolor": "white",
            "gridwidth": 2,
            "linecolor": "white",
            "showbackground": true,
            "ticks": "",
            "zerolinecolor": "white"
           }
          },
          "shapedefaults": {
           "line": {
            "color": "#2a3f5f"
           }
          },
          "ternary": {
           "aaxis": {
            "gridcolor": "white",
            "linecolor": "white",
            "ticks": ""
           },
           "baxis": {
            "gridcolor": "white",
            "linecolor": "white",
            "ticks": ""
           },
           "bgcolor": "#E5ECF6",
           "caxis": {
            "gridcolor": "white",
            "linecolor": "white",
            "ticks": ""
           }
          },
          "title": {
           "x": 0.05
          },
          "xaxis": {
           "automargin": true,
           "gridcolor": "white",
           "linecolor": "white",
           "ticks": "",
           "title": {
            "standoff": 15
           },
           "zerolinecolor": "white",
           "zerolinewidth": 2
          },
          "yaxis": {
           "automargin": true,
           "gridcolor": "white",
           "linecolor": "white",
           "ticks": "",
           "title": {
            "standoff": 15
           },
           "zerolinecolor": "white",
           "zerolinewidth": 2
          }
         }
        },
        "xaxis": {
         "anchor": "y",
         "domain": [
          0,
          1
         ]
        },
        "yaxis": {
         "anchor": "x",
         "domain": [
          0,
          1
         ],
         "title": {
          "text": "Y"
         }
        }
       }
      }
     },
     "metadata": {},
     "output_type": "display_data"
    },
    {
     "data": {
      "application/vnd.plotly.v1+json": {
       "config": {
        "plotlyServerURL": "https://plot.ly"
       },
       "data": [
        {
         "alignmentgroup": "True",
         "hovertemplate": "month=%{y}<extra></extra>",
         "legendgroup": "",
         "marker": {
          "color": "#636efa"
         },
         "name": "",
         "notched": false,
         "offsetgroup": "",
         "orientation": "v",
         "showlegend": false,
         "type": "box",
         "x0": " ",
         "xaxis": "x",
         "y": [
          0.970871337802472,
          0.970871337802472,
          -1.0890759192859467,
          -1.0890759192859467,
          1.1997543663678518,
          1.1997543663678518,
          1.1997543663678518,
          1.1997543663678518,
          1.1997543663678518,
          1.1997543663678518,
          1.1997543663678518,
          1.1997543663678518,
          -1.0890759192859467,
          -1.0890759192859467,
          1.1997543663678518,
          1.1997543663678518,
          1.1997543663678518,
          1.1997543663678518,
          1.1997543663678518,
          1.1997543663678518,
          1.1997543663678518,
          1.1997543663678518,
          1.1997543663678518,
          1.1997543663678518,
          0.970871337802472,
          0.970871337802472,
          0.970871337802472,
          -1.0890759192859467,
          -1.0890759192859467,
          1.1997543663678518,
          1.1997543663678518,
          1.1997543663678518,
          1.1997543663678518,
          -0.1735438050244273,
          1.1997543663678518,
          -1.0890759192859467,
          -1.0890759192859467,
          -1.0890759192859467,
          -1.0890759192859467,
          1.1997543663678518,
          1.1997543663678518,
          0.970871337802472,
          1.1997543663678518,
          -1.0890759192859467,
          1.1997543663678518,
          -1.0890759192859467,
          -1.0890759192859467,
          -1.0890759192859467,
          -1.0890759192859467,
          1.1997543663678518,
          -1.0890759192859467,
          -1.0890759192859467,
          -1.0890759192859467,
          -1.0890759192859467,
          1.1997543663678518,
          -1.0890759192859467,
          1.1997543663678518,
          1.1997543663678518,
          1.1997543663678518,
          1.1997543663678518,
          -1.0890759192859467,
          -1.0890759192859467,
          -1.0890759192859467,
          1.1997543663678518,
          1.1997543663678518,
          0.970871337802472,
          1.1997543663678518,
          0.970871337802472,
          0.970871337802472,
          1.1997543663678518,
          1.1997543663678518,
          1.1997543663678518,
          1.1997543663678518,
          1.1997543663678518,
          -1.0890759192859467,
          -1.0890759192859467,
          -1.0890759192859467,
          1.1997543663678518,
          0.05533922354095257,
          -0.1735438050244273,
          1.1997543663678518,
          1.1997543663678518,
          -1.0890759192859467,
          1.1997543663678518,
          -1.0890759192859467,
          1.1997543663678518,
          -1.0890759192859467,
          1.1997543663678518,
          1.1997543663678518,
          -1.0890759192859467,
          -1.0890759192859467,
          -1.0890759192859467,
          1.1997543663678518,
          -1.0890759192859467,
          1.1997543663678518,
          -1.0890759192859467,
          -1.0890759192859467,
          -1.0890759192859467,
          1.1997543663678518,
          -1.0890759192859467,
          1.1997543663678518,
          0.970871337802472,
          -1.0890759192859467,
          1.1997543663678518,
          1.1997543663678518,
          -1.0890759192859467,
          1.1997543663678518,
          -1.0890759192859467,
          1.1997543663678518,
          1.1997543663678518,
          1.1997543663678518,
          0.970871337802472,
          1.1997543663678518,
          1.1997543663678518,
          1.1997543663678518,
          1.1997543663678518,
          0.970871337802472,
          1.1997543663678518,
          1.1997543663678518,
          1.1997543663678518,
          1.1997543663678518,
          -1.0890759192859467,
          1.1997543663678518,
          1.1997543663678518,
          1.1997543663678518,
          0.970871337802472,
          -1.0890759192859467,
          1.1997543663678518,
          -1.0890759192859467,
          1.1997543663678518,
          1.1997543663678518,
          1.1997543663678518,
          1.1997543663678518,
          -1.0890759192859467,
          1.1997543663678518,
          -1.0890759192859467,
          -1.0890759192859467,
          -1.0890759192859467,
          -1.0890759192859467,
          -1.0890759192859467,
          -1.0890759192859467,
          -1.0890759192859467,
          -1.0890759192859467,
          -1.0890759192859467,
          -1.0890759192859467,
          -1.0890759192859467,
          -1.0890759192859467,
          -1.0890759192859467,
          -1.0890759192859467,
          -1.0890759192859467,
          -1.0890759192859467,
          -1.0890759192859467,
          -1.0890759192859467,
          -1.0890759192859467,
          -1.0890759192859467,
          -1.0890759192859467,
          -1.0890759192859467,
          -1.0890759192859467,
          -1.0890759192859467,
          -1.0890759192859467,
          -1.0890759192859467,
          -0.1735438050244273,
          -0.1735438050244273,
          -0.1735438050244273,
          -0.1735438050244273,
          -0.1735438050244273,
          -0.1735438050244273,
          -0.1735438050244273,
          -0.1735438050244273,
          -0.1735438050244273,
          0.05533922354095257,
          0.05533922354095257,
          0.05533922354095257,
          0.05533922354095257,
          0.05533922354095257,
          0.05533922354095257,
          0.05533922354095257,
          0.05533922354095257,
          1.1997543663678518,
          1.1997543663678518,
          1.1997543663678518,
          1.1997543663678518,
          1.1997543663678518,
          1.1997543663678518,
          1.1997543663678518,
          1.1997543663678518,
          1.1997543663678518,
          1.1997543663678518,
          1.1997543663678518,
          1.1997543663678518,
          1.1997543663678518,
          1.1997543663678518,
          1.1997543663678518,
          1.1997543663678518,
          1.1997543663678518,
          1.1997543663678518,
          1.1997543663678518,
          1.1997543663678518,
          1.1997543663678518,
          1.1997543663678518,
          1.1997543663678518,
          1.1997543663678518,
          1.1997543663678518,
          1.1997543663678518,
          1.1997543663678518,
          1.1997543663678518,
          1.1997543663678518,
          1.1997543663678518,
          1.1997543663678518,
          1.1997543663678518,
          1.1997543663678518,
          1.1997543663678518,
          1.1997543663678518,
          1.1997543663678518,
          1.1997543663678518,
          1.1997543663678518,
          1.1997543663678518,
          1.1997543663678518,
          1.1997543663678518,
          1.1997543663678518,
          1.1997543663678518,
          1.1997543663678518,
          1.1997543663678518,
          1.1997543663678518,
          1.1997543663678518,
          1.1997543663678518,
          1.1997543663678518,
          1.1997543663678518,
          1.1997543663678518,
          1.1997543663678518,
          1.1997543663678518,
          1.1997543663678518,
          1.1997543663678518,
          1.1997543663678518,
          1.1997543663678518,
          1.1997543663678518,
          1.1997543663678518,
          1.1997543663678518,
          1.1997543663678518,
          -0.1735438050244273,
          -1.0890759192859467,
          -1.0890759192859467,
          1.1997543663678518,
          -1.0890759192859467,
          -0.1735438050244273,
          -1.0890759192859467,
          -1.0890759192859467,
          -1.0890759192859467,
          1.1997543663678518,
          -1.0890759192859467,
          -1.0890759192859467,
          1.1997543663678518,
          1.1997543663678518,
          -1.0890759192859467,
          0.05533922354095257,
          0.05533922354095257,
          1.1997543663678518,
          -1.0890759192859467,
          1.1997543663678518,
          -0.1735438050244273,
          -0.1735438050244273,
          -1.0890759192859467,
          -1.0890759192859467,
          -1.0890759192859467,
          -0.1735438050244273,
          -1.0890759192859467,
          -1.0890759192859467,
          -1.0890759192859467,
          1.1997543663678518,
          -1.0890759192859467,
          -1.0890759192859467,
          -1.0890759192859467,
          -1.0890759192859467,
          -1.0890759192859467,
          -1.0890759192859467,
          -1.0890759192859467,
          -0.1735438050244273,
          -1.0890759192859467,
          -1.0890759192859467,
          1.1997543663678518,
          -1.0890759192859467,
          -1.0890759192859467,
          -1.0890759192859467,
          -1.0890759192859467,
          -0.1735438050244273,
          -1.0890759192859467,
          -1.0890759192859467,
          -1.0890759192859467,
          -1.0890759192859467,
          0.05533922354095257,
          0.05533922354095257,
          -0.1735438050244273,
          -0.1735438050244273,
          -0.1735438050244273,
          -0.1735438050244273,
          -1.0890759192859467,
          -1.0890759192859467,
          -1.0890759192859467,
          -1.0890759192859467,
          -1.0890759192859467,
          -1.0890759192859467,
          -1.0890759192859467,
          -1.0890759192859467,
          -1.0890759192859467,
          -1.0890759192859467,
          -1.0890759192859467,
          -1.0890759192859467,
          -1.0890759192859467,
          -1.0890759192859467,
          -1.0890759192859467
         ],
         "y0": " ",
         "yaxis": "y"
        }
       ],
       "layout": {
        "boxmode": "group",
        "legend": {
         "tracegroupgap": 0
        },
        "margin": {
         "t": 60
        },
        "template": {
         "data": {
          "bar": [
           {
            "error_x": {
             "color": "#2a3f5f"
            },
            "error_y": {
             "color": "#2a3f5f"
            },
            "marker": {
             "line": {
              "color": "#E5ECF6",
              "width": 0.5
             },
             "pattern": {
              "fillmode": "overlay",
              "size": 10,
              "solidity": 0.2
             }
            },
            "type": "bar"
           }
          ],
          "barpolar": [
           {
            "marker": {
             "line": {
              "color": "#E5ECF6",
              "width": 0.5
             },
             "pattern": {
              "fillmode": "overlay",
              "size": 10,
              "solidity": 0.2
             }
            },
            "type": "barpolar"
           }
          ],
          "carpet": [
           {
            "aaxis": {
             "endlinecolor": "#2a3f5f",
             "gridcolor": "white",
             "linecolor": "white",
             "minorgridcolor": "white",
             "startlinecolor": "#2a3f5f"
            },
            "baxis": {
             "endlinecolor": "#2a3f5f",
             "gridcolor": "white",
             "linecolor": "white",
             "minorgridcolor": "white",
             "startlinecolor": "#2a3f5f"
            },
            "type": "carpet"
           }
          ],
          "choropleth": [
           {
            "colorbar": {
             "outlinewidth": 0,
             "ticks": ""
            },
            "type": "choropleth"
           }
          ],
          "contour": [
           {
            "colorbar": {
             "outlinewidth": 0,
             "ticks": ""
            },
            "colorscale": [
             [
              0,
              "#0d0887"
             ],
             [
              0.1111111111111111,
              "#46039f"
             ],
             [
              0.2222222222222222,
              "#7201a8"
             ],
             [
              0.3333333333333333,
              "#9c179e"
             ],
             [
              0.4444444444444444,
              "#bd3786"
             ],
             [
              0.5555555555555556,
              "#d8576b"
             ],
             [
              0.6666666666666666,
              "#ed7953"
             ],
             [
              0.7777777777777778,
              "#fb9f3a"
             ],
             [
              0.8888888888888888,
              "#fdca26"
             ],
             [
              1,
              "#f0f921"
             ]
            ],
            "type": "contour"
           }
          ],
          "contourcarpet": [
           {
            "colorbar": {
             "outlinewidth": 0,
             "ticks": ""
            },
            "type": "contourcarpet"
           }
          ],
          "heatmap": [
           {
            "colorbar": {
             "outlinewidth": 0,
             "ticks": ""
            },
            "colorscale": [
             [
              0,
              "#0d0887"
             ],
             [
              0.1111111111111111,
              "#46039f"
             ],
             [
              0.2222222222222222,
              "#7201a8"
             ],
             [
              0.3333333333333333,
              "#9c179e"
             ],
             [
              0.4444444444444444,
              "#bd3786"
             ],
             [
              0.5555555555555556,
              "#d8576b"
             ],
             [
              0.6666666666666666,
              "#ed7953"
             ],
             [
              0.7777777777777778,
              "#fb9f3a"
             ],
             [
              0.8888888888888888,
              "#fdca26"
             ],
             [
              1,
              "#f0f921"
             ]
            ],
            "type": "heatmap"
           }
          ],
          "heatmapgl": [
           {
            "colorbar": {
             "outlinewidth": 0,
             "ticks": ""
            },
            "colorscale": [
             [
              0,
              "#0d0887"
             ],
             [
              0.1111111111111111,
              "#46039f"
             ],
             [
              0.2222222222222222,
              "#7201a8"
             ],
             [
              0.3333333333333333,
              "#9c179e"
             ],
             [
              0.4444444444444444,
              "#bd3786"
             ],
             [
              0.5555555555555556,
              "#d8576b"
             ],
             [
              0.6666666666666666,
              "#ed7953"
             ],
             [
              0.7777777777777778,
              "#fb9f3a"
             ],
             [
              0.8888888888888888,
              "#fdca26"
             ],
             [
              1,
              "#f0f921"
             ]
            ],
            "type": "heatmapgl"
           }
          ],
          "histogram": [
           {
            "marker": {
             "pattern": {
              "fillmode": "overlay",
              "size": 10,
              "solidity": 0.2
             }
            },
            "type": "histogram"
           }
          ],
          "histogram2d": [
           {
            "colorbar": {
             "outlinewidth": 0,
             "ticks": ""
            },
            "colorscale": [
             [
              0,
              "#0d0887"
             ],
             [
              0.1111111111111111,
              "#46039f"
             ],
             [
              0.2222222222222222,
              "#7201a8"
             ],
             [
              0.3333333333333333,
              "#9c179e"
             ],
             [
              0.4444444444444444,
              "#bd3786"
             ],
             [
              0.5555555555555556,
              "#d8576b"
             ],
             [
              0.6666666666666666,
              "#ed7953"
             ],
             [
              0.7777777777777778,
              "#fb9f3a"
             ],
             [
              0.8888888888888888,
              "#fdca26"
             ],
             [
              1,
              "#f0f921"
             ]
            ],
            "type": "histogram2d"
           }
          ],
          "histogram2dcontour": [
           {
            "colorbar": {
             "outlinewidth": 0,
             "ticks": ""
            },
            "colorscale": [
             [
              0,
              "#0d0887"
             ],
             [
              0.1111111111111111,
              "#46039f"
             ],
             [
              0.2222222222222222,
              "#7201a8"
             ],
             [
              0.3333333333333333,
              "#9c179e"
             ],
             [
              0.4444444444444444,
              "#bd3786"
             ],
             [
              0.5555555555555556,
              "#d8576b"
             ],
             [
              0.6666666666666666,
              "#ed7953"
             ],
             [
              0.7777777777777778,
              "#fb9f3a"
             ],
             [
              0.8888888888888888,
              "#fdca26"
             ],
             [
              1,
              "#f0f921"
             ]
            ],
            "type": "histogram2dcontour"
           }
          ],
          "mesh3d": [
           {
            "colorbar": {
             "outlinewidth": 0,
             "ticks": ""
            },
            "type": "mesh3d"
           }
          ],
          "parcoords": [
           {
            "line": {
             "colorbar": {
              "outlinewidth": 0,
              "ticks": ""
             }
            },
            "type": "parcoords"
           }
          ],
          "pie": [
           {
            "automargin": true,
            "type": "pie"
           }
          ],
          "scatter": [
           {
            "marker": {
             "colorbar": {
              "outlinewidth": 0,
              "ticks": ""
             }
            },
            "type": "scatter"
           }
          ],
          "scatter3d": [
           {
            "line": {
             "colorbar": {
              "outlinewidth": 0,
              "ticks": ""
             }
            },
            "marker": {
             "colorbar": {
              "outlinewidth": 0,
              "ticks": ""
             }
            },
            "type": "scatter3d"
           }
          ],
          "scattercarpet": [
           {
            "marker": {
             "colorbar": {
              "outlinewidth": 0,
              "ticks": ""
             }
            },
            "type": "scattercarpet"
           }
          ],
          "scattergeo": [
           {
            "marker": {
             "colorbar": {
              "outlinewidth": 0,
              "ticks": ""
             }
            },
            "type": "scattergeo"
           }
          ],
          "scattergl": [
           {
            "marker": {
             "colorbar": {
              "outlinewidth": 0,
              "ticks": ""
             }
            },
            "type": "scattergl"
           }
          ],
          "scattermapbox": [
           {
            "marker": {
             "colorbar": {
              "outlinewidth": 0,
              "ticks": ""
             }
            },
            "type": "scattermapbox"
           }
          ],
          "scatterpolar": [
           {
            "marker": {
             "colorbar": {
              "outlinewidth": 0,
              "ticks": ""
             }
            },
            "type": "scatterpolar"
           }
          ],
          "scatterpolargl": [
           {
            "marker": {
             "colorbar": {
              "outlinewidth": 0,
              "ticks": ""
             }
            },
            "type": "scatterpolargl"
           }
          ],
          "scatterternary": [
           {
            "marker": {
             "colorbar": {
              "outlinewidth": 0,
              "ticks": ""
             }
            },
            "type": "scatterternary"
           }
          ],
          "surface": [
           {
            "colorbar": {
             "outlinewidth": 0,
             "ticks": ""
            },
            "colorscale": [
             [
              0,
              "#0d0887"
             ],
             [
              0.1111111111111111,
              "#46039f"
             ],
             [
              0.2222222222222222,
              "#7201a8"
             ],
             [
              0.3333333333333333,
              "#9c179e"
             ],
             [
              0.4444444444444444,
              "#bd3786"
             ],
             [
              0.5555555555555556,
              "#d8576b"
             ],
             [
              0.6666666666666666,
              "#ed7953"
             ],
             [
              0.7777777777777778,
              "#fb9f3a"
             ],
             [
              0.8888888888888888,
              "#fdca26"
             ],
             [
              1,
              "#f0f921"
             ]
            ],
            "type": "surface"
           }
          ],
          "table": [
           {
            "cells": {
             "fill": {
              "color": "#EBF0F8"
             },
             "line": {
              "color": "white"
             }
            },
            "header": {
             "fill": {
              "color": "#C8D4E3"
             },
             "line": {
              "color": "white"
             }
            },
            "type": "table"
           }
          ]
         },
         "layout": {
          "annotationdefaults": {
           "arrowcolor": "#2a3f5f",
           "arrowhead": 0,
           "arrowwidth": 1
          },
          "autotypenumbers": "strict",
          "coloraxis": {
           "colorbar": {
            "outlinewidth": 0,
            "ticks": ""
           }
          },
          "colorscale": {
           "diverging": [
            [
             0,
             "#8e0152"
            ],
            [
             0.1,
             "#c51b7d"
            ],
            [
             0.2,
             "#de77ae"
            ],
            [
             0.3,
             "#f1b6da"
            ],
            [
             0.4,
             "#fde0ef"
            ],
            [
             0.5,
             "#f7f7f7"
            ],
            [
             0.6,
             "#e6f5d0"
            ],
            [
             0.7,
             "#b8e186"
            ],
            [
             0.8,
             "#7fbc41"
            ],
            [
             0.9,
             "#4d9221"
            ],
            [
             1,
             "#276419"
            ]
           ],
           "sequential": [
            [
             0,
             "#0d0887"
            ],
            [
             0.1111111111111111,
             "#46039f"
            ],
            [
             0.2222222222222222,
             "#7201a8"
            ],
            [
             0.3333333333333333,
             "#9c179e"
            ],
            [
             0.4444444444444444,
             "#bd3786"
            ],
            [
             0.5555555555555556,
             "#d8576b"
            ],
            [
             0.6666666666666666,
             "#ed7953"
            ],
            [
             0.7777777777777778,
             "#fb9f3a"
            ],
            [
             0.8888888888888888,
             "#fdca26"
            ],
            [
             1,
             "#f0f921"
            ]
           ],
           "sequentialminus": [
            [
             0,
             "#0d0887"
            ],
            [
             0.1111111111111111,
             "#46039f"
            ],
            [
             0.2222222222222222,
             "#7201a8"
            ],
            [
             0.3333333333333333,
             "#9c179e"
            ],
            [
             0.4444444444444444,
             "#bd3786"
            ],
            [
             0.5555555555555556,
             "#d8576b"
            ],
            [
             0.6666666666666666,
             "#ed7953"
            ],
            [
             0.7777777777777778,
             "#fb9f3a"
            ],
            [
             0.8888888888888888,
             "#fdca26"
            ],
            [
             1,
             "#f0f921"
            ]
           ]
          },
          "colorway": [
           "#636efa",
           "#EF553B",
           "#00cc96",
           "#ab63fa",
           "#FFA15A",
           "#19d3f3",
           "#FF6692",
           "#B6E880",
           "#FF97FF",
           "#FECB52"
          ],
          "font": {
           "color": "#2a3f5f"
          },
          "geo": {
           "bgcolor": "white",
           "lakecolor": "white",
           "landcolor": "#E5ECF6",
           "showlakes": true,
           "showland": true,
           "subunitcolor": "white"
          },
          "hoverlabel": {
           "align": "left"
          },
          "hovermode": "closest",
          "mapbox": {
           "style": "light"
          },
          "paper_bgcolor": "white",
          "plot_bgcolor": "#E5ECF6",
          "polar": {
           "angularaxis": {
            "gridcolor": "white",
            "linecolor": "white",
            "ticks": ""
           },
           "bgcolor": "#E5ECF6",
           "radialaxis": {
            "gridcolor": "white",
            "linecolor": "white",
            "ticks": ""
           }
          },
          "scene": {
           "xaxis": {
            "backgroundcolor": "#E5ECF6",
            "gridcolor": "white",
            "gridwidth": 2,
            "linecolor": "white",
            "showbackground": true,
            "ticks": "",
            "zerolinecolor": "white"
           },
           "yaxis": {
            "backgroundcolor": "#E5ECF6",
            "gridcolor": "white",
            "gridwidth": 2,
            "linecolor": "white",
            "showbackground": true,
            "ticks": "",
            "zerolinecolor": "white"
           },
           "zaxis": {
            "backgroundcolor": "#E5ECF6",
            "gridcolor": "white",
            "gridwidth": 2,
            "linecolor": "white",
            "showbackground": true,
            "ticks": "",
            "zerolinecolor": "white"
           }
          },
          "shapedefaults": {
           "line": {
            "color": "#2a3f5f"
           }
          },
          "ternary": {
           "aaxis": {
            "gridcolor": "white",
            "linecolor": "white",
            "ticks": ""
           },
           "baxis": {
            "gridcolor": "white",
            "linecolor": "white",
            "ticks": ""
           },
           "bgcolor": "#E5ECF6",
           "caxis": {
            "gridcolor": "white",
            "linecolor": "white",
            "ticks": ""
           }
          },
          "title": {
           "x": 0.05
          },
          "xaxis": {
           "automargin": true,
           "gridcolor": "white",
           "linecolor": "white",
           "ticks": "",
           "title": {
            "standoff": 15
           },
           "zerolinecolor": "white",
           "zerolinewidth": 2
          },
          "yaxis": {
           "automargin": true,
           "gridcolor": "white",
           "linecolor": "white",
           "ticks": "",
           "title": {
            "standoff": 15
           },
           "zerolinecolor": "white",
           "zerolinewidth": 2
          }
         }
        },
        "xaxis": {
         "anchor": "y",
         "domain": [
          0,
          1
         ]
        },
        "yaxis": {
         "anchor": "x",
         "domain": [
          0,
          1
         ],
         "title": {
          "text": "month"
         }
        }
       }
      }
     },
     "metadata": {},
     "output_type": "display_data"
    },
    {
     "data": {
      "application/vnd.plotly.v1+json": {
       "config": {
        "plotlyServerURL": "https://plot.ly"
       },
       "data": [
        {
         "alignmentgroup": "True",
         "hovertemplate": "day=%{y}<extra></extra>",
         "legendgroup": "",
         "marker": {
          "color": "#636efa"
         },
         "name": "",
         "notched": false,
         "offsetgroup": "",
         "orientation": "v",
         "showlegend": false,
         "type": "box",
         "x0": " ",
         "xaxis": "x",
         "y": [
          1.1767146643200939,
          -0.3831865701760305,
          0.1367805079893443,
          -0.9031536483414053,
          1.1767146643200939,
          -0.3831865701760305,
          -0.3831865701760305,
          -0.9031536483414053,
          1.6966817424854688,
          -1.42312072650678,
          1.1767146643200939,
          -0.9031536483414053,
          -0.3831865701760305,
          0.1367805079893443,
          -1.42312072650678,
          -0.9031536483414053,
          -0.3831865701760305,
          0.1367805079893443,
          -1.42312072650678,
          -0.9031536483414053,
          -1.42312072650678,
          0.1367805079893443,
          -0.9031536483414053,
          1.1767146643200939,
          1.1767146643200939,
          -1.42312072650678,
          -0.3831865701760305,
          -0.3831865701760305,
          1.1767146643200939,
          -0.3831865701760305,
          1.6966817424854688,
          1.6966817424854688,
          -0.9031536483414053,
          -0.9031536483414053,
          0.6567475861547191,
          0.1367805079893443,
          1.6966817424854688,
          1.6966817424854688,
          0.6567475861547191,
          0.6567475861547191,
          1.1767146643200939,
          0.1367805079893443,
          -1.42312072650678,
          1.1767146643200939,
          -1.42312072650678,
          -0.3831865701760305,
          0.1367805079893443,
          0.1367805079893443,
          -0.9031536483414053,
          0.1367805079893443,
          0.1367805079893443,
          0.1367805079893443,
          1.1767146643200939,
          1.1767146643200939,
          -0.3831865701760305,
          0.1367805079893443,
          -0.3831865701760305,
          -0.9031536483414053,
          0.1367805079893443,
          -0.9031536483414053,
          0.6567475861547191,
          -0.9031536483414053,
          -0.9031536483414053,
          0.1367805079893443,
          -1.42312072650678,
          0.1367805079893443,
          -1.42312072650678,
          1.6966817424854688,
          0.1367805079893443,
          0.6567475861547191,
          0.1367805079893443,
          -0.9031536483414053,
          1.1767146643200939,
          -0.9031536483414053,
          -1.42312072650678,
          1.6966817424854688,
          0.6567475861547191,
          0.6567475861547191,
          -1.42312072650678,
          -0.3831865701760305,
          -1.42312072650678,
          -0.3831865701760305,
          0.1367805079893443,
          -0.3831865701760305,
          1.6966817424854688,
          -1.42312072650678,
          0.6567475861547191,
          -0.3831865701760305,
          0.1367805079893443,
          1.6966817424854688,
          1.6966817424854688,
          0.6567475861547191,
          1.6966817424854688,
          0.1367805079893443,
          -0.9031536483414053,
          -0.3831865701760305,
          -0.3831865701760305,
          0.1367805079893443,
          1.6966817424854688,
          1.1767146643200939,
          0.1367805079893443,
          -0.9031536483414053,
          -1.42312072650678,
          1.1767146643200939,
          -0.9031536483414053,
          0.6567475861547191,
          1.6966817424854688,
          -1.42312072650678,
          0.6567475861547191,
          1.1767146643200939,
          1.1767146643200939,
          1.6966817424854688,
          0.6567475861547191,
          1.1767146643200939,
          -1.42312072650678,
          0.6567475861547191,
          -0.3831865701760305,
          -1.42312072650678,
          0.1367805079893443,
          -0.9031536483414053,
          1.6966817424854688,
          0.1367805079893443,
          -1.42312072650678,
          1.6966817424854688,
          0.1367805079893443,
          -0.9031536483414053,
          -0.3831865701760305,
          0.1367805079893443,
          -0.3831865701760305,
          1.6966817424854688,
          0.1367805079893443,
          1.1767146643200939,
          -0.3831865701760305,
          0.1367805079893443,
          -0.3831865701760305,
          0.1367805079893443,
          0.1367805079893443,
          0.1367805079893443,
          0.1367805079893443,
          1.6966817424854688,
          1.6966817424854688,
          1.6966817424854688,
          1.6966817424854688,
          1.6966817424854688,
          1.6966817424854688,
          0.6567475861547191,
          0.6567475861547191,
          0.6567475861547191,
          -0.3831865701760305,
          -0.3831865701760305,
          -0.3831865701760305,
          -0.3831865701760305,
          -0.9031536483414053,
          -1.42312072650678,
          -1.42312072650678,
          -1.42312072650678,
          1.1767146643200939,
          1.1767146643200939,
          1.1767146643200939,
          1.1767146643200939,
          1.1767146643200939,
          0.1367805079893443,
          -0.3831865701760305,
          -0.3831865701760305,
          -0.3831865701760305,
          -0.3831865701760305,
          -0.3831865701760305,
          -1.42312072650678,
          1.1767146643200939,
          1.1767146643200939,
          0.1367805079893443,
          0.1367805079893443,
          0.1367805079893443,
          1.6966817424854688,
          -0.9031536483414053,
          -0.9031536483414053,
          -1.42312072650678,
          -1.42312072650678,
          0.1367805079893443,
          0.1367805079893443,
          0.1367805079893443,
          0.1367805079893443,
          0.1367805079893443,
          0.1367805079893443,
          0.1367805079893443,
          1.6966817424854688,
          1.6966817424854688,
          1.6966817424854688,
          0.6567475861547191,
          0.6567475861547191,
          0.6567475861547191,
          0.6567475861547191,
          0.6567475861547191,
          0.6567475861547191,
          0.6567475861547191,
          0.6567475861547191,
          0.6567475861547191,
          -0.3831865701760305,
          -0.3831865701760305,
          -0.3831865701760305,
          -0.3831865701760305,
          -0.3831865701760305,
          -0.3831865701760305,
          -0.3831865701760305,
          -0.3831865701760305,
          -0.9031536483414053,
          -0.9031536483414053,
          -0.9031536483414053,
          -0.9031536483414053,
          -0.9031536483414053,
          -0.9031536483414053,
          -0.9031536483414053,
          -0.9031536483414053,
          -0.9031536483414053,
          -0.9031536483414053,
          -0.9031536483414053,
          -0.9031536483414053,
          -1.42312072650678,
          -1.42312072650678,
          -1.42312072650678,
          -1.42312072650678,
          -1.42312072650678,
          -1.42312072650678,
          -1.42312072650678,
          -1.42312072650678,
          -1.42312072650678,
          -1.42312072650678,
          -1.42312072650678,
          -1.42312072650678,
          -1.42312072650678,
          -1.42312072650678,
          -1.42312072650678,
          -1.42312072650678,
          1.1767146643200939,
          1.1767146643200939,
          1.1767146643200939,
          1.1767146643200939,
          1.1767146643200939,
          -0.3831865701760305,
          1.6966817424854688,
          0.1367805079893443,
          0.6567475861547191,
          -0.3831865701760305,
          -0.9031536483414053,
          1.6966817424854688,
          0.6567475861547191,
          1.6966817424854688,
          0.1367805079893443,
          0.1367805079893443,
          -1.42312072650678,
          -1.42312072650678,
          -1.42312072650678,
          0.1367805079893443,
          0.1367805079893443,
          1.6966817424854688,
          1.6966817424854688,
          0.6567475861547191,
          0.6567475861547191,
          1.6966817424854688,
          1.1767146643200939,
          -0.9031536483414053,
          -0.3831865701760305,
          0.1367805079893443,
          0.6567475861547191,
          1.1767146643200939,
          0.1367805079893443,
          0.1367805079893443,
          1.6966817424854688,
          -0.3831865701760305,
          -0.3831865701760305,
          -0.9031536483414053,
          0.6567475861547191,
          0.1367805079893443,
          -0.3831865701760305,
          0.6567475861547191,
          0.1367805079893443,
          -0.3831865701760305,
          -0.9031536483414053,
          -0.3831865701760305,
          -1.42312072650678,
          -0.9031536483414053,
          0.1367805079893443,
          0.1367805079893443,
          1.6966817424854688,
          -0.9031536483414053,
          1.6966817424854688,
          -0.3831865701760305,
          -0.3831865701760305,
          -0.3831865701760305,
          -0.3831865701760305,
          0.6567475861547191,
          0.6567475861547191,
          0.1367805079893443,
          -0.9031536483414053,
          0.6567475861547191,
          0.1367805079893443,
          0.1367805079893443,
          1.1767146643200939,
          1.1767146643200939,
          1.1767146643200939,
          1.6966817424854688,
          1.6966817424854688,
          -1.42312072650678,
          -0.3831865701760305,
          -0.9031536483414053,
          1.6966817424854688,
          1.6966817424854688,
          -1.42312072650678,
          -1.42312072650678,
          -0.3831865701760305
         ],
         "y0": " ",
         "yaxis": "y"
        }
       ],
       "layout": {
        "boxmode": "group",
        "legend": {
         "tracegroupgap": 0
        },
        "margin": {
         "t": 60
        },
        "template": {
         "data": {
          "bar": [
           {
            "error_x": {
             "color": "#2a3f5f"
            },
            "error_y": {
             "color": "#2a3f5f"
            },
            "marker": {
             "line": {
              "color": "#E5ECF6",
              "width": 0.5
             },
             "pattern": {
              "fillmode": "overlay",
              "size": 10,
              "solidity": 0.2
             }
            },
            "type": "bar"
           }
          ],
          "barpolar": [
           {
            "marker": {
             "line": {
              "color": "#E5ECF6",
              "width": 0.5
             },
             "pattern": {
              "fillmode": "overlay",
              "size": 10,
              "solidity": 0.2
             }
            },
            "type": "barpolar"
           }
          ],
          "carpet": [
           {
            "aaxis": {
             "endlinecolor": "#2a3f5f",
             "gridcolor": "white",
             "linecolor": "white",
             "minorgridcolor": "white",
             "startlinecolor": "#2a3f5f"
            },
            "baxis": {
             "endlinecolor": "#2a3f5f",
             "gridcolor": "white",
             "linecolor": "white",
             "minorgridcolor": "white",
             "startlinecolor": "#2a3f5f"
            },
            "type": "carpet"
           }
          ],
          "choropleth": [
           {
            "colorbar": {
             "outlinewidth": 0,
             "ticks": ""
            },
            "type": "choropleth"
           }
          ],
          "contour": [
           {
            "colorbar": {
             "outlinewidth": 0,
             "ticks": ""
            },
            "colorscale": [
             [
              0,
              "#0d0887"
             ],
             [
              0.1111111111111111,
              "#46039f"
             ],
             [
              0.2222222222222222,
              "#7201a8"
             ],
             [
              0.3333333333333333,
              "#9c179e"
             ],
             [
              0.4444444444444444,
              "#bd3786"
             ],
             [
              0.5555555555555556,
              "#d8576b"
             ],
             [
              0.6666666666666666,
              "#ed7953"
             ],
             [
              0.7777777777777778,
              "#fb9f3a"
             ],
             [
              0.8888888888888888,
              "#fdca26"
             ],
             [
              1,
              "#f0f921"
             ]
            ],
            "type": "contour"
           }
          ],
          "contourcarpet": [
           {
            "colorbar": {
             "outlinewidth": 0,
             "ticks": ""
            },
            "type": "contourcarpet"
           }
          ],
          "heatmap": [
           {
            "colorbar": {
             "outlinewidth": 0,
             "ticks": ""
            },
            "colorscale": [
             [
              0,
              "#0d0887"
             ],
             [
              0.1111111111111111,
              "#46039f"
             ],
             [
              0.2222222222222222,
              "#7201a8"
             ],
             [
              0.3333333333333333,
              "#9c179e"
             ],
             [
              0.4444444444444444,
              "#bd3786"
             ],
             [
              0.5555555555555556,
              "#d8576b"
             ],
             [
              0.6666666666666666,
              "#ed7953"
             ],
             [
              0.7777777777777778,
              "#fb9f3a"
             ],
             [
              0.8888888888888888,
              "#fdca26"
             ],
             [
              1,
              "#f0f921"
             ]
            ],
            "type": "heatmap"
           }
          ],
          "heatmapgl": [
           {
            "colorbar": {
             "outlinewidth": 0,
             "ticks": ""
            },
            "colorscale": [
             [
              0,
              "#0d0887"
             ],
             [
              0.1111111111111111,
              "#46039f"
             ],
             [
              0.2222222222222222,
              "#7201a8"
             ],
             [
              0.3333333333333333,
              "#9c179e"
             ],
             [
              0.4444444444444444,
              "#bd3786"
             ],
             [
              0.5555555555555556,
              "#d8576b"
             ],
             [
              0.6666666666666666,
              "#ed7953"
             ],
             [
              0.7777777777777778,
              "#fb9f3a"
             ],
             [
              0.8888888888888888,
              "#fdca26"
             ],
             [
              1,
              "#f0f921"
             ]
            ],
            "type": "heatmapgl"
           }
          ],
          "histogram": [
           {
            "marker": {
             "pattern": {
              "fillmode": "overlay",
              "size": 10,
              "solidity": 0.2
             }
            },
            "type": "histogram"
           }
          ],
          "histogram2d": [
           {
            "colorbar": {
             "outlinewidth": 0,
             "ticks": ""
            },
            "colorscale": [
             [
              0,
              "#0d0887"
             ],
             [
              0.1111111111111111,
              "#46039f"
             ],
             [
              0.2222222222222222,
              "#7201a8"
             ],
             [
              0.3333333333333333,
              "#9c179e"
             ],
             [
              0.4444444444444444,
              "#bd3786"
             ],
             [
              0.5555555555555556,
              "#d8576b"
             ],
             [
              0.6666666666666666,
              "#ed7953"
             ],
             [
              0.7777777777777778,
              "#fb9f3a"
             ],
             [
              0.8888888888888888,
              "#fdca26"
             ],
             [
              1,
              "#f0f921"
             ]
            ],
            "type": "histogram2d"
           }
          ],
          "histogram2dcontour": [
           {
            "colorbar": {
             "outlinewidth": 0,
             "ticks": ""
            },
            "colorscale": [
             [
              0,
              "#0d0887"
             ],
             [
              0.1111111111111111,
              "#46039f"
             ],
             [
              0.2222222222222222,
              "#7201a8"
             ],
             [
              0.3333333333333333,
              "#9c179e"
             ],
             [
              0.4444444444444444,
              "#bd3786"
             ],
             [
              0.5555555555555556,
              "#d8576b"
             ],
             [
              0.6666666666666666,
              "#ed7953"
             ],
             [
              0.7777777777777778,
              "#fb9f3a"
             ],
             [
              0.8888888888888888,
              "#fdca26"
             ],
             [
              1,
              "#f0f921"
             ]
            ],
            "type": "histogram2dcontour"
           }
          ],
          "mesh3d": [
           {
            "colorbar": {
             "outlinewidth": 0,
             "ticks": ""
            },
            "type": "mesh3d"
           }
          ],
          "parcoords": [
           {
            "line": {
             "colorbar": {
              "outlinewidth": 0,
              "ticks": ""
             }
            },
            "type": "parcoords"
           }
          ],
          "pie": [
           {
            "automargin": true,
            "type": "pie"
           }
          ],
          "scatter": [
           {
            "marker": {
             "colorbar": {
              "outlinewidth": 0,
              "ticks": ""
             }
            },
            "type": "scatter"
           }
          ],
          "scatter3d": [
           {
            "line": {
             "colorbar": {
              "outlinewidth": 0,
              "ticks": ""
             }
            },
            "marker": {
             "colorbar": {
              "outlinewidth": 0,
              "ticks": ""
             }
            },
            "type": "scatter3d"
           }
          ],
          "scattercarpet": [
           {
            "marker": {
             "colorbar": {
              "outlinewidth": 0,
              "ticks": ""
             }
            },
            "type": "scattercarpet"
           }
          ],
          "scattergeo": [
           {
            "marker": {
             "colorbar": {
              "outlinewidth": 0,
              "ticks": ""
             }
            },
            "type": "scattergeo"
           }
          ],
          "scattergl": [
           {
            "marker": {
             "colorbar": {
              "outlinewidth": 0,
              "ticks": ""
             }
            },
            "type": "scattergl"
           }
          ],
          "scattermapbox": [
           {
            "marker": {
             "colorbar": {
              "outlinewidth": 0,
              "ticks": ""
             }
            },
            "type": "scattermapbox"
           }
          ],
          "scatterpolar": [
           {
            "marker": {
             "colorbar": {
              "outlinewidth": 0,
              "ticks": ""
             }
            },
            "type": "scatterpolar"
           }
          ],
          "scatterpolargl": [
           {
            "marker": {
             "colorbar": {
              "outlinewidth": 0,
              "ticks": ""
             }
            },
            "type": "scatterpolargl"
           }
          ],
          "scatterternary": [
           {
            "marker": {
             "colorbar": {
              "outlinewidth": 0,
              "ticks": ""
             }
            },
            "type": "scatterternary"
           }
          ],
          "surface": [
           {
            "colorbar": {
             "outlinewidth": 0,
             "ticks": ""
            },
            "colorscale": [
             [
              0,
              "#0d0887"
             ],
             [
              0.1111111111111111,
              "#46039f"
             ],
             [
              0.2222222222222222,
              "#7201a8"
             ],
             [
              0.3333333333333333,
              "#9c179e"
             ],
             [
              0.4444444444444444,
              "#bd3786"
             ],
             [
              0.5555555555555556,
              "#d8576b"
             ],
             [
              0.6666666666666666,
              "#ed7953"
             ],
             [
              0.7777777777777778,
              "#fb9f3a"
             ],
             [
              0.8888888888888888,
              "#fdca26"
             ],
             [
              1,
              "#f0f921"
             ]
            ],
            "type": "surface"
           }
          ],
          "table": [
           {
            "cells": {
             "fill": {
              "color": "#EBF0F8"
             },
             "line": {
              "color": "white"
             }
            },
            "header": {
             "fill": {
              "color": "#C8D4E3"
             },
             "line": {
              "color": "white"
             }
            },
            "type": "table"
           }
          ]
         },
         "layout": {
          "annotationdefaults": {
           "arrowcolor": "#2a3f5f",
           "arrowhead": 0,
           "arrowwidth": 1
          },
          "autotypenumbers": "strict",
          "coloraxis": {
           "colorbar": {
            "outlinewidth": 0,
            "ticks": ""
           }
          },
          "colorscale": {
           "diverging": [
            [
             0,
             "#8e0152"
            ],
            [
             0.1,
             "#c51b7d"
            ],
            [
             0.2,
             "#de77ae"
            ],
            [
             0.3,
             "#f1b6da"
            ],
            [
             0.4,
             "#fde0ef"
            ],
            [
             0.5,
             "#f7f7f7"
            ],
            [
             0.6,
             "#e6f5d0"
            ],
            [
             0.7,
             "#b8e186"
            ],
            [
             0.8,
             "#7fbc41"
            ],
            [
             0.9,
             "#4d9221"
            ],
            [
             1,
             "#276419"
            ]
           ],
           "sequential": [
            [
             0,
             "#0d0887"
            ],
            [
             0.1111111111111111,
             "#46039f"
            ],
            [
             0.2222222222222222,
             "#7201a8"
            ],
            [
             0.3333333333333333,
             "#9c179e"
            ],
            [
             0.4444444444444444,
             "#bd3786"
            ],
            [
             0.5555555555555556,
             "#d8576b"
            ],
            [
             0.6666666666666666,
             "#ed7953"
            ],
            [
             0.7777777777777778,
             "#fb9f3a"
            ],
            [
             0.8888888888888888,
             "#fdca26"
            ],
            [
             1,
             "#f0f921"
            ]
           ],
           "sequentialminus": [
            [
             0,
             "#0d0887"
            ],
            [
             0.1111111111111111,
             "#46039f"
            ],
            [
             0.2222222222222222,
             "#7201a8"
            ],
            [
             0.3333333333333333,
             "#9c179e"
            ],
            [
             0.4444444444444444,
             "#bd3786"
            ],
            [
             0.5555555555555556,
             "#d8576b"
            ],
            [
             0.6666666666666666,
             "#ed7953"
            ],
            [
             0.7777777777777778,
             "#fb9f3a"
            ],
            [
             0.8888888888888888,
             "#fdca26"
            ],
            [
             1,
             "#f0f921"
            ]
           ]
          },
          "colorway": [
           "#636efa",
           "#EF553B",
           "#00cc96",
           "#ab63fa",
           "#FFA15A",
           "#19d3f3",
           "#FF6692",
           "#B6E880",
           "#FF97FF",
           "#FECB52"
          ],
          "font": {
           "color": "#2a3f5f"
          },
          "geo": {
           "bgcolor": "white",
           "lakecolor": "white",
           "landcolor": "#E5ECF6",
           "showlakes": true,
           "showland": true,
           "subunitcolor": "white"
          },
          "hoverlabel": {
           "align": "left"
          },
          "hovermode": "closest",
          "mapbox": {
           "style": "light"
          },
          "paper_bgcolor": "white",
          "plot_bgcolor": "#E5ECF6",
          "polar": {
           "angularaxis": {
            "gridcolor": "white",
            "linecolor": "white",
            "ticks": ""
           },
           "bgcolor": "#E5ECF6",
           "radialaxis": {
            "gridcolor": "white",
            "linecolor": "white",
            "ticks": ""
           }
          },
          "scene": {
           "xaxis": {
            "backgroundcolor": "#E5ECF6",
            "gridcolor": "white",
            "gridwidth": 2,
            "linecolor": "white",
            "showbackground": true,
            "ticks": "",
            "zerolinecolor": "white"
           },
           "yaxis": {
            "backgroundcolor": "#E5ECF6",
            "gridcolor": "white",
            "gridwidth": 2,
            "linecolor": "white",
            "showbackground": true,
            "ticks": "",
            "zerolinecolor": "white"
           },
           "zaxis": {
            "backgroundcolor": "#E5ECF6",
            "gridcolor": "white",
            "gridwidth": 2,
            "linecolor": "white",
            "showbackground": true,
            "ticks": "",
            "zerolinecolor": "white"
           }
          },
          "shapedefaults": {
           "line": {
            "color": "#2a3f5f"
           }
          },
          "ternary": {
           "aaxis": {
            "gridcolor": "white",
            "linecolor": "white",
            "ticks": ""
           },
           "baxis": {
            "gridcolor": "white",
            "linecolor": "white",
            "ticks": ""
           },
           "bgcolor": "#E5ECF6",
           "caxis": {
            "gridcolor": "white",
            "linecolor": "white",
            "ticks": ""
           }
          },
          "title": {
           "x": 0.05
          },
          "xaxis": {
           "automargin": true,
           "gridcolor": "white",
           "linecolor": "white",
           "ticks": "",
           "title": {
            "standoff": 15
           },
           "zerolinecolor": "white",
           "zerolinewidth": 2
          },
          "yaxis": {
           "automargin": true,
           "gridcolor": "white",
           "linecolor": "white",
           "ticks": "",
           "title": {
            "standoff": 15
           },
           "zerolinecolor": "white",
           "zerolinewidth": 2
          }
         }
        },
        "xaxis": {
         "anchor": "y",
         "domain": [
          0,
          1
         ]
        },
        "yaxis": {
         "anchor": "x",
         "domain": [
          0,
          1
         ],
         "title": {
          "text": "day"
         }
        }
       }
      }
     },
     "metadata": {},
     "output_type": "display_data"
    },
    {
     "data": {
      "application/vnd.plotly.v1+json": {
       "config": {
        "plotlyServerURL": "https://plot.ly"
       },
       "data": [
        {
         "alignmentgroup": "True",
         "hovertemplate": "FFMC=%{y}<extra></extra>",
         "legendgroup": "",
         "marker": {
          "color": "#636efa"
         },
         "name": "",
         "notched": false,
         "offsetgroup": "",
         "orientation": "v",
         "showlegend": false,
         "type": "box",
         "x0": " ",
         "xaxis": "x",
         "y": [
          -0.008102033950154875,
          -0.008102033950154875,
          0.300161067296111,
          0.300161067296111,
          0.06443046046073211,
          0.33642731450155444,
          0.33642731450155444,
          0.046297336858011656,
          0.40895980891244144,
          0.4814923033233259,
          0.06443046046073211,
          0.20949544928250352,
          -0.08063452836103929,
          0.1369629548716191,
          0.318294190898834,
          0.046297336858011656,
          0.4996254269260489,
          0.5177585505287694,
          0.6628235393505407,
          -0.37076450600458466,
          -0.37076450600458466,
          0.19136232567978306,
          0.20949544928250352,
          -0.06250140475831883,
          -0.008102033950154875,
          -0.11690077556648279,
          -0.008102033950154875,
          -0.08063452836103929,
          0.7534891573641482,
          0.33642731450155444,
          -0.09876765196376233,
          0.6628235393505407,
          0.046297336858011656,
          0.6446904157478203,
          0.40895980891244144,
          -0.08063452836103929,
          0.2638948200906675,
          0.2638948200906675,
          0.19136232567978306,
          0.40895980891244144,
          -0.06250140475831883,
          0.35456043810427496,
          0.6628235393505407,
          -0.3344982587991412,
          0.4814923033233259,
          -0.08063452836103929,
          0.300161067296111,
          0.1369629548716191,
          0.08256358406345257,
          -0.17130014637464674,
          0.1369629548716191,
          0.1369629548716191,
          -0.3344982587991412,
          0.7534891573641482,
          0.33642731450155444,
          -0.08063452836103929,
          0.33642731450155444,
          -0.37076450600458466,
          -0.17130014637464674,
          0.20949544928250352,
          0.4270929325151619,
          0.15509607847433957,
          0.15509607847433957,
          0.318294190898834,
          0.6628235393505407,
          0.35456043810427496,
          0.5177585505287694,
          0.1369629548716191,
          0.35456043810427496,
          0.5540247977342129,
          0.318294190898834,
          0.046297336858011656,
          0.06443046046073211,
          0.046297336858011656,
          -0.09876765196376233,
          0.8804210225831992,
          0.8260216517750352,
          0.5540247977342129,
          0.33642731450155444,
          -0.09876765196376233,
          0.6628235393505407,
          0.4996254269260489,
          0.7534891573641482,
          0.4996254269260489,
          0.2638948200906675,
          0.318294190898834,
          0.8260216517750352,
          0.33642731450155444,
          -0.17130014637464674,
          0.2638948200906675,
          0.9710866405968066,
          0.8260216517750352,
          0.40895980891244144,
          0.1369629548716191,
          0.046297336858011656,
          -0.08063452836103929,
          -0.08063452836103929,
          -0.08063452836103929,
          -0.09876765196376233,
          -0.3344982587991412,
          0.318294190898834,
          0.19136232567978306,
          0.5902910449396563,
          0.06443046046073211,
          0.046297336858011656,
          0.8260216517750352,
          0.40895980891244144,
          0.5902910449396563,
          0.40895980891244144,
          0.06443046046073211,
          0.06443046046073211,
          0.1369629548716191,
          0.40895980891244144,
          0.06443046046073211,
          0.318294190898834,
          0.5540247977342129,
          -0.008102033950154875,
          0.6628235393505407,
          0.318294190898834,
          -0.37076450600458466,
          0.40895980891244144,
          -0.08063452836103929,
          0.4814923033233259,
          -0.09876765196376233,
          0.5177585505287694,
          0.19136232567978306,
          0.2820279436933905,
          0.5177585505287694,
          0.2820279436933905,
          0.40895980891244144,
          0.5177585505287694,
          0.06443046046073211,
          0.33642731450155444,
          0.1369629548716191,
          0.33642731450155444,
          0.6446904157478203,
          0.20949544928250352,
          0.20949544928250352,
          0.20949544928250352,
          0.2820279436933905,
          0.4452260561178824,
          0.4452260561178824,
          0.4452260561178824,
          0.4452260561178824,
          0.4452260561178824,
          0.22762857288522656,
          0.17322920207706002,
          -0.57022886563452,
          0.6446904157478203,
          0.6446904157478203,
          0.20949544928250352,
          0.20949544928250352,
          0.5358916741314899,
          0.17322920207706002,
          0.08256358406345257,
          0.6628235393505407,
          0.5540247977342129,
          0.2638948200906675,
          0.2638948200906675,
          0.2638948200906675,
          0.2638948200906675,
          0.5902910449396563,
          0.17322920207706002,
          0.17322920207706002,
          0.17322920207706002,
          0.17322920207706002,
          0.17322920207706002,
          0.17322920207706002,
          0.4452260561178824,
          0.300161067296111,
          0.4452260561178824,
          -0.044368281155595796,
          -0.044368281155595796,
          0.10069670766617561,
          -0.044368281155595796,
          -0.044368281155595796,
          0.08256358406345257,
          0.08256358406345257,
          -0.18943326997736978,
          -0.18943326997736978,
          -0.18943326997736978,
          0.318294190898834,
          0.318294190898834,
          0.318294190898834,
          0.318294190898834,
          0.35456043810427496,
          0.35456043810427496,
          0.10069670766617561,
          0.318294190898834,
          0.318294190898834,
          0.3908266853097184,
          0.3908266853097184,
          0.3908266853097184,
          0.3908266853097184,
          0.3908266853097184,
          0.010031089652568161,
          -0.4614301240181921,
          0.2820279436933905,
          0.2820279436933905,
          0.2820279436933905,
          0.2820279436933905,
          0.2820279436933905,
          0.2820279436933905,
          0.10069670766617561,
          0.10069670766617561,
          0.2638948200906675,
          0.17322920207706002,
          0.17322920207706002,
          0.17322920207706002,
          0.17322920207706002,
          0.17322920207706002,
          0.17322920207706002,
          0.22762857288522656,
          0.15509607847433957,
          0.15509607847433957,
          0.15509607847433957,
          0.15509607847433957,
          0.2638948200906675,
          0.2638948200906675,
          0.2638948200906675,
          0.2638948200906675,
          0.2638948200906675,
          0.2638948200906675,
          0.2638948200906675,
          0.2638948200906675,
          0.2638948200906675,
          0.2638948200906675,
          0.33642731450155444,
          0.33642731450155444,
          0.33642731450155444,
          0.33642731450155444,
          0.33642731450155444,
          -0.4432970004154691,
          0.22762857288522656,
          0.22762857288522656,
          0.22762857288522656,
          0.08256358406345257,
          0.08256358406345257,
          0.10069670766617561,
          0.22762857288522656,
          0.24576169648794702,
          0.7534891573641482,
          0.10069670766617561,
          0.2638948200906675,
          0.5540247977342129,
          0.010031089652568161,
          0.8260216517750352,
          0.17322920207706002,
          -0.026235157552875334,
          0.7534891573641482,
          0.7534891573641482,
          0.08256358406345257,
          -0.026235157552875334,
          0.17322920207706002,
          0.4814923033233259,
          0.4814923033233259,
          0.08256358406345257,
          0.010031089652568161,
          -0.497696371223633,
          0.300161067296111,
          0.300161067296111,
          0.5540247977342129,
          0.5358916741314899,
          0.7534891573641482,
          0.37269356170699797,
          0.24576169648794702,
          0.17322920207706002,
          0.8260216517750352,
          0.10069670766617561,
          0.5540247977342129,
          0.2638948200906675,
          0.7534891573641482,
          0.17322920207706002,
          0.2638948200906675,
          0.7534891573641482,
          0.5358916741314899,
          0.02816421325528862,
          0.2638948200906675,
          0.5540247977342129,
          0.08256358406345257,
          0.2638948200906675,
          0.24576169648794702,
          0.17322920207706002,
          0.8260216517750352,
          0.7172229101587048,
          0.19136232567978306,
          0.5540247977342129,
          0.5540247977342129,
          0.5540247977342129,
          -0.026235157552875334,
          0.4270929325151619,
          0.5177585505287694,
          0.5540247977342129,
          -0.2619657643882542,
          0.4633591797206054,
          0.7716222809668712,
          0.7716222809668712,
          0.8078885281723122,
          0.8078885281723122,
          0.8078885281723122,
          0.8078885281723122,
          0.8078885281723122,
          0.9529535169940861,
          0.9710866405968066,
          1.0073528878022502,
          0.6990897865559843,
          0.6990897865559843,
          0.06443046046073211,
          0.06443046046073211,
          0.6809566629532638
         ],
         "y0": " ",
         "yaxis": "y"
        }
       ],
       "layout": {
        "boxmode": "group",
        "legend": {
         "tracegroupgap": 0
        },
        "margin": {
         "t": 60
        },
        "template": {
         "data": {
          "bar": [
           {
            "error_x": {
             "color": "#2a3f5f"
            },
            "error_y": {
             "color": "#2a3f5f"
            },
            "marker": {
             "line": {
              "color": "#E5ECF6",
              "width": 0.5
             },
             "pattern": {
              "fillmode": "overlay",
              "size": 10,
              "solidity": 0.2
             }
            },
            "type": "bar"
           }
          ],
          "barpolar": [
           {
            "marker": {
             "line": {
              "color": "#E5ECF6",
              "width": 0.5
             },
             "pattern": {
              "fillmode": "overlay",
              "size": 10,
              "solidity": 0.2
             }
            },
            "type": "barpolar"
           }
          ],
          "carpet": [
           {
            "aaxis": {
             "endlinecolor": "#2a3f5f",
             "gridcolor": "white",
             "linecolor": "white",
             "minorgridcolor": "white",
             "startlinecolor": "#2a3f5f"
            },
            "baxis": {
             "endlinecolor": "#2a3f5f",
             "gridcolor": "white",
             "linecolor": "white",
             "minorgridcolor": "white",
             "startlinecolor": "#2a3f5f"
            },
            "type": "carpet"
           }
          ],
          "choropleth": [
           {
            "colorbar": {
             "outlinewidth": 0,
             "ticks": ""
            },
            "type": "choropleth"
           }
          ],
          "contour": [
           {
            "colorbar": {
             "outlinewidth": 0,
             "ticks": ""
            },
            "colorscale": [
             [
              0,
              "#0d0887"
             ],
             [
              0.1111111111111111,
              "#46039f"
             ],
             [
              0.2222222222222222,
              "#7201a8"
             ],
             [
              0.3333333333333333,
              "#9c179e"
             ],
             [
              0.4444444444444444,
              "#bd3786"
             ],
             [
              0.5555555555555556,
              "#d8576b"
             ],
             [
              0.6666666666666666,
              "#ed7953"
             ],
             [
              0.7777777777777778,
              "#fb9f3a"
             ],
             [
              0.8888888888888888,
              "#fdca26"
             ],
             [
              1,
              "#f0f921"
             ]
            ],
            "type": "contour"
           }
          ],
          "contourcarpet": [
           {
            "colorbar": {
             "outlinewidth": 0,
             "ticks": ""
            },
            "type": "contourcarpet"
           }
          ],
          "heatmap": [
           {
            "colorbar": {
             "outlinewidth": 0,
             "ticks": ""
            },
            "colorscale": [
             [
              0,
              "#0d0887"
             ],
             [
              0.1111111111111111,
              "#46039f"
             ],
             [
              0.2222222222222222,
              "#7201a8"
             ],
             [
              0.3333333333333333,
              "#9c179e"
             ],
             [
              0.4444444444444444,
              "#bd3786"
             ],
             [
              0.5555555555555556,
              "#d8576b"
             ],
             [
              0.6666666666666666,
              "#ed7953"
             ],
             [
              0.7777777777777778,
              "#fb9f3a"
             ],
             [
              0.8888888888888888,
              "#fdca26"
             ],
             [
              1,
              "#f0f921"
             ]
            ],
            "type": "heatmap"
           }
          ],
          "heatmapgl": [
           {
            "colorbar": {
             "outlinewidth": 0,
             "ticks": ""
            },
            "colorscale": [
             [
              0,
              "#0d0887"
             ],
             [
              0.1111111111111111,
              "#46039f"
             ],
             [
              0.2222222222222222,
              "#7201a8"
             ],
             [
              0.3333333333333333,
              "#9c179e"
             ],
             [
              0.4444444444444444,
              "#bd3786"
             ],
             [
              0.5555555555555556,
              "#d8576b"
             ],
             [
              0.6666666666666666,
              "#ed7953"
             ],
             [
              0.7777777777777778,
              "#fb9f3a"
             ],
             [
              0.8888888888888888,
              "#fdca26"
             ],
             [
              1,
              "#f0f921"
             ]
            ],
            "type": "heatmapgl"
           }
          ],
          "histogram": [
           {
            "marker": {
             "pattern": {
              "fillmode": "overlay",
              "size": 10,
              "solidity": 0.2
             }
            },
            "type": "histogram"
           }
          ],
          "histogram2d": [
           {
            "colorbar": {
             "outlinewidth": 0,
             "ticks": ""
            },
            "colorscale": [
             [
              0,
              "#0d0887"
             ],
             [
              0.1111111111111111,
              "#46039f"
             ],
             [
              0.2222222222222222,
              "#7201a8"
             ],
             [
              0.3333333333333333,
              "#9c179e"
             ],
             [
              0.4444444444444444,
              "#bd3786"
             ],
             [
              0.5555555555555556,
              "#d8576b"
             ],
             [
              0.6666666666666666,
              "#ed7953"
             ],
             [
              0.7777777777777778,
              "#fb9f3a"
             ],
             [
              0.8888888888888888,
              "#fdca26"
             ],
             [
              1,
              "#f0f921"
             ]
            ],
            "type": "histogram2d"
           }
          ],
          "histogram2dcontour": [
           {
            "colorbar": {
             "outlinewidth": 0,
             "ticks": ""
            },
            "colorscale": [
             [
              0,
              "#0d0887"
             ],
             [
              0.1111111111111111,
              "#46039f"
             ],
             [
              0.2222222222222222,
              "#7201a8"
             ],
             [
              0.3333333333333333,
              "#9c179e"
             ],
             [
              0.4444444444444444,
              "#bd3786"
             ],
             [
              0.5555555555555556,
              "#d8576b"
             ],
             [
              0.6666666666666666,
              "#ed7953"
             ],
             [
              0.7777777777777778,
              "#fb9f3a"
             ],
             [
              0.8888888888888888,
              "#fdca26"
             ],
             [
              1,
              "#f0f921"
             ]
            ],
            "type": "histogram2dcontour"
           }
          ],
          "mesh3d": [
           {
            "colorbar": {
             "outlinewidth": 0,
             "ticks": ""
            },
            "type": "mesh3d"
           }
          ],
          "parcoords": [
           {
            "line": {
             "colorbar": {
              "outlinewidth": 0,
              "ticks": ""
             }
            },
            "type": "parcoords"
           }
          ],
          "pie": [
           {
            "automargin": true,
            "type": "pie"
           }
          ],
          "scatter": [
           {
            "marker": {
             "colorbar": {
              "outlinewidth": 0,
              "ticks": ""
             }
            },
            "type": "scatter"
           }
          ],
          "scatter3d": [
           {
            "line": {
             "colorbar": {
              "outlinewidth": 0,
              "ticks": ""
             }
            },
            "marker": {
             "colorbar": {
              "outlinewidth": 0,
              "ticks": ""
             }
            },
            "type": "scatter3d"
           }
          ],
          "scattercarpet": [
           {
            "marker": {
             "colorbar": {
              "outlinewidth": 0,
              "ticks": ""
             }
            },
            "type": "scattercarpet"
           }
          ],
          "scattergeo": [
           {
            "marker": {
             "colorbar": {
              "outlinewidth": 0,
              "ticks": ""
             }
            },
            "type": "scattergeo"
           }
          ],
          "scattergl": [
           {
            "marker": {
             "colorbar": {
              "outlinewidth": 0,
              "ticks": ""
             }
            },
            "type": "scattergl"
           }
          ],
          "scattermapbox": [
           {
            "marker": {
             "colorbar": {
              "outlinewidth": 0,
              "ticks": ""
             }
            },
            "type": "scattermapbox"
           }
          ],
          "scatterpolar": [
           {
            "marker": {
             "colorbar": {
              "outlinewidth": 0,
              "ticks": ""
             }
            },
            "type": "scatterpolar"
           }
          ],
          "scatterpolargl": [
           {
            "marker": {
             "colorbar": {
              "outlinewidth": 0,
              "ticks": ""
             }
            },
            "type": "scatterpolargl"
           }
          ],
          "scatterternary": [
           {
            "marker": {
             "colorbar": {
              "outlinewidth": 0,
              "ticks": ""
             }
            },
            "type": "scatterternary"
           }
          ],
          "surface": [
           {
            "colorbar": {
             "outlinewidth": 0,
             "ticks": ""
            },
            "colorscale": [
             [
              0,
              "#0d0887"
             ],
             [
              0.1111111111111111,
              "#46039f"
             ],
             [
              0.2222222222222222,
              "#7201a8"
             ],
             [
              0.3333333333333333,
              "#9c179e"
             ],
             [
              0.4444444444444444,
              "#bd3786"
             ],
             [
              0.5555555555555556,
              "#d8576b"
             ],
             [
              0.6666666666666666,
              "#ed7953"
             ],
             [
              0.7777777777777778,
              "#fb9f3a"
             ],
             [
              0.8888888888888888,
              "#fdca26"
             ],
             [
              1,
              "#f0f921"
             ]
            ],
            "type": "surface"
           }
          ],
          "table": [
           {
            "cells": {
             "fill": {
              "color": "#EBF0F8"
             },
             "line": {
              "color": "white"
             }
            },
            "header": {
             "fill": {
              "color": "#C8D4E3"
             },
             "line": {
              "color": "white"
             }
            },
            "type": "table"
           }
          ]
         },
         "layout": {
          "annotationdefaults": {
           "arrowcolor": "#2a3f5f",
           "arrowhead": 0,
           "arrowwidth": 1
          },
          "autotypenumbers": "strict",
          "coloraxis": {
           "colorbar": {
            "outlinewidth": 0,
            "ticks": ""
           }
          },
          "colorscale": {
           "diverging": [
            [
             0,
             "#8e0152"
            ],
            [
             0.1,
             "#c51b7d"
            ],
            [
             0.2,
             "#de77ae"
            ],
            [
             0.3,
             "#f1b6da"
            ],
            [
             0.4,
             "#fde0ef"
            ],
            [
             0.5,
             "#f7f7f7"
            ],
            [
             0.6,
             "#e6f5d0"
            ],
            [
             0.7,
             "#b8e186"
            ],
            [
             0.8,
             "#7fbc41"
            ],
            [
             0.9,
             "#4d9221"
            ],
            [
             1,
             "#276419"
            ]
           ],
           "sequential": [
            [
             0,
             "#0d0887"
            ],
            [
             0.1111111111111111,
             "#46039f"
            ],
            [
             0.2222222222222222,
             "#7201a8"
            ],
            [
             0.3333333333333333,
             "#9c179e"
            ],
            [
             0.4444444444444444,
             "#bd3786"
            ],
            [
             0.5555555555555556,
             "#d8576b"
            ],
            [
             0.6666666666666666,
             "#ed7953"
            ],
            [
             0.7777777777777778,
             "#fb9f3a"
            ],
            [
             0.8888888888888888,
             "#fdca26"
            ],
            [
             1,
             "#f0f921"
            ]
           ],
           "sequentialminus": [
            [
             0,
             "#0d0887"
            ],
            [
             0.1111111111111111,
             "#46039f"
            ],
            [
             0.2222222222222222,
             "#7201a8"
            ],
            [
             0.3333333333333333,
             "#9c179e"
            ],
            [
             0.4444444444444444,
             "#bd3786"
            ],
            [
             0.5555555555555556,
             "#d8576b"
            ],
            [
             0.6666666666666666,
             "#ed7953"
            ],
            [
             0.7777777777777778,
             "#fb9f3a"
            ],
            [
             0.8888888888888888,
             "#fdca26"
            ],
            [
             1,
             "#f0f921"
            ]
           ]
          },
          "colorway": [
           "#636efa",
           "#EF553B",
           "#00cc96",
           "#ab63fa",
           "#FFA15A",
           "#19d3f3",
           "#FF6692",
           "#B6E880",
           "#FF97FF",
           "#FECB52"
          ],
          "font": {
           "color": "#2a3f5f"
          },
          "geo": {
           "bgcolor": "white",
           "lakecolor": "white",
           "landcolor": "#E5ECF6",
           "showlakes": true,
           "showland": true,
           "subunitcolor": "white"
          },
          "hoverlabel": {
           "align": "left"
          },
          "hovermode": "closest",
          "mapbox": {
           "style": "light"
          },
          "paper_bgcolor": "white",
          "plot_bgcolor": "#E5ECF6",
          "polar": {
           "angularaxis": {
            "gridcolor": "white",
            "linecolor": "white",
            "ticks": ""
           },
           "bgcolor": "#E5ECF6",
           "radialaxis": {
            "gridcolor": "white",
            "linecolor": "white",
            "ticks": ""
           }
          },
          "scene": {
           "xaxis": {
            "backgroundcolor": "#E5ECF6",
            "gridcolor": "white",
            "gridwidth": 2,
            "linecolor": "white",
            "showbackground": true,
            "ticks": "",
            "zerolinecolor": "white"
           },
           "yaxis": {
            "backgroundcolor": "#E5ECF6",
            "gridcolor": "white",
            "gridwidth": 2,
            "linecolor": "white",
            "showbackground": true,
            "ticks": "",
            "zerolinecolor": "white"
           },
           "zaxis": {
            "backgroundcolor": "#E5ECF6",
            "gridcolor": "white",
            "gridwidth": 2,
            "linecolor": "white",
            "showbackground": true,
            "ticks": "",
            "zerolinecolor": "white"
           }
          },
          "shapedefaults": {
           "line": {
            "color": "#2a3f5f"
           }
          },
          "ternary": {
           "aaxis": {
            "gridcolor": "white",
            "linecolor": "white",
            "ticks": ""
           },
           "baxis": {
            "gridcolor": "white",
            "linecolor": "white",
            "ticks": ""
           },
           "bgcolor": "#E5ECF6",
           "caxis": {
            "gridcolor": "white",
            "linecolor": "white",
            "ticks": ""
           }
          },
          "title": {
           "x": 0.05
          },
          "xaxis": {
           "automargin": true,
           "gridcolor": "white",
           "linecolor": "white",
           "ticks": "",
           "title": {
            "standoff": 15
           },
           "zerolinecolor": "white",
           "zerolinewidth": 2
          },
          "yaxis": {
           "automargin": true,
           "gridcolor": "white",
           "linecolor": "white",
           "ticks": "",
           "title": {
            "standoff": 15
           },
           "zerolinecolor": "white",
           "zerolinewidth": 2
          }
         }
        },
        "xaxis": {
         "anchor": "y",
         "domain": [
          0,
          1
         ]
        },
        "yaxis": {
         "anchor": "x",
         "domain": [
          0,
          1
         ],
         "title": {
          "text": "FFMC"
         }
        }
       }
      }
     },
     "metadata": {},
     "output_type": "display_data"
    },
    {
     "data": {
      "application/vnd.plotly.v1+json": {
       "config": {
        "plotlyServerURL": "https://plot.ly"
       },
       "data": [
        {
         "alignmentgroup": "True",
         "hovertemplate": "DMC=%{y}<extra></extra>",
         "legendgroup": "",
         "marker": {
          "color": "#636efa"
         },
         "name": "",
         "notched": false,
         "offsetgroup": "",
         "orientation": "v",
         "showlegend": false,
         "type": "box",
         "x0": " ",
         "xaxis": "x",
         "y": [
          -1.1795407723785454,
          -1.0498218799267889,
          -0.39966453944569635,
          -0.3434009234425247,
          0.2911276348154647,
          -0.3574668274433177,
          -0.3574668274433177,
          0.24424128814615514,
          0.350517007263257,
          0.4739843868257719,
          0.2911276348154647,
          -0.505940258562798,
          0.0004322854657454679,
          0.49273892549349596,
          0.10983376102746781,
          0.24424128814615514,
          0.5396252721628055,
          0.6005775228329081,
          -0.402790295890317,
          -0.2980774549955256,
          -0.6434735421261061,
          -0.5512637270097973,
          -0.505940258562798,
          -0.47155693767197093,
          -1.1795407723785454,
          -1.084205200817616,
          -1.0498218799267889,
          -0.2183706656576992,
          -0.04020254831432296,
          -0.3574668274433177,
          -0.43717361678114386,
          -0.402790295890317,
          0.24424128814615514,
          -0.7591265305770697,
          0.40834350148873866,
          -0.17617295365532076,
          0.0051209201326763805,
          0.0051209201326763805,
          0.05357014502429618,
          0.40834350148873866,
          -0.47155693767197093,
          -1.0060612897021002,
          -0.402790295890317,
          0.5693199583867017,
          0.4739843868257719,
          -0.2183706656576992,
          -0.39966453944569635,
          0.49273892549349596,
          -0.11990933765214914,
          -0.3262092629971113,
          0.49273892549349596,
          0.49273892549349596,
          0.5693199583867017,
          -0.04020254831432296,
          0.15984586414139784,
          -0.17617295365532076,
          -0.3574668274433177,
          -0.2980774549955256,
          -0.3262092629971113,
          -0.505940258562798,
          -0.5559523616767282,
          0.5396252721628055,
          0.5396252721628055,
          0.20673221081070742,
          -0.402790295890317,
          -1.0060612897021002,
          0.6005775228329081,
          -1.1404688168207875,
          -1.0060612897021002,
          -0.4684311812273502,
          0.20673221081070742,
          0.24424128814615514,
          0.2911276348154647,
          0.24424128814615514,
          -0.04489118298125387,
          -0.17148431898838962,
          0.32551095570629157,
          -0.4684311812273502,
          -0.8513363456933786,
          -0.932606013253515,
          -0.402790295890317,
          0.5396252721628055,
          -0.04020254831432296,
          0.5396252721628055,
          0.0051209201326763805,
          0.10983376102746781,
          0.32551095570629157,
          0.15984586414139784,
          -0.3262092629971113,
          0.0051209201326763805,
          0.253618557480017,
          0.32551095570629157,
          0.350517007263257,
          0.49273892549349596,
          0.24424128814615514,
          -0.2183706656576992,
          -0.2183706656576992,
          -0.17617295365532076,
          -0.43717361678114386,
          0.5693199583867017,
          0.20673221081070742,
          -0.9748037252558938,
          0.3880260845987043,
          0.2911276348154647,
          0.24424128814615514,
          0.32551095570629157,
          0.350517007263257,
          0.3880260845987043,
          0.40834350148873866,
          0.2911276348154647,
          0.2911276348154647,
          -1.1404688168207875,
          0.40834350148873866,
          0.2911276348154647,
          0.10983376102746781,
          -0.4684311812273502,
          -1.0498218799267889,
          -0.402790295890317,
          0.20673221081070742,
          -0.2980774549955256,
          0.350517007263257,
          -0.17617295365532076,
          0.4739843868257719,
          -0.43717361678114386,
          0.6005775228329081,
          -0.9748037252558938,
          -0.4543652772265575,
          0.6005775228329081,
          -0.4543652772265575,
          0.350517007263257,
          0.6005775228329081,
          0.2911276348154647,
          0.15984586414139784,
          0.49273892549349596,
          0.15984586414139784,
          0.1786004028091217,
          1.0038001041889701,
          1.0038001041889701,
          1.0038001041889701,
          -0.3012032114401463,
          0.7256077806177336,
          0.7256077806177336,
          0.7256077806177336,
          0.7256077806177336,
          0.7256077806177336,
          -0.02613664431353,
          0.4255351619341521,
          -0.5293834318974527,
          0.09889361347129552,
          0.09889361347129552,
          0.9381592188519369,
          0.9381592188519369,
          -0.202741883434596,
          0.023875458800400255,
          0.47242150860346166,
          0.8865842375156961,
          -0.13553811987525233,
          0.6521525041691484,
          0.6521525041691484,
          0.6521525041691484,
          0.6521525041691484,
          0.9194046801842128,
          -0.10428055542904595,
          -0.10428055542904595,
          -0.10428055542904595,
          -0.10428055542904595,
          -0.10428055542904595,
          -0.16679568432145872,
          1.0866326499714172,
          -0.3449638016648352,
          1.0866326499714172,
          -0.3340236541086629,
          -0.3340236541086629,
          0.5771343494982533,
          -0.27463428166087084,
          -0.27463428166087084,
          -0.26213125588238834,
          -0.26213125588238834,
          -0.4184190781134202,
          -0.4184190781134202,
          -0.4184190781134202,
          -0.07927450387208093,
          -0.07927450387208093,
          -0.07927450387208093,
          -0.07927450387208093,
          0.07076180546970982,
          0.07076180546970982,
          0.37239730237560115,
          -0.22931081321387148,
          -0.22931081321387148,
          0.12702542147288123,
          0.12702542147288123,
          0.12702542147288123,
          0.12702542147288123,
          0.12702542147288123,
          0.40678062326642844,
          -0.8997855705849984,
          -0.1339752416529421,
          -0.1339752416529421,
          -0.1339752416529421,
          -0.1339752416529421,
          -0.1339752416529421,
          -0.1339752416529421,
          0.21142084547763854,
          0.21142084547763854,
          -0.36215546211024857,
          -0.03863967009201251,
          -0.03863967009201251,
          -0.03863967009201251,
          -0.03863967009201251,
          -0.03863967009201251,
          -0.03863967009201251,
          0.012935311244227976,
          0.30050490414932657,
          0.30050490414932657,
          0.30050490414932657,
          0.30050490414932657,
          -0.18555022298918258,
          -0.18555022298918258,
          -0.18555022298918258,
          -0.18555022298918258,
          -0.18555022298918258,
          -0.18555022298918258,
          -0.18555022298918258,
          -0.18555022298918258,
          -0.18555022298918258,
          -0.18555022298918258,
          0.17391176814219078,
          0.17391176814219078,
          0.17391176814219078,
          0.17391176814219078,
          0.17391176814219078,
          -0.8700908843611023,
          0.012935311244227976,
          0.012935311244227976,
          0.012935311244227976,
          0.3348882250401538,
          0.3348882250401538,
          -0.25900549943776763,
          0.3552056419301877,
          1.4429688846581696,
          1.7430415033417512,
          -0.25900549943776763,
          1.502358257105962,
          -0.1496040238760453,
          1.3007469664279308,
          1.669586226893166,
          1.1006985539722103,
          -0.22149642210231987,
          1.8149339015680257,
          1.8149339015680257,
          -0.3058918461070772,
          -0.22149642210231987,
          1.1006985539722103,
          -0.9591749430327905,
          -0.9591749430327905,
          -0.354341070998697,
          1.3007469664279308,
          -0.40747893055724793,
          -0.22931081321387148,
          -0.2933888203285947,
          1.8790119086827488,
          1.9415270375751617,
          1.7430415033417512,
          0.831883499734835,
          1.4429688846581696,
          1.1006985539722103,
          1.669586226893166,
          -0.25900549943776763,
          1.8790119086827488,
          1.502358257105962,
          1.7430415033417512,
          1.1006985539722103,
          1.0491235726359696,
          1.7430415033417512,
          1.9415270375751617,
          -0.40904180877955815,
          1.502358257105962,
          1.8790119086827488,
          -0.3058918461070772,
          1.502358257105962,
          1.4429688846581696,
          1.1006985539722103,
          1.669586226893166,
          0.767805492620112,
          1.2585492544255523,
          1.8790119086827488,
          1.8790119086827488,
          1.8790119086827488,
          -0.7778810692447935,
          -0.11053206831828732,
          -0.39966453944569635,
          -0.1496040238760453,
          -0.10896919009597687,
          0.055133023246606634,
          0.30363066059394744,
          0.30363066059394744,
          0.47554726504808253,
          0.47554726504808253,
          0.47554726504808253,
          0.47554726504808253,
          0.47554726504808253,
          0.7365479281739057,
          0.8303206215125248,
          1.0100516170782115,
          0.4458525788241864,
          0.4458525788241864,
          0.8756440899595241,
          0.8756440899595241,
          0.5490025414966674
         ],
         "y0": " ",
         "yaxis": "y"
        }
       ],
       "layout": {
        "boxmode": "group",
        "legend": {
         "tracegroupgap": 0
        },
        "margin": {
         "t": 60
        },
        "template": {
         "data": {
          "bar": [
           {
            "error_x": {
             "color": "#2a3f5f"
            },
            "error_y": {
             "color": "#2a3f5f"
            },
            "marker": {
             "line": {
              "color": "#E5ECF6",
              "width": 0.5
             },
             "pattern": {
              "fillmode": "overlay",
              "size": 10,
              "solidity": 0.2
             }
            },
            "type": "bar"
           }
          ],
          "barpolar": [
           {
            "marker": {
             "line": {
              "color": "#E5ECF6",
              "width": 0.5
             },
             "pattern": {
              "fillmode": "overlay",
              "size": 10,
              "solidity": 0.2
             }
            },
            "type": "barpolar"
           }
          ],
          "carpet": [
           {
            "aaxis": {
             "endlinecolor": "#2a3f5f",
             "gridcolor": "white",
             "linecolor": "white",
             "minorgridcolor": "white",
             "startlinecolor": "#2a3f5f"
            },
            "baxis": {
             "endlinecolor": "#2a3f5f",
             "gridcolor": "white",
             "linecolor": "white",
             "minorgridcolor": "white",
             "startlinecolor": "#2a3f5f"
            },
            "type": "carpet"
           }
          ],
          "choropleth": [
           {
            "colorbar": {
             "outlinewidth": 0,
             "ticks": ""
            },
            "type": "choropleth"
           }
          ],
          "contour": [
           {
            "colorbar": {
             "outlinewidth": 0,
             "ticks": ""
            },
            "colorscale": [
             [
              0,
              "#0d0887"
             ],
             [
              0.1111111111111111,
              "#46039f"
             ],
             [
              0.2222222222222222,
              "#7201a8"
             ],
             [
              0.3333333333333333,
              "#9c179e"
             ],
             [
              0.4444444444444444,
              "#bd3786"
             ],
             [
              0.5555555555555556,
              "#d8576b"
             ],
             [
              0.6666666666666666,
              "#ed7953"
             ],
             [
              0.7777777777777778,
              "#fb9f3a"
             ],
             [
              0.8888888888888888,
              "#fdca26"
             ],
             [
              1,
              "#f0f921"
             ]
            ],
            "type": "contour"
           }
          ],
          "contourcarpet": [
           {
            "colorbar": {
             "outlinewidth": 0,
             "ticks": ""
            },
            "type": "contourcarpet"
           }
          ],
          "heatmap": [
           {
            "colorbar": {
             "outlinewidth": 0,
             "ticks": ""
            },
            "colorscale": [
             [
              0,
              "#0d0887"
             ],
             [
              0.1111111111111111,
              "#46039f"
             ],
             [
              0.2222222222222222,
              "#7201a8"
             ],
             [
              0.3333333333333333,
              "#9c179e"
             ],
             [
              0.4444444444444444,
              "#bd3786"
             ],
             [
              0.5555555555555556,
              "#d8576b"
             ],
             [
              0.6666666666666666,
              "#ed7953"
             ],
             [
              0.7777777777777778,
              "#fb9f3a"
             ],
             [
              0.8888888888888888,
              "#fdca26"
             ],
             [
              1,
              "#f0f921"
             ]
            ],
            "type": "heatmap"
           }
          ],
          "heatmapgl": [
           {
            "colorbar": {
             "outlinewidth": 0,
             "ticks": ""
            },
            "colorscale": [
             [
              0,
              "#0d0887"
             ],
             [
              0.1111111111111111,
              "#46039f"
             ],
             [
              0.2222222222222222,
              "#7201a8"
             ],
             [
              0.3333333333333333,
              "#9c179e"
             ],
             [
              0.4444444444444444,
              "#bd3786"
             ],
             [
              0.5555555555555556,
              "#d8576b"
             ],
             [
              0.6666666666666666,
              "#ed7953"
             ],
             [
              0.7777777777777778,
              "#fb9f3a"
             ],
             [
              0.8888888888888888,
              "#fdca26"
             ],
             [
              1,
              "#f0f921"
             ]
            ],
            "type": "heatmapgl"
           }
          ],
          "histogram": [
           {
            "marker": {
             "pattern": {
              "fillmode": "overlay",
              "size": 10,
              "solidity": 0.2
             }
            },
            "type": "histogram"
           }
          ],
          "histogram2d": [
           {
            "colorbar": {
             "outlinewidth": 0,
             "ticks": ""
            },
            "colorscale": [
             [
              0,
              "#0d0887"
             ],
             [
              0.1111111111111111,
              "#46039f"
             ],
             [
              0.2222222222222222,
              "#7201a8"
             ],
             [
              0.3333333333333333,
              "#9c179e"
             ],
             [
              0.4444444444444444,
              "#bd3786"
             ],
             [
              0.5555555555555556,
              "#d8576b"
             ],
             [
              0.6666666666666666,
              "#ed7953"
             ],
             [
              0.7777777777777778,
              "#fb9f3a"
             ],
             [
              0.8888888888888888,
              "#fdca26"
             ],
             [
              1,
              "#f0f921"
             ]
            ],
            "type": "histogram2d"
           }
          ],
          "histogram2dcontour": [
           {
            "colorbar": {
             "outlinewidth": 0,
             "ticks": ""
            },
            "colorscale": [
             [
              0,
              "#0d0887"
             ],
             [
              0.1111111111111111,
              "#46039f"
             ],
             [
              0.2222222222222222,
              "#7201a8"
             ],
             [
              0.3333333333333333,
              "#9c179e"
             ],
             [
              0.4444444444444444,
              "#bd3786"
             ],
             [
              0.5555555555555556,
              "#d8576b"
             ],
             [
              0.6666666666666666,
              "#ed7953"
             ],
             [
              0.7777777777777778,
              "#fb9f3a"
             ],
             [
              0.8888888888888888,
              "#fdca26"
             ],
             [
              1,
              "#f0f921"
             ]
            ],
            "type": "histogram2dcontour"
           }
          ],
          "mesh3d": [
           {
            "colorbar": {
             "outlinewidth": 0,
             "ticks": ""
            },
            "type": "mesh3d"
           }
          ],
          "parcoords": [
           {
            "line": {
             "colorbar": {
              "outlinewidth": 0,
              "ticks": ""
             }
            },
            "type": "parcoords"
           }
          ],
          "pie": [
           {
            "automargin": true,
            "type": "pie"
           }
          ],
          "scatter": [
           {
            "marker": {
             "colorbar": {
              "outlinewidth": 0,
              "ticks": ""
             }
            },
            "type": "scatter"
           }
          ],
          "scatter3d": [
           {
            "line": {
             "colorbar": {
              "outlinewidth": 0,
              "ticks": ""
             }
            },
            "marker": {
             "colorbar": {
              "outlinewidth": 0,
              "ticks": ""
             }
            },
            "type": "scatter3d"
           }
          ],
          "scattercarpet": [
           {
            "marker": {
             "colorbar": {
              "outlinewidth": 0,
              "ticks": ""
             }
            },
            "type": "scattercarpet"
           }
          ],
          "scattergeo": [
           {
            "marker": {
             "colorbar": {
              "outlinewidth": 0,
              "ticks": ""
             }
            },
            "type": "scattergeo"
           }
          ],
          "scattergl": [
           {
            "marker": {
             "colorbar": {
              "outlinewidth": 0,
              "ticks": ""
             }
            },
            "type": "scattergl"
           }
          ],
          "scattermapbox": [
           {
            "marker": {
             "colorbar": {
              "outlinewidth": 0,
              "ticks": ""
             }
            },
            "type": "scattermapbox"
           }
          ],
          "scatterpolar": [
           {
            "marker": {
             "colorbar": {
              "outlinewidth": 0,
              "ticks": ""
             }
            },
            "type": "scatterpolar"
           }
          ],
          "scatterpolargl": [
           {
            "marker": {
             "colorbar": {
              "outlinewidth": 0,
              "ticks": ""
             }
            },
            "type": "scatterpolargl"
           }
          ],
          "scatterternary": [
           {
            "marker": {
             "colorbar": {
              "outlinewidth": 0,
              "ticks": ""
             }
            },
            "type": "scatterternary"
           }
          ],
          "surface": [
           {
            "colorbar": {
             "outlinewidth": 0,
             "ticks": ""
            },
            "colorscale": [
             [
              0,
              "#0d0887"
             ],
             [
              0.1111111111111111,
              "#46039f"
             ],
             [
              0.2222222222222222,
              "#7201a8"
             ],
             [
              0.3333333333333333,
              "#9c179e"
             ],
             [
              0.4444444444444444,
              "#bd3786"
             ],
             [
              0.5555555555555556,
              "#d8576b"
             ],
             [
              0.6666666666666666,
              "#ed7953"
             ],
             [
              0.7777777777777778,
              "#fb9f3a"
             ],
             [
              0.8888888888888888,
              "#fdca26"
             ],
             [
              1,
              "#f0f921"
             ]
            ],
            "type": "surface"
           }
          ],
          "table": [
           {
            "cells": {
             "fill": {
              "color": "#EBF0F8"
             },
             "line": {
              "color": "white"
             }
            },
            "header": {
             "fill": {
              "color": "#C8D4E3"
             },
             "line": {
              "color": "white"
             }
            },
            "type": "table"
           }
          ]
         },
         "layout": {
          "annotationdefaults": {
           "arrowcolor": "#2a3f5f",
           "arrowhead": 0,
           "arrowwidth": 1
          },
          "autotypenumbers": "strict",
          "coloraxis": {
           "colorbar": {
            "outlinewidth": 0,
            "ticks": ""
           }
          },
          "colorscale": {
           "diverging": [
            [
             0,
             "#8e0152"
            ],
            [
             0.1,
             "#c51b7d"
            ],
            [
             0.2,
             "#de77ae"
            ],
            [
             0.3,
             "#f1b6da"
            ],
            [
             0.4,
             "#fde0ef"
            ],
            [
             0.5,
             "#f7f7f7"
            ],
            [
             0.6,
             "#e6f5d0"
            ],
            [
             0.7,
             "#b8e186"
            ],
            [
             0.8,
             "#7fbc41"
            ],
            [
             0.9,
             "#4d9221"
            ],
            [
             1,
             "#276419"
            ]
           ],
           "sequential": [
            [
             0,
             "#0d0887"
            ],
            [
             0.1111111111111111,
             "#46039f"
            ],
            [
             0.2222222222222222,
             "#7201a8"
            ],
            [
             0.3333333333333333,
             "#9c179e"
            ],
            [
             0.4444444444444444,
             "#bd3786"
            ],
            [
             0.5555555555555556,
             "#d8576b"
            ],
            [
             0.6666666666666666,
             "#ed7953"
            ],
            [
             0.7777777777777778,
             "#fb9f3a"
            ],
            [
             0.8888888888888888,
             "#fdca26"
            ],
            [
             1,
             "#f0f921"
            ]
           ],
           "sequentialminus": [
            [
             0,
             "#0d0887"
            ],
            [
             0.1111111111111111,
             "#46039f"
            ],
            [
             0.2222222222222222,
             "#7201a8"
            ],
            [
             0.3333333333333333,
             "#9c179e"
            ],
            [
             0.4444444444444444,
             "#bd3786"
            ],
            [
             0.5555555555555556,
             "#d8576b"
            ],
            [
             0.6666666666666666,
             "#ed7953"
            ],
            [
             0.7777777777777778,
             "#fb9f3a"
            ],
            [
             0.8888888888888888,
             "#fdca26"
            ],
            [
             1,
             "#f0f921"
            ]
           ]
          },
          "colorway": [
           "#636efa",
           "#EF553B",
           "#00cc96",
           "#ab63fa",
           "#FFA15A",
           "#19d3f3",
           "#FF6692",
           "#B6E880",
           "#FF97FF",
           "#FECB52"
          ],
          "font": {
           "color": "#2a3f5f"
          },
          "geo": {
           "bgcolor": "white",
           "lakecolor": "white",
           "landcolor": "#E5ECF6",
           "showlakes": true,
           "showland": true,
           "subunitcolor": "white"
          },
          "hoverlabel": {
           "align": "left"
          },
          "hovermode": "closest",
          "mapbox": {
           "style": "light"
          },
          "paper_bgcolor": "white",
          "plot_bgcolor": "#E5ECF6",
          "polar": {
           "angularaxis": {
            "gridcolor": "white",
            "linecolor": "white",
            "ticks": ""
           },
           "bgcolor": "#E5ECF6",
           "radialaxis": {
            "gridcolor": "white",
            "linecolor": "white",
            "ticks": ""
           }
          },
          "scene": {
           "xaxis": {
            "backgroundcolor": "#E5ECF6",
            "gridcolor": "white",
            "gridwidth": 2,
            "linecolor": "white",
            "showbackground": true,
            "ticks": "",
            "zerolinecolor": "white"
           },
           "yaxis": {
            "backgroundcolor": "#E5ECF6",
            "gridcolor": "white",
            "gridwidth": 2,
            "linecolor": "white",
            "showbackground": true,
            "ticks": "",
            "zerolinecolor": "white"
           },
           "zaxis": {
            "backgroundcolor": "#E5ECF6",
            "gridcolor": "white",
            "gridwidth": 2,
            "linecolor": "white",
            "showbackground": true,
            "ticks": "",
            "zerolinecolor": "white"
           }
          },
          "shapedefaults": {
           "line": {
            "color": "#2a3f5f"
           }
          },
          "ternary": {
           "aaxis": {
            "gridcolor": "white",
            "linecolor": "white",
            "ticks": ""
           },
           "baxis": {
            "gridcolor": "white",
            "linecolor": "white",
            "ticks": ""
           },
           "bgcolor": "#E5ECF6",
           "caxis": {
            "gridcolor": "white",
            "linecolor": "white",
            "ticks": ""
           }
          },
          "title": {
           "x": 0.05
          },
          "xaxis": {
           "automargin": true,
           "gridcolor": "white",
           "linecolor": "white",
           "ticks": "",
           "title": {
            "standoff": 15
           },
           "zerolinecolor": "white",
           "zerolinewidth": 2
          },
          "yaxis": {
           "automargin": true,
           "gridcolor": "white",
           "linecolor": "white",
           "ticks": "",
           "title": {
            "standoff": 15
           },
           "zerolinecolor": "white",
           "zerolinewidth": 2
          }
         }
        },
        "xaxis": {
         "anchor": "y",
         "domain": [
          0,
          1
         ]
        },
        "yaxis": {
         "anchor": "x",
         "domain": [
          0,
          1
         ],
         "title": {
          "text": "DMC"
         }
        }
       }
      }
     },
     "metadata": {},
     "output_type": "display_data"
    },
    {
     "data": {
      "application/vnd.plotly.v1+json": {
       "config": {
        "plotlyServerURL": "https://plot.ly"
       },
       "data": [
        {
         "alignmentgroup": "True",
         "hovertemplate": "DC=%{y}<extra></extra>",
         "legendgroup": "",
         "marker": {
          "color": "#636efa"
         },
         "name": "",
         "notched": false,
         "offsetgroup": "",
         "orientation": "v",
         "showlegend": false,
         "type": "box",
         "x0": " ",
         "xaxis": "x",
         "y": [
          0.48889091543801605,
          0.5607154538443283,
          -0.24186323654980266,
          -0.21119657970216357,
          0.5837154464800577,
          0.6079259650439832,
          0.6079259650439832,
          0.5591014192734,
          0.6119610514713041,
          0.6696627873819931,
          0.5837154464800577,
          0.7116276862261306,
          -0.04252996704014929,
          0.2157155643083896,
          0.48445232036796293,
          0.5591014192734,
          0.6999259355869,
          0.7289785578636108,
          0.5825049205518611,
          0.6535224416727095,
          0.6410136737480144,
          0.6874171676622051,
          0.7116276862261306,
          0.7354346961473244,
          0.48889091543801605,
          0.5433645822068485,
          0.5607154538443283,
          0.30771553485130687,
          0.4001190140369558,
          0.6079259650439832,
          0.7576276714975895,
          0.5825049205518611,
          0.5591014192734,
          -0.4238456344219762,
          0.6393996391770862,
          0.33596113984255327,
          0.4283646190282023,
          0.4283646190282023,
          0.4574172413049126,
          0.6393996391770862,
          0.7354346961473244,
          0.5804873773382007,
          0.5825049205518611,
          0.26857519650629375,
          0.6696627873819931,
          0.30771553485130687,
          -0.24186323654980266,
          0.2157155643083896,
          0.3666277966901919,
          0.6313294663224444,
          0.2157155643083896,
          0.2157155643083896,
          0.26857519650629375,
          0.4001190140369558,
          0.5102768735028168,
          0.33596113984255327,
          0.6079259650439832,
          0.6535224416727095,
          0.6313294663224444,
          0.7116276862261306,
          -0.3282140860944702,
          0.24315415201417212,
          0.24315415201417212,
          0.5356979179949388,
          0.5825049205518611,
          0.5804873773382007,
          0.7289785578636108,
          0.5078558216464241,
          0.5804873773382007,
          0.5538558069178829,
          0.5356979179949388,
          0.5591014192734,
          0.5837154464800577,
          0.5591014192734,
          -0.07319662388778837,
          -0.13977554993858354,
          0.1245226110509367,
          0.5538558069178829,
          -0.4625824641242569,
          -0.4997052592556093,
          0.5825049205518611,
          0.6999259355869,
          0.4001190140369558,
          0.6999259355869,
          0.4283646190282023,
          0.48445232036796293,
          0.1245226110509367,
          0.5102768735028168,
          0.6313294663224444,
          0.4283646190282023,
          0.09103139370417325,
          0.1245226110509367,
          0.6119610514713041,
          0.2157155643083896,
          0.5591014192734,
          0.30771553485130687,
          0.30771553485130687,
          0.33596113984255327,
          0.7576276714975895,
          0.26857519650629375,
          0.5356979179949388,
          0.5978382489756809,
          0.15639979382677235,
          0.5837154464800577,
          0.5591014192734,
          0.1245226110509367,
          0.6119610514713041,
          0.15639979382677235,
          0.6393996391770862,
          0.5837154464800577,
          0.5837154464800577,
          0.5078558216464241,
          0.6393996391770862,
          0.5837154464800577,
          0.48445232036796293,
          0.5538558069178829,
          0.5607154538443283,
          0.5825049205518611,
          0.5356979179949388,
          0.6535224416727095,
          0.6119610514713041,
          0.33596113984255327,
          0.6696627873819931,
          0.7576276714975895,
          0.7289785578636108,
          0.5978382489756809,
          -0.2709158588265132,
          0.7289785578636108,
          -0.2709158588265132,
          0.6119610514713041,
          0.7289785578636108,
          0.5837154464800577,
          0.5102768735028168,
          0.2157155643083896,
          0.5102768735028168,
          0.16931207039419902,
          0.6163996465413573,
          0.6163996465413573,
          0.6163996465413573,
          -0.1789158882835962,
          0.47920670801244597,
          0.47920670801244597,
          0.47920670801244597,
          0.47920670801244597,
          0.47920670801244597,
          0.07085596156756865,
          0.29762781878300454,
          0.5925926366201635,
          0.13380330983377509,
          0.13380330983377509,
          0.5825049205518611,
          0.5825049205518611,
          -0.023968569474472966,
          0.10111910977247555,
          0.3274874583451793,
          0.5506277377760259,
          0.009522647872290489,
          0.4449084733802181,
          0.4449084733802181,
          0.4449084733802181,
          0.4449084733802181,
          -0.5493368223116567,
          -0.2947228687477068,
          -0.2947228687477068,
          -0.2947228687477068,
          -0.2947228687477068,
          -0.2947228687477068,
          -0.32942461202266654,
          -0.47267018019255924,
          -0.43191580727661805,
          -0.47267018019255924,
          -1.037582280017488,
          -1.037582280017488,
          -0.6889508126969607,
          -1.0081261490980453,
          -1.0081261490980453,
          -1.274441853301226,
          -1.274441853301226,
          0.6712768219529214,
          0.6712768219529214,
          0.6712768219529214,
          0.848013607469578,
          0.848013607469578,
          0.848013607469578,
          0.848013607469578,
          0.9246802495886755,
          0.9246802495886755,
          1.0876977412524405,
          0.7725574912786766,
          0.7725574912786766,
          0.9505048027235292,
          0.9505048027235292,
          0.9505048027235292,
          0.9505048027235292,
          0.9505048027235292,
          1.1090836993172413,
          0.7221189109371651,
          0.8213820370492598,
          0.8213820370492598,
          0.8213820370492598,
          0.8213820370492598,
          0.8213820370492598,
          0.8213820370492598,
          0.9981188225659159,
          0.9981188225659159,
          0.6987154096587039,
          0.8718206173907713,
          0.8718206173907713,
          0.8718206173907713,
          0.8718206173907713,
          0.8718206173907713,
          0.8718206173907713,
          0.8972416618828929,
          1.045732842408303,
          1.045732842408303,
          1.045732842408303,
          1.045732842408303,
          0.7963645011998699,
          0.7963645011998699,
          0.7963645011998699,
          0.7963645011998699,
          0.7963645011998699,
          0.7963645011998699,
          0.7963645011998699,
          0.7963645011998699,
          0.7963645011998699,
          0.7963645011998699,
          0.9755223385729191,
          0.9755223385729191,
          0.9755223385729191,
          0.9755223385729191,
          0.9755223385729191,
          0.743908377644698,
          0.8972416618828929,
          0.8972416618828929,
          0.8972416618828929,
          1.0659082745449076,
          1.0659082745449076,
          0.7927329234152811,
          -0.11072292766187275,
          0.47032951787233973,
          0.6079259650439832,
          0.7927329234152811,
          0.5030137179336392,
          -0.3596877602275735,
          0.38357515968493994,
          0.5732242217690232,
          0.26252256686531233,
          0.8173469506219389,
          0.6406101651052828,
          0.6406101651052828,
          0.7673118789231596,
          0.8173469506219389,
          0.26252256686531233,
          -1.0097401836689737,
          -1.0097401836689737,
          0.7414873257883058,
          0.38357515968493994,
          0.7148557553679876,
          -0.3943895035025335,
          -0.4270737035638328,
          0.6745048910947784,
          0.7067855825133458,
          0.6079259650439832,
          0.11241735176897395,
          0.47032951787233973,
          0.26252256686531233,
          0.5732242217690232,
          0.7927329234152811,
          0.6745048910947784,
          0.5030137179336392,
          0.6079259650439832,
          0.26252256686531233,
          0.23145240137494108,
          0.6079259650439832,
          0.7067855825133458,
          -0.6913718645533531,
          0.5030137179336392,
          0.6745048910947784,
          0.7673118789231596,
          0.5030137179336392,
          0.47032951787233973,
          0.26252256686531233,
          0.5732242217690232,
          0.0777156084940144,
          0.35492604605096134,
          0.6745048910947784,
          0.6745048910947784,
          0.6745048910947784,
          -1.1917225815411472,
          -0.9330735415498763,
          -0.6171262742906483,
          -0.5025298197547342,
          -0.46944211105070244,
          0.0486629862173036,
          0.15801382839770062,
          0.15801382839770062,
          0.23346994458860154,
          0.23346994458860154,
          0.23346994458860154,
          0.23346994458860154,
          0.23346994458860154,
          0.3456453472681234,
          0.38357515968493994,
          0.45943478451857306,
          0.5695926439844344,
          0.5695926439844344,
          0.8258206321193129,
          0.8258206321193129,
          0.2693822137917581
         ],
         "y0": " ",
         "yaxis": "y"
        }
       ],
       "layout": {
        "boxmode": "group",
        "legend": {
         "tracegroupgap": 0
        },
        "margin": {
         "t": 60
        },
        "template": {
         "data": {
          "bar": [
           {
            "error_x": {
             "color": "#2a3f5f"
            },
            "error_y": {
             "color": "#2a3f5f"
            },
            "marker": {
             "line": {
              "color": "#E5ECF6",
              "width": 0.5
             },
             "pattern": {
              "fillmode": "overlay",
              "size": 10,
              "solidity": 0.2
             }
            },
            "type": "bar"
           }
          ],
          "barpolar": [
           {
            "marker": {
             "line": {
              "color": "#E5ECF6",
              "width": 0.5
             },
             "pattern": {
              "fillmode": "overlay",
              "size": 10,
              "solidity": 0.2
             }
            },
            "type": "barpolar"
           }
          ],
          "carpet": [
           {
            "aaxis": {
             "endlinecolor": "#2a3f5f",
             "gridcolor": "white",
             "linecolor": "white",
             "minorgridcolor": "white",
             "startlinecolor": "#2a3f5f"
            },
            "baxis": {
             "endlinecolor": "#2a3f5f",
             "gridcolor": "white",
             "linecolor": "white",
             "minorgridcolor": "white",
             "startlinecolor": "#2a3f5f"
            },
            "type": "carpet"
           }
          ],
          "choropleth": [
           {
            "colorbar": {
             "outlinewidth": 0,
             "ticks": ""
            },
            "type": "choropleth"
           }
          ],
          "contour": [
           {
            "colorbar": {
             "outlinewidth": 0,
             "ticks": ""
            },
            "colorscale": [
             [
              0,
              "#0d0887"
             ],
             [
              0.1111111111111111,
              "#46039f"
             ],
             [
              0.2222222222222222,
              "#7201a8"
             ],
             [
              0.3333333333333333,
              "#9c179e"
             ],
             [
              0.4444444444444444,
              "#bd3786"
             ],
             [
              0.5555555555555556,
              "#d8576b"
             ],
             [
              0.6666666666666666,
              "#ed7953"
             ],
             [
              0.7777777777777778,
              "#fb9f3a"
             ],
             [
              0.8888888888888888,
              "#fdca26"
             ],
             [
              1,
              "#f0f921"
             ]
            ],
            "type": "contour"
           }
          ],
          "contourcarpet": [
           {
            "colorbar": {
             "outlinewidth": 0,
             "ticks": ""
            },
            "type": "contourcarpet"
           }
          ],
          "heatmap": [
           {
            "colorbar": {
             "outlinewidth": 0,
             "ticks": ""
            },
            "colorscale": [
             [
              0,
              "#0d0887"
             ],
             [
              0.1111111111111111,
              "#46039f"
             ],
             [
              0.2222222222222222,
              "#7201a8"
             ],
             [
              0.3333333333333333,
              "#9c179e"
             ],
             [
              0.4444444444444444,
              "#bd3786"
             ],
             [
              0.5555555555555556,
              "#d8576b"
             ],
             [
              0.6666666666666666,
              "#ed7953"
             ],
             [
              0.7777777777777778,
              "#fb9f3a"
             ],
             [
              0.8888888888888888,
              "#fdca26"
             ],
             [
              1,
              "#f0f921"
             ]
            ],
            "type": "heatmap"
           }
          ],
          "heatmapgl": [
           {
            "colorbar": {
             "outlinewidth": 0,
             "ticks": ""
            },
            "colorscale": [
             [
              0,
              "#0d0887"
             ],
             [
              0.1111111111111111,
              "#46039f"
             ],
             [
              0.2222222222222222,
              "#7201a8"
             ],
             [
              0.3333333333333333,
              "#9c179e"
             ],
             [
              0.4444444444444444,
              "#bd3786"
             ],
             [
              0.5555555555555556,
              "#d8576b"
             ],
             [
              0.6666666666666666,
              "#ed7953"
             ],
             [
              0.7777777777777778,
              "#fb9f3a"
             ],
             [
              0.8888888888888888,
              "#fdca26"
             ],
             [
              1,
              "#f0f921"
             ]
            ],
            "type": "heatmapgl"
           }
          ],
          "histogram": [
           {
            "marker": {
             "pattern": {
              "fillmode": "overlay",
              "size": 10,
              "solidity": 0.2
             }
            },
            "type": "histogram"
           }
          ],
          "histogram2d": [
           {
            "colorbar": {
             "outlinewidth": 0,
             "ticks": ""
            },
            "colorscale": [
             [
              0,
              "#0d0887"
             ],
             [
              0.1111111111111111,
              "#46039f"
             ],
             [
              0.2222222222222222,
              "#7201a8"
             ],
             [
              0.3333333333333333,
              "#9c179e"
             ],
             [
              0.4444444444444444,
              "#bd3786"
             ],
             [
              0.5555555555555556,
              "#d8576b"
             ],
             [
              0.6666666666666666,
              "#ed7953"
             ],
             [
              0.7777777777777778,
              "#fb9f3a"
             ],
             [
              0.8888888888888888,
              "#fdca26"
             ],
             [
              1,
              "#f0f921"
             ]
            ],
            "type": "histogram2d"
           }
          ],
          "histogram2dcontour": [
           {
            "colorbar": {
             "outlinewidth": 0,
             "ticks": ""
            },
            "colorscale": [
             [
              0,
              "#0d0887"
             ],
             [
              0.1111111111111111,
              "#46039f"
             ],
             [
              0.2222222222222222,
              "#7201a8"
             ],
             [
              0.3333333333333333,
              "#9c179e"
             ],
             [
              0.4444444444444444,
              "#bd3786"
             ],
             [
              0.5555555555555556,
              "#d8576b"
             ],
             [
              0.6666666666666666,
              "#ed7953"
             ],
             [
              0.7777777777777778,
              "#fb9f3a"
             ],
             [
              0.8888888888888888,
              "#fdca26"
             ],
             [
              1,
              "#f0f921"
             ]
            ],
            "type": "histogram2dcontour"
           }
          ],
          "mesh3d": [
           {
            "colorbar": {
             "outlinewidth": 0,
             "ticks": ""
            },
            "type": "mesh3d"
           }
          ],
          "parcoords": [
           {
            "line": {
             "colorbar": {
              "outlinewidth": 0,
              "ticks": ""
             }
            },
            "type": "parcoords"
           }
          ],
          "pie": [
           {
            "automargin": true,
            "type": "pie"
           }
          ],
          "scatter": [
           {
            "marker": {
             "colorbar": {
              "outlinewidth": 0,
              "ticks": ""
             }
            },
            "type": "scatter"
           }
          ],
          "scatter3d": [
           {
            "line": {
             "colorbar": {
              "outlinewidth": 0,
              "ticks": ""
             }
            },
            "marker": {
             "colorbar": {
              "outlinewidth": 0,
              "ticks": ""
             }
            },
            "type": "scatter3d"
           }
          ],
          "scattercarpet": [
           {
            "marker": {
             "colorbar": {
              "outlinewidth": 0,
              "ticks": ""
             }
            },
            "type": "scattercarpet"
           }
          ],
          "scattergeo": [
           {
            "marker": {
             "colorbar": {
              "outlinewidth": 0,
              "ticks": ""
             }
            },
            "type": "scattergeo"
           }
          ],
          "scattergl": [
           {
            "marker": {
             "colorbar": {
              "outlinewidth": 0,
              "ticks": ""
             }
            },
            "type": "scattergl"
           }
          ],
          "scattermapbox": [
           {
            "marker": {
             "colorbar": {
              "outlinewidth": 0,
              "ticks": ""
             }
            },
            "type": "scattermapbox"
           }
          ],
          "scatterpolar": [
           {
            "marker": {
             "colorbar": {
              "outlinewidth": 0,
              "ticks": ""
             }
            },
            "type": "scatterpolar"
           }
          ],
          "scatterpolargl": [
           {
            "marker": {
             "colorbar": {
              "outlinewidth": 0,
              "ticks": ""
             }
            },
            "type": "scatterpolargl"
           }
          ],
          "scatterternary": [
           {
            "marker": {
             "colorbar": {
              "outlinewidth": 0,
              "ticks": ""
             }
            },
            "type": "scatterternary"
           }
          ],
          "surface": [
           {
            "colorbar": {
             "outlinewidth": 0,
             "ticks": ""
            },
            "colorscale": [
             [
              0,
              "#0d0887"
             ],
             [
              0.1111111111111111,
              "#46039f"
             ],
             [
              0.2222222222222222,
              "#7201a8"
             ],
             [
              0.3333333333333333,
              "#9c179e"
             ],
             [
              0.4444444444444444,
              "#bd3786"
             ],
             [
              0.5555555555555556,
              "#d8576b"
             ],
             [
              0.6666666666666666,
              "#ed7953"
             ],
             [
              0.7777777777777778,
              "#fb9f3a"
             ],
             [
              0.8888888888888888,
              "#fdca26"
             ],
             [
              1,
              "#f0f921"
             ]
            ],
            "type": "surface"
           }
          ],
          "table": [
           {
            "cells": {
             "fill": {
              "color": "#EBF0F8"
             },
             "line": {
              "color": "white"
             }
            },
            "header": {
             "fill": {
              "color": "#C8D4E3"
             },
             "line": {
              "color": "white"
             }
            },
            "type": "table"
           }
          ]
         },
         "layout": {
          "annotationdefaults": {
           "arrowcolor": "#2a3f5f",
           "arrowhead": 0,
           "arrowwidth": 1
          },
          "autotypenumbers": "strict",
          "coloraxis": {
           "colorbar": {
            "outlinewidth": 0,
            "ticks": ""
           }
          },
          "colorscale": {
           "diverging": [
            [
             0,
             "#8e0152"
            ],
            [
             0.1,
             "#c51b7d"
            ],
            [
             0.2,
             "#de77ae"
            ],
            [
             0.3,
             "#f1b6da"
            ],
            [
             0.4,
             "#fde0ef"
            ],
            [
             0.5,
             "#f7f7f7"
            ],
            [
             0.6,
             "#e6f5d0"
            ],
            [
             0.7,
             "#b8e186"
            ],
            [
             0.8,
             "#7fbc41"
            ],
            [
             0.9,
             "#4d9221"
            ],
            [
             1,
             "#276419"
            ]
           ],
           "sequential": [
            [
             0,
             "#0d0887"
            ],
            [
             0.1111111111111111,
             "#46039f"
            ],
            [
             0.2222222222222222,
             "#7201a8"
            ],
            [
             0.3333333333333333,
             "#9c179e"
            ],
            [
             0.4444444444444444,
             "#bd3786"
            ],
            [
             0.5555555555555556,
             "#d8576b"
            ],
            [
             0.6666666666666666,
             "#ed7953"
            ],
            [
             0.7777777777777778,
             "#fb9f3a"
            ],
            [
             0.8888888888888888,
             "#fdca26"
            ],
            [
             1,
             "#f0f921"
            ]
           ],
           "sequentialminus": [
            [
             0,
             "#0d0887"
            ],
            [
             0.1111111111111111,
             "#46039f"
            ],
            [
             0.2222222222222222,
             "#7201a8"
            ],
            [
             0.3333333333333333,
             "#9c179e"
            ],
            [
             0.4444444444444444,
             "#bd3786"
            ],
            [
             0.5555555555555556,
             "#d8576b"
            ],
            [
             0.6666666666666666,
             "#ed7953"
            ],
            [
             0.7777777777777778,
             "#fb9f3a"
            ],
            [
             0.8888888888888888,
             "#fdca26"
            ],
            [
             1,
             "#f0f921"
            ]
           ]
          },
          "colorway": [
           "#636efa",
           "#EF553B",
           "#00cc96",
           "#ab63fa",
           "#FFA15A",
           "#19d3f3",
           "#FF6692",
           "#B6E880",
           "#FF97FF",
           "#FECB52"
          ],
          "font": {
           "color": "#2a3f5f"
          },
          "geo": {
           "bgcolor": "white",
           "lakecolor": "white",
           "landcolor": "#E5ECF6",
           "showlakes": true,
           "showland": true,
           "subunitcolor": "white"
          },
          "hoverlabel": {
           "align": "left"
          },
          "hovermode": "closest",
          "mapbox": {
           "style": "light"
          },
          "paper_bgcolor": "white",
          "plot_bgcolor": "#E5ECF6",
          "polar": {
           "angularaxis": {
            "gridcolor": "white",
            "linecolor": "white",
            "ticks": ""
           },
           "bgcolor": "#E5ECF6",
           "radialaxis": {
            "gridcolor": "white",
            "linecolor": "white",
            "ticks": ""
           }
          },
          "scene": {
           "xaxis": {
            "backgroundcolor": "#E5ECF6",
            "gridcolor": "white",
            "gridwidth": 2,
            "linecolor": "white",
            "showbackground": true,
            "ticks": "",
            "zerolinecolor": "white"
           },
           "yaxis": {
            "backgroundcolor": "#E5ECF6",
            "gridcolor": "white",
            "gridwidth": 2,
            "linecolor": "white",
            "showbackground": true,
            "ticks": "",
            "zerolinecolor": "white"
           },
           "zaxis": {
            "backgroundcolor": "#E5ECF6",
            "gridcolor": "white",
            "gridwidth": 2,
            "linecolor": "white",
            "showbackground": true,
            "ticks": "",
            "zerolinecolor": "white"
           }
          },
          "shapedefaults": {
           "line": {
            "color": "#2a3f5f"
           }
          },
          "ternary": {
           "aaxis": {
            "gridcolor": "white",
            "linecolor": "white",
            "ticks": ""
           },
           "baxis": {
            "gridcolor": "white",
            "linecolor": "white",
            "ticks": ""
           },
           "bgcolor": "#E5ECF6",
           "caxis": {
            "gridcolor": "white",
            "linecolor": "white",
            "ticks": ""
           }
          },
          "title": {
           "x": 0.05
          },
          "xaxis": {
           "automargin": true,
           "gridcolor": "white",
           "linecolor": "white",
           "ticks": "",
           "title": {
            "standoff": 15
           },
           "zerolinecolor": "white",
           "zerolinewidth": 2
          },
          "yaxis": {
           "automargin": true,
           "gridcolor": "white",
           "linecolor": "white",
           "ticks": "",
           "title": {
            "standoff": 15
           },
           "zerolinecolor": "white",
           "zerolinewidth": 2
          }
         }
        },
        "xaxis": {
         "anchor": "y",
         "domain": [
          0,
          1
         ]
        },
        "yaxis": {
         "anchor": "x",
         "domain": [
          0,
          1
         ],
         "title": {
          "text": "DC"
         }
        }
       }
      }
     },
     "metadata": {},
     "output_type": "display_data"
    },
    {
     "data": {
      "application/vnd.plotly.v1+json": {
       "config": {
        "plotlyServerURL": "https://plot.ly"
       },
       "data": [
        {
         "alignmentgroup": "True",
         "hovertemplate": "ISI=%{y}<extra></extra>",
         "legendgroup": "",
         "marker": {
          "color": "#636efa"
         },
         "name": "",
         "notched": false,
         "offsetgroup": "",
         "orientation": "v",
         "showlegend": false,
         "type": "box",
         "x0": " ",
         "xaxis": "x",
         "y": [
          -0.5096882687663312,
          -0.5096882687663312,
          1.2465982259579427,
          -0.1145238074533696,
          -0.44382752521417096,
          -0.42187394403011763,
          -0.42187394403011763,
          -0.44382752521417096,
          0.039151260835004226,
          1.0709695764855154,
          -0.44382752521417096,
          0.039151260835004226,
          -0.6194561746865983,
          0.34650139741175223,
          0.697758696356607,
          -0.44382752521417096,
          -0.20233813218958338,
          -0.20233813218958338,
          1.510041200166584,
          -0.42187394403011763,
          -0.7072704994228122,
          -0.2681988757417436,
          0.039151260835004226,
          -0.597502593502545,
          -0.5096882687663312,
          -0.0706166450852629,
          -0.5096882687663312,
          -0.02670948271715582,
          1.7515305931911715,
          -0.42187394403011763,
          -0.6194561746865983,
          1.510041200166584,
          -0.44382752521417096,
          0.43431572214796604,
          0.039151260835004226,
          -0.597502593502545,
          0.126965585571218,
          0.126965585571218,
          -0.597502593502545,
          0.039151260835004226,
          -0.597502593502545,
          -0.04866306390120917,
          1.510041200166584,
          -0.004755901533102472,
          1.0709695764855154,
          -0.02670948271715582,
          1.2465982259579427,
          0.34650139741175223,
          -0.7072704994228122,
          -0.9268063112633463,
          0.34650139741175223,
          0.34650139741175223,
          -0.004755901533102472,
          1.7515305931911715,
          -0.09257022626931626,
          -0.597502593502545,
          -0.42187394403011763,
          -0.42187394403011763,
          -0.9268063112633463,
          0.039151260835004226,
          -0.29015245692579694,
          0.3684549785958056,
          0.3684549785958056,
          -0.1145238074533696,
          1.510041200166584,
          -0.04866306390120917,
          -0.20233813218958338,
          -0.8389919865271326,
          -0.04866306390120917,
          1.949112823847652,
          -0.1145238074533696,
          -0.44382752521417096,
          -0.44382752521417096,
          -0.44382752521417096,
          0.7636194399087675,
          0.9172945081971412,
          0.3025942350436456,
          1.949112823847652,
          -0.42187394403011763,
          -0.6194561746865983,
          1.510041200166584,
          -0.20233813218958338,
          1.7515305931911715,
          -0.20233813218958338,
          0.126965585571218,
          0.697758696356607,
          0.3025942350436456,
          -0.09257022626931626,
          -0.9268063112633463,
          0.126965585571218,
          1.6417626872709044,
          0.3025942350436456,
          0.039151260835004226,
          0.34650139741175223,
          -0.44382752521417096,
          -0.02670948271715582,
          -0.02670948271715582,
          -0.597502593502545,
          -0.6194561746865983,
          -0.004755901533102472,
          -0.1145238074533696,
          0.45626930333201937,
          1.3344125506941564,
          -0.44382752521417096,
          -0.44382752521417096,
          0.3025942350436456,
          0.039151260835004226,
          1.3344125506941564,
          0.039151260835004226,
          -0.44382752521417096,
          -0.44382752521417096,
          -0.8389919865271326,
          0.039151260835004226,
          -0.44382752521417096,
          0.697758696356607,
          1.949112823847652,
          -0.5096882687663312,
          1.510041200166584,
          -0.1145238074533696,
          -0.42187394403011763,
          0.039151260835004226,
          -0.597502593502545,
          1.0709695764855154,
          -0.6194561746865983,
          -0.20233813218958338,
          0.45626930333201937,
          0.6318979528044469,
          -0.20233813218958338,
          0.6318979528044469,
          0.039151260835004226,
          -0.20233813218958338,
          -0.44382752521417096,
          -0.09257022626931626,
          0.34650139741175223,
          -0.09257022626931626,
          0.8514337646449812,
          1.0490159953014622,
          1.0490159953014622,
          1.0490159953014622,
          0.126965585571218,
          0.9831552517493016,
          0.9831552517493016,
          0.9831552517493016,
          0.9831552517493016,
          0.9831552517493016,
          -0.22429171337363674,
          -0.597502593502545,
          -0.8828991488952395,
          0.43431572214796604,
          0.43431572214796604,
          1.0270624141174083,
          1.0270624141174083,
          1.1807374824057826,
          -0.02670948271715582,
          -0.42187394403011763,
          0.8733873458290345,
          1.2246446447738892,
          1.1587839012217291,
          1.1587839012217291,
          1.1587839012217291,
          1.1587839012217291,
          0.7197122775406607,
          -0.004755901533102472,
          -0.004755901533102472,
          -0.004755901533102472,
          -0.004755901533102472,
          -0.004755901533102472,
          -0.597502593502545,
          0.43431572214796604,
          -0.1145238074533696,
          0.43431572214796604,
          -0.5755490123184914,
          -0.5755490123184914,
          0.8075266022768741,
          -0.3340596192939039,
          -0.3340596192939039,
          -0.42187394403011763,
          -0.42187394403011763,
          -0.7292240806068655,
          -0.7292240806068655,
          -0.7292240806068655,
          0.19282632912337844,
          0.19282632912337844,
          0.19282632912337844,
          0.19282632912337844,
          -0.04866306390120917,
          -0.04866306390120917,
          -0.3999203628460641,
          -0.09257022626931626,
          -0.09257022626931626,
          -0.3340596192939039,
          -0.3340596192939039,
          -0.3340596192939039,
          -0.3340596192939039,
          -0.3340596192939039,
          -0.4877346875822779,
          -0.7950848241590257,
          -0.13647738863742295,
          -0.13647738863742295,
          -0.13647738863742295,
          -0.13647738863742295,
          -0.13647738863742295,
          -0.13647738863742295,
          -0.1145238074533696,
          -0.1145238074533696,
          0.10501200438716465,
          -0.6194561746865983,
          -0.6194561746865983,
          -0.6194561746865983,
          -0.6194561746865983,
          -0.6194561746865983,
          -0.6194561746865983,
          -0.5535954311344381,
          -0.3340596192939039,
          -0.3340596192939039,
          -0.3340596192939039,
          -0.3340596192939039,
          0.126965585571218,
          0.126965585571218,
          0.126965585571218,
          0.126965585571218,
          0.126965585571218,
          0.126965585571218,
          0.126965585571218,
          0.126965585571218,
          0.126965585571218,
          0.126965585571218,
          0.2586870726755385,
          0.2586870726755385,
          0.2586870726755385,
          0.2586870726755385,
          0.2586870726755385,
          0.5660372092522865,
          -0.5535954311344381,
          -0.5535954311344381,
          -0.5535954311344381,
          0.7636194399087675,
          0.7636194399087675,
          -0.13647738863742295,
          -0.22429171337363674,
          -0.20233813218958338,
          1.0709695764855154,
          -0.13647738863742295,
          -0.18038455100553002,
          0.6318979528044469,
          -0.4877346875822779,
          1.9710664050317057,
          -0.3121060381098505,
          0.5221300468841799,
          0.6538515339885003,
          0.6538515339885003,
          -0.3999203628460641,
          0.5221300468841799,
          -0.3121060381098505,
          1.0929231576695688,
          1.0929231576695688,
          -0.15843096982147628,
          -0.4877346875822779,
          -1.168295704287934,
          0.6758051151725536,
          0.17087274793932508,
          -0.13647738863742295,
          0.23673349149148512,
          1.0709695764855154,
          -0.02670948271715582,
          -0.20233813218958338,
          -0.3121060381098505,
          1.9710664050317057,
          -0.13647738863742295,
          -0.13647738863742295,
          -0.18038455100553002,
          1.0709695764855154,
          -0.3121060381098505,
          0.126965585571218,
          1.0709695764855154,
          0.23673349149148512,
          -0.751177661790919,
          -0.18038455100553002,
          -0.13647738863742295,
          -0.3999203628460641,
          -0.18038455100553002,
          -0.20233813218958338,
          -0.3121060381098505,
          1.9710664050317057,
          1.685669849639011,
          -0.2681988757417436,
          -0.13647738863742295,
          -0.13647738863742295,
          -0.13647738863742295,
          0.08305842320311131,
          0.39040855977985933,
          0.19282632912337844,
          1.2465982259579427,
          -0.5755490123184914,
          0.10501200438716465,
          1.114876738853622,
          1.114876738853622,
          1.9052056614795454,
          1.9052056614795454,
          1.9052056614795454,
          1.9052056614795454,
          1.9052056614795454,
          0.5001764657001264,
          1.0929231576695688,
          1.707623430823065,
          2.4101380287127743,
          2.4101380287127743,
          -0.42187394403011763,
          -0.42187394403011763,
          0.5001764657001264
         ],
         "y0": " ",
         "yaxis": "y"
        }
       ],
       "layout": {
        "boxmode": "group",
        "legend": {
         "tracegroupgap": 0
        },
        "margin": {
         "t": 60
        },
        "template": {
         "data": {
          "bar": [
           {
            "error_x": {
             "color": "#2a3f5f"
            },
            "error_y": {
             "color": "#2a3f5f"
            },
            "marker": {
             "line": {
              "color": "#E5ECF6",
              "width": 0.5
             },
             "pattern": {
              "fillmode": "overlay",
              "size": 10,
              "solidity": 0.2
             }
            },
            "type": "bar"
           }
          ],
          "barpolar": [
           {
            "marker": {
             "line": {
              "color": "#E5ECF6",
              "width": 0.5
             },
             "pattern": {
              "fillmode": "overlay",
              "size": 10,
              "solidity": 0.2
             }
            },
            "type": "barpolar"
           }
          ],
          "carpet": [
           {
            "aaxis": {
             "endlinecolor": "#2a3f5f",
             "gridcolor": "white",
             "linecolor": "white",
             "minorgridcolor": "white",
             "startlinecolor": "#2a3f5f"
            },
            "baxis": {
             "endlinecolor": "#2a3f5f",
             "gridcolor": "white",
             "linecolor": "white",
             "minorgridcolor": "white",
             "startlinecolor": "#2a3f5f"
            },
            "type": "carpet"
           }
          ],
          "choropleth": [
           {
            "colorbar": {
             "outlinewidth": 0,
             "ticks": ""
            },
            "type": "choropleth"
           }
          ],
          "contour": [
           {
            "colorbar": {
             "outlinewidth": 0,
             "ticks": ""
            },
            "colorscale": [
             [
              0,
              "#0d0887"
             ],
             [
              0.1111111111111111,
              "#46039f"
             ],
             [
              0.2222222222222222,
              "#7201a8"
             ],
             [
              0.3333333333333333,
              "#9c179e"
             ],
             [
              0.4444444444444444,
              "#bd3786"
             ],
             [
              0.5555555555555556,
              "#d8576b"
             ],
             [
              0.6666666666666666,
              "#ed7953"
             ],
             [
              0.7777777777777778,
              "#fb9f3a"
             ],
             [
              0.8888888888888888,
              "#fdca26"
             ],
             [
              1,
              "#f0f921"
             ]
            ],
            "type": "contour"
           }
          ],
          "contourcarpet": [
           {
            "colorbar": {
             "outlinewidth": 0,
             "ticks": ""
            },
            "type": "contourcarpet"
           }
          ],
          "heatmap": [
           {
            "colorbar": {
             "outlinewidth": 0,
             "ticks": ""
            },
            "colorscale": [
             [
              0,
              "#0d0887"
             ],
             [
              0.1111111111111111,
              "#46039f"
             ],
             [
              0.2222222222222222,
              "#7201a8"
             ],
             [
              0.3333333333333333,
              "#9c179e"
             ],
             [
              0.4444444444444444,
              "#bd3786"
             ],
             [
              0.5555555555555556,
              "#d8576b"
             ],
             [
              0.6666666666666666,
              "#ed7953"
             ],
             [
              0.7777777777777778,
              "#fb9f3a"
             ],
             [
              0.8888888888888888,
              "#fdca26"
             ],
             [
              1,
              "#f0f921"
             ]
            ],
            "type": "heatmap"
           }
          ],
          "heatmapgl": [
           {
            "colorbar": {
             "outlinewidth": 0,
             "ticks": ""
            },
            "colorscale": [
             [
              0,
              "#0d0887"
             ],
             [
              0.1111111111111111,
              "#46039f"
             ],
             [
              0.2222222222222222,
              "#7201a8"
             ],
             [
              0.3333333333333333,
              "#9c179e"
             ],
             [
              0.4444444444444444,
              "#bd3786"
             ],
             [
              0.5555555555555556,
              "#d8576b"
             ],
             [
              0.6666666666666666,
              "#ed7953"
             ],
             [
              0.7777777777777778,
              "#fb9f3a"
             ],
             [
              0.8888888888888888,
              "#fdca26"
             ],
             [
              1,
              "#f0f921"
             ]
            ],
            "type": "heatmapgl"
           }
          ],
          "histogram": [
           {
            "marker": {
             "pattern": {
              "fillmode": "overlay",
              "size": 10,
              "solidity": 0.2
             }
            },
            "type": "histogram"
           }
          ],
          "histogram2d": [
           {
            "colorbar": {
             "outlinewidth": 0,
             "ticks": ""
            },
            "colorscale": [
             [
              0,
              "#0d0887"
             ],
             [
              0.1111111111111111,
              "#46039f"
             ],
             [
              0.2222222222222222,
              "#7201a8"
             ],
             [
              0.3333333333333333,
              "#9c179e"
             ],
             [
              0.4444444444444444,
              "#bd3786"
             ],
             [
              0.5555555555555556,
              "#d8576b"
             ],
             [
              0.6666666666666666,
              "#ed7953"
             ],
             [
              0.7777777777777778,
              "#fb9f3a"
             ],
             [
              0.8888888888888888,
              "#fdca26"
             ],
             [
              1,
              "#f0f921"
             ]
            ],
            "type": "histogram2d"
           }
          ],
          "histogram2dcontour": [
           {
            "colorbar": {
             "outlinewidth": 0,
             "ticks": ""
            },
            "colorscale": [
             [
              0,
              "#0d0887"
             ],
             [
              0.1111111111111111,
              "#46039f"
             ],
             [
              0.2222222222222222,
              "#7201a8"
             ],
             [
              0.3333333333333333,
              "#9c179e"
             ],
             [
              0.4444444444444444,
              "#bd3786"
             ],
             [
              0.5555555555555556,
              "#d8576b"
             ],
             [
              0.6666666666666666,
              "#ed7953"
             ],
             [
              0.7777777777777778,
              "#fb9f3a"
             ],
             [
              0.8888888888888888,
              "#fdca26"
             ],
             [
              1,
              "#f0f921"
             ]
            ],
            "type": "histogram2dcontour"
           }
          ],
          "mesh3d": [
           {
            "colorbar": {
             "outlinewidth": 0,
             "ticks": ""
            },
            "type": "mesh3d"
           }
          ],
          "parcoords": [
           {
            "line": {
             "colorbar": {
              "outlinewidth": 0,
              "ticks": ""
             }
            },
            "type": "parcoords"
           }
          ],
          "pie": [
           {
            "automargin": true,
            "type": "pie"
           }
          ],
          "scatter": [
           {
            "marker": {
             "colorbar": {
              "outlinewidth": 0,
              "ticks": ""
             }
            },
            "type": "scatter"
           }
          ],
          "scatter3d": [
           {
            "line": {
             "colorbar": {
              "outlinewidth": 0,
              "ticks": ""
             }
            },
            "marker": {
             "colorbar": {
              "outlinewidth": 0,
              "ticks": ""
             }
            },
            "type": "scatter3d"
           }
          ],
          "scattercarpet": [
           {
            "marker": {
             "colorbar": {
              "outlinewidth": 0,
              "ticks": ""
             }
            },
            "type": "scattercarpet"
           }
          ],
          "scattergeo": [
           {
            "marker": {
             "colorbar": {
              "outlinewidth": 0,
              "ticks": ""
             }
            },
            "type": "scattergeo"
           }
          ],
          "scattergl": [
           {
            "marker": {
             "colorbar": {
              "outlinewidth": 0,
              "ticks": ""
             }
            },
            "type": "scattergl"
           }
          ],
          "scattermapbox": [
           {
            "marker": {
             "colorbar": {
              "outlinewidth": 0,
              "ticks": ""
             }
            },
            "type": "scattermapbox"
           }
          ],
          "scatterpolar": [
           {
            "marker": {
             "colorbar": {
              "outlinewidth": 0,
              "ticks": ""
             }
            },
            "type": "scatterpolar"
           }
          ],
          "scatterpolargl": [
           {
            "marker": {
             "colorbar": {
              "outlinewidth": 0,
              "ticks": ""
             }
            },
            "type": "scatterpolargl"
           }
          ],
          "scatterternary": [
           {
            "marker": {
             "colorbar": {
              "outlinewidth": 0,
              "ticks": ""
             }
            },
            "type": "scatterternary"
           }
          ],
          "surface": [
           {
            "colorbar": {
             "outlinewidth": 0,
             "ticks": ""
            },
            "colorscale": [
             [
              0,
              "#0d0887"
             ],
             [
              0.1111111111111111,
              "#46039f"
             ],
             [
              0.2222222222222222,
              "#7201a8"
             ],
             [
              0.3333333333333333,
              "#9c179e"
             ],
             [
              0.4444444444444444,
              "#bd3786"
             ],
             [
              0.5555555555555556,
              "#d8576b"
             ],
             [
              0.6666666666666666,
              "#ed7953"
             ],
             [
              0.7777777777777778,
              "#fb9f3a"
             ],
             [
              0.8888888888888888,
              "#fdca26"
             ],
             [
              1,
              "#f0f921"
             ]
            ],
            "type": "surface"
           }
          ],
          "table": [
           {
            "cells": {
             "fill": {
              "color": "#EBF0F8"
             },
             "line": {
              "color": "white"
             }
            },
            "header": {
             "fill": {
              "color": "#C8D4E3"
             },
             "line": {
              "color": "white"
             }
            },
            "type": "table"
           }
          ]
         },
         "layout": {
          "annotationdefaults": {
           "arrowcolor": "#2a3f5f",
           "arrowhead": 0,
           "arrowwidth": 1
          },
          "autotypenumbers": "strict",
          "coloraxis": {
           "colorbar": {
            "outlinewidth": 0,
            "ticks": ""
           }
          },
          "colorscale": {
           "diverging": [
            [
             0,
             "#8e0152"
            ],
            [
             0.1,
             "#c51b7d"
            ],
            [
             0.2,
             "#de77ae"
            ],
            [
             0.3,
             "#f1b6da"
            ],
            [
             0.4,
             "#fde0ef"
            ],
            [
             0.5,
             "#f7f7f7"
            ],
            [
             0.6,
             "#e6f5d0"
            ],
            [
             0.7,
             "#b8e186"
            ],
            [
             0.8,
             "#7fbc41"
            ],
            [
             0.9,
             "#4d9221"
            ],
            [
             1,
             "#276419"
            ]
           ],
           "sequential": [
            [
             0,
             "#0d0887"
            ],
            [
             0.1111111111111111,
             "#46039f"
            ],
            [
             0.2222222222222222,
             "#7201a8"
            ],
            [
             0.3333333333333333,
             "#9c179e"
            ],
            [
             0.4444444444444444,
             "#bd3786"
            ],
            [
             0.5555555555555556,
             "#d8576b"
            ],
            [
             0.6666666666666666,
             "#ed7953"
            ],
            [
             0.7777777777777778,
             "#fb9f3a"
            ],
            [
             0.8888888888888888,
             "#fdca26"
            ],
            [
             1,
             "#f0f921"
            ]
           ],
           "sequentialminus": [
            [
             0,
             "#0d0887"
            ],
            [
             0.1111111111111111,
             "#46039f"
            ],
            [
             0.2222222222222222,
             "#7201a8"
            ],
            [
             0.3333333333333333,
             "#9c179e"
            ],
            [
             0.4444444444444444,
             "#bd3786"
            ],
            [
             0.5555555555555556,
             "#d8576b"
            ],
            [
             0.6666666666666666,
             "#ed7953"
            ],
            [
             0.7777777777777778,
             "#fb9f3a"
            ],
            [
             0.8888888888888888,
             "#fdca26"
            ],
            [
             1,
             "#f0f921"
            ]
           ]
          },
          "colorway": [
           "#636efa",
           "#EF553B",
           "#00cc96",
           "#ab63fa",
           "#FFA15A",
           "#19d3f3",
           "#FF6692",
           "#B6E880",
           "#FF97FF",
           "#FECB52"
          ],
          "font": {
           "color": "#2a3f5f"
          },
          "geo": {
           "bgcolor": "white",
           "lakecolor": "white",
           "landcolor": "#E5ECF6",
           "showlakes": true,
           "showland": true,
           "subunitcolor": "white"
          },
          "hoverlabel": {
           "align": "left"
          },
          "hovermode": "closest",
          "mapbox": {
           "style": "light"
          },
          "paper_bgcolor": "white",
          "plot_bgcolor": "#E5ECF6",
          "polar": {
           "angularaxis": {
            "gridcolor": "white",
            "linecolor": "white",
            "ticks": ""
           },
           "bgcolor": "#E5ECF6",
           "radialaxis": {
            "gridcolor": "white",
            "linecolor": "white",
            "ticks": ""
           }
          },
          "scene": {
           "xaxis": {
            "backgroundcolor": "#E5ECF6",
            "gridcolor": "white",
            "gridwidth": 2,
            "linecolor": "white",
            "showbackground": true,
            "ticks": "",
            "zerolinecolor": "white"
           },
           "yaxis": {
            "backgroundcolor": "#E5ECF6",
            "gridcolor": "white",
            "gridwidth": 2,
            "linecolor": "white",
            "showbackground": true,
            "ticks": "",
            "zerolinecolor": "white"
           },
           "zaxis": {
            "backgroundcolor": "#E5ECF6",
            "gridcolor": "white",
            "gridwidth": 2,
            "linecolor": "white",
            "showbackground": true,
            "ticks": "",
            "zerolinecolor": "white"
           }
          },
          "shapedefaults": {
           "line": {
            "color": "#2a3f5f"
           }
          },
          "ternary": {
           "aaxis": {
            "gridcolor": "white",
            "linecolor": "white",
            "ticks": ""
           },
           "baxis": {
            "gridcolor": "white",
            "linecolor": "white",
            "ticks": ""
           },
           "bgcolor": "#E5ECF6",
           "caxis": {
            "gridcolor": "white",
            "linecolor": "white",
            "ticks": ""
           }
          },
          "title": {
           "x": 0.05
          },
          "xaxis": {
           "automargin": true,
           "gridcolor": "white",
           "linecolor": "white",
           "ticks": "",
           "title": {
            "standoff": 15
           },
           "zerolinecolor": "white",
           "zerolinewidth": 2
          },
          "yaxis": {
           "automargin": true,
           "gridcolor": "white",
           "linecolor": "white",
           "ticks": "",
           "title": {
            "standoff": 15
           },
           "zerolinecolor": "white",
           "zerolinewidth": 2
          }
         }
        },
        "xaxis": {
         "anchor": "y",
         "domain": [
          0,
          1
         ]
        },
        "yaxis": {
         "anchor": "x",
         "domain": [
          0,
          1
         ],
         "title": {
          "text": "ISI"
         }
        }
       }
      }
     },
     "metadata": {},
     "output_type": "display_data"
    },
    {
     "data": {
      "application/vnd.plotly.v1+json": {
       "config": {
        "plotlyServerURL": "https://plot.ly"
       },
       "data": [
        {
         "alignmentgroup": "True",
         "hovertemplate": "temp=%{y}<extra></extra>",
         "legendgroup": "",
         "marker": {
          "color": "#636efa"
         },
         "name": "",
         "notched": false,
         "offsetgroup": "",
         "orientation": "v",
         "showlegend": false,
         "type": "box",
         "x0": " ",
         "xaxis": "x",
         "y": [
          -0.1532782649268027,
          -0.7393834076031878,
          0.5707339701440257,
          0.8982633145808294,
          -0.9979592058427693,
          0.6741642894398586,
          -0.18775503802541343,
          0.415588491200277,
          1.2947462052148542,
          0.6914026759891637,
          -0.10156310527888623,
          0.03634398711555741,
          0.10529753331277893,
          -0.4463308362649951,
          0.019105600566251726,
          0.08805914676347325,
          1.949804894088461,
          0.6741642894398586,
          1.1223623397217997,
          -1.3254885502795728,
          0.294919785355139,
          -0.20499342457471914,
          0.3983501046509713,
          -0.11880149182819193,
          0.4845420373974985,
          -1.308250163730267,
          -0.18775503802541343,
          -0.08432471872958117,
          -0.39461567661707864,
          0.12253591986208462,
          -1.0324359789413802,
          1.208554272468327,
          -0.7221450210538823,
          0.7086410625384694,
          0.32939655845374977,
          0.45006526429888777,
          0.26044301225652766,
          0.26044301225652766,
          -0.2222318111240242,
          1.518845230355825,
          -0.18775503802541343,
          -0.8772904999976311,
          -0.20499342457471914,
          -0.27394697077194063,
          1.50160684380652,
          -0.7221450210538823,
          0.32939655845374977,
          -0.11880149182819193,
          0.7775946087356909,
          -0.18775503802541343,
          0.15701269296069537,
          0.15701269296069537,
          -0.7738601807017985,
          0.20872785260861182,
          0.8982633145808294,
          0.43282687774958206,
          0.2432046257072226,
          -0.2567085842226356,
          0.6741642894398586,
          0.0018672140169460397,
          0.12253591986208462,
          -1.4806340292233215,
          -0.30842374387055144,
          0.6224491297919421,
          0.15701269296069537,
          0.294919785355139,
          -0.29118535732124634,
          -0.5152843824622169,
          -0.6014763152087441,
          -0.2222318111240242,
          -0.29118535732124634,
          -0.5669995421101334,
          0.4845420373974985,
          0.5190188104961093,
          0.3983501046509713,
          0.846548154932913,
          1.4671300707079085,
          0.8293097683836074,
          0.7431178356370801,
          0.9844552473273567,
          0.20872785260861182,
          1.8463745747926288,
          -0.42909244971569,
          1.6739907092995743,
          0.27768139880583337,
          0.019105600566251726,
          0.2432046257072226,
          -0.18775503802541343,
          -0.18775503802541343,
          -0.39461567661707864,
          0.7775946087356909,
          0.3121581719044441,
          0.5190188104961093,
          0.20872785260861182,
          -0.20499342457471914,
          -0.8083369538004096,
          0.2432046257072226,
          0.05358237366486249,
          -0.10156310527888623,
          -0.7738601807017985,
          0.8637865414822181,
          -0.36013890351846783,
          0.32939655845374977,
          -0.2222318111240242,
          0.36387333155236057,
          0.9155017011301345,
          0.9327400876794403,
          0.7948329952849966,
          0.45006526429888777,
          -0.8600521134483257,
          0.4673036508481934,
          0.2259662391579169,
          0.5534955835947206,
          0.3121581719044441,
          0.12253591986208462,
          0.7431178356370801,
          -0.08432471872958117,
          0.20872785260861182,
          -0.3429005169691628,
          -1.1186279116879074,
          0.08805914676347325,
          -0.46356922281430074,
          -0.049847945630969795,
          -0.6014763152087441,
          0.6914026759891637,
          -0.48080760936360584,
          0.20872785260861182,
          1.6222755496516579,
          -0.42909244971569,
          1.2947462052148542,
          1.5360836169051306,
          -0.03260955908166472,
          -0.20499342457471914,
          0.12253591986208462,
          1.070647180073884,
          -0.6014763152087441,
          0.6052107432426365,
          1.3636997514120763,
          1.174077499369716,
          0.3121581719044441,
          1.6912290958488794,
          0.4845420373974985,
          1.3636997514120763,
          0.8810249280315238,
          0.5534955835947206,
          0.43282687774958206,
          0.0018672140169460397,
          0.5879723566933314,
          0.8637865414822181,
          0.43282687774958206,
          0.294919785355139,
          0.8293097683836074,
          1.6222755496516579,
          0.43282687774958206,
          0.07082076021416817,
          0.5017804239468042,
          0.5534955835947206,
          0.36387333155236057,
          0.03634398711555741,
          0.20872785260861182,
          0.2259662391579169,
          0.7775946087356909,
          0.5534955835947206,
          0.9155017011301345,
          0.9327400876794403,
          -0.03260955908166472,
          1.1051239531724946,
          0.6914026759891637,
          1.3809381379613814,
          -0.30842374387055144,
          0.5707339701440257,
          -0.7910985672511038,
          -0.6014763152087441,
          0.12253591986208462,
          0.3121581719044441,
          0.03634398711555741,
          0.05358237366486249,
          0.05358237366486249,
          0.019105600566251726,
          -0.30842374387055144,
          0.846548154932913,
          -0.4980459959129115,
          1.0361704069752724,
          1.1051239531724946,
          1.0189320204259675,
          0.9327400876794403,
          0.1397743064113897,
          -0.06708633218027547,
          -0.049847945630969795,
          0.05358237366486249,
          0.4673036508481934,
          0.4673036508481934,
          0.0018672140169460397,
          -0.36013890351846783,
          -0.36013890351846783,
          -1.0324359789413802,
          -0.8945288865469367,
          0.9155017011301345,
          0.8982633145808294,
          0.3983501046509713,
          0.1397743064113897,
          0.7948329952849966,
          0.9155017011301345,
          0.45006526429888777,
          -0.30842374387055144,
          -0.136039878377497,
          -0.1532782649268027,
          0.07082076021416817,
          0.7086410625384694,
          0.656925902890553,
          0.26044301225652766,
          0.07082076021416817,
          -0.5497611555608279,
          0.294919785355139,
          -0.5152843824622169,
          -1.1531046847865183,
          0.415588491200277,
          -1.5151108023219326,
          -0.2567085842226356,
          -1.0496743654906855,
          -1.5151108023219326,
          -0.6014763152087441,
          0.294919785355139,
          0.15701269296069537,
          -0.03260955908166472,
          0.32939655845374977,
          0.32939655845374977,
          -0.5152843824622169,
          0.1397743064113897,
          0.3811117181016662,
          -0.08432471872958117,
          -0.27394697077194063,
          -0.6359530883073552,
          -0.5152843824622169,
          0.3811117181016662,
          0.12253591986208462,
          -0.5152843824622169,
          -0.42909244971569,
          -0.36013890351846783,
          -0.8083369538004096,
          -1.4633956426740162,
          0.2432046257072226,
          -0.6014763152087441,
          0.3811117181016662,
          0.07082076021416817,
          -0.46356922281430074,
          1.6050371631023521,
          0.34663494500305486,
          0.294919785355139,
          0.7603562221863858,
          0.7603562221863858,
          0.3121581719044441,
          0.26044301225652766,
          0.9327400876794403,
          1.5705603900037415,
          1.5705603900037415,
          0.6741642894398586,
          0.415588491200277,
          0.5017804239468042,
          0.7775946087356909,
          0.6741642894398586,
          1.2947462052148542,
          0.8982633145808294,
          1.4843684572572142,
          1.277507818665549,
          1.0361704069752724,
          1.0189320204259675,
          2.0532352133842937,
          0.5879723566933314,
          1.3809381379613814,
          1.5533220034544357,
          1.2602694321162433,
          0.9844552473273567,
          0.7603562221863858,
          0.8637865414822181,
          0.34663494500305486,
          0.846548154932913,
          1.3636997514120763,
          0.8120713818343023,
          0.03634398711555741,
          1.1396007262711054,
          0.03634398711555741,
          0.07082076021416817,
          0.7775946087356909,
          -0.17051665147610837,
          0.17425107951000046,
          0.0018672140169460397,
          0.0018672140169460397,
          0.0018672140169460397,
          0.967216860778051,
          1.2947462052148542,
          1.4326532976092978,
          1.2430310455669382,
          0.6396875163412479,
          1.949804894088461,
          0.7775946087356909,
          2.087711986482905,
          0.8982633145808294,
          1.2947462052148542,
          0.08805914676347325,
          0.294919785355139,
          1.6912290958488794,
          1.4843684572572142,
          2.0532352133842937,
          0.8637865414822181,
          1.7774210285954066,
          1.7257058689474902,
          1.208554272468327,
          -0.11880149182819193,
          1.1568391128204112
         ],
         "y0": " ",
         "yaxis": "y"
        }
       ],
       "layout": {
        "boxmode": "group",
        "legend": {
         "tracegroupgap": 0
        },
        "margin": {
         "t": 60
        },
        "template": {
         "data": {
          "bar": [
           {
            "error_x": {
             "color": "#2a3f5f"
            },
            "error_y": {
             "color": "#2a3f5f"
            },
            "marker": {
             "line": {
              "color": "#E5ECF6",
              "width": 0.5
             },
             "pattern": {
              "fillmode": "overlay",
              "size": 10,
              "solidity": 0.2
             }
            },
            "type": "bar"
           }
          ],
          "barpolar": [
           {
            "marker": {
             "line": {
              "color": "#E5ECF6",
              "width": 0.5
             },
             "pattern": {
              "fillmode": "overlay",
              "size": 10,
              "solidity": 0.2
             }
            },
            "type": "barpolar"
           }
          ],
          "carpet": [
           {
            "aaxis": {
             "endlinecolor": "#2a3f5f",
             "gridcolor": "white",
             "linecolor": "white",
             "minorgridcolor": "white",
             "startlinecolor": "#2a3f5f"
            },
            "baxis": {
             "endlinecolor": "#2a3f5f",
             "gridcolor": "white",
             "linecolor": "white",
             "minorgridcolor": "white",
             "startlinecolor": "#2a3f5f"
            },
            "type": "carpet"
           }
          ],
          "choropleth": [
           {
            "colorbar": {
             "outlinewidth": 0,
             "ticks": ""
            },
            "type": "choropleth"
           }
          ],
          "contour": [
           {
            "colorbar": {
             "outlinewidth": 0,
             "ticks": ""
            },
            "colorscale": [
             [
              0,
              "#0d0887"
             ],
             [
              0.1111111111111111,
              "#46039f"
             ],
             [
              0.2222222222222222,
              "#7201a8"
             ],
             [
              0.3333333333333333,
              "#9c179e"
             ],
             [
              0.4444444444444444,
              "#bd3786"
             ],
             [
              0.5555555555555556,
              "#d8576b"
             ],
             [
              0.6666666666666666,
              "#ed7953"
             ],
             [
              0.7777777777777778,
              "#fb9f3a"
             ],
             [
              0.8888888888888888,
              "#fdca26"
             ],
             [
              1,
              "#f0f921"
             ]
            ],
            "type": "contour"
           }
          ],
          "contourcarpet": [
           {
            "colorbar": {
             "outlinewidth": 0,
             "ticks": ""
            },
            "type": "contourcarpet"
           }
          ],
          "heatmap": [
           {
            "colorbar": {
             "outlinewidth": 0,
             "ticks": ""
            },
            "colorscale": [
             [
              0,
              "#0d0887"
             ],
             [
              0.1111111111111111,
              "#46039f"
             ],
             [
              0.2222222222222222,
              "#7201a8"
             ],
             [
              0.3333333333333333,
              "#9c179e"
             ],
             [
              0.4444444444444444,
              "#bd3786"
             ],
             [
              0.5555555555555556,
              "#d8576b"
             ],
             [
              0.6666666666666666,
              "#ed7953"
             ],
             [
              0.7777777777777778,
              "#fb9f3a"
             ],
             [
              0.8888888888888888,
              "#fdca26"
             ],
             [
              1,
              "#f0f921"
             ]
            ],
            "type": "heatmap"
           }
          ],
          "heatmapgl": [
           {
            "colorbar": {
             "outlinewidth": 0,
             "ticks": ""
            },
            "colorscale": [
             [
              0,
              "#0d0887"
             ],
             [
              0.1111111111111111,
              "#46039f"
             ],
             [
              0.2222222222222222,
              "#7201a8"
             ],
             [
              0.3333333333333333,
              "#9c179e"
             ],
             [
              0.4444444444444444,
              "#bd3786"
             ],
             [
              0.5555555555555556,
              "#d8576b"
             ],
             [
              0.6666666666666666,
              "#ed7953"
             ],
             [
              0.7777777777777778,
              "#fb9f3a"
             ],
             [
              0.8888888888888888,
              "#fdca26"
             ],
             [
              1,
              "#f0f921"
             ]
            ],
            "type": "heatmapgl"
           }
          ],
          "histogram": [
           {
            "marker": {
             "pattern": {
              "fillmode": "overlay",
              "size": 10,
              "solidity": 0.2
             }
            },
            "type": "histogram"
           }
          ],
          "histogram2d": [
           {
            "colorbar": {
             "outlinewidth": 0,
             "ticks": ""
            },
            "colorscale": [
             [
              0,
              "#0d0887"
             ],
             [
              0.1111111111111111,
              "#46039f"
             ],
             [
              0.2222222222222222,
              "#7201a8"
             ],
             [
              0.3333333333333333,
              "#9c179e"
             ],
             [
              0.4444444444444444,
              "#bd3786"
             ],
             [
              0.5555555555555556,
              "#d8576b"
             ],
             [
              0.6666666666666666,
              "#ed7953"
             ],
             [
              0.7777777777777778,
              "#fb9f3a"
             ],
             [
              0.8888888888888888,
              "#fdca26"
             ],
             [
              1,
              "#f0f921"
             ]
            ],
            "type": "histogram2d"
           }
          ],
          "histogram2dcontour": [
           {
            "colorbar": {
             "outlinewidth": 0,
             "ticks": ""
            },
            "colorscale": [
             [
              0,
              "#0d0887"
             ],
             [
              0.1111111111111111,
              "#46039f"
             ],
             [
              0.2222222222222222,
              "#7201a8"
             ],
             [
              0.3333333333333333,
              "#9c179e"
             ],
             [
              0.4444444444444444,
              "#bd3786"
             ],
             [
              0.5555555555555556,
              "#d8576b"
             ],
             [
              0.6666666666666666,
              "#ed7953"
             ],
             [
              0.7777777777777778,
              "#fb9f3a"
             ],
             [
              0.8888888888888888,
              "#fdca26"
             ],
             [
              1,
              "#f0f921"
             ]
            ],
            "type": "histogram2dcontour"
           }
          ],
          "mesh3d": [
           {
            "colorbar": {
             "outlinewidth": 0,
             "ticks": ""
            },
            "type": "mesh3d"
           }
          ],
          "parcoords": [
           {
            "line": {
             "colorbar": {
              "outlinewidth": 0,
              "ticks": ""
             }
            },
            "type": "parcoords"
           }
          ],
          "pie": [
           {
            "automargin": true,
            "type": "pie"
           }
          ],
          "scatter": [
           {
            "marker": {
             "colorbar": {
              "outlinewidth": 0,
              "ticks": ""
             }
            },
            "type": "scatter"
           }
          ],
          "scatter3d": [
           {
            "line": {
             "colorbar": {
              "outlinewidth": 0,
              "ticks": ""
             }
            },
            "marker": {
             "colorbar": {
              "outlinewidth": 0,
              "ticks": ""
             }
            },
            "type": "scatter3d"
           }
          ],
          "scattercarpet": [
           {
            "marker": {
             "colorbar": {
              "outlinewidth": 0,
              "ticks": ""
             }
            },
            "type": "scattercarpet"
           }
          ],
          "scattergeo": [
           {
            "marker": {
             "colorbar": {
              "outlinewidth": 0,
              "ticks": ""
             }
            },
            "type": "scattergeo"
           }
          ],
          "scattergl": [
           {
            "marker": {
             "colorbar": {
              "outlinewidth": 0,
              "ticks": ""
             }
            },
            "type": "scattergl"
           }
          ],
          "scattermapbox": [
           {
            "marker": {
             "colorbar": {
              "outlinewidth": 0,
              "ticks": ""
             }
            },
            "type": "scattermapbox"
           }
          ],
          "scatterpolar": [
           {
            "marker": {
             "colorbar": {
              "outlinewidth": 0,
              "ticks": ""
             }
            },
            "type": "scatterpolar"
           }
          ],
          "scatterpolargl": [
           {
            "marker": {
             "colorbar": {
              "outlinewidth": 0,
              "ticks": ""
             }
            },
            "type": "scatterpolargl"
           }
          ],
          "scatterternary": [
           {
            "marker": {
             "colorbar": {
              "outlinewidth": 0,
              "ticks": ""
             }
            },
            "type": "scatterternary"
           }
          ],
          "surface": [
           {
            "colorbar": {
             "outlinewidth": 0,
             "ticks": ""
            },
            "colorscale": [
             [
              0,
              "#0d0887"
             ],
             [
              0.1111111111111111,
              "#46039f"
             ],
             [
              0.2222222222222222,
              "#7201a8"
             ],
             [
              0.3333333333333333,
              "#9c179e"
             ],
             [
              0.4444444444444444,
              "#bd3786"
             ],
             [
              0.5555555555555556,
              "#d8576b"
             ],
             [
              0.6666666666666666,
              "#ed7953"
             ],
             [
              0.7777777777777778,
              "#fb9f3a"
             ],
             [
              0.8888888888888888,
              "#fdca26"
             ],
             [
              1,
              "#f0f921"
             ]
            ],
            "type": "surface"
           }
          ],
          "table": [
           {
            "cells": {
             "fill": {
              "color": "#EBF0F8"
             },
             "line": {
              "color": "white"
             }
            },
            "header": {
             "fill": {
              "color": "#C8D4E3"
             },
             "line": {
              "color": "white"
             }
            },
            "type": "table"
           }
          ]
         },
         "layout": {
          "annotationdefaults": {
           "arrowcolor": "#2a3f5f",
           "arrowhead": 0,
           "arrowwidth": 1
          },
          "autotypenumbers": "strict",
          "coloraxis": {
           "colorbar": {
            "outlinewidth": 0,
            "ticks": ""
           }
          },
          "colorscale": {
           "diverging": [
            [
             0,
             "#8e0152"
            ],
            [
             0.1,
             "#c51b7d"
            ],
            [
             0.2,
             "#de77ae"
            ],
            [
             0.3,
             "#f1b6da"
            ],
            [
             0.4,
             "#fde0ef"
            ],
            [
             0.5,
             "#f7f7f7"
            ],
            [
             0.6,
             "#e6f5d0"
            ],
            [
             0.7,
             "#b8e186"
            ],
            [
             0.8,
             "#7fbc41"
            ],
            [
             0.9,
             "#4d9221"
            ],
            [
             1,
             "#276419"
            ]
           ],
           "sequential": [
            [
             0,
             "#0d0887"
            ],
            [
             0.1111111111111111,
             "#46039f"
            ],
            [
             0.2222222222222222,
             "#7201a8"
            ],
            [
             0.3333333333333333,
             "#9c179e"
            ],
            [
             0.4444444444444444,
             "#bd3786"
            ],
            [
             0.5555555555555556,
             "#d8576b"
            ],
            [
             0.6666666666666666,
             "#ed7953"
            ],
            [
             0.7777777777777778,
             "#fb9f3a"
            ],
            [
             0.8888888888888888,
             "#fdca26"
            ],
            [
             1,
             "#f0f921"
            ]
           ],
           "sequentialminus": [
            [
             0,
             "#0d0887"
            ],
            [
             0.1111111111111111,
             "#46039f"
            ],
            [
             0.2222222222222222,
             "#7201a8"
            ],
            [
             0.3333333333333333,
             "#9c179e"
            ],
            [
             0.4444444444444444,
             "#bd3786"
            ],
            [
             0.5555555555555556,
             "#d8576b"
            ],
            [
             0.6666666666666666,
             "#ed7953"
            ],
            [
             0.7777777777777778,
             "#fb9f3a"
            ],
            [
             0.8888888888888888,
             "#fdca26"
            ],
            [
             1,
             "#f0f921"
            ]
           ]
          },
          "colorway": [
           "#636efa",
           "#EF553B",
           "#00cc96",
           "#ab63fa",
           "#FFA15A",
           "#19d3f3",
           "#FF6692",
           "#B6E880",
           "#FF97FF",
           "#FECB52"
          ],
          "font": {
           "color": "#2a3f5f"
          },
          "geo": {
           "bgcolor": "white",
           "lakecolor": "white",
           "landcolor": "#E5ECF6",
           "showlakes": true,
           "showland": true,
           "subunitcolor": "white"
          },
          "hoverlabel": {
           "align": "left"
          },
          "hovermode": "closest",
          "mapbox": {
           "style": "light"
          },
          "paper_bgcolor": "white",
          "plot_bgcolor": "#E5ECF6",
          "polar": {
           "angularaxis": {
            "gridcolor": "white",
            "linecolor": "white",
            "ticks": ""
           },
           "bgcolor": "#E5ECF6",
           "radialaxis": {
            "gridcolor": "white",
            "linecolor": "white",
            "ticks": ""
           }
          },
          "scene": {
           "xaxis": {
            "backgroundcolor": "#E5ECF6",
            "gridcolor": "white",
            "gridwidth": 2,
            "linecolor": "white",
            "showbackground": true,
            "ticks": "",
            "zerolinecolor": "white"
           },
           "yaxis": {
            "backgroundcolor": "#E5ECF6",
            "gridcolor": "white",
            "gridwidth": 2,
            "linecolor": "white",
            "showbackground": true,
            "ticks": "",
            "zerolinecolor": "white"
           },
           "zaxis": {
            "backgroundcolor": "#E5ECF6",
            "gridcolor": "white",
            "gridwidth": 2,
            "linecolor": "white",
            "showbackground": true,
            "ticks": "",
            "zerolinecolor": "white"
           }
          },
          "shapedefaults": {
           "line": {
            "color": "#2a3f5f"
           }
          },
          "ternary": {
           "aaxis": {
            "gridcolor": "white",
            "linecolor": "white",
            "ticks": ""
           },
           "baxis": {
            "gridcolor": "white",
            "linecolor": "white",
            "ticks": ""
           },
           "bgcolor": "#E5ECF6",
           "caxis": {
            "gridcolor": "white",
            "linecolor": "white",
            "ticks": ""
           }
          },
          "title": {
           "x": 0.05
          },
          "xaxis": {
           "automargin": true,
           "gridcolor": "white",
           "linecolor": "white",
           "ticks": "",
           "title": {
            "standoff": 15
           },
           "zerolinecolor": "white",
           "zerolinewidth": 2
          },
          "yaxis": {
           "automargin": true,
           "gridcolor": "white",
           "linecolor": "white",
           "ticks": "",
           "title": {
            "standoff": 15
           },
           "zerolinecolor": "white",
           "zerolinewidth": 2
          }
         }
        },
        "xaxis": {
         "anchor": "y",
         "domain": [
          0,
          1
         ]
        },
        "yaxis": {
         "anchor": "x",
         "domain": [
          0,
          1
         ],
         "title": {
          "text": "temp"
         }
        }
       }
      }
     },
     "metadata": {},
     "output_type": "display_data"
    },
    {
     "data": {
      "application/vnd.plotly.v1+json": {
       "config": {
        "plotlyServerURL": "https://plot.ly"
       },
       "data": [
        {
         "alignmentgroup": "True",
         "hovertemplate": "RH=%{y}<extra></extra>",
         "legendgroup": "",
         "marker": {
          "color": "#636efa"
         },
         "name": "",
         "notched": false,
         "offsetgroup": "",
         "orientation": "v",
         "showlegend": false,
         "type": "box",
         "x0": " ",
         "xaxis": "x",
         "y": [
          -0.6924562798204221,
          -0.6924562798204221,
          -0.9378297525189543,
          -1.0605164888682204,
          1.1478447654185688,
          -0.26305270259799096,
          0.4117243473229724,
          -0.14036596624872488,
          -1.4285766979160186,
          -0.017679229899458825,
          -0.26305270259799096,
          -0.385739438947257,
          -0.07902259807409186,
          0.9638146608946697,
          -0.6311129116457891,
          0.2276942427990733,
          -1.2445465933921194,
          -0.324396070772624,
          -1.2445465933921194,
          2.0679952880380643,
          -0.44708280712189,
          -0.324396070772624,
          -0.7537996479950552,
          1.0865013972439357,
          -1.2445465933921194,
          0.9638146608946697,
          -1.0605164888682204,
          -0.14036596624872488,
          0.5957544518468715,
          0.2276942427990733,
          1.8226218153395322,
          -1.2445465933921194,
          1.577248342641,
          -0.5084261752965231,
          -1.6739501706145508,
          -0.6311129116457891,
          -0.14036596624872488,
          -0.14036596624872488,
          0.04366413827517421,
          -1.2445465933921194,
          1.1478447654185688,
          0.3503809791483394,
          -0.44708280712189,
          -0.07902259807409186,
          -0.8764863843443212,
          0.9024712927200367,
          -0.7537996479950552,
          -0.07902259807409186,
          -1.3672333297413855,
          1.2091881335932018,
          -0.324396070772624,
          -0.324396070772624,
          1.3318748699424678,
          -0.26305270259799096,
          -0.9378297525189543,
          -0.6924562798204221,
          0.04366413827517421,
          0.7184411881961376,
          -0.324396070772624,
          -0.569769543471156,
          -0.5084261752965231,
          1.8226218153395322,
          -0.07902259807409186,
          -0.14036596624872488,
          0.3503809791483394,
          -1.2445465933921194,
          -0.07902259807409186,
          0.10500750644980723,
          -0.569769543471156,
          -0.14036596624872488,
          0.8411279245454036,
          1.3318748699424678,
          -0.385739438947257,
          -0.324396070772624,
          0.4117243473229724,
          -0.7537996479950552,
          -1.3672333297413855,
          -1.1832032252174864,
          -0.324396070772624,
          -0.07902259807409186,
          0.16635087462444026,
          -1.0605164888682204,
          0.16635087462444026,
          -1.0605164888682204,
          -0.569769543471156,
          -0.6311129116457891,
          -0.20170933442335792,
          0.7184411881961376,
          1.3932182381171008,
          0.16635087462444026,
          -0.6924562798204221,
          0.04366413827517421,
          -0.569769543471156,
          -0.324396070772624,
          -0.324396070772624,
          0.5344110836722384,
          -0.324396070772624,
          -0.017679229899458825,
          0.04366413827517421,
          1.3318748699424678,
          -0.7537996479950552,
          0.04366413827517421,
          -0.6311129116457891,
          0.10500750644980723,
          -0.14036596624872488,
          -0.9991731206935873,
          -1.1832032252174864,
          -0.5084261752965231,
          -1.7966369069638166,
          0.9024712927200367,
          -0.6924562798204221,
          -0.44708280712189,
          -0.6311129116457891,
          -0.44708280712189,
          -0.6924562798204221,
          -1.1218598570428533,
          -1.1832032252174864,
          0.16635087462444026,
          0.9638146608946697,
          1.761278447164899,
          -1.5512634342652847,
          0.9024712927200367,
          0.28903761097370634,
          0.7797845563707706,
          -0.324396070772624,
          -0.017679229899458825,
          -0.6311129116457891,
          -1.1218598570428533,
          -0.07902259807409186,
          -1.4285766979160186,
          -1.0605164888682204,
          -0.07902259807409186,
          -1.1832032252174864,
          -0.20170933442335792,
          -1.0605164888682204,
          1.3318748699424678,
          0.5957544518468715,
          -0.385739438947257,
          -0.324396070772624,
          1.577248342641,
          -0.9991731206935873,
          -0.26305270259799096,
          -1.1832032252174864,
          -0.5084261752965231,
          -0.44708280712189,
          -0.385739438947257,
          -0.20170933442335792,
          0.10500750644980723,
          -0.20170933442335792,
          -0.017679229899458825,
          0.9024712927200367,
          -0.26305270259799096,
          -0.7537996479950552,
          -0.14036596624872488,
          -0.324396070772624,
          0.5344110836722384,
          0.5957544518468715,
          -0.7537996479950552,
          0.5344110836722384,
          0.8411279245454036,
          0.16635087462444026,
          -0.26305270259799096,
          0.28903761097370634,
          -0.7537996479950552,
          -0.8764863843443212,
          0.5344110836722384,
          -0.324396070772624,
          -0.26305270259799096,
          -0.9991731206935873,
          1.3932182381171008,
          0.2276942427990733,
          0.10500750644980723,
          0.04366413827517421,
          -0.07902259807409186,
          -1.1832032252174864,
          -0.324396070772624,
          -0.385739438947257,
          -0.385739438947257,
          0.4730677154976054,
          0.5344110836722384,
          -0.569769543471156,
          0.04366413827517421,
          -1.0605164888682204,
          -1.0605164888682204,
          -0.9991731206935873,
          -1.0605164888682204,
          -0.20170933442335792,
          -0.8764863843443212,
          -1.2445465933921194,
          -1.2445465933921194,
          -1.0605164888682204,
          -0.9991731206935873,
          -0.6311129116457891,
          -0.9991731206935873,
          -0.9991731206935873,
          -0.324396070772624,
          0.7184411881961376,
          -1.0605164888682204,
          -1.0605164888682204,
          -0.7537996479950552,
          -0.569769543471156,
          -1.0605164888682204,
          -1.0605164888682204,
          -0.9991731206935873,
          -0.20170933442335792,
          0.5957544518468715,
          0.4117243473229724,
          -0.017679229899458825,
          -0.6311129116457891,
          -0.569769543471156,
          -0.20170933442335792,
          -0.017679229899458825,
          0.4117243473229724,
          -0.44708280712189,
          0.4117243473229724,
          1.3318748699424678,
          -0.569769543471156,
          1.883965183514165,
          0.7797845563707706,
          1.2091881335932018,
          1.883965183514165,
          0.5344110836722384,
          -0.07902259807409186,
          0.16635087462444026,
          0.3503809791483394,
          -0.569769543471156,
          -0.569769543471156,
          0.6570978200215045,
          -0.324396070772624,
          -0.324396070772624,
          -0.14036596624872488,
          0.04366413827517421,
          1.2091881335932018,
          0.5344110836722384,
          -0.569769543471156,
          0.04366413827517421,
          -0.385739438947257,
          -1.0605164888682204,
          0.16635087462444026,
          0.8411279245454036,
          1.883965183514165,
          -0.14036596624872488,
          0.7797845563707706,
          0.5957544518468715,
          -0.324396070772624,
          1.1478447654185688,
          -0.9378297525189543,
          0.3503809791483394,
          0.6570978200215045,
          -0.6311129116457891,
          -0.6311129116457891,
          0.10500750644980723,
          0.6570978200215045,
          -0.6924562798204221,
          -0.6311129116457891,
          -0.6311129116457891,
          0.10500750644980723,
          -0.20170933442335792,
          -0.6311129116457891,
          -0.8151430161696882,
          -1.0605164888682204,
          -0.6924562798204221,
          0.3503809791483394,
          -1.0605164888682204,
          -0.324396070772624,
          -0.14036596624872488,
          -0.5084261752965231,
          -1.5512634342652847,
          0.2276942427990733,
          -0.8151430161696882,
          -0.6924562798204221,
          -0.6311129116457891,
          -0.017679229899458825,
          -0.26305270259799096,
          -0.385739438947257,
          1.3318748699424678,
          0.4117243473229724,
          -0.569769543471156,
          0.5344110836722384,
          0.10500750644980723,
          -0.9378297525189543,
          1.577248342641,
          1.0251580290693028,
          0.28903761097370634,
          0.2276942427990733,
          0.3503809791483394,
          1.2091881335932018,
          1.2091881335932018,
          1.2091881335932018,
          0.3503809791483394,
          -0.569769543471156,
          -0.9991731206935873,
          0.04366413827517421,
          0.7797845563707706,
          -1.3672333297413855,
          -0.26305270259799096,
          -1.0605164888682204,
          -0.07902259807409186,
          -0.6311129116457891,
          1.638591710815633,
          0.8411279245454036,
          -0.6924562798204221,
          -0.9378297525189543,
          -0.8764863843443212,
          -0.14036596624872488,
          -0.8764863843443212,
          -0.9378297525189543,
          -0.20170933442335792,
          1.0865013972439357,
          -0.14036596624872488
         ],
         "y0": " ",
         "yaxis": "y"
        }
       ],
       "layout": {
        "boxmode": "group",
        "legend": {
         "tracegroupgap": 0
        },
        "margin": {
         "t": 60
        },
        "template": {
         "data": {
          "bar": [
           {
            "error_x": {
             "color": "#2a3f5f"
            },
            "error_y": {
             "color": "#2a3f5f"
            },
            "marker": {
             "line": {
              "color": "#E5ECF6",
              "width": 0.5
             },
             "pattern": {
              "fillmode": "overlay",
              "size": 10,
              "solidity": 0.2
             }
            },
            "type": "bar"
           }
          ],
          "barpolar": [
           {
            "marker": {
             "line": {
              "color": "#E5ECF6",
              "width": 0.5
             },
             "pattern": {
              "fillmode": "overlay",
              "size": 10,
              "solidity": 0.2
             }
            },
            "type": "barpolar"
           }
          ],
          "carpet": [
           {
            "aaxis": {
             "endlinecolor": "#2a3f5f",
             "gridcolor": "white",
             "linecolor": "white",
             "minorgridcolor": "white",
             "startlinecolor": "#2a3f5f"
            },
            "baxis": {
             "endlinecolor": "#2a3f5f",
             "gridcolor": "white",
             "linecolor": "white",
             "minorgridcolor": "white",
             "startlinecolor": "#2a3f5f"
            },
            "type": "carpet"
           }
          ],
          "choropleth": [
           {
            "colorbar": {
             "outlinewidth": 0,
             "ticks": ""
            },
            "type": "choropleth"
           }
          ],
          "contour": [
           {
            "colorbar": {
             "outlinewidth": 0,
             "ticks": ""
            },
            "colorscale": [
             [
              0,
              "#0d0887"
             ],
             [
              0.1111111111111111,
              "#46039f"
             ],
             [
              0.2222222222222222,
              "#7201a8"
             ],
             [
              0.3333333333333333,
              "#9c179e"
             ],
             [
              0.4444444444444444,
              "#bd3786"
             ],
             [
              0.5555555555555556,
              "#d8576b"
             ],
             [
              0.6666666666666666,
              "#ed7953"
             ],
             [
              0.7777777777777778,
              "#fb9f3a"
             ],
             [
              0.8888888888888888,
              "#fdca26"
             ],
             [
              1,
              "#f0f921"
             ]
            ],
            "type": "contour"
           }
          ],
          "contourcarpet": [
           {
            "colorbar": {
             "outlinewidth": 0,
             "ticks": ""
            },
            "type": "contourcarpet"
           }
          ],
          "heatmap": [
           {
            "colorbar": {
             "outlinewidth": 0,
             "ticks": ""
            },
            "colorscale": [
             [
              0,
              "#0d0887"
             ],
             [
              0.1111111111111111,
              "#46039f"
             ],
             [
              0.2222222222222222,
              "#7201a8"
             ],
             [
              0.3333333333333333,
              "#9c179e"
             ],
             [
              0.4444444444444444,
              "#bd3786"
             ],
             [
              0.5555555555555556,
              "#d8576b"
             ],
             [
              0.6666666666666666,
              "#ed7953"
             ],
             [
              0.7777777777777778,
              "#fb9f3a"
             ],
             [
              0.8888888888888888,
              "#fdca26"
             ],
             [
              1,
              "#f0f921"
             ]
            ],
            "type": "heatmap"
           }
          ],
          "heatmapgl": [
           {
            "colorbar": {
             "outlinewidth": 0,
             "ticks": ""
            },
            "colorscale": [
             [
              0,
              "#0d0887"
             ],
             [
              0.1111111111111111,
              "#46039f"
             ],
             [
              0.2222222222222222,
              "#7201a8"
             ],
             [
              0.3333333333333333,
              "#9c179e"
             ],
             [
              0.4444444444444444,
              "#bd3786"
             ],
             [
              0.5555555555555556,
              "#d8576b"
             ],
             [
              0.6666666666666666,
              "#ed7953"
             ],
             [
              0.7777777777777778,
              "#fb9f3a"
             ],
             [
              0.8888888888888888,
              "#fdca26"
             ],
             [
              1,
              "#f0f921"
             ]
            ],
            "type": "heatmapgl"
           }
          ],
          "histogram": [
           {
            "marker": {
             "pattern": {
              "fillmode": "overlay",
              "size": 10,
              "solidity": 0.2
             }
            },
            "type": "histogram"
           }
          ],
          "histogram2d": [
           {
            "colorbar": {
             "outlinewidth": 0,
             "ticks": ""
            },
            "colorscale": [
             [
              0,
              "#0d0887"
             ],
             [
              0.1111111111111111,
              "#46039f"
             ],
             [
              0.2222222222222222,
              "#7201a8"
             ],
             [
              0.3333333333333333,
              "#9c179e"
             ],
             [
              0.4444444444444444,
              "#bd3786"
             ],
             [
              0.5555555555555556,
              "#d8576b"
             ],
             [
              0.6666666666666666,
              "#ed7953"
             ],
             [
              0.7777777777777778,
              "#fb9f3a"
             ],
             [
              0.8888888888888888,
              "#fdca26"
             ],
             [
              1,
              "#f0f921"
             ]
            ],
            "type": "histogram2d"
           }
          ],
          "histogram2dcontour": [
           {
            "colorbar": {
             "outlinewidth": 0,
             "ticks": ""
            },
            "colorscale": [
             [
              0,
              "#0d0887"
             ],
             [
              0.1111111111111111,
              "#46039f"
             ],
             [
              0.2222222222222222,
              "#7201a8"
             ],
             [
              0.3333333333333333,
              "#9c179e"
             ],
             [
              0.4444444444444444,
              "#bd3786"
             ],
             [
              0.5555555555555556,
              "#d8576b"
             ],
             [
              0.6666666666666666,
              "#ed7953"
             ],
             [
              0.7777777777777778,
              "#fb9f3a"
             ],
             [
              0.8888888888888888,
              "#fdca26"
             ],
             [
              1,
              "#f0f921"
             ]
            ],
            "type": "histogram2dcontour"
           }
          ],
          "mesh3d": [
           {
            "colorbar": {
             "outlinewidth": 0,
             "ticks": ""
            },
            "type": "mesh3d"
           }
          ],
          "parcoords": [
           {
            "line": {
             "colorbar": {
              "outlinewidth": 0,
              "ticks": ""
             }
            },
            "type": "parcoords"
           }
          ],
          "pie": [
           {
            "automargin": true,
            "type": "pie"
           }
          ],
          "scatter": [
           {
            "marker": {
             "colorbar": {
              "outlinewidth": 0,
              "ticks": ""
             }
            },
            "type": "scatter"
           }
          ],
          "scatter3d": [
           {
            "line": {
             "colorbar": {
              "outlinewidth": 0,
              "ticks": ""
             }
            },
            "marker": {
             "colorbar": {
              "outlinewidth": 0,
              "ticks": ""
             }
            },
            "type": "scatter3d"
           }
          ],
          "scattercarpet": [
           {
            "marker": {
             "colorbar": {
              "outlinewidth": 0,
              "ticks": ""
             }
            },
            "type": "scattercarpet"
           }
          ],
          "scattergeo": [
           {
            "marker": {
             "colorbar": {
              "outlinewidth": 0,
              "ticks": ""
             }
            },
            "type": "scattergeo"
           }
          ],
          "scattergl": [
           {
            "marker": {
             "colorbar": {
              "outlinewidth": 0,
              "ticks": ""
             }
            },
            "type": "scattergl"
           }
          ],
          "scattermapbox": [
           {
            "marker": {
             "colorbar": {
              "outlinewidth": 0,
              "ticks": ""
             }
            },
            "type": "scattermapbox"
           }
          ],
          "scatterpolar": [
           {
            "marker": {
             "colorbar": {
              "outlinewidth": 0,
              "ticks": ""
             }
            },
            "type": "scatterpolar"
           }
          ],
          "scatterpolargl": [
           {
            "marker": {
             "colorbar": {
              "outlinewidth": 0,
              "ticks": ""
             }
            },
            "type": "scatterpolargl"
           }
          ],
          "scatterternary": [
           {
            "marker": {
             "colorbar": {
              "outlinewidth": 0,
              "ticks": ""
             }
            },
            "type": "scatterternary"
           }
          ],
          "surface": [
           {
            "colorbar": {
             "outlinewidth": 0,
             "ticks": ""
            },
            "colorscale": [
             [
              0,
              "#0d0887"
             ],
             [
              0.1111111111111111,
              "#46039f"
             ],
             [
              0.2222222222222222,
              "#7201a8"
             ],
             [
              0.3333333333333333,
              "#9c179e"
             ],
             [
              0.4444444444444444,
              "#bd3786"
             ],
             [
              0.5555555555555556,
              "#d8576b"
             ],
             [
              0.6666666666666666,
              "#ed7953"
             ],
             [
              0.7777777777777778,
              "#fb9f3a"
             ],
             [
              0.8888888888888888,
              "#fdca26"
             ],
             [
              1,
              "#f0f921"
             ]
            ],
            "type": "surface"
           }
          ],
          "table": [
           {
            "cells": {
             "fill": {
              "color": "#EBF0F8"
             },
             "line": {
              "color": "white"
             }
            },
            "header": {
             "fill": {
              "color": "#C8D4E3"
             },
             "line": {
              "color": "white"
             }
            },
            "type": "table"
           }
          ]
         },
         "layout": {
          "annotationdefaults": {
           "arrowcolor": "#2a3f5f",
           "arrowhead": 0,
           "arrowwidth": 1
          },
          "autotypenumbers": "strict",
          "coloraxis": {
           "colorbar": {
            "outlinewidth": 0,
            "ticks": ""
           }
          },
          "colorscale": {
           "diverging": [
            [
             0,
             "#8e0152"
            ],
            [
             0.1,
             "#c51b7d"
            ],
            [
             0.2,
             "#de77ae"
            ],
            [
             0.3,
             "#f1b6da"
            ],
            [
             0.4,
             "#fde0ef"
            ],
            [
             0.5,
             "#f7f7f7"
            ],
            [
             0.6,
             "#e6f5d0"
            ],
            [
             0.7,
             "#b8e186"
            ],
            [
             0.8,
             "#7fbc41"
            ],
            [
             0.9,
             "#4d9221"
            ],
            [
             1,
             "#276419"
            ]
           ],
           "sequential": [
            [
             0,
             "#0d0887"
            ],
            [
             0.1111111111111111,
             "#46039f"
            ],
            [
             0.2222222222222222,
             "#7201a8"
            ],
            [
             0.3333333333333333,
             "#9c179e"
            ],
            [
             0.4444444444444444,
             "#bd3786"
            ],
            [
             0.5555555555555556,
             "#d8576b"
            ],
            [
             0.6666666666666666,
             "#ed7953"
            ],
            [
             0.7777777777777778,
             "#fb9f3a"
            ],
            [
             0.8888888888888888,
             "#fdca26"
            ],
            [
             1,
             "#f0f921"
            ]
           ],
           "sequentialminus": [
            [
             0,
             "#0d0887"
            ],
            [
             0.1111111111111111,
             "#46039f"
            ],
            [
             0.2222222222222222,
             "#7201a8"
            ],
            [
             0.3333333333333333,
             "#9c179e"
            ],
            [
             0.4444444444444444,
             "#bd3786"
            ],
            [
             0.5555555555555556,
             "#d8576b"
            ],
            [
             0.6666666666666666,
             "#ed7953"
            ],
            [
             0.7777777777777778,
             "#fb9f3a"
            ],
            [
             0.8888888888888888,
             "#fdca26"
            ],
            [
             1,
             "#f0f921"
            ]
           ]
          },
          "colorway": [
           "#636efa",
           "#EF553B",
           "#00cc96",
           "#ab63fa",
           "#FFA15A",
           "#19d3f3",
           "#FF6692",
           "#B6E880",
           "#FF97FF",
           "#FECB52"
          ],
          "font": {
           "color": "#2a3f5f"
          },
          "geo": {
           "bgcolor": "white",
           "lakecolor": "white",
           "landcolor": "#E5ECF6",
           "showlakes": true,
           "showland": true,
           "subunitcolor": "white"
          },
          "hoverlabel": {
           "align": "left"
          },
          "hovermode": "closest",
          "mapbox": {
           "style": "light"
          },
          "paper_bgcolor": "white",
          "plot_bgcolor": "#E5ECF6",
          "polar": {
           "angularaxis": {
            "gridcolor": "white",
            "linecolor": "white",
            "ticks": ""
           },
           "bgcolor": "#E5ECF6",
           "radialaxis": {
            "gridcolor": "white",
            "linecolor": "white",
            "ticks": ""
           }
          },
          "scene": {
           "xaxis": {
            "backgroundcolor": "#E5ECF6",
            "gridcolor": "white",
            "gridwidth": 2,
            "linecolor": "white",
            "showbackground": true,
            "ticks": "",
            "zerolinecolor": "white"
           },
           "yaxis": {
            "backgroundcolor": "#E5ECF6",
            "gridcolor": "white",
            "gridwidth": 2,
            "linecolor": "white",
            "showbackground": true,
            "ticks": "",
            "zerolinecolor": "white"
           },
           "zaxis": {
            "backgroundcolor": "#E5ECF6",
            "gridcolor": "white",
            "gridwidth": 2,
            "linecolor": "white",
            "showbackground": true,
            "ticks": "",
            "zerolinecolor": "white"
           }
          },
          "shapedefaults": {
           "line": {
            "color": "#2a3f5f"
           }
          },
          "ternary": {
           "aaxis": {
            "gridcolor": "white",
            "linecolor": "white",
            "ticks": ""
           },
           "baxis": {
            "gridcolor": "white",
            "linecolor": "white",
            "ticks": ""
           },
           "bgcolor": "#E5ECF6",
           "caxis": {
            "gridcolor": "white",
            "linecolor": "white",
            "ticks": ""
           }
          },
          "title": {
           "x": 0.05
          },
          "xaxis": {
           "automargin": true,
           "gridcolor": "white",
           "linecolor": "white",
           "ticks": "",
           "title": {
            "standoff": 15
           },
           "zerolinecolor": "white",
           "zerolinewidth": 2
          },
          "yaxis": {
           "automargin": true,
           "gridcolor": "white",
           "linecolor": "white",
           "ticks": "",
           "title": {
            "standoff": 15
           },
           "zerolinecolor": "white",
           "zerolinewidth": 2
          }
         }
        },
        "xaxis": {
         "anchor": "y",
         "domain": [
          0,
          1
         ]
        },
        "yaxis": {
         "anchor": "x",
         "domain": [
          0,
          1
         ],
         "title": {
          "text": "RH"
         }
        }
       }
      }
     },
     "metadata": {},
     "output_type": "display_data"
    },
    {
     "data": {
      "application/vnd.plotly.v1+json": {
       "config": {
        "plotlyServerURL": "https://plot.ly"
       },
       "data": [
        {
         "alignmentgroup": "True",
         "hovertemplate": "wind=%{y}<extra></extra>",
         "legendgroup": "",
         "marker": {
          "color": "#636efa"
         },
         "name": "",
         "notched": false,
         "offsetgroup": "",
         "orientation": "v",
         "showlegend": false,
         "type": "box",
         "x0": " ",
         "xaxis": "x",
         "y": [
          -1.741755636812102,
          -1.518281840005586,
          0.772324577261204,
          -0.5126497543762636,
          0.772324577261204,
          -0.009833711561602487,
          1.7779566628905261,
          -1.0154657971909247,
          0.2695085344465426,
          0.772324577261204,
          -0.7361235511827796,
          -0.7361235511827796,
          0.9957983740677198,
          0.772324577261204,
          0.9957983740677198,
          -1.518281840005586,
          -0.7361235511827796,
          -0.2333075083681185,
          -0.2333075083681185,
          2.001430459697042,
          -1.238939593997441,
          -0.2333075083681185,
          -0.7361235511827796,
          0.2695085344465426,
          0.2695085344465426,
          0.772324577261204,
          -0.009833711561602487,
          1.4986144168823812,
          0.772324577261204,
          -0.7361235511827796,
          0.49298233125305885,
          -0.009833711561602487,
          -0.2333075083681185,
          -0.5126497543762636,
          -1.518281840005586,
          -1.0154657971909247,
          0.49298233125305885,
          0.49298233125305885,
          -0.2333075083681185,
          -1.0154657971909247,
          0.49298233125305885,
          -0.7361235511827796,
          -0.2333075083681185,
          0.2695085344465426,
          -1.518281840005586,
          0.9957983740677198,
          1.2751406200758648,
          0.49298233125305885,
          -0.7361235511827796,
          -1.518281840005586,
          0.772324577261204,
          0.772324577261204,
          0.772324577261204,
          -0.009833711561602487,
          0.2695085344465426,
          -0.5126497543762636,
          -0.5126497543762636,
          0.772324577261204,
          -0.2333075083681185,
          -0.7361235511827796,
          -0.5126497543762636,
          -1.0154657971909247,
          0.772324577261204,
          0.772324577261204,
          0.772324577261204,
          0.772324577261204,
          -0.5126497543762636,
          -0.2333075083681185,
          -1.741755636812102,
          -0.5126497543762636,
          -1.518281840005586,
          -0.5126497543762636,
          -1.0154657971909247,
          -1.238939593997441,
          2.7277202993182197,
          0.772324577261204,
          -0.009833711561602487,
          0.2695085344465426,
          0.772324577261204,
          -1.238939593997441,
          0.49298233125305885,
          -0.7361235511827796,
          -1.518281840005586,
          -1.0154657971909247,
          -0.009833711561602487,
          0.9957983740677198,
          -0.009833711561602487,
          -1.238939593997441,
          -1.0154657971909247,
          -1.741755636812102,
          0.2695085344465426,
          -1.0154657971909247,
          -1.238939593997441,
          0.772324577261204,
          -1.0154657971909247,
          -1.238939593997441,
          0.49298233125305885,
          -0.7361235511827796,
          -1.0154657971909247,
          0.772324577261204,
          1.4986144168823812,
          0.2695085344465426,
          0.49298233125305885,
          -0.5126497543762636,
          -1.0154657971909247,
          -0.7361235511827796,
          -0.009833711561602487,
          0.772324577261204,
          -1.741755636812102,
          1.2751406200758648,
          -1.0154657971909247,
          -0.7361235511827796,
          -1.238939593997441,
          -1.0154657971909247,
          1.2751406200758648,
          0.49298233125305885,
          -0.5126497543762636,
          0.49298233125305885,
          -1.518281840005586,
          1.2751406200758648,
          -1.518281840005586,
          -0.5126497543762636,
          -0.2333075083681185,
          0.2695085344465426,
          0.49298233125305885,
          -0.009833711561602487,
          0.2695085344465426,
          -0.5126497543762636,
          -0.009833711561602487,
          0.2695085344465426,
          -0.5126497543762636,
          -0.7361235511827796,
          -0.5126497543762636,
          0.9957983740677198,
          -0.009833711561602487,
          -0.009833711561602487,
          2.001430459697042,
          1.2751406200758648,
          0.772324577261204,
          -1.0154657971909247,
          -0.7361235511827796,
          -2.0210978828202473,
          -0.5126497543762636,
          -0.5126497543762636,
          -0.2333075083681185,
          -0.7361235511827796,
          -0.5126497543762636,
          -0.009833711561602487,
          -1.0154657971909247,
          -0.7361235511827796,
          -1.741755636812102,
          -1.238939593997441,
          -0.009833711561602487,
          -0.5126497543762636,
          -0.2333075083681185,
          -0.5126497543762636,
          2.001430459697042,
          -0.5126497543762636,
          -0.7361235511827796,
          0.2695085344465426,
          -0.009833711561602487,
          1.2751406200758648,
          -0.7361235511827796,
          -1.238939593997441,
          -1.238939593997441,
          -1.238939593997441,
          -1.741755636812102,
          -1.518281840005586,
          0.772324577261204,
          -0.2333075083681185,
          -1.518281840005586,
          -1.238939593997441,
          -1.0154657971909247,
          0.49298233125305885,
          0.49298233125305885,
          0.772324577261204,
          0.2695085344465426,
          0.2695085344465426,
          -1.0154657971909247,
          0.772324577261204,
          -0.2333075083681185,
          -1.238939593997441,
          -1.0154657971909247,
          -0.7361235511827796,
          -1.238939593997441,
          0.49298233125305885,
          -1.238939593997441,
          -0.7361235511827796,
          0.9957983740677198,
          0.49298233125305885,
          -1.0154657971909247,
          1.2751406200758648,
          1.7779566628905261,
          -0.009833711561602487,
          -0.009833711561602487,
          -0.7361235511827796,
          -1.238939593997441,
          -0.5126497543762636,
          -0.5126497543762636,
          -1.0154657971909247,
          -1.238939593997441,
          -0.009833711561602487,
          -0.5126497543762636,
          0.2695085344465426,
          -1.0154657971909247,
          -0.5126497543762636,
          0.772324577261204,
          -1.0154657971909247,
          -1.0154657971909247,
          -1.0154657971909247,
          -1.238939593997441,
          -1.0154657971909247,
          -1.0154657971909247,
          -1.238939593997441,
          0.2695085344465426,
          0.49298233125305885,
          -1.0154657971909247,
          -0.2333075083681185,
          0.2695085344465426,
          -0.2333075083681185,
          -0.2333075083681185,
          1.2751406200758648,
          -0.2333075083681185,
          -0.7361235511827796,
          -1.0154657971909247,
          0.49298233125305885,
          0.49298233125305885,
          -0.2333075083681185,
          -0.7361235511827796,
          -1.0154657971909247,
          -1.0154657971909247,
          -0.009833711561602487,
          -0.5126497543762636,
          -1.0154657971909247,
          -0.7361235511827796,
          -0.5126497543762636,
          0.772324577261204,
          -0.2333075083681185,
          0.49298233125305885,
          -0.009833711561602487,
          -1.741755636812102,
          -0.7361235511827796,
          0.49298233125305885,
          -1.0154657971909247,
          1.7779566628905261,
          -0.7361235511827796,
          -1.238939593997441,
          -1.0154657971909247,
          0.772324577261204,
          -0.5126497543762636,
          -0.5126497543762636,
          -0.7361235511827796,
          0.49298233125305885,
          -0.2333075083681185,
          0.2695085344465426,
          0.2695085344465426,
          -0.009833711561602487,
          -0.2333075083681185,
          -1.0154657971909247,
          0.772324577261204,
          0.2695085344465426,
          -0.2333075083681185,
          -0.009833711561602487,
          0.49298233125305885,
          -0.5126497543762636,
          0.772324577261204,
          -0.009833711561602487,
          0.2695085344465426,
          -0.009833711561602487,
          -0.2333075083681185,
          -1.0154657971909247,
          0.9957983740677198,
          -0.009833711561602487,
          -0.009833711561602487,
          1.4986144168823812,
          0.49298233125305885,
          -1.238939593997441,
          -1.518281840005586,
          -0.009833711561602487,
          -1.0154657971909247,
          -1.238939593997441,
          -1.0154657971909247,
          0.49298233125305885,
          0.772324577261204,
          -0.7361235511827796,
          -0.009833711561602487,
          0.49298233125305885,
          0.49298233125305885,
          0.49298233125305885,
          -0.5126497543762636,
          -0.7361235511827796,
          -1.518281840005586,
          -0.009833711561602487,
          0.49298233125305885,
          0.49298233125305885,
          0.9957983740677198,
          0.772324577261204,
          1.2751406200758648,
          -0.2333075083681185,
          2.001430459697042,
          -1.518281840005586,
          -0.009833711561602487,
          0.2695085344465426,
          0.49298233125305885,
          -1.0154657971909247,
          0.49298233125305885,
          0.49298233125305885,
          -0.2333075083681185,
          0.772324577261204,
          -0.009833711561602487
         ],
         "y0": " ",
         "yaxis": "y"
        }
       ],
       "layout": {
        "boxmode": "group",
        "legend": {
         "tracegroupgap": 0
        },
        "margin": {
         "t": 60
        },
        "template": {
         "data": {
          "bar": [
           {
            "error_x": {
             "color": "#2a3f5f"
            },
            "error_y": {
             "color": "#2a3f5f"
            },
            "marker": {
             "line": {
              "color": "#E5ECF6",
              "width": 0.5
             },
             "pattern": {
              "fillmode": "overlay",
              "size": 10,
              "solidity": 0.2
             }
            },
            "type": "bar"
           }
          ],
          "barpolar": [
           {
            "marker": {
             "line": {
              "color": "#E5ECF6",
              "width": 0.5
             },
             "pattern": {
              "fillmode": "overlay",
              "size": 10,
              "solidity": 0.2
             }
            },
            "type": "barpolar"
           }
          ],
          "carpet": [
           {
            "aaxis": {
             "endlinecolor": "#2a3f5f",
             "gridcolor": "white",
             "linecolor": "white",
             "minorgridcolor": "white",
             "startlinecolor": "#2a3f5f"
            },
            "baxis": {
             "endlinecolor": "#2a3f5f",
             "gridcolor": "white",
             "linecolor": "white",
             "minorgridcolor": "white",
             "startlinecolor": "#2a3f5f"
            },
            "type": "carpet"
           }
          ],
          "choropleth": [
           {
            "colorbar": {
             "outlinewidth": 0,
             "ticks": ""
            },
            "type": "choropleth"
           }
          ],
          "contour": [
           {
            "colorbar": {
             "outlinewidth": 0,
             "ticks": ""
            },
            "colorscale": [
             [
              0,
              "#0d0887"
             ],
             [
              0.1111111111111111,
              "#46039f"
             ],
             [
              0.2222222222222222,
              "#7201a8"
             ],
             [
              0.3333333333333333,
              "#9c179e"
             ],
             [
              0.4444444444444444,
              "#bd3786"
             ],
             [
              0.5555555555555556,
              "#d8576b"
             ],
             [
              0.6666666666666666,
              "#ed7953"
             ],
             [
              0.7777777777777778,
              "#fb9f3a"
             ],
             [
              0.8888888888888888,
              "#fdca26"
             ],
             [
              1,
              "#f0f921"
             ]
            ],
            "type": "contour"
           }
          ],
          "contourcarpet": [
           {
            "colorbar": {
             "outlinewidth": 0,
             "ticks": ""
            },
            "type": "contourcarpet"
           }
          ],
          "heatmap": [
           {
            "colorbar": {
             "outlinewidth": 0,
             "ticks": ""
            },
            "colorscale": [
             [
              0,
              "#0d0887"
             ],
             [
              0.1111111111111111,
              "#46039f"
             ],
             [
              0.2222222222222222,
              "#7201a8"
             ],
             [
              0.3333333333333333,
              "#9c179e"
             ],
             [
              0.4444444444444444,
              "#bd3786"
             ],
             [
              0.5555555555555556,
              "#d8576b"
             ],
             [
              0.6666666666666666,
              "#ed7953"
             ],
             [
              0.7777777777777778,
              "#fb9f3a"
             ],
             [
              0.8888888888888888,
              "#fdca26"
             ],
             [
              1,
              "#f0f921"
             ]
            ],
            "type": "heatmap"
           }
          ],
          "heatmapgl": [
           {
            "colorbar": {
             "outlinewidth": 0,
             "ticks": ""
            },
            "colorscale": [
             [
              0,
              "#0d0887"
             ],
             [
              0.1111111111111111,
              "#46039f"
             ],
             [
              0.2222222222222222,
              "#7201a8"
             ],
             [
              0.3333333333333333,
              "#9c179e"
             ],
             [
              0.4444444444444444,
              "#bd3786"
             ],
             [
              0.5555555555555556,
              "#d8576b"
             ],
             [
              0.6666666666666666,
              "#ed7953"
             ],
             [
              0.7777777777777778,
              "#fb9f3a"
             ],
             [
              0.8888888888888888,
              "#fdca26"
             ],
             [
              1,
              "#f0f921"
             ]
            ],
            "type": "heatmapgl"
           }
          ],
          "histogram": [
           {
            "marker": {
             "pattern": {
              "fillmode": "overlay",
              "size": 10,
              "solidity": 0.2
             }
            },
            "type": "histogram"
           }
          ],
          "histogram2d": [
           {
            "colorbar": {
             "outlinewidth": 0,
             "ticks": ""
            },
            "colorscale": [
             [
              0,
              "#0d0887"
             ],
             [
              0.1111111111111111,
              "#46039f"
             ],
             [
              0.2222222222222222,
              "#7201a8"
             ],
             [
              0.3333333333333333,
              "#9c179e"
             ],
             [
              0.4444444444444444,
              "#bd3786"
             ],
             [
              0.5555555555555556,
              "#d8576b"
             ],
             [
              0.6666666666666666,
              "#ed7953"
             ],
             [
              0.7777777777777778,
              "#fb9f3a"
             ],
             [
              0.8888888888888888,
              "#fdca26"
             ],
             [
              1,
              "#f0f921"
             ]
            ],
            "type": "histogram2d"
           }
          ],
          "histogram2dcontour": [
           {
            "colorbar": {
             "outlinewidth": 0,
             "ticks": ""
            },
            "colorscale": [
             [
              0,
              "#0d0887"
             ],
             [
              0.1111111111111111,
              "#46039f"
             ],
             [
              0.2222222222222222,
              "#7201a8"
             ],
             [
              0.3333333333333333,
              "#9c179e"
             ],
             [
              0.4444444444444444,
              "#bd3786"
             ],
             [
              0.5555555555555556,
              "#d8576b"
             ],
             [
              0.6666666666666666,
              "#ed7953"
             ],
             [
              0.7777777777777778,
              "#fb9f3a"
             ],
             [
              0.8888888888888888,
              "#fdca26"
             ],
             [
              1,
              "#f0f921"
             ]
            ],
            "type": "histogram2dcontour"
           }
          ],
          "mesh3d": [
           {
            "colorbar": {
             "outlinewidth": 0,
             "ticks": ""
            },
            "type": "mesh3d"
           }
          ],
          "parcoords": [
           {
            "line": {
             "colorbar": {
              "outlinewidth": 0,
              "ticks": ""
             }
            },
            "type": "parcoords"
           }
          ],
          "pie": [
           {
            "automargin": true,
            "type": "pie"
           }
          ],
          "scatter": [
           {
            "marker": {
             "colorbar": {
              "outlinewidth": 0,
              "ticks": ""
             }
            },
            "type": "scatter"
           }
          ],
          "scatter3d": [
           {
            "line": {
             "colorbar": {
              "outlinewidth": 0,
              "ticks": ""
             }
            },
            "marker": {
             "colorbar": {
              "outlinewidth": 0,
              "ticks": ""
             }
            },
            "type": "scatter3d"
           }
          ],
          "scattercarpet": [
           {
            "marker": {
             "colorbar": {
              "outlinewidth": 0,
              "ticks": ""
             }
            },
            "type": "scattercarpet"
           }
          ],
          "scattergeo": [
           {
            "marker": {
             "colorbar": {
              "outlinewidth": 0,
              "ticks": ""
             }
            },
            "type": "scattergeo"
           }
          ],
          "scattergl": [
           {
            "marker": {
             "colorbar": {
              "outlinewidth": 0,
              "ticks": ""
             }
            },
            "type": "scattergl"
           }
          ],
          "scattermapbox": [
           {
            "marker": {
             "colorbar": {
              "outlinewidth": 0,
              "ticks": ""
             }
            },
            "type": "scattermapbox"
           }
          ],
          "scatterpolar": [
           {
            "marker": {
             "colorbar": {
              "outlinewidth": 0,
              "ticks": ""
             }
            },
            "type": "scatterpolar"
           }
          ],
          "scatterpolargl": [
           {
            "marker": {
             "colorbar": {
              "outlinewidth": 0,
              "ticks": ""
             }
            },
            "type": "scatterpolargl"
           }
          ],
          "scatterternary": [
           {
            "marker": {
             "colorbar": {
              "outlinewidth": 0,
              "ticks": ""
             }
            },
            "type": "scatterternary"
           }
          ],
          "surface": [
           {
            "colorbar": {
             "outlinewidth": 0,
             "ticks": ""
            },
            "colorscale": [
             [
              0,
              "#0d0887"
             ],
             [
              0.1111111111111111,
              "#46039f"
             ],
             [
              0.2222222222222222,
              "#7201a8"
             ],
             [
              0.3333333333333333,
              "#9c179e"
             ],
             [
              0.4444444444444444,
              "#bd3786"
             ],
             [
              0.5555555555555556,
              "#d8576b"
             ],
             [
              0.6666666666666666,
              "#ed7953"
             ],
             [
              0.7777777777777778,
              "#fb9f3a"
             ],
             [
              0.8888888888888888,
              "#fdca26"
             ],
             [
              1,
              "#f0f921"
             ]
            ],
            "type": "surface"
           }
          ],
          "table": [
           {
            "cells": {
             "fill": {
              "color": "#EBF0F8"
             },
             "line": {
              "color": "white"
             }
            },
            "header": {
             "fill": {
              "color": "#C8D4E3"
             },
             "line": {
              "color": "white"
             }
            },
            "type": "table"
           }
          ]
         },
         "layout": {
          "annotationdefaults": {
           "arrowcolor": "#2a3f5f",
           "arrowhead": 0,
           "arrowwidth": 1
          },
          "autotypenumbers": "strict",
          "coloraxis": {
           "colorbar": {
            "outlinewidth": 0,
            "ticks": ""
           }
          },
          "colorscale": {
           "diverging": [
            [
             0,
             "#8e0152"
            ],
            [
             0.1,
             "#c51b7d"
            ],
            [
             0.2,
             "#de77ae"
            ],
            [
             0.3,
             "#f1b6da"
            ],
            [
             0.4,
             "#fde0ef"
            ],
            [
             0.5,
             "#f7f7f7"
            ],
            [
             0.6,
             "#e6f5d0"
            ],
            [
             0.7,
             "#b8e186"
            ],
            [
             0.8,
             "#7fbc41"
            ],
            [
             0.9,
             "#4d9221"
            ],
            [
             1,
             "#276419"
            ]
           ],
           "sequential": [
            [
             0,
             "#0d0887"
            ],
            [
             0.1111111111111111,
             "#46039f"
            ],
            [
             0.2222222222222222,
             "#7201a8"
            ],
            [
             0.3333333333333333,
             "#9c179e"
            ],
            [
             0.4444444444444444,
             "#bd3786"
            ],
            [
             0.5555555555555556,
             "#d8576b"
            ],
            [
             0.6666666666666666,
             "#ed7953"
            ],
            [
             0.7777777777777778,
             "#fb9f3a"
            ],
            [
             0.8888888888888888,
             "#fdca26"
            ],
            [
             1,
             "#f0f921"
            ]
           ],
           "sequentialminus": [
            [
             0,
             "#0d0887"
            ],
            [
             0.1111111111111111,
             "#46039f"
            ],
            [
             0.2222222222222222,
             "#7201a8"
            ],
            [
             0.3333333333333333,
             "#9c179e"
            ],
            [
             0.4444444444444444,
             "#bd3786"
            ],
            [
             0.5555555555555556,
             "#d8576b"
            ],
            [
             0.6666666666666666,
             "#ed7953"
            ],
            [
             0.7777777777777778,
             "#fb9f3a"
            ],
            [
             0.8888888888888888,
             "#fdca26"
            ],
            [
             1,
             "#f0f921"
            ]
           ]
          },
          "colorway": [
           "#636efa",
           "#EF553B",
           "#00cc96",
           "#ab63fa",
           "#FFA15A",
           "#19d3f3",
           "#FF6692",
           "#B6E880",
           "#FF97FF",
           "#FECB52"
          ],
          "font": {
           "color": "#2a3f5f"
          },
          "geo": {
           "bgcolor": "white",
           "lakecolor": "white",
           "landcolor": "#E5ECF6",
           "showlakes": true,
           "showland": true,
           "subunitcolor": "white"
          },
          "hoverlabel": {
           "align": "left"
          },
          "hovermode": "closest",
          "mapbox": {
           "style": "light"
          },
          "paper_bgcolor": "white",
          "plot_bgcolor": "#E5ECF6",
          "polar": {
           "angularaxis": {
            "gridcolor": "white",
            "linecolor": "white",
            "ticks": ""
           },
           "bgcolor": "#E5ECF6",
           "radialaxis": {
            "gridcolor": "white",
            "linecolor": "white",
            "ticks": ""
           }
          },
          "scene": {
           "xaxis": {
            "backgroundcolor": "#E5ECF6",
            "gridcolor": "white",
            "gridwidth": 2,
            "linecolor": "white",
            "showbackground": true,
            "ticks": "",
            "zerolinecolor": "white"
           },
           "yaxis": {
            "backgroundcolor": "#E5ECF6",
            "gridcolor": "white",
            "gridwidth": 2,
            "linecolor": "white",
            "showbackground": true,
            "ticks": "",
            "zerolinecolor": "white"
           },
           "zaxis": {
            "backgroundcolor": "#E5ECF6",
            "gridcolor": "white",
            "gridwidth": 2,
            "linecolor": "white",
            "showbackground": true,
            "ticks": "",
            "zerolinecolor": "white"
           }
          },
          "shapedefaults": {
           "line": {
            "color": "#2a3f5f"
           }
          },
          "ternary": {
           "aaxis": {
            "gridcolor": "white",
            "linecolor": "white",
            "ticks": ""
           },
           "baxis": {
            "gridcolor": "white",
            "linecolor": "white",
            "ticks": ""
           },
           "bgcolor": "#E5ECF6",
           "caxis": {
            "gridcolor": "white",
            "linecolor": "white",
            "ticks": ""
           }
          },
          "title": {
           "x": 0.05
          },
          "xaxis": {
           "automargin": true,
           "gridcolor": "white",
           "linecolor": "white",
           "ticks": "",
           "title": {
            "standoff": 15
           },
           "zerolinecolor": "white",
           "zerolinewidth": 2
          },
          "yaxis": {
           "automargin": true,
           "gridcolor": "white",
           "linecolor": "white",
           "ticks": "",
           "title": {
            "standoff": 15
           },
           "zerolinecolor": "white",
           "zerolinewidth": 2
          }
         }
        },
        "xaxis": {
         "anchor": "y",
         "domain": [
          0,
          1
         ]
        },
        "yaxis": {
         "anchor": "x",
         "domain": [
          0,
          1
         ],
         "title": {
          "text": "wind"
         }
        }
       }
      }
     },
     "metadata": {},
     "output_type": "display_data"
    },
    {
     "data": {
      "application/vnd.plotly.v1+json": {
       "config": {
        "plotlyServerURL": "https://plot.ly"
       },
       "data": [
        {
         "alignmentgroup": "True",
         "hovertemplate": "rain=%{y}<extra></extra>",
         "legendgroup": "",
         "marker": {
          "color": "#636efa"
         },
         "name": "",
         "notched": false,
         "offsetgroup": "",
         "orientation": "v",
         "showlegend": false,
         "type": "box",
         "x0": " ",
         "xaxis": "x",
         "y": [
          -0.07326830956410954,
          -0.07326830956410954,
          -0.07326830956410954,
          -0.07326830956410954,
          -0.07326830956410954,
          -0.07326830956410954,
          -0.07326830956410954,
          -0.07326830956410954,
          -0.07326830956410954,
          -0.07326830956410954,
          -0.07326830956410954,
          -0.07326830956410954,
          -0.07326830956410954,
          -0.07326830956410954,
          -0.07326830956410954,
          -0.07326830956410954,
          -0.07326830956410954,
          -0.07326830956410954,
          -0.07326830956410954,
          -0.07326830956410954,
          -0.07326830956410954,
          -0.07326830956410954,
          -0.07326830956410954,
          -0.07326830956410954,
          -0.07326830956410954,
          -0.07326830956410954,
          -0.07326830956410954,
          -0.07326830956410954,
          -0.07326830956410954,
          -0.07326830956410954,
          -0.07326830956410954,
          -0.07326830956410954,
          -0.07326830956410954,
          -0.07326830956410954,
          -0.07326830956410954,
          -0.07326830956410954,
          -0.07326830956410954,
          -0.07326830956410954,
          -0.07326830956410954,
          -0.07326830956410954,
          -0.07326830956410954,
          -0.07326830956410954,
          -0.07326830956410954,
          -0.07326830956410954,
          -0.07326830956410954,
          -0.07326830956410954,
          -0.07326830956410954,
          -0.07326830956410954,
          -0.07326830956410954,
          -0.07326830956410954,
          -0.07326830956410954,
          -0.07326830956410954,
          -0.07326830956410954,
          -0.07326830956410954,
          -0.07326830956410954,
          -0.07326830956410954,
          -0.07326830956410954,
          -0.07326830956410954,
          -0.07326830956410954,
          -0.07326830956410954,
          -0.07326830956410954,
          -0.07326830956410954,
          -0.07326830956410954,
          -0.07326830956410954,
          -0.07326830956410954,
          -0.07326830956410954,
          -0.07326830956410954,
          -0.07326830956410954,
          -0.07326830956410954,
          -0.07326830956410954,
          -0.07326830956410954,
          -0.07326830956410954,
          -0.07326830956410954,
          -0.07326830956410954,
          -0.07326830956410954,
          -0.07326830956410954,
          -0.07326830956410954,
          -0.07326830956410954,
          -0.07326830956410954,
          -0.07326830956410954,
          -0.07326830956410954,
          -0.07326830956410954,
          -0.07326830956410954,
          -0.07326830956410954,
          -0.07326830956410954,
          -0.07326830956410954,
          -0.07326830956410954,
          -0.07326830956410954,
          -0.07326830956410954,
          -0.07326830956410954,
          -0.07326830956410954,
          -0.07326830956410954,
          -0.07326830956410954,
          -0.07326830956410954,
          -0.07326830956410954,
          -0.07326830956410954,
          -0.07326830956410954,
          -0.07326830956410954,
          -0.07326830956410954,
          -0.07326830956410954,
          -0.07326830956410954,
          -0.07326830956410954,
          -0.07326830956410954,
          -0.07326830956410954,
          -0.07326830956410954,
          -0.07326830956410954,
          -0.07326830956410954,
          -0.07326830956410954,
          -0.07326830956410954,
          -0.07326830956410954,
          -0.07326830956410954,
          -0.07326830956410954,
          -0.07326830956410954,
          -0.07326830956410954,
          -0.07326830956410954,
          -0.07326830956410954,
          -0.07326830956410954,
          -0.07326830956410954,
          -0.07326830956410954,
          -0.07326830956410954,
          -0.07326830956410954,
          -0.07326830956410954,
          -0.07326830956410954,
          -0.07326830956410954,
          -0.07326830956410954,
          -0.07326830956410954,
          -0.07326830956410954,
          -0.07326830956410954,
          -0.07326830956410954,
          -0.07326830956410954,
          -0.07326830956410954,
          -0.07326830956410954,
          -0.07326830956410954,
          -0.07326830956410954,
          -0.07326830956410954,
          -0.07326830956410954,
          -0.07326830956410954,
          -0.07326830956410954,
          -0.07326830956410954,
          -0.07326830956410954,
          -0.07326830956410954,
          -0.07326830956410954,
          -0.07326830956410954,
          -0.07326830956410954,
          -0.07326830956410954,
          -0.07326830956410954,
          -0.07326830956410954,
          -0.07326830956410954,
          -0.07326830956410954,
          -0.07326830956410954,
          -0.07326830956410954,
          -0.07326830956410954,
          -0.07326830956410954,
          -0.07326830956410954,
          -0.07326830956410954,
          -0.07326830956410954,
          -0.07326830956410954,
          -0.07326830956410954,
          -0.07326830956410954,
          -0.07326830956410954,
          -0.07326830956410954,
          -0.07326830956410954,
          -0.07326830956410954,
          -0.07326830956410954,
          -0.07326830956410954,
          -0.07326830956410954,
          -0.07326830956410954,
          -0.07326830956410954,
          -0.07326830956410954,
          -0.07326830956410954,
          -0.07326830956410954,
          -0.07326830956410954,
          -0.07326830956410954,
          -0.07326830956410954,
          -0.07326830956410954,
          -0.07326830956410954,
          -0.07326830956410954,
          -0.07326830956410954,
          -0.07326830956410954,
          -0.07326830956410954,
          -0.07326830956410954,
          -0.07326830956410954,
          -0.07326830956410954,
          -0.07326830956410954,
          -0.07326830956410954,
          -0.07326830956410954,
          -0.07326830956410954,
          -0.07326830956410954,
          -0.07326830956410954,
          -0.07326830956410954,
          -0.07326830956410954,
          -0.07326830956410954,
          -0.07326830956410954,
          -0.07326830956410954,
          -0.07326830956410954,
          -0.07326830956410954,
          -0.07326830956410954,
          -0.07326830956410954,
          -0.07326830956410954,
          -0.07326830956410954,
          -0.07326830956410954,
          -0.07326830956410954,
          -0.07326830956410954,
          -0.07326830956410954,
          -0.07326830956410954,
          -0.07326830956410954,
          -0.07326830956410954,
          -0.07326830956410954,
          -0.07326830956410954,
          -0.07326830956410954,
          -0.07326830956410954,
          -0.07326830956410954,
          -0.07326830956410954,
          -0.07326830956410954,
          -0.07326830956410954,
          -0.07326830956410954,
          -0.07326830956410954,
          -0.07326830956410954,
          -0.07326830956410954,
          -0.07326830956410954,
          -0.07326830956410954,
          -0.07326830956410954,
          -0.07326830956410954,
          -0.07326830956410954,
          -0.07326830956410954,
          -0.07326830956410954,
          -0.07326830956410954,
          -0.07326830956410954,
          -0.07326830956410954,
          -0.07326830956410954,
          -0.07326830956410954,
          -0.07326830956410954,
          -0.07326830956410954,
          -0.07326830956410954,
          -0.07326830956410954,
          -0.07326830956410954,
          -0.07326830956410954,
          -0.07326830956410954,
          -0.07326830956410954,
          -0.07326830956410954,
          -0.07326830956410954,
          -0.07326830956410954,
          -0.07326830956410954,
          -0.07326830956410954,
          -0.07326830956410954,
          -0.07326830956410954,
          -0.07326830956410954,
          -0.07326830956410954,
          -0.07326830956410954,
          -0.07326830956410954,
          -0.07326830956410954,
          -0.07326830956410954,
          -0.07326830956410954,
          -0.07326830956410954,
          -0.07326830956410954,
          -0.07326830956410954,
          -0.07326830956410954,
          -0.07326830956410954,
          -0.07326830956410954,
          -0.07326830956410954,
          -0.07326830956410954,
          -0.07326830956410954,
          -0.07326830956410954,
          -0.07326830956410954,
          -0.07326830956410954,
          -0.07326830956410954,
          -0.07326830956410954,
          -0.07326830956410954,
          -0.07326830956410954,
          -0.07326830956410954,
          -0.07326830956410954,
          -0.07326830956410954,
          -0.07326830956410954,
          -0.07326830956410954,
          -0.07326830956410954,
          -0.07326830956410954,
          -0.07326830956410954,
          -0.07326830956410954,
          -0.07326830956410954,
          -0.07326830956410954,
          -0.07326830956410954,
          -0.07326830956410954,
          -0.07326830956410954,
          -0.07326830956410954,
          -0.07326830956410954,
          -0.07326830956410954,
          -0.07326830956410954,
          -0.07326830956410954,
          -0.07326830956410954,
          -0.07326830956410954,
          -0.07326830956410954,
          -0.07326830956410954,
          -0.07326830956410954,
          -0.07326830956410954,
          -0.07326830956410954,
          -0.07326830956410954,
          -0.07326830956410954,
          -0.07326830956410954,
          -0.07326830956410954,
          -0.07326830956410954,
          -0.07326830956410954,
          -0.07326830956410954,
          -0.07326830956410954,
          -0.07326830956410954,
          -0.07326830956410954,
          -0.07326830956410954,
          -0.07326830956410954,
          -0.07326830956410954,
          -0.07326830956410954,
          -0.07326830956410954
         ],
         "y0": " ",
         "yaxis": "y"
        }
       ],
       "layout": {
        "boxmode": "group",
        "legend": {
         "tracegroupgap": 0
        },
        "margin": {
         "t": 60
        },
        "template": {
         "data": {
          "bar": [
           {
            "error_x": {
             "color": "#2a3f5f"
            },
            "error_y": {
             "color": "#2a3f5f"
            },
            "marker": {
             "line": {
              "color": "#E5ECF6",
              "width": 0.5
             },
             "pattern": {
              "fillmode": "overlay",
              "size": 10,
              "solidity": 0.2
             }
            },
            "type": "bar"
           }
          ],
          "barpolar": [
           {
            "marker": {
             "line": {
              "color": "#E5ECF6",
              "width": 0.5
             },
             "pattern": {
              "fillmode": "overlay",
              "size": 10,
              "solidity": 0.2
             }
            },
            "type": "barpolar"
           }
          ],
          "carpet": [
           {
            "aaxis": {
             "endlinecolor": "#2a3f5f",
             "gridcolor": "white",
             "linecolor": "white",
             "minorgridcolor": "white",
             "startlinecolor": "#2a3f5f"
            },
            "baxis": {
             "endlinecolor": "#2a3f5f",
             "gridcolor": "white",
             "linecolor": "white",
             "minorgridcolor": "white",
             "startlinecolor": "#2a3f5f"
            },
            "type": "carpet"
           }
          ],
          "choropleth": [
           {
            "colorbar": {
             "outlinewidth": 0,
             "ticks": ""
            },
            "type": "choropleth"
           }
          ],
          "contour": [
           {
            "colorbar": {
             "outlinewidth": 0,
             "ticks": ""
            },
            "colorscale": [
             [
              0,
              "#0d0887"
             ],
             [
              0.1111111111111111,
              "#46039f"
             ],
             [
              0.2222222222222222,
              "#7201a8"
             ],
             [
              0.3333333333333333,
              "#9c179e"
             ],
             [
              0.4444444444444444,
              "#bd3786"
             ],
             [
              0.5555555555555556,
              "#d8576b"
             ],
             [
              0.6666666666666666,
              "#ed7953"
             ],
             [
              0.7777777777777778,
              "#fb9f3a"
             ],
             [
              0.8888888888888888,
              "#fdca26"
             ],
             [
              1,
              "#f0f921"
             ]
            ],
            "type": "contour"
           }
          ],
          "contourcarpet": [
           {
            "colorbar": {
             "outlinewidth": 0,
             "ticks": ""
            },
            "type": "contourcarpet"
           }
          ],
          "heatmap": [
           {
            "colorbar": {
             "outlinewidth": 0,
             "ticks": ""
            },
            "colorscale": [
             [
              0,
              "#0d0887"
             ],
             [
              0.1111111111111111,
              "#46039f"
             ],
             [
              0.2222222222222222,
              "#7201a8"
             ],
             [
              0.3333333333333333,
              "#9c179e"
             ],
             [
              0.4444444444444444,
              "#bd3786"
             ],
             [
              0.5555555555555556,
              "#d8576b"
             ],
             [
              0.6666666666666666,
              "#ed7953"
             ],
             [
              0.7777777777777778,
              "#fb9f3a"
             ],
             [
              0.8888888888888888,
              "#fdca26"
             ],
             [
              1,
              "#f0f921"
             ]
            ],
            "type": "heatmap"
           }
          ],
          "heatmapgl": [
           {
            "colorbar": {
             "outlinewidth": 0,
             "ticks": ""
            },
            "colorscale": [
             [
              0,
              "#0d0887"
             ],
             [
              0.1111111111111111,
              "#46039f"
             ],
             [
              0.2222222222222222,
              "#7201a8"
             ],
             [
              0.3333333333333333,
              "#9c179e"
             ],
             [
              0.4444444444444444,
              "#bd3786"
             ],
             [
              0.5555555555555556,
              "#d8576b"
             ],
             [
              0.6666666666666666,
              "#ed7953"
             ],
             [
              0.7777777777777778,
              "#fb9f3a"
             ],
             [
              0.8888888888888888,
              "#fdca26"
             ],
             [
              1,
              "#f0f921"
             ]
            ],
            "type": "heatmapgl"
           }
          ],
          "histogram": [
           {
            "marker": {
             "pattern": {
              "fillmode": "overlay",
              "size": 10,
              "solidity": 0.2
             }
            },
            "type": "histogram"
           }
          ],
          "histogram2d": [
           {
            "colorbar": {
             "outlinewidth": 0,
             "ticks": ""
            },
            "colorscale": [
             [
              0,
              "#0d0887"
             ],
             [
              0.1111111111111111,
              "#46039f"
             ],
             [
              0.2222222222222222,
              "#7201a8"
             ],
             [
              0.3333333333333333,
              "#9c179e"
             ],
             [
              0.4444444444444444,
              "#bd3786"
             ],
             [
              0.5555555555555556,
              "#d8576b"
             ],
             [
              0.6666666666666666,
              "#ed7953"
             ],
             [
              0.7777777777777778,
              "#fb9f3a"
             ],
             [
              0.8888888888888888,
              "#fdca26"
             ],
             [
              1,
              "#f0f921"
             ]
            ],
            "type": "histogram2d"
           }
          ],
          "histogram2dcontour": [
           {
            "colorbar": {
             "outlinewidth": 0,
             "ticks": ""
            },
            "colorscale": [
             [
              0,
              "#0d0887"
             ],
             [
              0.1111111111111111,
              "#46039f"
             ],
             [
              0.2222222222222222,
              "#7201a8"
             ],
             [
              0.3333333333333333,
              "#9c179e"
             ],
             [
              0.4444444444444444,
              "#bd3786"
             ],
             [
              0.5555555555555556,
              "#d8576b"
             ],
             [
              0.6666666666666666,
              "#ed7953"
             ],
             [
              0.7777777777777778,
              "#fb9f3a"
             ],
             [
              0.8888888888888888,
              "#fdca26"
             ],
             [
              1,
              "#f0f921"
             ]
            ],
            "type": "histogram2dcontour"
           }
          ],
          "mesh3d": [
           {
            "colorbar": {
             "outlinewidth": 0,
             "ticks": ""
            },
            "type": "mesh3d"
           }
          ],
          "parcoords": [
           {
            "line": {
             "colorbar": {
              "outlinewidth": 0,
              "ticks": ""
             }
            },
            "type": "parcoords"
           }
          ],
          "pie": [
           {
            "automargin": true,
            "type": "pie"
           }
          ],
          "scatter": [
           {
            "marker": {
             "colorbar": {
              "outlinewidth": 0,
              "ticks": ""
             }
            },
            "type": "scatter"
           }
          ],
          "scatter3d": [
           {
            "line": {
             "colorbar": {
              "outlinewidth": 0,
              "ticks": ""
             }
            },
            "marker": {
             "colorbar": {
              "outlinewidth": 0,
              "ticks": ""
             }
            },
            "type": "scatter3d"
           }
          ],
          "scattercarpet": [
           {
            "marker": {
             "colorbar": {
              "outlinewidth": 0,
              "ticks": ""
             }
            },
            "type": "scattercarpet"
           }
          ],
          "scattergeo": [
           {
            "marker": {
             "colorbar": {
              "outlinewidth": 0,
              "ticks": ""
             }
            },
            "type": "scattergeo"
           }
          ],
          "scattergl": [
           {
            "marker": {
             "colorbar": {
              "outlinewidth": 0,
              "ticks": ""
             }
            },
            "type": "scattergl"
           }
          ],
          "scattermapbox": [
           {
            "marker": {
             "colorbar": {
              "outlinewidth": 0,
              "ticks": ""
             }
            },
            "type": "scattermapbox"
           }
          ],
          "scatterpolar": [
           {
            "marker": {
             "colorbar": {
              "outlinewidth": 0,
              "ticks": ""
             }
            },
            "type": "scatterpolar"
           }
          ],
          "scatterpolargl": [
           {
            "marker": {
             "colorbar": {
              "outlinewidth": 0,
              "ticks": ""
             }
            },
            "type": "scatterpolargl"
           }
          ],
          "scatterternary": [
           {
            "marker": {
             "colorbar": {
              "outlinewidth": 0,
              "ticks": ""
             }
            },
            "type": "scatterternary"
           }
          ],
          "surface": [
           {
            "colorbar": {
             "outlinewidth": 0,
             "ticks": ""
            },
            "colorscale": [
             [
              0,
              "#0d0887"
             ],
             [
              0.1111111111111111,
              "#46039f"
             ],
             [
              0.2222222222222222,
              "#7201a8"
             ],
             [
              0.3333333333333333,
              "#9c179e"
             ],
             [
              0.4444444444444444,
              "#bd3786"
             ],
             [
              0.5555555555555556,
              "#d8576b"
             ],
             [
              0.6666666666666666,
              "#ed7953"
             ],
             [
              0.7777777777777778,
              "#fb9f3a"
             ],
             [
              0.8888888888888888,
              "#fdca26"
             ],
             [
              1,
              "#f0f921"
             ]
            ],
            "type": "surface"
           }
          ],
          "table": [
           {
            "cells": {
             "fill": {
              "color": "#EBF0F8"
             },
             "line": {
              "color": "white"
             }
            },
            "header": {
             "fill": {
              "color": "#C8D4E3"
             },
             "line": {
              "color": "white"
             }
            },
            "type": "table"
           }
          ]
         },
         "layout": {
          "annotationdefaults": {
           "arrowcolor": "#2a3f5f",
           "arrowhead": 0,
           "arrowwidth": 1
          },
          "autotypenumbers": "strict",
          "coloraxis": {
           "colorbar": {
            "outlinewidth": 0,
            "ticks": ""
           }
          },
          "colorscale": {
           "diverging": [
            [
             0,
             "#8e0152"
            ],
            [
             0.1,
             "#c51b7d"
            ],
            [
             0.2,
             "#de77ae"
            ],
            [
             0.3,
             "#f1b6da"
            ],
            [
             0.4,
             "#fde0ef"
            ],
            [
             0.5,
             "#f7f7f7"
            ],
            [
             0.6,
             "#e6f5d0"
            ],
            [
             0.7,
             "#b8e186"
            ],
            [
             0.8,
             "#7fbc41"
            ],
            [
             0.9,
             "#4d9221"
            ],
            [
             1,
             "#276419"
            ]
           ],
           "sequential": [
            [
             0,
             "#0d0887"
            ],
            [
             0.1111111111111111,
             "#46039f"
            ],
            [
             0.2222222222222222,
             "#7201a8"
            ],
            [
             0.3333333333333333,
             "#9c179e"
            ],
            [
             0.4444444444444444,
             "#bd3786"
            ],
            [
             0.5555555555555556,
             "#d8576b"
            ],
            [
             0.6666666666666666,
             "#ed7953"
            ],
            [
             0.7777777777777778,
             "#fb9f3a"
            ],
            [
             0.8888888888888888,
             "#fdca26"
            ],
            [
             1,
             "#f0f921"
            ]
           ],
           "sequentialminus": [
            [
             0,
             "#0d0887"
            ],
            [
             0.1111111111111111,
             "#46039f"
            ],
            [
             0.2222222222222222,
             "#7201a8"
            ],
            [
             0.3333333333333333,
             "#9c179e"
            ],
            [
             0.4444444444444444,
             "#bd3786"
            ],
            [
             0.5555555555555556,
             "#d8576b"
            ],
            [
             0.6666666666666666,
             "#ed7953"
            ],
            [
             0.7777777777777778,
             "#fb9f3a"
            ],
            [
             0.8888888888888888,
             "#fdca26"
            ],
            [
             1,
             "#f0f921"
            ]
           ]
          },
          "colorway": [
           "#636efa",
           "#EF553B",
           "#00cc96",
           "#ab63fa",
           "#FFA15A",
           "#19d3f3",
           "#FF6692",
           "#B6E880",
           "#FF97FF",
           "#FECB52"
          ],
          "font": {
           "color": "#2a3f5f"
          },
          "geo": {
           "bgcolor": "white",
           "lakecolor": "white",
           "landcolor": "#E5ECF6",
           "showlakes": true,
           "showland": true,
           "subunitcolor": "white"
          },
          "hoverlabel": {
           "align": "left"
          },
          "hovermode": "closest",
          "mapbox": {
           "style": "light"
          },
          "paper_bgcolor": "white",
          "plot_bgcolor": "#E5ECF6",
          "polar": {
           "angularaxis": {
            "gridcolor": "white",
            "linecolor": "white",
            "ticks": ""
           },
           "bgcolor": "#E5ECF6",
           "radialaxis": {
            "gridcolor": "white",
            "linecolor": "white",
            "ticks": ""
           }
          },
          "scene": {
           "xaxis": {
            "backgroundcolor": "#E5ECF6",
            "gridcolor": "white",
            "gridwidth": 2,
            "linecolor": "white",
            "showbackground": true,
            "ticks": "",
            "zerolinecolor": "white"
           },
           "yaxis": {
            "backgroundcolor": "#E5ECF6",
            "gridcolor": "white",
            "gridwidth": 2,
            "linecolor": "white",
            "showbackground": true,
            "ticks": "",
            "zerolinecolor": "white"
           },
           "zaxis": {
            "backgroundcolor": "#E5ECF6",
            "gridcolor": "white",
            "gridwidth": 2,
            "linecolor": "white",
            "showbackground": true,
            "ticks": "",
            "zerolinecolor": "white"
           }
          },
          "shapedefaults": {
           "line": {
            "color": "#2a3f5f"
           }
          },
          "ternary": {
           "aaxis": {
            "gridcolor": "white",
            "linecolor": "white",
            "ticks": ""
           },
           "baxis": {
            "gridcolor": "white",
            "linecolor": "white",
            "ticks": ""
           },
           "bgcolor": "#E5ECF6",
           "caxis": {
            "gridcolor": "white",
            "linecolor": "white",
            "ticks": ""
           }
          },
          "title": {
           "x": 0.05
          },
          "xaxis": {
           "automargin": true,
           "gridcolor": "white",
           "linecolor": "white",
           "ticks": "",
           "title": {
            "standoff": 15
           },
           "zerolinecolor": "white",
           "zerolinewidth": 2
          },
          "yaxis": {
           "automargin": true,
           "gridcolor": "white",
           "linecolor": "white",
           "ticks": "",
           "title": {
            "standoff": 15
           },
           "zerolinecolor": "white",
           "zerolinewidth": 2
          }
         }
        },
        "xaxis": {
         "anchor": "y",
         "domain": [
          0,
          1
         ]
        },
        "yaxis": {
         "anchor": "x",
         "domain": [
          0,
          1
         ],
         "title": {
          "text": "rain"
         }
        }
       }
      }
     },
     "metadata": {},
     "output_type": "display_data"
    }
   ],
   "source": [
    "for col in df.columns:\n",
    "    fig = px.box(df[col], y = col)\n",
    "    fig.show()"
   ]
  },
  {
   "cell_type": "code",
   "execution_count": 19,
   "metadata": {},
   "outputs": [
    {
     "data": {
      "text/plain": [
       "<AxesSubplot:>"
      ]
     },
     "execution_count": 19,
     "metadata": {},
     "output_type": "execute_result"
    },
    {
     "data": {
      "image/png": "[encoded data removed]",
      "text/plain": [
       "<Figure size 432x288 with 2 Axes>"
      ]
     },
     "metadata": {
      "needs_background": "light"
     },
     "output_type": "display_data"
    }
   ],
   "source": [
    "sns.heatmap(df.corr(), cmap = 'viridis')"
   ]
  },
  {
   "cell_type": "code",
   "execution_count": 24,
   "metadata": {},
   "outputs": [
    {
     "name": "stdout",
     "output_type": "stream",
     "text": [
      "Train data set size :  (413, 12)\n",
      "Test data set size :  (104, 12)\n"
     ]
    }
   ],
   "source": [
    "from sklearn.linear_model import LinearRegression, BayesianRidge, Lasso, Ridge, ElasticNet\n",
    "from sklearn import model_selection, svm, metrics\n",
    "from sklearn.model_selection import train_test_split\n",
    "from sklearn.svm import SVR\n",
    "from sklearn.metrics import mean_squared_error, mean_absolute_error, r2_score\n",
    "\n",
    "target = data['U_area']\n",
    "features = data.drop(['Area', 'U_area'], axis = 1)\n",
    "# features = data.drop(columns = 'Area')\n",
    "\n",
    "X_train, X_test, y_train, y_test = train_test_split(features, target, test_size = 0.2, random_state = 42)\n",
    "\n",
    "print (\"Train data set size : \", X_train.shape)\n",
    "print (\"Test data set size : \", X_test.shape)\n"
   ]
  },
  {
   "cell_type": "code",
   "execution_count": 25,
   "metadata": {},
   "outputs": [
    {
     "data": {
      "text/html": [
       "<div>\n",
       "<style scoped>\n",
       "    .dataframe tbody tr th:only-of-type {\n",
       "        vertical-align: middle;\n",
       "    }\n",
       "\n",
       "    .dataframe tbody tr th {\n",
       "        vertical-align: top;\n",
       "    }\n",
       "\n",
       "    .dataframe thead th {\n",
       "        text-align: right;\n",
       "    }\n",
       "</style>\n",
       "<table border=\"1\" class=\"dataframe\">\n",
       "  <thead>\n",
       "    <tr style=\"text-align: right;\">\n",
       "      <th></th>\n",
       "      <th>X</th>\n",
       "      <th>Y</th>\n",
       "      <th>month</th>\n",
       "      <th>day</th>\n",
       "      <th>FFMC</th>\n",
       "      <th>DMC</th>\n",
       "      <th>DC</th>\n",
       "      <th>ISI</th>\n",
       "      <th>temp</th>\n",
       "      <th>RH</th>\n",
       "      <th>wind</th>\n",
       "      <th>rain</th>\n",
       "    </tr>\n",
       "  </thead>\n",
       "  <tbody>\n",
       "    <tr>\n",
       "      <th>329</th>\n",
       "      <td>4</td>\n",
       "      <td>3</td>\n",
       "      <td>11</td>\n",
       "      <td>2</td>\n",
       "      <td>92.2</td>\n",
       "      <td>102.3</td>\n",
       "      <td>751.5</td>\n",
       "      <td>8.4</td>\n",
       "      <td>23.5</td>\n",
       "      <td>27</td>\n",
       "      <td>4.0</td>\n",
       "      <td>0.0</td>\n",
       "    </tr>\n",
       "    <tr>\n",
       "      <th>173</th>\n",
       "      <td>4</td>\n",
       "      <td>4</td>\n",
       "      <td>11</td>\n",
       "      <td>1</td>\n",
       "      <td>90.9</td>\n",
       "      <td>126.5</td>\n",
       "      <td>686.5</td>\n",
       "      <td>7.0</td>\n",
       "      <td>17.7</td>\n",
       "      <td>39</td>\n",
       "      <td>2.2</td>\n",
       "      <td>0.0</td>\n",
       "    </tr>\n",
       "    <tr>\n",
       "      <th>272</th>\n",
       "      <td>2</td>\n",
       "      <td>5</td>\n",
       "      <td>1</td>\n",
       "      <td>5</td>\n",
       "      <td>92.1</td>\n",
       "      <td>152.6</td>\n",
       "      <td>658.2</td>\n",
       "      <td>14.3</td>\n",
       "      <td>20.2</td>\n",
       "      <td>47</td>\n",
       "      <td>4.0</td>\n",
       "      <td>0.0</td>\n",
       "    </tr>\n",
       "    <tr>\n",
       "      <th>497</th>\n",
       "      <td>3</td>\n",
       "      <td>4</td>\n",
       "      <td>1</td>\n",
       "      <td>5</td>\n",
       "      <td>96.1</td>\n",
       "      <td>181.1</td>\n",
       "      <td>671.2</td>\n",
       "      <td>14.3</td>\n",
       "      <td>32.3</td>\n",
       "      <td>27</td>\n",
       "      <td>2.2</td>\n",
       "      <td>0.0</td>\n",
       "    </tr>\n",
       "    <tr>\n",
       "      <th>182</th>\n",
       "      <td>5</td>\n",
       "      <td>4</td>\n",
       "      <td>3</td>\n",
       "      <td>3</td>\n",
       "      <td>86.8</td>\n",
       "      <td>15.6</td>\n",
       "      <td>48.3</td>\n",
       "      <td>3.9</td>\n",
       "      <td>12.4</td>\n",
       "      <td>53</td>\n",
       "      <td>2.2</td>\n",
       "      <td>0.0</td>\n",
       "    </tr>\n",
       "  </tbody>\n",
       "</table>\n",
       "</div>"
      ],
      "text/plain": [
       "     X  Y  month  day  FFMC    DMC     DC   ISI  temp  RH  wind  rain\n",
       "329  4  3     11    2  92.2  102.3  751.5   8.4  23.5  27   4.0   0.0\n",
       "173  4  4     11    1  90.9  126.5  686.5   7.0  17.7  39   2.2   0.0\n",
       "272  2  5      1    5  92.1  152.6  658.2  14.3  20.2  47   4.0   0.0\n",
       "497  3  4      1    5  96.1  181.1  671.2  14.3  32.3  27   2.2   0.0\n",
       "182  5  4      3    3  86.8   15.6   48.3   3.9  12.4  53   2.2   0.0"
      ]
     },
     "execution_count": 25,
     "metadata": {},
     "output_type": "execute_result"
    }
   ],
   "source": [
    "X_train.head()"
   ]
  },
  {
   "cell_type": "code",
   "execution_count": 34,
   "metadata": {},
   "outputs": [
    {
     "data": {
      "text/plain": [
       "329    1.465568\n",
       "173    1.403643\n",
       "272    1.408545\n",
       "497    2.752386\n",
       "182    1.998774\n",
       "Name: U_area, dtype: float64"
      ]
     },
     "execution_count": 34,
     "metadata": {},
     "output_type": "execute_result"
    }
   ],
   "source": [
    "y_train.head()"
   ]
  },
  {
   "cell_type": "code",
   "execution_count": 26,
   "metadata": {},
   "outputs": [
    {
     "name": "stdout",
     "output_type": "stream",
     "text": [
      "MSE:  2.2058735754090075\n",
      "r2 score:  -0.00364536288189532\n"
     ]
    }
   ],
   "source": [
    "model = LinearRegression()\n",
    "model.fit(X_train, y_train)\n",
    "pred = model.predict(X_test)\n",
    "\n",
    "print('MSE: ', mean_squared_error(y_test, pred))\n",
    "print('r2 score: ', r2_score(y_test, pred))"
   ]
  },
  {
   "cell_type": "code",
   "execution_count": 27,
   "metadata": {},
   "outputs": [
    {
     "name": "stdout",
     "output_type": "stream",
     "text": [
      "MSE:  4446.184878444756\n",
      "r2 score:  -2021.9594685358506\n"
     ]
    }
   ],
   "source": [
    "poly = PolynomialFeatures(4)\n",
    "poly_X_train = poly.fit_transform(X_train)\n",
    "poly_X_test = poly.fit_transform(X_test)\n",
    "\n",
    "model_2 = LinearRegression()\n",
    "model_2.fit(poly_X_train, y_train)\n",
    "\n",
    "poly_pred = model_2.predict(poly_X_test)\n",
    "\n",
    "print('MSE: ', mean_squared_error(y_test, poly_pred))\n",
    "print('r2 score: ', r2_score(y_test, poly_pred))"
   ]
  },
  {
   "cell_type": "code",
   "execution_count": 28,
   "metadata": {},
   "outputs": [
    {
     "name": "stdout",
     "output_type": "stream",
     "text": [
      "MSE:  2.1992238175877623\n",
      "r2 score:  -0.0006198048100358733\n"
     ]
    }
   ],
   "source": [
    "model_3 = Lasso(alpha = 100, max_iter = 10000)\n",
    "model_3.fit(X_train, y_train)\n",
    "\n",
    "pred = model_3.predict(X_test)\n",
    "\n",
    "print('MSE: ', mean_squared_error(y_test, pred))\n",
    "print('r2 score: ', r2_score(y_test, pred))"
   ]
  },
  {
   "cell_type": "code",
   "execution_count": 29,
   "metadata": {},
   "outputs": [
    {
     "name": "stdout",
     "output_type": "stream",
     "text": [
      "MSE:  2.2093644187582147\n",
      "r2 score:  -0.005233653697396479\n"
     ]
    }
   ],
   "source": [
    "model_4 = Ridge(alpha = 500)\n",
    "model_4.fit(X_train, y_train)\n",
    "\n",
    "pred = model_4.predict(X_test)\n",
    "\n",
    "print('MSE: ', mean_squared_error(y_test, pred))\n",
    "print('r2 score: ', r2_score(y_test, pred))"
   ]
  },
  {
   "cell_type": "code",
   "execution_count": 30,
   "metadata": {},
   "outputs": [
    {
     "name": "stdout",
     "output_type": "stream",
     "text": [
      "MSE:  2.2172726183256097\n",
      "r2 score:  -0.00883178729536982\n"
     ]
    }
   ],
   "source": [
    "model_5 = ElasticNet()\n",
    "model_5.fit(X_train, y_train)\n",
    "\n",
    "pred = model_5.predict(X_test)\n",
    "\n",
    "print('MSE: ', mean_squared_error(y_test, pred))\n",
    "print('r2 score: ', r2_score(y_test, pred))"
   ]
  },
  {
   "cell_type": "code",
   "execution_count": 31,
   "metadata": {},
   "outputs": [
    {
     "name": "stdout",
     "output_type": "stream",
     "text": [
      "MSE:  8.500781962831269\n",
      "r2 score:  -2.8677513040536424\n"
     ]
    }
   ],
   "source": [
    "from sklearn.svm import SVR\n",
    "\n",
    "model_6 = SVR(C = 100, kernel = 'linear')\n",
    "model_6.fit(X_train, y_train)\n",
    "\n",
    "pred = model_6.predict(X_test)\n",
    "\n",
    "print('MSE: ', mean_squared_error(y_test, pred))\n",
    "print('r2 score: ', r2_score(y_test, pred))\n"
   ]
  },
  {
   "cell_type": "code",
   "execution_count": 32,
   "metadata": {},
   "outputs": [
    {
     "data": {
      "text/plain": [
       "array([3.20437561e-01, 3.92033413e+01, 2.71084205e+00, 4.45913585e+00,\n",
       "       1.28659263e-01, 4.85312084e+00, 1.40265306e+00, 1.05200537e-01,\n",
       "       1.33362775e+01, 3.14622678e+00, 8.14956803e+00, 9.78297151e+00,\n",
       "       1.07383553e+00, 1.68932782e+01, 1.26316287e+00, 1.79027968e+01,\n",
       "       6.59654678e+01, 1.57323809e+00, 2.08397829e+00, 4.45956631e+00,\n",
       "       2.63899113e+00, 1.38346864e-01, 3.15814449e+00, 1.87451177e+00,\n",
       "       7.06391404e+00, 1.37047891e-01, 6.92965120e-01, 1.88590117e-01,\n",
       "       1.77431412e+01, 1.47435538e+02, 4.39859995e-01, 1.69294868e+00,\n",
       "       2.60813355e+01, 1.53436036e+00, 1.59109403e+00, 4.92852513e-03,\n",
       "       4.58788225e+00, 2.19717424e+00, 1.34777196e+00, 2.60774337e+01,\n",
       "       8.59447006e-01, 5.82853828e+00, 2.85141841e+01, 1.07301816e+00,\n",
       "       3.12612337e+00, 5.68908889e-02, 4.17574165e+01, 8.95987294e-02,\n",
       "       5.61754246e+00, 2.09186848e-01, 4.50142215e+00, 9.24239642e-01,\n",
       "       3.32245462e-01, 1.53857780e+01, 6.85024170e-02, 6.53461072e-01,\n",
       "       6.28307345e+01, 9.54141351e-01, 4.01179677e+01, 4.82656514e+01,\n",
       "       1.10932056e+01, 1.46115103e+00, 6.58979294e-01, 8.34839212e+00,\n",
       "       3.54291212e+01, 7.75370933e+00, 7.21999635e+00, 3.59414835e+00,\n",
       "       9.92630612e-01, 1.40408399e+00, 9.52574343e-01, 1.85634275e+01,\n",
       "       1.05754214e-03, 1.04597501e+01, 8.92517095e+00, 2.74254542e+00,\n",
       "       1.25895943e+00, 1.57294629e+00, 6.04737286e+00, 2.23388161e-01,\n",
       "       6.88024429e-01, 4.09439380e+00, 9.87126440e+00, 3.06922404e+00,\n",
       "       1.71766771e+00, 2.77030800e+01, 2.36018996e+01, 3.07627991e+01,\n",
       "       3.81848150e+01, 5.84402508e+00, 1.21971790e+00, 1.80776171e+00,\n",
       "       1.43243352e+00, 4.20840721e+01, 3.40083237e+00, 5.98446322e+00,\n",
       "       3.46421179e+00, 1.83809412e+00, 1.24312459e+01, 4.41319084e-01,\n",
       "       2.27825653e+01, 1.41572643e+03, 1.46331190e-01, 1.10616425e+00])"
      ]
     },
     "execution_count": 32,
     "metadata": {},
     "output_type": "execute_result"
    }
   ],
   "source": [
    "pred = np.exp(pred -1)\n",
    "pred"
   ]
  },
  {
   "cell_type": "code",
   "execution_count": 33,
   "metadata": {},
   "outputs": [
    {
     "name": "stdout",
     "output_type": "stream",
     "text": [
      "MSE:  19706.089402369507\n",
      "r2 score:  -8965.028456801765\n"
     ]
    }
   ],
   "source": [
    "model_7 = BayesianRidge()\n",
    "model_7.fit(X_train, y_train)\n",
    "\n",
    "model_7.predict(X_test)\n",
    "\n",
    "print('MSE: ', mean_squared_error(y_test, pred))\n",
    "print('r2 score: ', r2_score(y_test, pred))"
   ]
  }
 ],
 "metadata": {
  "kernelspec": {
   "display_name": "Python 3.8.3 64-bit ('base': conda)",
   "metadata": {
    "interpreter": {
     "hash": "dca0ade3e726a953b501b15e8e990130d2b7799f14cfd9f4271676035ebe5511"
    }
   },
   "name": "python3"
  },
  "language_info": {
   "codemirror_mode": {
    "name": "ipython",
    "version": 3
   },
   "file_extension": ".py",
   "mimetype": "text/x-python",
   "name": "python",
   "nbconvert_exporter": "python",
   "pygments_lexer": "ipython3",
   "version": "3.8.12"
  },
  "orig_nbformat": 2
 },
 "nbformat": 4,
 "nbformat_minor": 2
}
